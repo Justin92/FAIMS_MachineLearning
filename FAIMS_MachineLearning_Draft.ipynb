{
 "cells": [
  {
   "cell_type": "markdown",
   "metadata": {},
   "source": [
    "# Machine Learning FAIMS\n",
    "## A very rough draft"
   ]
  },
  {
   "cell_type": "markdown",
   "metadata": {},
   "source": [
    "### Normalized aa counts, Length and Charge"
   ]
  },
  {
   "cell_type": "code",
   "execution_count": 4,
   "metadata": {},
   "outputs": [],
   "source": [
    "import pandas as pd\n",
    "import sklearn"
   ]
  },
  {
   "cell_type": "code",
   "execution_count": 5,
   "metadata": {
    "scrolled": true
   },
   "outputs": [
    {
     "data": {
      "text/html": [
       "<div>\n",
       "<style scoped>\n",
       "    .dataframe tbody tr th:only-of-type {\n",
       "        vertical-align: middle;\n",
       "    }\n",
       "\n",
       "    .dataframe tbody tr th {\n",
       "        vertical-align: top;\n",
       "    }\n",
       "\n",
       "    .dataframe thead th {\n",
       "        text-align: right;\n",
       "    }\n",
       "</style>\n",
       "<table border=\"1\" class=\"dataframe\">\n",
       "  <thead>\n",
       "    <tr style=\"text-align: right;\">\n",
       "      <th></th>\n",
       "      <th>Sequence</th>\n",
       "      <th>Charge</th>\n",
       "      <th>Intensity</th>\n",
       "      <th>Length.x</th>\n",
       "      <th>Max Intensity CV</th>\n",
       "      <th>A.Count</th>\n",
       "      <th>R.Count</th>\n",
       "      <th>N.Count</th>\n",
       "      <th>D.Count</th>\n",
       "      <th>C.Count</th>\n",
       "      <th>...</th>\n",
       "      <th>M.Norm</th>\n",
       "      <th>F.Norm</th>\n",
       "      <th>S.Norm</th>\n",
       "      <th>T.Norm</th>\n",
       "      <th>W.Norm</th>\n",
       "      <th>Y.Norm</th>\n",
       "      <th>V.Norm</th>\n",
       "      <th>U.Norm</th>\n",
       "      <th>O.Norm</th>\n",
       "      <th>P.Norm</th>\n",
       "    </tr>\n",
       "  </thead>\n",
       "  <tbody>\n",
       "    <tr>\n",
       "      <th>0</th>\n",
       "      <td>AAAAAAAAAAAAAAAGAGAGAK</td>\n",
       "      <td>2</td>\n",
       "      <td>548850.0</td>\n",
       "      <td>22</td>\n",
       "      <td>25</td>\n",
       "      <td>18</td>\n",
       "      <td>0</td>\n",
       "      <td>0</td>\n",
       "      <td>0</td>\n",
       "      <td>0</td>\n",
       "      <td>...</td>\n",
       "      <td>0.0</td>\n",
       "      <td>0.0</td>\n",
       "      <td>0.000000</td>\n",
       "      <td>0.000000</td>\n",
       "      <td>0.0</td>\n",
       "      <td>0.0</td>\n",
       "      <td>0.000000</td>\n",
       "      <td>0</td>\n",
       "      <td>0</td>\n",
       "      <td>0.000000</td>\n",
       "    </tr>\n",
       "    <tr>\n",
       "      <th>1</th>\n",
       "      <td>AAAAAAAAAAAAAAAGAGAGAK</td>\n",
       "      <td>3</td>\n",
       "      <td>7280200.0</td>\n",
       "      <td>22</td>\n",
       "      <td>45</td>\n",
       "      <td>18</td>\n",
       "      <td>0</td>\n",
       "      <td>0</td>\n",
       "      <td>0</td>\n",
       "      <td>0</td>\n",
       "      <td>...</td>\n",
       "      <td>0.0</td>\n",
       "      <td>0.0</td>\n",
       "      <td>0.000000</td>\n",
       "      <td>0.000000</td>\n",
       "      <td>0.0</td>\n",
       "      <td>0.0</td>\n",
       "      <td>0.000000</td>\n",
       "      <td>0</td>\n",
       "      <td>0</td>\n",
       "      <td>0.000000</td>\n",
       "    </tr>\n",
       "    <tr>\n",
       "      <th>2</th>\n",
       "      <td>AAAAAAAAAAAATGTEAGPGTAGGSENGSEVAAQPAGLSGPAEVGP...</td>\n",
       "      <td>4</td>\n",
       "      <td>12120000.0</td>\n",
       "      <td>52</td>\n",
       "      <td>35</td>\n",
       "      <td>19</td>\n",
       "      <td>1</td>\n",
       "      <td>1</td>\n",
       "      <td>0</td>\n",
       "      <td>0</td>\n",
       "      <td>...</td>\n",
       "      <td>0.0</td>\n",
       "      <td>0.0</td>\n",
       "      <td>0.057692</td>\n",
       "      <td>0.057692</td>\n",
       "      <td>0.0</td>\n",
       "      <td>0.0</td>\n",
       "      <td>0.057692</td>\n",
       "      <td>0</td>\n",
       "      <td>0</td>\n",
       "      <td>0.076923</td>\n",
       "    </tr>\n",
       "    <tr>\n",
       "      <th>3</th>\n",
       "      <td>AAAAAAAAAAAATGTEAGPGTAGGSENGSEVAAQPAGLSGPAEVGP...</td>\n",
       "      <td>5</td>\n",
       "      <td>14383000.0</td>\n",
       "      <td>52</td>\n",
       "      <td>40</td>\n",
       "      <td>19</td>\n",
       "      <td>1</td>\n",
       "      <td>1</td>\n",
       "      <td>0</td>\n",
       "      <td>0</td>\n",
       "      <td>...</td>\n",
       "      <td>0.0</td>\n",
       "      <td>0.0</td>\n",
       "      <td>0.057692</td>\n",
       "      <td>0.057692</td>\n",
       "      <td>0.0</td>\n",
       "      <td>0.0</td>\n",
       "      <td>0.057692</td>\n",
       "      <td>0</td>\n",
       "      <td>0</td>\n",
       "      <td>0.076923</td>\n",
       "    </tr>\n",
       "    <tr>\n",
       "      <th>4</th>\n",
       "      <td>AAAAAAAAAVSR</td>\n",
       "      <td>2</td>\n",
       "      <td>14281000.0</td>\n",
       "      <td>12</td>\n",
       "      <td>60</td>\n",
       "      <td>9</td>\n",
       "      <td>1</td>\n",
       "      <td>0</td>\n",
       "      <td>0</td>\n",
       "      <td>0</td>\n",
       "      <td>...</td>\n",
       "      <td>0.0</td>\n",
       "      <td>0.0</td>\n",
       "      <td>0.083333</td>\n",
       "      <td>0.000000</td>\n",
       "      <td>0.0</td>\n",
       "      <td>0.0</td>\n",
       "      <td>0.083333</td>\n",
       "      <td>0</td>\n",
       "      <td>0</td>\n",
       "      <td>0.000000</td>\n",
       "    </tr>\n",
       "  </tbody>\n",
       "</table>\n",
       "<p>5 rows × 49 columns</p>\n",
       "</div>"
      ],
      "text/plain": [
       "                                            Sequence  Charge   Intensity  \\\n",
       "0                             AAAAAAAAAAAAAAAGAGAGAK       2    548850.0   \n",
       "1                             AAAAAAAAAAAAAAAGAGAGAK       3   7280200.0   \n",
       "2  AAAAAAAAAAAATGTEAGPGTAGGSENGSEVAAQPAGLSGPAEVGP...       4  12120000.0   \n",
       "3  AAAAAAAAAAAATGTEAGPGTAGGSENGSEVAAQPAGLSGPAEVGP...       5  14383000.0   \n",
       "4                                       AAAAAAAAAVSR       2  14281000.0   \n",
       "\n",
       "   Length.x  Max Intensity CV  A.Count  R.Count  N.Count  D.Count  C.Count  \\\n",
       "0        22                25       18        0        0        0        0   \n",
       "1        22                45       18        0        0        0        0   \n",
       "2        52                35       19        1        1        0        0   \n",
       "3        52                40       19        1        1        0        0   \n",
       "4        12                60        9        1        0        0        0   \n",
       "\n",
       "     ...     M.Norm  F.Norm    S.Norm    T.Norm  W.Norm  Y.Norm    V.Norm  \\\n",
       "0    ...        0.0     0.0  0.000000  0.000000     0.0     0.0  0.000000   \n",
       "1    ...        0.0     0.0  0.000000  0.000000     0.0     0.0  0.000000   \n",
       "2    ...        0.0     0.0  0.057692  0.057692     0.0     0.0  0.057692   \n",
       "3    ...        0.0     0.0  0.057692  0.057692     0.0     0.0  0.057692   \n",
       "4    ...        0.0     0.0  0.083333  0.000000     0.0     0.0  0.083333   \n",
       "\n",
       "   U.Norm  O.Norm    P.Norm  \n",
       "0       0       0  0.000000  \n",
       "1       0       0  0.000000  \n",
       "2       0       0  0.076923  \n",
       "3       0       0  0.076923  \n",
       "4       0       0  0.000000  \n",
       "\n",
       "[5 rows x 49 columns]"
      ]
     },
     "execution_count": 5,
     "metadata": {},
     "output_type": "execute_result"
    }
   ],
   "source": [
    "evidence_df = pd.read_csv(\"NormCountsFeatures_MaxCV.csv\", low_memory=False)\n",
    "evidence_df.head()"
   ]
  },
  {
   "cell_type": "code",
   "execution_count": 6,
   "metadata": {},
   "outputs": [
    {
     "data": {
      "text/plain": [
       "Index(['Sequence', 'Charge', 'Intensity', 'Length.x', 'Max Intensity CV',\n",
       "       'A.Count', 'R.Count', 'N.Count', 'D.Count', 'C.Count', 'Q.Count',\n",
       "       'E.Count', 'G.Count', 'H.Count', 'I.Count', 'L.Count', 'K.Count',\n",
       "       'M.Count', 'F.Count', 'P.Count', 'S.Count', 'T.Count', 'W.Count',\n",
       "       'Y.Count', 'V.Count', 'U.Count', 'O.Count', 'A.Norm', 'R.Norm',\n",
       "       'N.Norm', 'D.Norm', 'C.Norm', 'Q.Norm', 'E.Norm', 'G.Norm', 'H.Norm',\n",
       "       'I.Norm', 'L.Norm', 'K.Norm', 'M.Norm', 'F.Norm', 'S.Norm', 'T.Norm',\n",
       "       'W.Norm', 'Y.Norm', 'V.Norm', 'U.Norm', 'O.Norm', 'P.Norm'],\n",
       "      dtype='object')"
      ]
     },
     "execution_count": 6,
     "metadata": {},
     "output_type": "execute_result"
    }
   ],
   "source": [
    "evidence_df.columns\n"
   ]
  },
  {
   "cell_type": "code",
   "execution_count": 7,
   "metadata": {},
   "outputs": [
    {
     "data": {
      "text/plain": [
       "pandas.core.frame.DataFrame"
      ]
     },
     "execution_count": 7,
     "metadata": {},
     "output_type": "execute_result"
    }
   ],
   "source": [
    "type(evidence_df)"
   ]
  },
  {
   "cell_type": "code",
   "execution_count": 8,
   "metadata": {},
   "outputs": [],
   "source": [
    "feature_subset1 = ['Charge','Length.x','A.Norm', 'R.Norm',\n",
    "       'N.Norm', 'D.Norm', 'C.Norm', 'Q.Norm', 'E.Norm', 'G.Norm', 'H.Norm',\n",
    "       'I.Norm', 'L.Norm', 'K.Norm', 'M.Norm', 'F.Norm', 'S.Norm', 'T.Norm',\n",
    "       'W.Norm', 'Y.Norm', 'V.Norm', 'U.Norm', 'O.Norm', 'P.Norm']\n",
    "target_value = ['Max Intensity CV']"
   ]
  },
  {
   "cell_type": "code",
   "execution_count": 30,
   "metadata": {},
   "outputs": [
    {
     "name": "stderr",
     "output_type": "stream",
     "text": [
      "C:\\Users\\jmcketney.AD\\AppData\\Local\\Continuum\\anaconda3\\lib\\site-packages\\sklearn\\model_selection\\_split.py:2026: FutureWarning: From version 0.21, test_size will always complement train_size unless both are specified.\n",
      "  FutureWarning)\n"
     ]
    }
   ],
   "source": [
    "from sklearn.model_selection import train_test_split\n",
    "\n",
    "X = evidence_df[feature_subset1]\n",
    "y = evidence_df[target_value]\n",
    "\n",
    "#split the data with 50% in each set\n",
    "X1, X2, y1, y2 = train_test_split(X, y, random_state=0, train_size=0.80)\n",
    "\n",
    "y1 = y1.values.ravel() #Flatten the vector so that it is formatted correctly\n",
    "y2 = y2.values.ravel()"
   ]
  },
  {
   "cell_type": "code",
   "execution_count": 31,
   "metadata": {},
   "outputs": [
    {
     "data": {
      "text/plain": [
       "(131883,)"
      ]
     },
     "execution_count": 31,
     "metadata": {},
     "output_type": "execute_result"
    }
   ],
   "source": [
    "X1.head()\n",
    "y1.shape  #Can't do that because it's a numpy ndarray which doesn't have those kind of dimensions"
   ]
  },
  {
   "cell_type": "code",
   "execution_count": 32,
   "metadata": {},
   "outputs": [],
   "source": [
    "from sklearn.ensemble import RandomForestRegressor    # 1. Choose a model class\n",
    "forest = RandomForestRegressor(200)                  # 2. instantiate that model with select hyperparmeters\n",
    "\n",
    "\n",
    "forest.fit(X1, y1)                                   # 3. fit the model to your test data\n",
    "\n",
    "y2_model = forest.predict(X2)                        # 4. Apply the model to predicting target values for new data"
   ]
  },
  {
   "cell_type": "code",
   "execution_count": 33,
   "metadata": {},
   "outputs": [
    {
     "data": {
      "text/plain": [
       "32971"
      ]
     },
     "execution_count": 33,
     "metadata": {},
     "output_type": "execute_result"
    }
   ],
   "source": [
    "len(y2_model)"
   ]
  },
  {
   "cell_type": "code",
   "execution_count": 34,
   "metadata": {},
   "outputs": [
    {
     "data": {
      "text/plain": [
       "11.648077821080124"
      ]
     },
     "execution_count": 34,
     "metadata": {},
     "output_type": "execute_result"
    }
   ],
   "source": [
    "import numpy as np\n",
    "from sklearn.metrics import mean_squared_error\n",
    "np.sqrt(mean_squared_error(y2, y2_model))            #calculating the mean error in terms of deviation \n",
    "                                                   #from experimental CV of maximum intensity\n",
    "#When just using the Length and Charge I believe that this is about 13\n",
    "#When include Charge and length more like 11.72879389635641\n",
    "#Actually a bit larger with the decomposed normalized counts 11.98613715015591"
   ]
  },
  {
   "cell_type": "code",
   "execution_count": 55,
   "metadata": {},
   "outputs": [],
   "source": [
    "#ONLY SUPPOSED TO USE THIS FOR GENERALIZATION SCORING OTHERWISE USE NORMAL .predict method associated with the model\n",
    "\n",
    "\n",
    "#from sklearn.cross_validation import cross_val_predict\n",
    "#import matplotlib.pyplot as plt\n",
    "#\n",
    "#forest1 = RandomForestRegressor(200)\n",
    "#predicted = cross_val_predict(forest1, X2, y2, cv=6)\n",
    "\n"
   ]
  },
  {
   "cell_type": "code",
   "execution_count": 26,
   "metadata": {},
   "outputs": [
    {
     "data": {
      "text/plain": [
       "(82427,)"
      ]
     },
     "execution_count": 26,
     "metadata": {},
     "output_type": "execute_result"
    }
   ],
   "source": [
    "type(predicted)\n",
    "predicted.shape\n",
    "\n"
   ]
  },
  {
   "cell_type": "code",
   "execution_count": 27,
   "metadata": {},
   "outputs": [
    {
     "data": {
      "text/plain": [
       "(82427,)"
      ]
     },
     "execution_count": 27,
     "metadata": {},
     "output_type": "execute_result"
    }
   ],
   "source": [
    "y1.shape"
   ]
  },
  {
   "cell_type": "code",
   "execution_count": 58,
   "metadata": {},
   "outputs": [
    {
     "data": {
      "text/plain": [
       "Index(['A.Norm', 'R.Norm', 'N.Norm', 'D.Norm', 'C.Norm', 'Q.Norm', 'E.Norm',\n",
       "       'G.Norm', 'H.Norm', 'I.Norm', 'L.Norm', 'K.Norm', 'M.Norm', 'F.Norm',\n",
       "       'S.Norm', 'T.Norm', 'W.Norm', 'Y.Norm', 'V.Norm', 'U.Norm', 'O.Norm',\n",
       "       'P.Norm'],\n",
       "      dtype='object')"
      ]
     },
     "execution_count": 58,
     "metadata": {},
     "output_type": "execute_result"
    }
   ],
   "source": [
    "y2.shape\n",
    "X2.columns\n"
   ]
  },
  {
   "cell_type": "code",
   "execution_count": 35,
   "metadata": {},
   "outputs": [
    {
     "data": {
      "text/plain": [
       "Text(0,0.5,'Predicted')"
      ]
     },
     "execution_count": 35,
     "metadata": {},
     "output_type": "execute_result"
    },
    {
     "data": {
      "image/png": "[encoded data removed]",
      "text/plain": [
       "<Figure size 432x288 with 2 Axes>"
      ]
     },
     "metadata": {
      "needs_background": "light"
     },
     "output_type": "display_data"
    }
   ],
   "source": [
    "#fig,ax = plt.subplots()     #creates a figure wiht only one subplot\n",
    "\n",
    "import matplotlib.pyplot as plt\n",
    "plt.scatter(y2, y2_model, c = X2['Charge'], alpha= 0.4,\n",
    "           cmap=plt.cm.get_cmap('rainbow', 7))\n",
    "\n",
    "plt.colorbar(label='Charge', ticks=range(7))\n",
    "\n",
    "\n",
    "plt.plot([y2.min(), y2.max()], [y2.min(), y2.max()], 'k--', lw=4)\n",
    "plt.xlabel('Measured')\n",
    "plt.ylabel('Predicted')\n"
   ]
  },
  {
   "cell_type": "code",
   "execution_count": 36,
   "metadata": {},
   "outputs": [
    {
     "data": {
      "text/plain": [
       "(5,)"
      ]
     },
     "execution_count": 36,
     "metadata": {},
     "output_type": "execute_result"
    }
   ],
   "source": [
    "from sklearn.model_selection import cross_val_score\n",
    "scores = cross_val_score(forest, X2, y2, cv=5)\n",
    "scores.shape"
   ]
  },
  {
   "cell_type": "code",
   "execution_count": 37,
   "metadata": {},
   "outputs": [
    {
     "name": "stdout",
     "output_type": "stream",
     "text": [
      "Accuracy: 0.62 (+/- 0.01)\n"
     ]
    }
   ],
   "source": [
    "print(\"Accuracy: %0.2f (+/- %0.2f)\" % (scores.mean(), scores.std() * 2))\n",
    "#When just using the Length and charge this is 54% +/- 1%\n",
    "#Plug in the Normalized Counts as well, goes up to 62% +/- 1%"
   ]
  },
  {
   "cell_type": "markdown",
   "metadata": {},
   "source": [
    "Not exactly stellar"
   ]
  },
  {
   "cell_type": "code",
   "execution_count": 87,
   "metadata": {},
   "outputs": [
    {
     "data": {
      "image/png": "[encoded data removed]",
      "text/plain": [
       "<Figure size 432x288 with 1 Axes>"
      ]
     },
     "metadata": {
      "needs_background": "light"
     },
     "output_type": "display_data"
    }
   ],
   "source": [
    "#Make array of feature importance\n",
    "importances = forest.feature_importances_\n",
    "std = np.std([tree.feature_importances_ for tree in forest.estimators_], axis=0)\n",
    "indices = np.argsort(importances)[::-1]\n",
    "\n",
    "#Plot the feature importances of our model\n",
    "plt.figure()\n",
    "plt.title(\"Feature importance\")\n",
    "plt.bar(range(X1.shape[1]), importances[indices], color='r', yerr=std[indices], align = \"center\")\n",
    "plt.xticks(range(X1.shape[1]), indices)\n",
    "plt.xlim([-1, X1.shape[1]])\n",
    "plt.show()"
   ]
  },
  {
   "cell_type": "code",
   "execution_count": 88,
   "metadata": {},
   "outputs": [
    {
     "data": {
      "text/plain": [
       "Index(['Charge', 'Length.x', 'A.Norm', 'R.Norm', 'N.Norm', 'D.Norm', 'C.Norm',\n",
       "       'Q.Norm', 'E.Norm', 'G.Norm', 'H.Norm', 'I.Norm', 'L.Norm', 'K.Norm',\n",
       "       'M.Norm', 'F.Norm', 'S.Norm', 'T.Norm', 'W.Norm', 'Y.Norm', 'V.Norm',\n",
       "       'U.Norm', 'O.Norm', 'P.Norm'],\n",
       "      dtype='object')"
      ]
     },
     "execution_count": 88,
     "metadata": {},
     "output_type": "execute_result"
    }
   ],
   "source": [
    "X1.columns"
   ]
  },
  {
   "cell_type": "code",
   "execution_count": 90,
   "metadata": {},
   "outputs": [
    {
     "data": {
      "text/plain": [
       "Index(['Charge', 'Length.x', 'A.Norm', 'R.Norm', 'N.Norm', 'D.Norm', 'C.Norm',\n",
       "       'Q.Norm', 'E.Norm', 'G.Norm', 'H.Norm', 'I.Norm', 'L.Norm', 'K.Norm',\n",
       "       'M.Norm', 'F.Norm', 'S.Norm', 'T.Norm', 'W.Norm', 'Y.Norm', 'V.Norm',\n",
       "       'U.Norm', 'O.Norm', 'P.Norm'],\n",
       "      dtype='object')"
      ]
     },
     "execution_count": 90,
     "metadata": {},
     "output_type": "execute_result"
    }
   ],
   "source": [
    "#A little array arithmetic\n",
    "a = np.array([1, 1, 3, 4])\n",
    "b = np.array([2, 3, 3, 5])\n",
    "c = np.absolute(b-a)\n",
    "#c = np.sqrt(np.square(b - a))\n",
    "c\n",
    "X2.columns"
   ]
  },
  {
   "cell_type": "code",
   "execution_count": 69,
   "metadata": {},
   "outputs": [
    {
     "data": {
      "text/plain": [
       "(32971,)"
      ]
     },
     "execution_count": 69,
     "metadata": {},
     "output_type": "execute_result"
    }
   ],
   "source": [
    "model_error.shape"
   ]
  },
  {
   "cell_type": "code",
   "execution_count": 93,
   "metadata": {},
   "outputs": [
    {
     "data": {
      "text/plain": [
       "Index(['Charge', 'Length.x', 'A.Norm', 'R.Norm', 'N.Norm', 'D.Norm', 'C.Norm',\n",
       "       'Q.Norm', 'E.Norm', 'G.Norm', 'H.Norm', 'I.Norm', 'L.Norm', 'K.Norm',\n",
       "       'M.Norm', 'F.Norm', 'S.Norm', 'T.Norm', 'W.Norm', 'Y.Norm', 'V.Norm',\n",
       "       'U.Norm', 'O.Norm', 'P.Norm', 'y2', 'y2_model', 'model_error'],\n",
       "      dtype='object')"
      ]
     },
     "execution_count": 93,
     "metadata": {},
     "output_type": "execute_result"
    }
   ],
   "source": [
    "type(y2)\n",
    "model_error = np.absolute(y2_model - y2)\n",
    "model_error.shape\n",
    "\n",
    "combined_df = pd.DataFrame(X2)\n",
    "combined_df[\"y2\"] = y2\n",
    "combined_df[\"y2_model\"] = y2_model\n",
    "combined_df[\"model_error\"] = model_error\n",
    "combined_df.columns\n"
   ]
  },
  {
   "cell_type": "code",
   "execution_count": 94,
   "metadata": {},
   "outputs": [],
   "source": [
    "combined_df.to_csv(\"FeaturesMaxCV_withErr.csv\")"
   ]
  },
  {
   "cell_type": "markdown",
   "metadata": {},
   "source": [
    "### Trying to decompose the aa counts to lower dimensionality"
   ]
  },
  {
   "cell_type": "code",
   "execution_count": 19,
   "metadata": {},
   "outputs": [],
   "source": [
    "# select and decompose normalized count data\n",
    "normalized_aa_counts = ['A.Norm', 'R.Norm',\n",
    "       'N.Norm', 'D.Norm', 'C.Norm', 'Q.Norm', 'E.Norm', 'G.Norm', 'H.Norm',\n",
    "       'I.Norm', 'L.Norm', 'K.Norm', 'M.Norm', 'F.Norm', 'S.Norm', 'T.Norm',\n",
    "       'W.Norm', 'Y.Norm', 'V.Norm', 'U.Norm', 'O.Norm', 'P.Norm']\n",
    "\n",
    "normalized_count_df = evidence_df[normalized_aa_counts]"
   ]
  },
  {
   "cell_type": "code",
   "execution_count": 57,
   "metadata": {},
   "outputs": [
    {
     "data": {
      "text/plain": [
       "numpy.ndarray"
      ]
     },
     "execution_count": 57,
     "metadata": {},
     "output_type": "execute_result"
    }
   ],
   "source": [
    "from sklearn.decomposition import PCA\n",
    "# reduce dimensionality or normalized AA counts with PCA\n",
    "pca = PCA(n_components=10)                              #defining pca method parameters\n",
    "decomposed_df = pca.fit_transform(normalized_count_df)\n",
    "type(decomposed_df)"
   ]
  },
  {
   "cell_type": "code",
   "execution_count": 76,
   "metadata": {},
   "outputs": [
    {
     "data": {
      "text/plain": [
       "(164854, 13)"
      ]
     },
     "execution_count": 76,
     "metadata": {},
     "output_type": "execute_result"
    }
   ],
   "source": [
    "# concat decomposed values with length, charge\n",
    "recombined_df = pd.concat([evidence_df[['Max Intensity CV', 'Length.x', 'Charge']]\n",
    "    , pd.DataFrame(decomposed_df)], axis=1)"
   ]
  },
  {
   "cell_type": "code",
   "execution_count": 24,
   "metadata": {},
   "outputs": [],
   "source": [
    "# set target value and create training data\n",
    "target_value = ['Max Intensity CV']\n",
    "# exclude target value (first column) from prepared feature matrix\n",
    "X = recombined_df[recombined_df.columns[1:]]\n",
    "y = recombined_df[target_value]"
   ]
  },
  {
   "cell_type": "code",
   "execution_count": 25,
   "metadata": {},
   "outputs": [
    {
     "name": "stderr",
     "output_type": "stream",
     "text": [
      "C:\\Users\\jmcketney.AD\\AppData\\Local\\Continuum\\anaconda3\\lib\\site-packages\\sklearn\\model_selection\\_split.py:2026: FutureWarning: From version 0.21, test_size will always complement train_size unless both are specified.\n",
      "  FutureWarning)\n"
     ]
    }
   ],
   "source": [
    "#split the data with 50% in each set\n",
    "dX1, dX2, dy1, dy2 = train_test_split(X, y, random_state=0, train_size=0.8)\n",
    "\n",
    "#Flatten the vector so that it is formatted correctly\n",
    "dy1 = dy1.values.ravel()\n",
    "dy2 = dy2.values.ravel()"
   ]
  },
  {
   "cell_type": "code",
   "execution_count": 26,
   "metadata": {},
   "outputs": [],
   "source": [
    "# set hyperparameters and fit model\n",
    "forest = RandomForestRegressor(200)\n",
    "forest.fit(dX1, dy1)\n",
    "\n",
    "# make predictions based on fitted model\n",
    "dy2_model = forest.predict(dX2)\n",
    "#predicted = cross_val_predict(forest1, X1, y1, cv=5, n_jobs=-1)"
   ]
  },
  {
   "cell_type": "markdown",
   "metadata": {},
   "source": [
    "Evaluating the pca decomposed model"
   ]
  },
  {
   "cell_type": "code",
   "execution_count": 27,
   "metadata": {},
   "outputs": [
    {
     "data": {
      "text/plain": [
       "11.98613715015591"
      ]
     },
     "execution_count": 27,
     "metadata": {},
     "output_type": "execute_result"
    }
   ],
   "source": [
    "# evaluate performance with RMSE\n",
    "np.sqrt(mean_squared_error(dy2, dy2_model))"
   ]
  },
  {
   "cell_type": "code",
   "execution_count": 29,
   "metadata": {},
   "outputs": [
    {
     "name": "stdout",
     "output_type": "stream",
     "text": [
      "Accuracy: 0.59 (+/- 0.01)\n"
     ]
    }
   ],
   "source": [
    "from sklearn.model_selection import cross_val_score\n",
    "scores = cross_val_score(forest, dX2, dy2, cv=5)\n",
    "print(\"Accuracy: %0.2f (+/- %0.2f)\" % (scores.mean(), scores.std() * 2))"
   ]
  },
  {
   "cell_type": "code",
   "execution_count": 28,
   "metadata": {},
   "outputs": [
    {
     "data": {
      "text/plain": [
       "Text(0,0.5,'Predicted')"
      ]
     },
     "execution_count": 28,
     "metadata": {},
     "output_type": "execute_result"
    },
    {
     "data": {
      "image/png": "[encoded data removed]",
      "text/plain": [
       "<Figure size 432x288 with 2 Axes>"
      ]
     },
     "metadata": {
      "needs_background": "light"
     },
     "output_type": "display_data"
    }
   ],
   "source": [
    "plt.scatter(dy2, dy2_model, c = dX2['Charge'], alpha= 0.4,\n",
    "           cmap=plt.cm.get_cmap('rainbow', 7))\n",
    "\n",
    "plt.colorbar(label='Charge', ticks=range(7))\n",
    "\n",
    "\n",
    "plt.plot([dy2.min(), dy2.max()], [dy2.min(), dy2.max()], 'k--', lw=4)\n",
    "plt.xlabel('Measured')\n",
    "plt.ylabel('Predicted')"
   ]
  },
  {
   "cell_type": "code",
   "execution_count": null,
   "metadata": {},
   "outputs": [],
   "source": []
  }
 ],
 "metadata": {
  "kernelspec": {
   "display_name": "Python 3",
   "language": "python",
   "name": "python3"
  },
  "language_info": {
   "codemirror_mode": {
    "name": "ipython",
    "version": 3
   },
   "file_extension": ".py",
   "mimetype": "text/x-python",
   "name": "python",
   "nbconvert_exporter": "python",
   "pygments_lexer": "ipython3",
   "version": "3.7.0"
  }
 },
 "nbformat": 4,
 "nbformat_minor": 2
}
