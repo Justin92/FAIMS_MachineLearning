{
 "cells": [
  {
   "cell_type": "markdown",
   "metadata": {},
   "source": [
    "# Machine Learning FAIMS\n",
    "## A very rough draft"
   ]
  },
  {
   "cell_type": "markdown",
   "metadata": {},
   "source": [
    "### Normalized aa counts, Length and Charge"
   ]
  },
  {
   "cell_type": "code",
   "execution_count": 2,
   "metadata": {},
   "outputs": [
    {
     "name": "stderr",
     "output_type": "stream",
     "text": [
      "C:\\Users\\jmcketney.AD\\AppData\\Local\\Continuum\\anaconda3\\lib\\site-packages\\sklearn\\ensemble\\weight_boosting.py:29: DeprecationWarning: numpy.core.umath_tests is an internal NumPy module and should not be imported. It will be removed in a future NumPy release.\n",
      "  from numpy.core.umath_tests import inner1d\n"
     ]
    }
   ],
   "source": [
    "import pandas as pd\n",
    "import sklearn\n",
    "import sklearn.ensemble"
   ]
  },
  {
   "cell_type": "code",
   "execution_count": 3,
   "metadata": {
    "scrolled": true
   },
   "outputs": [
    {
     "data": {
      "text/html": [
       "<div>\n",
       "<style scoped>\n",
       "    .dataframe tbody tr th:only-of-type {\n",
       "        vertical-align: middle;\n",
       "    }\n",
       "\n",
       "    .dataframe tbody tr th {\n",
       "        vertical-align: top;\n",
       "    }\n",
       "\n",
       "    .dataframe thead th {\n",
       "        text-align: right;\n",
       "    }\n",
       "</style>\n",
       "<table border=\"1\" class=\"dataframe\">\n",
       "  <thead>\n",
       "    <tr style=\"text-align: right;\">\n",
       "      <th></th>\n",
       "      <th>Sequence</th>\n",
       "      <th>Charge</th>\n",
       "      <th>Intensity</th>\n",
       "      <th>Length.x</th>\n",
       "      <th>Score</th>\n",
       "      <th>PEP</th>\n",
       "      <th>Total_Observations</th>\n",
       "      <th>CV_Setting</th>\n",
       "      <th>PeptideCharge</th>\n",
       "      <th>Max Intensity CV</th>\n",
       "      <th>...</th>\n",
       "      <th>M.Norm</th>\n",
       "      <th>F.Norm</th>\n",
       "      <th>S.Norm</th>\n",
       "      <th>T.Norm</th>\n",
       "      <th>W.Norm</th>\n",
       "      <th>Y.Norm</th>\n",
       "      <th>V.Norm</th>\n",
       "      <th>U.Norm</th>\n",
       "      <th>O.Norm</th>\n",
       "      <th>P.Norm</th>\n",
       "    </tr>\n",
       "  </thead>\n",
       "  <tbody>\n",
       "    <tr>\n",
       "      <th>0</th>\n",
       "      <td>AAAAAAAAAAAAAAAGAGAGAK</td>\n",
       "      <td>2</td>\n",
       "      <td>548850.0</td>\n",
       "      <td>22</td>\n",
       "      <td>108.560</td>\n",
       "      <td>3.286500e-05</td>\n",
       "      <td>2</td>\n",
       "      <td>CV_25</td>\n",
       "      <td>AAAAAAAAAAAAAAAGAGAGAK_2</td>\n",
       "      <td>25</td>\n",
       "      <td>...</td>\n",
       "      <td>0.0</td>\n",
       "      <td>0.0</td>\n",
       "      <td>0.000000</td>\n",
       "      <td>0.000000</td>\n",
       "      <td>0.0</td>\n",
       "      <td>0.0</td>\n",
       "      <td>0.000000</td>\n",
       "      <td>0</td>\n",
       "      <td>0</td>\n",
       "      <td>0.000000</td>\n",
       "    </tr>\n",
       "    <tr>\n",
       "      <th>1</th>\n",
       "      <td>AAAAAAAAAAAAAAAGAGAGAK</td>\n",
       "      <td>3</td>\n",
       "      <td>7280200.0</td>\n",
       "      <td>22</td>\n",
       "      <td>137.730</td>\n",
       "      <td>2.498600e-26</td>\n",
       "      <td>4</td>\n",
       "      <td>CV_45</td>\n",
       "      <td>AAAAAAAAAAAAAAAGAGAGAK_3</td>\n",
       "      <td>45</td>\n",
       "      <td>...</td>\n",
       "      <td>0.0</td>\n",
       "      <td>0.0</td>\n",
       "      <td>0.000000</td>\n",
       "      <td>0.000000</td>\n",
       "      <td>0.0</td>\n",
       "      <td>0.0</td>\n",
       "      <td>0.000000</td>\n",
       "      <td>0</td>\n",
       "      <td>0</td>\n",
       "      <td>0.000000</td>\n",
       "    </tr>\n",
       "    <tr>\n",
       "      <th>2</th>\n",
       "      <td>AAAAAAAAAAAATGTEAGPGTAGGSENGSEVAAQPAGLSGPAEVGP...</td>\n",
       "      <td>4</td>\n",
       "      <td>12120000.0</td>\n",
       "      <td>52</td>\n",
       "      <td>35.226</td>\n",
       "      <td>1.695400e-06</td>\n",
       "      <td>7</td>\n",
       "      <td>CV_35</td>\n",
       "      <td>AAAAAAAAAAAATGTEAGPGTAGGSENGSEVAAQPAGLSGPAEVGP...</td>\n",
       "      <td>35</td>\n",
       "      <td>...</td>\n",
       "      <td>0.0</td>\n",
       "      <td>0.0</td>\n",
       "      <td>0.057692</td>\n",
       "      <td>0.057692</td>\n",
       "      <td>0.0</td>\n",
       "      <td>0.0</td>\n",
       "      <td>0.057692</td>\n",
       "      <td>0</td>\n",
       "      <td>0</td>\n",
       "      <td>0.076923</td>\n",
       "    </tr>\n",
       "    <tr>\n",
       "      <th>3</th>\n",
       "      <td>AAAAAAAAAAAATGTEAGPGTAGGSENGSEVAAQPAGLSGPAEVGP...</td>\n",
       "      <td>5</td>\n",
       "      <td>14383000.0</td>\n",
       "      <td>52</td>\n",
       "      <td>39.992</td>\n",
       "      <td>4.956100e-09</td>\n",
       "      <td>4</td>\n",
       "      <td>CV_40</td>\n",
       "      <td>AAAAAAAAAAAATGTEAGPGTAGGSENGSEVAAQPAGLSGPAEVGP...</td>\n",
       "      <td>40</td>\n",
       "      <td>...</td>\n",
       "      <td>0.0</td>\n",
       "      <td>0.0</td>\n",
       "      <td>0.057692</td>\n",
       "      <td>0.057692</td>\n",
       "      <td>0.0</td>\n",
       "      <td>0.0</td>\n",
       "      <td>0.057692</td>\n",
       "      <td>0</td>\n",
       "      <td>0</td>\n",
       "      <td>0.076923</td>\n",
       "    </tr>\n",
       "    <tr>\n",
       "      <th>4</th>\n",
       "      <td>AAAAAAAAAVSR</td>\n",
       "      <td>2</td>\n",
       "      <td>14281000.0</td>\n",
       "      <td>12</td>\n",
       "      <td>77.379</td>\n",
       "      <td>7.435700e-03</td>\n",
       "      <td>7</td>\n",
       "      <td>CV_60</td>\n",
       "      <td>AAAAAAAAAVSR_2</td>\n",
       "      <td>60</td>\n",
       "      <td>...</td>\n",
       "      <td>0.0</td>\n",
       "      <td>0.0</td>\n",
       "      <td>0.083333</td>\n",
       "      <td>0.000000</td>\n",
       "      <td>0.0</td>\n",
       "      <td>0.0</td>\n",
       "      <td>0.083333</td>\n",
       "      <td>0</td>\n",
       "      <td>0</td>\n",
       "      <td>0.000000</td>\n",
       "    </tr>\n",
       "  </tbody>\n",
       "</table>\n",
       "<p>5 rows × 55 columns</p>\n",
       "</div>"
      ],
      "text/plain": [
       "                                            Sequence  Charge   Intensity  \\\n",
       "0                             AAAAAAAAAAAAAAAGAGAGAK       2    548850.0   \n",
       "1                             AAAAAAAAAAAAAAAGAGAGAK       3   7280200.0   \n",
       "2  AAAAAAAAAAAATGTEAGPGTAGGSENGSEVAAQPAGLSGPAEVGP...       4  12120000.0   \n",
       "3  AAAAAAAAAAAATGTEAGPGTAGGSENGSEVAAQPAGLSGPAEVGP...       5  14383000.0   \n",
       "4                                       AAAAAAAAAVSR       2  14281000.0   \n",
       "\n",
       "   Length.x    Score           PEP  Total_Observations CV_Setting  \\\n",
       "0        22  108.560  3.286500e-05                   2      CV_25   \n",
       "1        22  137.730  2.498600e-26                   4      CV_45   \n",
       "2        52   35.226  1.695400e-06                   7      CV_35   \n",
       "3        52   39.992  4.956100e-09                   4      CV_40   \n",
       "4        12   77.379  7.435700e-03                   7      CV_60   \n",
       "\n",
       "                                       PeptideCharge  Max Intensity CV  \\\n",
       "0                           AAAAAAAAAAAAAAAGAGAGAK_2                25   \n",
       "1                           AAAAAAAAAAAAAAAGAGAGAK_3                45   \n",
       "2  AAAAAAAAAAAATGTEAGPGTAGGSENGSEVAAQPAGLSGPAEVGP...                35   \n",
       "3  AAAAAAAAAAAATGTEAGPGTAGGSENGSEVAAQPAGLSGPAEVGP...                40   \n",
       "4                                     AAAAAAAAAVSR_2                60   \n",
       "\n",
       "     ...    M.Norm  F.Norm    S.Norm    T.Norm  W.Norm  Y.Norm    V.Norm  \\\n",
       "0    ...       0.0     0.0  0.000000  0.000000     0.0     0.0  0.000000   \n",
       "1    ...       0.0     0.0  0.000000  0.000000     0.0     0.0  0.000000   \n",
       "2    ...       0.0     0.0  0.057692  0.057692     0.0     0.0  0.057692   \n",
       "3    ...       0.0     0.0  0.057692  0.057692     0.0     0.0  0.057692   \n",
       "4    ...       0.0     0.0  0.083333  0.000000     0.0     0.0  0.083333   \n",
       "\n",
       "   U.Norm  O.Norm    P.Norm  \n",
       "0       0       0  0.000000  \n",
       "1       0       0  0.000000  \n",
       "2       0       0  0.076923  \n",
       "3       0       0  0.076923  \n",
       "4       0       0  0.000000  \n",
       "\n",
       "[5 rows x 55 columns]"
      ]
     },
     "execution_count": 3,
     "metadata": {},
     "output_type": "execute_result"
    }
   ],
   "source": [
    "evidence_df = pd.read_csv(\"NoSingleObsFeatures.csv\", low_memory=False)\n",
    "evidence_df.head()"
   ]
  },
  {
   "cell_type": "code",
   "execution_count": 38,
   "metadata": {},
   "outputs": [
    {
     "data": {
      "text/plain": [
       "Index(['Sequence', 'Charge', 'Intensity', 'Length.x', 'Score', 'PEP',\n",
       "       'Total_Observations', 'CV_Setting', 'PeptideCharge', 'Max Intensity CV',\n",
       "       'Raw.file', 'A.Count', 'R.Count', 'N.Count', 'D.Count', 'C.Count',\n",
       "       'Q.Count', 'E.Count', 'G.Count', 'H.Count', 'I.Count', 'L.Count',\n",
       "       'K.Count', 'M.Count', 'F.Count', 'P.Count', 'S.Count', 'T.Count',\n",
       "       'W.Count', 'Y.Count', 'V.Count', 'U.Count', 'O.Count', 'A.Norm',\n",
       "       'R.Norm', 'N.Norm', 'D.Norm', 'C.Norm', 'Q.Norm', 'E.Norm', 'G.Norm',\n",
       "       'H.Norm', 'I.Norm', 'L.Norm', 'K.Norm', 'M.Norm', 'F.Norm', 'S.Norm',\n",
       "       'T.Norm', 'W.Norm', 'Y.Norm', 'V.Norm', 'U.Norm', 'O.Norm', 'P.Norm'],\n",
       "      dtype='object')"
      ]
     },
     "execution_count": 38,
     "metadata": {},
     "output_type": "execute_result"
    }
   ],
   "source": [
    "evidence_df.columns\n"
   ]
  },
  {
   "cell_type": "code",
   "execution_count": 43,
   "metadata": {},
   "outputs": [
    {
     "data": {
      "text/plain": [
       "(103140, 55)"
      ]
     },
     "execution_count": 43,
     "metadata": {},
     "output_type": "execute_result"
    }
   ],
   "source": [
    "#Lets add a PEP filter\n",
    "\n",
    "badscores = evidence_df[evidence_df['PEP'] > 0.01].index     #makes vector of indices of all PEPs above \n",
    "                                                             #Couldn't do it on bad scores because it is NOT two-dimenstional\n",
    "evidence_df.drop(badscores, inplace=True)       #Delete these bad scoring indices from the array\n",
    "evidence_df.index = range(len(evidence_df))    #Need to reset the indices of your table so they match much like rownames in R\n",
    "evidence_df.shape\n",
    "#evidence_df.index\n"
   ]
  },
  {
   "cell_type": "code",
   "execution_count": 49,
   "metadata": {},
   "outputs": [
    {
     "data": {
      "text/plain": [
       "6"
      ]
     },
     "execution_count": 49,
     "metadata": {},
     "output_type": "execute_result"
    }
   ],
   "source": [
    "evidence_df.index = range(len(evidence_df))\n",
    "evidence_df.index[6]"
   ]
  },
  {
   "cell_type": "code",
   "execution_count": 58,
   "metadata": {},
   "outputs": [
    {
     "data": {
      "text/plain": [
       "55"
      ]
     },
     "execution_count": 58,
     "metadata": {},
     "output_type": "execute_result"
    }
   ],
   "source": [
    "#evidence_df['Sequence'][1:3]\n",
    "#[len(str(i)) for i in evidence_df['Sequence'][1:4]]\n",
    "\n",
    "#So then we make a data column that describes the length but we already have that column\n",
    "#inp['namelen']= [len(str(i)) for i in inp['Sequence']]\n",
    "#input1 = inp[ (inp['namelen'] >= 2) ]\n",
    "max(evidence_df['Length.x'])"
   ]
  },
  {
   "cell_type": "code",
   "execution_count": null,
   "metadata": {},
   "outputs": [],
   "source": []
  },
  {
   "cell_type": "markdown",
   "metadata": {},
   "source": [
    "### Replicating Jesse's 1-hot encoding"
   ]
  },
  {
   "cell_type": "code",
   "execution_count": 3,
   "metadata": {},
   "outputs": [
    {
     "data": {
      "text/plain": [
       "(20,)"
      ]
     },
     "execution_count": 3,
     "metadata": {},
     "output_type": "execute_result"
    }
   ],
   "source": [
    "#Try to replicate Jesse's 1-hot encoding system\n",
    "import numpy as np\n",
    "\n",
    "def set_flag(i, VOCAB_LENGTH):                              #function that creates a vector of zeros except for a single one at your\n",
    "    tmp = np.zeros(VOCAB_LENGTH);                           #indicated indices\n",
    "    tmp[i] = 1\n",
    "    return(tmp)\n",
    "\n",
    "def get_class(I, INDEX):\n",
    "    return(INDEX[np.argwhere(I==1)[0][0]])\n"
   ]
  },
  {
   "cell_type": "code",
   "execution_count": 4,
   "metadata": {},
   "outputs": [
    {
     "data": {
      "text/plain": [
       "Index(['Sequence', 'Charge', 'Intensity', 'Length.x', 'Score', 'PEP',\n",
       "       'Total_Observations', 'CV_Setting', 'PeptideCharge', 'Max Intensity CV',\n",
       "       'Raw.file', 'A.Count', 'R.Count', 'N.Count', 'D.Count', 'C.Count',\n",
       "       'Q.Count', 'E.Count', 'G.Count', 'H.Count', 'I.Count', 'L.Count',\n",
       "       'K.Count', 'M.Count', 'F.Count', 'P.Count', 'S.Count', 'T.Count',\n",
       "       'W.Count', 'Y.Count', 'V.Count', 'U.Count', 'O.Count', 'A.Norm',\n",
       "       'R.Norm', 'N.Norm', 'D.Norm', 'C.Norm', 'Q.Norm', 'E.Norm', 'G.Norm',\n",
       "       'H.Norm', 'I.Norm', 'L.Norm', 'K.Norm', 'M.Norm', 'F.Norm', 'S.Norm',\n",
       "       'T.Norm', 'W.Norm', 'Y.Norm', 'V.Norm', 'U.Norm', 'O.Norm', 'P.Norm'],\n",
       "      dtype='object')"
      ]
     },
     "execution_count": 4,
     "metadata": {},
     "output_type": "execute_result"
    }
   ],
   "source": [
    "evidence_df.columns\n"
   ]
  },
  {
   "cell_type": "code",
   "execution_count": 5,
   "metadata": {},
   "outputs": [],
   "source": [
    "#Already have peptide charge but we want charge in the front\n",
    "\n",
    "evidence_df['seq_z'] = evidence_df['Charge'].map(str) + evidence_df['Sequence'].map(str)\n"
   ]
  },
  {
   "cell_type": "code",
   "execution_count": 6,
   "metadata": {},
   "outputs": [
    {
     "name": "stdout",
     "output_type": "stream",
     "text": [
      "56\n"
     ]
    }
   ],
   "source": [
    "maxlength = max([len(x) for x in evidence_df.seq_z])\n",
    "print(maxlength)"
   ]
  },
  {
   "cell_type": "markdown",
   "metadata": {},
   "source": [
    "### My own one-hot encoding attempt"
   ]
  },
  {
   "cell_type": "code",
   "execution_count": 11,
   "metadata": {},
   "outputs": [
    {
     "name": "stdout",
     "output_type": "stream",
     "text": [
      "AKLRMREET\n",
      "[0, 8, 9, 14, 10, 14, 3, 3, 16]\n",
      "LLLIMRTSEEEP\n",
      "[9, 9, 9, 7, 10, 14, 16, 15, 3, 3, 3, 12]\n",
      "[[1, 0, 0, 0, 0, 0, 0, 0, 0, 0, 0, 0, 0, 0, 0, 0, 0, 0, 0, 0, 0], [0, 0, 0, 0, 0, 0, 0, 0, 1, 0, 0, 0, 0, 0, 0, 0, 0, 0, 0, 0, 0], [0, 0, 0, 0, 0, 0, 0, 0, 0, 1, 0, 0, 0, 0, 0, 0, 0, 0, 0, 0, 0], [0, 0, 0, 0, 0, 0, 0, 0, 0, 0, 0, 0, 0, 0, 1, 0, 0, 0, 0, 0, 0], [0, 0, 0, 0, 0, 0, 0, 0, 0, 0, 1, 0, 0, 0, 0, 0, 0, 0, 0, 0, 0], [0, 0, 0, 0, 0, 0, 0, 0, 0, 0, 0, 0, 0, 0, 1, 0, 0, 0, 0, 0, 0], [0, 0, 0, 1, 0, 0, 0, 0, 0, 0, 0, 0, 0, 0, 0, 0, 0, 0, 0, 0, 0], [0, 0, 0, 1, 0, 0, 0, 0, 0, 0, 0, 0, 0, 0, 0, 0, 0, 0, 0, 0, 0], [0, 0, 0, 0, 0, 0, 0, 0, 0, 0, 0, 0, 0, 0, 0, 0, 1, 0, 0, 0, 0]]\n",
      "A\n"
     ]
    }
   ],
   "source": [
    "\n",
    "\n",
    "\n",
    "from numpy import argmax\n",
    "#Make two peptides with which to test that are different lengths\n",
    "testpep1 = 'AKLRMREET'\n",
    "testpep2 = 'LLLIMRTSEEEP'\n",
    "print(testpep1)\n",
    "#Define what resideues are possible\n",
    "aminoAcids = 'ACDEFGHIKLMNPQRSTVWY '\n",
    "# Map characters to integers\n",
    "char_to_int = dict((c, i) for i, c in enumerate(aminoAcids))   #iterately creating a dictionary# where the amino acid character is the value and the integer is the key\n",
    "int_to_char = dict((i, c) for i, c in enumerate(aminoAcids))   #function allowing the reverse transformation\n",
    "#integer encode the data\n",
    "integer_encoded1 = [char_to_int[char] for char in testpep1]\n",
    "integer_encoded2 = [char_to_int[char] for char in testpep2]\n",
    "print(integer_encoded1)\n",
    "print(testpep2)\n",
    "print(integer_encoded2)\n",
    "#one hot encoding up in here\n",
    "onehot_encoded1 = list()\n",
    "for value in integer_encoded1:\n",
    "    letter = [0 for _ in range(len(aminoAcids))]   #make a vector of 0s that is as long as my aminoAcid vocab\n",
    "    letter[value] = 1                              #put 1 at index of integer encoding\n",
    "    onehot_encoded1.append(letter)                 #add this vector to the list of vectors\n",
    "print(onehot_encoded1)\n",
    "# invert encoding\n",
    "inverted = int_to_char[argmax(onehot_encoded1[0])]\n",
    "print(inverted)"
   ]
  },
  {
   "cell_type": "markdown",
   "metadata": {},
   "source": [
    "## End of one-hot attempt"
   ]
  },
  {
   "cell_type": "code",
   "execution_count": 50,
   "metadata": {},
   "outputs": [],
   "source": [
    "feature_subset1 = ['Charge','Length.x','A.Norm', 'R.Norm',\n",
    "       'N.Norm', 'D.Norm', 'C.Norm', 'Q.Norm', 'E.Norm', 'G.Norm', 'H.Norm',\n",
    "       'I.Norm', 'L.Norm', 'K.Norm', 'M.Norm', 'F.Norm', 'S.Norm', 'T.Norm',\n",
    "       'W.Norm', 'Y.Norm', 'V.Norm', 'P.Norm']\n",
    "target_value = ['Max Intensity CV']"
   ]
  },
  {
   "cell_type": "code",
   "execution_count": 51,
   "metadata": {},
   "outputs": [
    {
     "name": "stderr",
     "output_type": "stream",
     "text": [
      "C:\\Users\\jmcketney.AD\\AppData\\Local\\Continuum\\anaconda3\\lib\\site-packages\\sklearn\\model_selection\\_split.py:2026: FutureWarning: From version 0.21, test_size will always complement train_size unless both are specified.\n",
      "  FutureWarning)\n"
     ]
    }
   ],
   "source": [
    "from sklearn.model_selection import train_test_split\n",
    "\n",
    "X = evidence_df[feature_subset1]\n",
    "y = evidence_df[target_value]\n",
    "\n",
    "#split the data with 80% in training set\n",
    "X1, X2, y1, y2 = train_test_split(X, y, random_state=0, train_size=0.80)\n",
    "\n",
    "y1 = y1.values.ravel() #Flatten the vector so that it is formatted correctly\n",
    "y2 = y2.values.ravel()"
   ]
  },
  {
   "cell_type": "code",
   "execution_count": null,
   "metadata": {},
   "outputs": [],
   "source": []
  },
  {
   "cell_type": "code",
   "execution_count": 14,
   "metadata": {},
   "outputs": [],
   "source": [
    "expanded_features = ['Sequence', 'Charge', 'Intensity', 'Length.x',\n",
    "       'A.Count', 'R.Count', 'N.Count', 'D.Count', 'C.Count', 'Q.Count',\n",
    "       'E.Count', 'G.Count', 'H.Count', 'I.Count', 'L.Count', 'K.Count',\n",
    "       'M.Count', 'F.Count', 'P.Count', 'S.Count', 'T.Count', 'W.Count',\n",
    "       'Y.Count', 'V.Count', 'U.Count', 'O.Count', 'A.Norm', 'R.Norm',\n",
    "       'N.Norm', 'D.Norm', 'C.Norm', 'Q.Norm', 'E.Norm', 'G.Norm', 'H.Norm',\n",
    "       'I.Norm', 'L.Norm', 'K.Norm', 'M.Norm', 'F.Norm', 'S.Norm', 'T.Norm',\n",
    "       'W.Norm', 'Y.Norm', 'V.Norm', 'U.Norm', 'O.Norm', 'P.Norm']"
   ]
  },
  {
   "cell_type": "code",
   "execution_count": 16,
   "metadata": {},
   "outputs": [
    {
     "name": "stderr",
     "output_type": "stream",
     "text": [
      "C:\\Users\\jmcketney.AD\\AppData\\Local\\Continuum\\anaconda3\\lib\\site-packages\\sklearn\\model_selection\\_split.py:2026: FutureWarning: From version 0.21, test_size will always complement train_size unless both are specified.\n",
      "  FutureWarning)\n"
     ]
    }
   ],
   "source": [
    "#Just to make it easier to trace back to the error make alternate path where split before selection for X\n",
    "\n",
    "from sklearn.model_selection import train_test_split\n",
    "\n",
    "X = evidence_df[expanded_features]\n",
    "y = evidence_df[target_value]\n",
    "\n",
    "#split the data with 50% in each set\n",
    "fullX1, fullX2, y1, y2 = train_test_split(X, y, random_state=0, train_size=0.80)\n",
    "\n",
    "X1 = fullX1[feature_subset1]\n",
    "X2 = fullX2[feature_subset1]\n",
    "\n",
    "y1 = y1.values.ravel() #Flatten the vector so that it is formatted correctly\n",
    "y2 = y2.values.ravel()"
   ]
  },
  {
   "cell_type": "code",
   "execution_count": 31,
   "metadata": {},
   "outputs": [
    {
     "data": {
      "text/plain": [
       "(131883,)"
      ]
     },
     "execution_count": 31,
     "metadata": {},
     "output_type": "execute_result"
    }
   ],
   "source": [
    "X1.head()\n",
    "y1.shape  #Can't do that because it's a numpy ndarray which doesn't have those kind of dimensions"
   ]
  },
  {
   "cell_type": "code",
   "execution_count": 4,
   "metadata": {},
   "outputs": [
    {
     "ename": "NameError",
     "evalue": "name 'evidence_df' is not defined",
     "output_type": "error",
     "traceback": [
      "\u001b[1;31m---------------------------------------------------------------------------\u001b[0m",
      "\u001b[1;31mNameError\u001b[0m                                 Traceback (most recent call last)",
      "\u001b[1;32m<ipython-input-4-7d9e9a954633>\u001b[0m in \u001b[0;36m<module>\u001b[1;34m()\u001b[0m\n\u001b[1;32m----> 1\u001b[1;33m \u001b[0mevidence_df\u001b[0m\u001b[1;33m.\u001b[0m\u001b[0mcolumns\u001b[0m\u001b[1;33m\u001b[0m\u001b[0m\n\u001b[0m",
      "\u001b[1;31mNameError\u001b[0m: name 'evidence_df' is not defined"
     ]
    }
   ],
   "source": [
    "evidence_df.columns"
   ]
  },
  {
   "cell_type": "code",
   "execution_count": 52,
   "metadata": {},
   "outputs": [
    {
     "name": "stderr",
     "output_type": "stream",
     "text": [
      "C:\\Users\\jmcketney.AD\\AppData\\Local\\Continuum\\anaconda3\\lib\\site-packages\\sklearn\\ensemble\\weight_boosting.py:29: DeprecationWarning: numpy.core.umath_tests is an internal NumPy module and should not be imported. It will be removed in a future NumPy release.\n",
      "  from numpy.core.umath_tests import inner1d\n"
     ]
    }
   ],
   "source": [
    "from sklearn.ensemble import RandomForestRegressor    # 1. Choose a model class\n",
    "forest = RandomForestRegressor(200)                  # 2. instantiate that model with select hyperparmeters\n",
    "\n",
    "\n",
    "forest.fit(X1, y1)                                   # 3. fit the model to your test data\n",
    "\n",
    "y2_model = forest.predict(X2)                        # 4. Apply the model to predicting target values for new data"
   ]
  },
  {
   "cell_type": "code",
   "execution_count": 25,
   "metadata": {},
   "outputs": [
    {
     "data": {
      "text/plain": [
       "27221"
      ]
     },
     "execution_count": 25,
     "metadata": {},
     "output_type": "execute_result"
    }
   ],
   "source": [
    "len(y2_model)"
   ]
  },
  {
   "cell_type": "code",
   "execution_count": 53,
   "metadata": {},
   "outputs": [
    {
     "data": {
      "text/plain": [
       "11.535894203628162"
      ]
     },
     "execution_count": 53,
     "metadata": {},
     "output_type": "execute_result"
    }
   ],
   "source": [
    "import numpy as np\n",
    "from sklearn.metrics import mean_squared_error\n",
    "np.sqrt(mean_squared_error(y2, y2_model))            #calculating the mean error in terms of deviation \n",
    "                                                   #from experimental CV of maximum intensity\n",
    "#When just using the Length and Charge I believe that this is about 13\n",
    "#When include Charge and length more like 11.72879389635641\n",
    "#Actually a bit larger with the decomposed normalized counts 11.98613715015591\n",
    "#Filtering slightly improved the MSE to 11.544601066262727\n"
   ]
  },
  {
   "cell_type": "code",
   "execution_count": 55,
   "metadata": {},
   "outputs": [],
   "source": [
    "#ONLY SUPPOSED TO USE THIS FOR GENERALIZATION SCORING OTHERWISE USE NORMAL .predict method associated with the model\n",
    "\n",
    "\n",
    "#from sklearn.cross_validation import cross_val_predict\n",
    "#import matplotlib.pyplot as plt\n",
    "#\n",
    "#forest1 = RandomForestRegressor(200)\n",
    "#predicted = cross_val_predict(forest1, X2, y2, cv=6)\n",
    "\n"
   ]
  },
  {
   "cell_type": "code",
   "execution_count": 26,
   "metadata": {},
   "outputs": [
    {
     "data": {
      "text/plain": [
       "(82427,)"
      ]
     },
     "execution_count": 26,
     "metadata": {},
     "output_type": "execute_result"
    }
   ],
   "source": [
    "type(predicted)\n",
    "predicted.shape\n",
    "\n"
   ]
  },
  {
   "cell_type": "code",
   "execution_count": 27,
   "metadata": {},
   "outputs": [
    {
     "data": {
      "text/plain": [
       "(82427,)"
      ]
     },
     "execution_count": 27,
     "metadata": {},
     "output_type": "execute_result"
    }
   ],
   "source": [
    "y1.shape"
   ]
  },
  {
   "cell_type": "code",
   "execution_count": 58,
   "metadata": {},
   "outputs": [
    {
     "data": {
      "text/plain": [
       "Index(['A.Norm', 'R.Norm', 'N.Norm', 'D.Norm', 'C.Norm', 'Q.Norm', 'E.Norm',\n",
       "       'G.Norm', 'H.Norm', 'I.Norm', 'L.Norm', 'K.Norm', 'M.Norm', 'F.Norm',\n",
       "       'S.Norm', 'T.Norm', 'W.Norm', 'Y.Norm', 'V.Norm', 'U.Norm', 'O.Norm',\n",
       "       'P.Norm'],\n",
       "      dtype='object')"
      ]
     },
     "execution_count": 58,
     "metadata": {},
     "output_type": "execute_result"
    }
   ],
   "source": [
    "y2.shape\n",
    "X2.columns\n"
   ]
  },
  {
   "cell_type": "code",
   "execution_count": 30,
   "metadata": {},
   "outputs": [
    {
     "data": {
      "text/plain": [
       "Text(0,0.5,'Predicted')"
      ]
     },
     "execution_count": 30,
     "metadata": {},
     "output_type": "execute_result"
    },
    {
     "data": {
      "image/png": "[encoded data removed]",
      "text/plain": [
       "<Figure size 432x288 with 2 Axes>"
      ]
     },
     "metadata": {
      "needs_background": "light"
     },
     "output_type": "display_data"
    }
   ],
   "source": [
    "#fig,ax = plt.subplots()     #creates a figure with only one subplot\n",
    "\n",
    "import matplotlib.pyplot as plt\n",
    "plt.scatter(y2, y2_model, c = X2['Charge'], alpha= 0.4,\n",
    "           cmap=plt.cm.get_cmap('rainbow', 7))\n",
    "\n",
    "plt.colorbar(label='Charge', ticks=range(7))\n",
    "\n",
    "\n",
    "plt.plot([y2.min(), y2.max()], [y2.min(), y2.max()], 'k--', lw=4)\n",
    "plt.xlabel('Measured')\n",
    "plt.ylabel('Predicted')\n"
   ]
  },
  {
   "cell_type": "code",
   "execution_count": 39,
   "metadata": {},
   "outputs": [
    {
     "data": {
      "text/plain": [
       "(5,)"
      ]
     },
     "execution_count": 39,
     "metadata": {},
     "output_type": "execute_result"
    }
   ],
   "source": [
    "from sklearn.model_selection import cross_val_score\n",
    "scores = cross_val_score(forest, X2, y2, cv=5)\n",
    "scores.shape"
   ]
  },
  {
   "cell_type": "code",
   "execution_count": 40,
   "metadata": {},
   "outputs": [
    {
     "name": "stdout",
     "output_type": "stream",
     "text": [
      "Accuracy: 0.54 (+/- 0.04)\n"
     ]
    }
   ],
   "source": [
    "print(\"Accuracy: %0.2f (+/- %0.2f)\" % (scores.mean(), scores.std() * 2))\n",
    "#When just using the Length and charge this is 54% +/- 1%\n",
    "#Plug in the Normalized Counts as well, goes up to 62% +/- 1%\n",
    "#Just remove all of the single observations goes down to 60% +/- 2%\n",
    "#Here filtering by PEP in addition to removing single operations leads to even worse accuracy 54% +/- 0.04"
   ]
  },
  {
   "cell_type": "markdown",
   "metadata": {},
   "source": [
    "Not exactly stellar"
   ]
  },
  {
   "cell_type": "code",
   "execution_count": 87,
   "metadata": {},
   "outputs": [
    {
     "data": {
      "image/png": "[encoded data removed]",
      "text/plain": [
       "<Figure size 432x288 with 1 Axes>"
      ]
     },
     "metadata": {
      "needs_background": "light"
     },
     "output_type": "display_data"
    }
   ],
   "source": [
    "#Make array of feature importance\n",
    "importances = forest.feature_importances_\n",
    "std = np.std([tree.feature_importances_ for tree in forest.estimators_], axis=0)\n",
    "indices = np.argsort(importances)[::-1]\n",
    "\n",
    "#Plot the feature importances of our model\n",
    "plt.figure()\n",
    "plt.title(\"Feature importance\")\n",
    "plt.bar(range(X1.shape[1]), importances[indices], color='r', yerr=std[indices], align = \"center\")\n",
    "plt.xticks(range(X1.shape[1]), indices)\n",
    "plt.xlim([-1, X1.shape[1]])\n",
    "plt.show()"
   ]
  },
  {
   "cell_type": "code",
   "execution_count": 88,
   "metadata": {},
   "outputs": [
    {
     "data": {
      "text/plain": [
       "Index(['Charge', 'Length.x', 'A.Norm', 'R.Norm', 'N.Norm', 'D.Norm', 'C.Norm',\n",
       "       'Q.Norm', 'E.Norm', 'G.Norm', 'H.Norm', 'I.Norm', 'L.Norm', 'K.Norm',\n",
       "       'M.Norm', 'F.Norm', 'S.Norm', 'T.Norm', 'W.Norm', 'Y.Norm', 'V.Norm',\n",
       "       'U.Norm', 'O.Norm', 'P.Norm'],\n",
       "      dtype='object')"
      ]
     },
     "execution_count": 88,
     "metadata": {},
     "output_type": "execute_result"
    }
   ],
   "source": [
    "X1.columns"
   ]
  },
  {
   "cell_type": "code",
   "execution_count": 90,
   "metadata": {},
   "outputs": [
    {
     "data": {
      "text/plain": [
       "Index(['Charge', 'Length.x', 'A.Norm', 'R.Norm', 'N.Norm', 'D.Norm', 'C.Norm',\n",
       "       'Q.Norm', 'E.Norm', 'G.Norm', 'H.Norm', 'I.Norm', 'L.Norm', 'K.Norm',\n",
       "       'M.Norm', 'F.Norm', 'S.Norm', 'T.Norm', 'W.Norm', 'Y.Norm', 'V.Norm',\n",
       "       'U.Norm', 'O.Norm', 'P.Norm'],\n",
       "      dtype='object')"
      ]
     },
     "execution_count": 90,
     "metadata": {},
     "output_type": "execute_result"
    }
   ],
   "source": [
    "#A little array arithmetic\n",
    "a = np.array([1, 1, 3, 4])\n",
    "b = np.array([2, 3, 3, 5])\n",
    "c = np.absolute(b-a)\n",
    "#c = np.sqrt(np.square(b - a))\n",
    "c\n",
    "X2.columns"
   ]
  },
  {
   "cell_type": "code",
   "execution_count": 69,
   "metadata": {},
   "outputs": [
    {
     "data": {
      "text/plain": [
       "(32971,)"
      ]
     },
     "execution_count": 69,
     "metadata": {},
     "output_type": "execute_result"
    }
   ],
   "source": [
    "model_error.shape"
   ]
  },
  {
   "cell_type": "code",
   "execution_count": 17,
   "metadata": {},
   "outputs": [
    {
     "data": {
      "text/plain": [
       "Index(['Sequence', 'Charge', 'Intensity', 'Length.x', 'A.Count', 'R.Count',\n",
       "       'N.Count', 'D.Count', 'C.Count', 'Q.Count', 'E.Count', 'G.Count',\n",
       "       'H.Count', 'I.Count', 'L.Count', 'K.Count', 'M.Count', 'F.Count',\n",
       "       'P.Count', 'S.Count', 'T.Count', 'W.Count', 'Y.Count', 'V.Count',\n",
       "       'U.Count', 'O.Count', 'A.Norm', 'R.Norm', 'N.Norm', 'D.Norm', 'C.Norm',\n",
       "       'Q.Norm', 'E.Norm', 'G.Norm', 'H.Norm', 'I.Norm', 'L.Norm', 'K.Norm',\n",
       "       'M.Norm', 'F.Norm', 'S.Norm', 'T.Norm', 'W.Norm', 'Y.Norm', 'V.Norm',\n",
       "       'U.Norm', 'O.Norm', 'P.Norm', 'y2', 'y2_model', 'model_error'],\n",
       "      dtype='object')"
      ]
     },
     "execution_count": 17,
     "metadata": {},
     "output_type": "execute_result"
    }
   ],
   "source": [
    "type(y2)\n",
    "model_error = np.absolute(y2_model - y2)\n",
    "model_error.shape\n",
    "\n",
    "combined_df = pd.DataFrame(fullX2)\n",
    "combined_df[\"y2\"] = y2\n",
    "combined_df[\"y2_model\"] = y2_model\n",
    "combined_df[\"model_error\"] = model_error\n",
    "combined_df.columns\n"
   ]
  },
  {
   "cell_type": "code",
   "execution_count": 18,
   "metadata": {},
   "outputs": [],
   "source": [
    "combined_df.to_csv(\"FeaturesMaxCV_withErr.csv\")"
   ]
  },
  {
   "cell_type": "markdown",
   "metadata": {},
   "source": [
    "### Trying to decompose the aa counts to lower dimensionality"
   ]
  },
  {
   "cell_type": "code",
   "execution_count": 19,
   "metadata": {},
   "outputs": [],
   "source": [
    "# select and decompose normalized count data\n",
    "normalized_aa_counts = ['A.Norm', 'R.Norm',\n",
    "       'N.Norm', 'D.Norm', 'C.Norm', 'Q.Norm', 'E.Norm', 'G.Norm', 'H.Norm',\n",
    "       'I.Norm', 'L.Norm', 'K.Norm', 'M.Norm', 'F.Norm', 'S.Norm', 'T.Norm',\n",
    "       'W.Norm', 'Y.Norm', 'V.Norm', 'U.Norm', 'O.Norm', 'P.Norm']\n",
    "\n",
    "normalized_count_df = evidence_df[normalized_aa_counts]"
   ]
  },
  {
   "cell_type": "code",
   "execution_count": 57,
   "metadata": {},
   "outputs": [
    {
     "data": {
      "text/plain": [
       "numpy.ndarray"
      ]
     },
     "execution_count": 57,
     "metadata": {},
     "output_type": "execute_result"
    }
   ],
   "source": [
    "from sklearn.decomposition import PCA\n",
    "# reduce dimensionality or normalized AA counts with PCA\n",
    "pca = PCA(n_components=10)                              #defining pca method parameters\n",
    "decomposed_df = pca.fit_transform(normalized_count_df)\n",
    "type(decomposed_df)"
   ]
  },
  {
   "cell_type": "code",
   "execution_count": 76,
   "metadata": {},
   "outputs": [
    {
     "data": {
      "text/plain": [
       "(164854, 13)"
      ]
     },
     "execution_count": 76,
     "metadata": {},
     "output_type": "execute_result"
    }
   ],
   "source": [
    "# concat decomposed values with length, charge\n",
    "recombined_df = pd.concat([evidence_df[['Max Intensity CV', 'Length.x', 'Charge']]\n",
    "    , pd.DataFrame(decomposed_df)], axis=1)"
   ]
  },
  {
   "cell_type": "code",
   "execution_count": 24,
   "metadata": {},
   "outputs": [],
   "source": [
    "# set target value and create training data\n",
    "target_value = ['Max Intensity CV']\n",
    "# exclude target value (first column) from prepared feature matrix\n",
    "X = recombined_df[recombined_df.columns[1:]]\n",
    "y = recombined_df[target_value]"
   ]
  },
  {
   "cell_type": "code",
   "execution_count": 25,
   "metadata": {},
   "outputs": [
    {
     "name": "stderr",
     "output_type": "stream",
     "text": [
      "C:\\Users\\jmcketney.AD\\AppData\\Local\\Continuum\\anaconda3\\lib\\site-packages\\sklearn\\model_selection\\_split.py:2026: FutureWarning: From version 0.21, test_size will always complement train_size unless both are specified.\n",
      "  FutureWarning)\n"
     ]
    }
   ],
   "source": [
    "#split the data with 50% in each set\n",
    "dX1, dX2, dy1, dy2 = train_test_split(X, y, random_state=0, train_size=0.8)\n",
    "\n",
    "#Flatten the vector so that it is formatted correctly\n",
    "dy1 = dy1.values.ravel()\n",
    "dy2 = dy2.values.ravel()"
   ]
  },
  {
   "cell_type": "code",
   "execution_count": 26,
   "metadata": {},
   "outputs": [],
   "source": [
    "# set hyperparameters and fit model\n",
    "forest = RandomForestRegressor(200)\n",
    "forest.fit(dX1, dy1)\n",
    "\n",
    "# make predictions based on fitted model\n",
    "dy2_model = forest.predict(dX2)\n",
    "#predicted = cross_val_predict(forest1, X1, y1, cv=5, n_jobs=-1)"
   ]
  },
  {
   "cell_type": "markdown",
   "metadata": {},
   "source": [
    "Evaluating the pca decomposed model"
   ]
  },
  {
   "cell_type": "code",
   "execution_count": 27,
   "metadata": {},
   "outputs": [
    {
     "data": {
      "text/plain": [
       "11.98613715015591"
      ]
     },
     "execution_count": 27,
     "metadata": {},
     "output_type": "execute_result"
    }
   ],
   "source": [
    "# evaluate performance with RMSE\n",
    "np.sqrt(mean_squared_error(dy2, dy2_model))"
   ]
  },
  {
   "cell_type": "code",
   "execution_count": 29,
   "metadata": {},
   "outputs": [
    {
     "name": "stdout",
     "output_type": "stream",
     "text": [
      "Accuracy: 0.59 (+/- 0.01)\n"
     ]
    }
   ],
   "source": [
    "from sklearn.model_selection import cross_val_score\n",
    "scores = cross_val_score(forest, dX2, dy2, cv=5)\n",
    "print(\"Accuracy: %0.2f (+/- %0.2f)\" % (scores.mean(), scores.std() * 2))"
   ]
  },
  {
   "cell_type": "code",
   "execution_count": 28,
   "metadata": {},
   "outputs": [
    {
     "data": {
      "text/plain": [
       "Text(0,0.5,'Predicted')"
      ]
     },
     "execution_count": 28,
     "metadata": {},
     "output_type": "execute_result"
    },
    {
     "data": {
      "image/png": "[encoded data removed]",
      "text/plain": [
       "<Figure size 432x288 with 2 Axes>"
      ]
     },
     "metadata": {
      "needs_background": "light"
     },
     "output_type": "display_data"
    }
   ],
   "source": [
    "plt.scatter(dy2, dy2_model, c = dX2['Charge'], alpha= 0.4,\n",
    "           cmap=plt.cm.get_cmap('rainbow', 7))\n",
    "\n",
    "plt.colorbar(label='Charge', ticks=range(7))\n",
    "\n",
    "\n",
    "plt.plot([dy2.min(), dy2.max()], [dy2.min(), dy2.max()], 'k--', lw=4)\n",
    "plt.xlabel('Measured')\n",
    "plt.ylabel('Predicted')"
   ]
  },
  {
   "cell_type": "markdown",
   "metadata": {},
   "source": [
    "## Adding an SVM model"
   ]
  },
  {
   "cell_type": "code",
   "execution_count": 60,
   "metadata": {},
   "outputs": [
    {
     "data": {
      "text/plain": [
       "(82512, 22)"
      ]
     },
     "execution_count": 60,
     "metadata": {},
     "output_type": "execute_result"
    }
   ],
   "source": [
    "X1.shape"
   ]
  },
  {
   "cell_type": "code",
   "execution_count": 61,
   "metadata": {},
   "outputs": [],
   "source": [
    "from sklearn import svm\n",
    "clf = svm.SVR(kernel = 'rbf')\n",
    "clf.fit(X1,y1)\n",
    "y2_svmodel = clf.predict(X2)\n",
    "\n",
    "#In SVM help page it talks about using the \"class_weight function\""
   ]
  },
  {
   "cell_type": "code",
   "execution_count": 62,
   "metadata": {},
   "outputs": [
    {
     "data": {
      "text/plain": [
       "12.866361399640224"
      ]
     },
     "execution_count": 62,
     "metadata": {},
     "output_type": "execute_result"
    }
   ],
   "source": [
    "import numpy as np\n",
    "from sklearn.metrics import mean_squared_error\n",
    "np.sqrt(mean_squared_error(y2, y2_svmodel))            #calculating the mean error in terms of deviation \n",
    "                                          "
   ]
  },
  {
   "cell_type": "code",
   "execution_count": 64,
   "metadata": {},
   "outputs": [
    {
     "name": "stdout",
     "output_type": "stream",
     "text": [
      "Accuracy: 0.53 (+/- 0.00)\n"
     ]
    }
   ],
   "source": [
    "from sklearn.model_selection import cross_val_score\n",
    "scores = cross_val_score(clf, X1, y1, cv=5)\n",
    "print(\"Accuracy: %0.2f (+/- %0.2f)\" % (scores.mean(), scores.std() * 2))"
   ]
  },
  {
   "cell_type": "markdown",
   "metadata": {},
   "source": [
    "### Trying Random Forest Classifier"
   ]
  },
  {
   "cell_type": "code",
   "execution_count": 69,
   "metadata": {},
   "outputs": [],
   "source": [
    "from sklearn.ensemble import RandomForestClassifier\n",
    "\n",
    "forestC = RandomForestClassifier(n_estimators = 200, random_state = 0)\n",
    "\n",
    "forestC.fit(X1,y1)\n",
    "\n",
    "y2_fcmodel = forestC.predict(X2)"
   ]
  },
  {
   "cell_type": "code",
   "execution_count": 89,
   "metadata": {},
   "outputs": [
    {
     "name": "stdout",
     "output_type": "stream",
     "text": [
      "[ 15.  20.  25.  30.  35.  40.  45.  50.  55.  60.  65.  70.  75.  80.\n",
      "  85.  90.  95. 100. 105. 110. 115. 120.]\n"
     ]
    },
    {
     "data": {
      "text/plain": [
       "20"
      ]
     },
     "execution_count": 89,
     "metadata": {},
     "output_type": "execute_result"
    }
   ],
   "source": [
    "print(np.linspace(15,120, 22))\n",
    "min(y2)"
   ]
  },
  {
   "cell_type": "code",
   "execution_count": 85,
   "metadata": {},
   "outputs": [
    {
     "name": "stdout",
     "output_type": "stream",
     "text": [
      "[[  3   0   1   0   0   0   1   0   3   2   1   1   0   0   0   0   0   0\n",
      "    0   0   0]\n",
      " [  4   0   0   7   2   0   0   1   1   1   2   0   0   0   0   1   0   0\n",
      "    0   0   0]\n",
      " [  0   0   8  67  68   6   1   0   3   0   3   0   0   0   0   0   0   0\n",
      "    0   0   0]\n",
      " [  0   0   2 235 302  62  23  12   2   1   1   0   1   0   0   0   0   0\n",
      "    0   0   0]\n",
      " [  0   0   1  79 998 368 148  66  34  13  18   1   3   1   1   1   0   0\n",
      "    0   0   0]\n",
      " [  0   0   1   6 430 579 382 160 104  50  28  10  27   1   5   2   2   4\n",
      "    0   0   0]\n",
      " [  1   0   0   0 155 380 643 377 247  87 115  39  68   3   7  16   4   4\n",
      "    1   1   1]\n",
      " [  0   0   0   2  48 175 416 492 338 183 157  55 137  13  21  12   5   7\n",
      "    0   1   0]\n",
      " [  0   1   0   0  52  80 257 407 448 240 296  89 222  28  37  20  15   6\n",
      "    0   2   0]\n",
      " [  0   0   1   1  17  43 113 236 342 239 258  85 237  27  36  37  15  10\n",
      "    0   2   1]\n",
      " [  0   1   0   0  14  43  88 190 300 238 337 122 355  41  51  29  28  10\n",
      "    0   0   1]\n",
      " [  0   1   0   0   8  11  43  76 161 140 238 105 303  38  51  54  20  16\n",
      "    1   2   1]\n",
      " [  1   0   0   0   5  20  46 106 183 173 280 119 432  45  76  60  39  12\n",
      "    3   1   2]\n",
      " [  0   0   0   0   0   6  16  32  60  59  99  61 210  31  51  30  27   8\n",
      "    2   3   0]\n",
      " [  0   0   0   0   0   4  13  23  45  69 111  65 255  29  74  34  40  16\n",
      "    2   0   0]\n",
      " [  0   0   0   0   5   9  28  30  64  60  87  49 192  27  42  69  29  19\n",
      "    0   1   0]\n",
      " [  0   0   0   0   0   1   3  18  25  24  57  27 169  26  69  24  44  16\n",
      "    2   3   0]\n",
      " [  0   0   0   0   1   7   6   5  20  25  57  15 132  13  28  48  35  18\n",
      "    2   3   0]\n",
      " [  0   0   0   0   0   0   0   3   3   7  16   9  32   4  21  10  11   6\n",
      "    2   0   2]\n",
      " [  0   0   0   0   0   6   0   4   5   8   9   8  28   3  16  14  11  10\n",
      "    1   3   2]\n",
      " [  0   0   0   0   0   0   1   2   0   4   9   4  28   1  10   8  11   5\n",
      "    0   0   0]]\n"
     ]
    },
    {
     "data": {
      "image/png": "[encoded data removed]",
      "text/plain": [
       "<Figure size 720x720 with 2 Axes>"
      ]
     },
     "metadata": {
      "needs_background": "light"
     },
     "output_type": "display_data"
    }
   ],
   "source": [
    "from sklearn.metrics import confusion_matrix\n",
    "import matplotlib.pyplot as plt\n",
    "import seaborn as sns\n",
    "labels = np.linspace(20,120, 21)\n",
    "mat = confusion_matrix(y2, y2_fcmodel, labels)\n",
    "\n",
    "print(mat)\n",
    "\n",
    "plt.rcParams['figure.figsize'] = [10,10]\n",
    "fig = plt.figure()          \n",
    "ax = fig.add_subplot(111) #adding a subplot that is a single frame/facet 111 = (1,1,1) describing rows columns and index, respectively\n",
    "cax = ax.matshow(mat)          #displays and array as a matrix\n",
    "plt.title('Confusion Matrix')\n",
    "fig.colorbar(cax)\n",
    "#ax.set_xticklabels([''] + labels)            #have yet to figure how to label the axes correctly\n",
    "#ax.set_yticklabels([''] + labels)\n",
    "plt.xlabel('predicted value')\n",
    "plt.ylabel('true value')\n",
    "plt.show()\n"
   ]
  },
  {
   "cell_type": "code",
   "execution_count": 1,
   "metadata": {},
   "outputs": [
    {
     "ename": "NameError",
     "evalue": "name 'evidence_df' is not defined",
     "output_type": "error",
     "traceback": [
      "\u001b[1;31m---------------------------------------------------------------------------\u001b[0m",
      "\u001b[1;31mNameError\u001b[0m                                 Traceback (most recent call last)",
      "\u001b[1;32m<ipython-input-1-fed3dac36ae4>\u001b[0m in \u001b[0;36m<module>\u001b[1;34m()\u001b[0m\n\u001b[1;32m----> 1\u001b[1;33m \u001b[0mevidence_df\u001b[0m\u001b[1;33m.\u001b[0m\u001b[0mshape\u001b[0m\u001b[1;33m\u001b[0m\u001b[0m\n\u001b[0m",
      "\u001b[1;31mNameError\u001b[0m: name 'evidence_df' is not defined"
     ]
    }
   ],
   "source": [
    "evidence_df.shape\n"
   ]
  },
  {
   "cell_type": "code",
   "execution_count": null,
   "metadata": {},
   "outputs": [],
   "source": []
  }
 ],
 "metadata": {
  "kernelspec": {
   "display_name": "Python 3",
   "language": "python",
   "name": "python3"
  },
  "language_info": {
   "codemirror_mode": {
    "name": "ipython",
    "version": 3
   },
   "file_extension": ".py",
   "mimetype": "text/x-python",
   "name": "python",
   "nbconvert_exporter": "python",
   "pygments_lexer": "ipython3",
   "version": "3.6.8"
  }
 },
 "nbformat": 4,
 "nbformat_minor": 2
}
