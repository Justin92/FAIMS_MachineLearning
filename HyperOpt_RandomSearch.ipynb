{
 "cells": [
  {
   "cell_type": "markdown",
   "metadata": {},
   "source": [
    "### Making Dummy Data"
   ]
  },
  {
   "cell_type": "code",
   "execution_count": 2,
   "metadata": {},
   "outputs": [],
   "source": [
    "import numpy as np\n",
    "import sklearn\n",
    "import xgboost\n",
    "import hyperopt\n",
    "import pandas as pd\n",
    "import time\n",
    "\n",
    "from skmultilearn.model_selection import IterativeStratification\n",
    "from hyperopt import fmin, tpe, hp, STATUS_OK, Trials\n",
    "from hyperopt.pyll import scope\n",
    "from hyperopt.pyll.stochastic import sample\n",
    "from sklearn import datasets, pipeline\n",
    "from sklearn.metrics import roc_auc_score\n",
    "\n",
    "from xgboost import XGBClassifier\n",
    "from sklearn.multiclass import OneVsRestClassifier\n",
    "from sklearn.model_selection import cross_val_score\n",
    "\n",
    "from sklearn.ensemble import RandomForestClassifier"
   ]
  },
  {
   "cell_type": "code",
   "execution_count": 3,
   "metadata": {},
   "outputs": [],
   "source": [
    "#Generating a multilabel classifier\n",
    "from sklearn.model_selection import train_test_split\n",
    "from sklearn.datasets import make_classification\n",
    "X1, y1 = make_classification(n_features=50, n_samples=1000)\n",
    "X2, y2 = make_classification(n_features=50, n_samples=1000)\n",
    "X = np.concatenate((X1, X2), axis=1)\n",
    "y = np.transpose([y2, y1])\n",
    "X_train, X_test, y_train, y_test = train_test_split(X, y, test_size=0.2)"
   ]
  },
  {
   "cell_type": "markdown",
   "metadata": {},
   "source": [
    "### Building Simple XGBoost Bayesian Hyperparam Optimization"
   ]
  },
  {
   "cell_type": "code",
   "execution_count": 4,
   "metadata": {},
   "outputs": [
    {
     "data": {
      "text/plain": [
       "0.9505075537205316"
      ]
     },
     "execution_count": 4,
     "metadata": {},
     "output_type": "execute_result"
    }
   ],
   "source": [
    "#Making sure I can use cross validation score with multilabel\n",
    "from xgboost import XGBClassifier\n",
    "from sklearn.multiclass import OneVsRestClassifier\n",
    "from sklearn.model_selection import cross_val_score\n",
    "myXGBC = OneVsRestClassifier(XGBClassifier(max_depth=3, subsample=0.5), n_jobs=2)\n",
    "mean_score = cross_val_score(myXGBC, X, y, cv=5, scoring='roc_auc_ovr_weighted').mean()\n",
    "mean_score"
   ]
  },
  {
   "cell_type": "code",
   "execution_count": 5,
   "metadata": {},
   "outputs": [],
   "source": [
    "#Define parameter space for hyperopt\n",
    "xgbc_param_hyperopt= {\n",
    "    'learning_rate': hp.loguniform('learning_rate', np.log(0.01), np.log(1)),          #1\n",
    "    'max_depth': scope.int(hp.quniform('max_depth', 5, 15, 1)),                        #3\n",
    "    'max_delta_step': scope.int(hp.quniform('max_delta_step', 0, 10, 1)),              #2\n",
    "    'booster': hp.choice('booster', ['gbtree', 'dart']),                               #0\n",
    "    'subsample': hp.uniform('subsample', 0.0, 1.0),                                    #7\n",
    "    'scale_pos_weight': hp.uniform('scale_pos_weight', 1, 150),                        #6\n",
    "    'tree_method': hp.choice('tree_method', ['auto', 'hist']),                         #8\n",
    "    'sampling_method': hp.choice('sampling_method', ['uniform', 'gradient_based']),    #5\n",
    "    'reg_lambda': hp.uniform('reg_lambda', 0.0, 1.0)                                   #4\n",
    "}"
   ]
  },
  {
   "cell_type": "code",
   "execution_count": 6,
   "metadata": {},
   "outputs": [],
   "source": [
    "#Defining the hyperopt function\n",
    "def hyperopt(param_space, X_train, y_train, X_test, y_test, num_eval):\n",
    "    \n",
    "    start = time.time()\n",
    "    \n",
    "    def objective_function(params):\n",
    "        clf = OneVsRestClassifier(XGBClassifier(**params), n_jobs=2)\n",
    "        #rocauc = []\n",
    "        #k_fold = IterativeStratification(n_splits=5, order=2)\n",
    "        #for train, test in k_fold.split(X_train, y_train):\n",
    "        #    clf.fit(X_train[train], y_train[train])\n",
    "        #    pred_probs = clf.predict_proba(X_train[test])\n",
    "        #    rocauc.append(roc_auc_score(y_train[test], pred_probs, average='weighted'))\n",
    "        #score = np.mean(rocauc)\n",
    "        score = cross_val_score(clf, X_train, y_train, cv=5, scoring='roc_auc_ovr_weighted').mean()\n",
    "        return {'loss': -score, 'status': STATUS_OK}\n",
    "\n",
    "    trials = Trials()\n",
    "    best_param = fmin(objective_function, \n",
    "                      param_space, \n",
    "                      algo=tpe.suggest, \n",
    "                      max_evals=num_eval, \n",
    "                      trials=trials,\n",
    "                      rstate= np.random.RandomState(23))\n",
    "    loss = [x['result']['loss'] for x in trials.trials]\n",
    "    \n",
    "    best_param_values = [x for x in best_param.values()]\n",
    "    \n",
    "    if best_param_values[0] == 0:\n",
    "        booster = 'gbtree'\n",
    "    else:\n",
    "        booster = 'dart'\n",
    "        \n",
    "        \n",
    "    if best_param_values[8] == 0:\n",
    "        tree_method = 'auto'\n",
    "    else:\n",
    "        tree_method = 'hist'\n",
    "        \n",
    "    \n",
    "    if best_param_values[5] == 0:\n",
    "        sampling_method = 'uniform'\n",
    "    else:\n",
    "        sampling_method = 'gradient_based'\n",
    "    \n",
    "    clf_best = OneVsRestClassifier(XGBClassifier(learning_rate=best_param_values[1],\n",
    "                                  max_depth=int(best_param_values[3]),\n",
    "                                  max_delta_step=int(best_param_values[2]),\n",
    "                                  booster=booster,\n",
    "                                  subsample=best_param_values[7],\n",
    "                                  scale_pos_weight = best_param_values[6],\n",
    "                                  tree_method = tree_method,\n",
    "                                  sampling_method = sampling_method,\n",
    "                                  reg_lambda = best_param_values[4],\n",
    "                                    \n",
    "                                                 \n",
    "                                ), n_jobs=2)\n",
    "                                  \n",
    "    clf_best.fit(X_train, y_train)\n",
    "    \n",
    "    print(\"\")\n",
    "    print(\"##### Results\")\n",
    "    print(\"Score best parameters: \", min(loss)*-1)\n",
    "    print(\"Best parameters: \", best_param)\n",
    "    print(\"Test Score: \", clf_best.score(X_test, y_test))\n",
    "    print(\"Time elapsed: \", time.time() - start)\n",
    "    print(\"Parameter combinations evaluated: \", num_eval)\n",
    "    \n",
    "    return trials\n"
   ]
  },
  {
   "cell_type": "code",
   "execution_count": 7,
   "metadata": {},
   "outputs": [
    {
     "name": "stdout",
     "output_type": "stream",
     "text": [
      "100%|██████████| 5/5 [01:00<00:00, 12.07s/trial, best loss: -0.9442888097122694]\n",
      "\n",
      "##### Results\n",
      "Score best parameters:  0.9442888097122694\n",
      "Best parameters:  {'booster': 0, 'learning_rate': 0.31029248201887183, 'max_delta_step': 9.0, 'max_depth': 13.0, 'reg_lambda': 0.49265205078694607, 'sampling_method': 0, 'scale_pos_weight': 53.610470523135014, 'subsample': 0.9490718180842468, 'tree_method': 0}\n",
      "Test Score:  0.815\n",
      "Time elapsed:  61.87439179420471\n",
      "Parameter combinations evaluated:  5\n"
     ]
    }
   ],
   "source": [
    "results_hyperopt_5 = hyperopt(xgbc_param_hyperopt, X_train, y_train, X_test, y_test, num_eval=5)"
   ]
  },
  {
   "cell_type": "markdown",
   "metadata": {},
   "source": [
    "#### Pulling down hyperopt trials as a data frame"
   ]
  },
  {
   "cell_type": "code",
   "execution_count": 14,
   "metadata": {},
   "outputs": [],
   "source": [
    "#Made function to turn it into dataframe\n",
    "def hyperopt_make_df(hyperopt_results):\n",
    "    score = []\n",
    "    for trial in hyperopt_results.trials:\n",
    "        #for item in trial['misc']['vals']:\n",
    "            #print(item)\n",
    "        if trial['tid'] < 1 :\n",
    "            hyperopt_dict = {key : value for key, value in trial['misc']['vals'].items()}\n",
    "        else:\n",
    "            hyperopt_dict = {key : hyperopt_dict[key] + value for key, value in trial['misc']['vals'].items()}\n",
    "        score.append(trial['result']['loss'])\n",
    "    \n",
    "    hyperopt_dict['score'] = score\n",
    "    return pd.DataFrame(hyperopt_dict)"
   ]
  },
  {
   "cell_type": "code",
   "execution_count": 16,
   "metadata": {},
   "outputs": [
    {
     "data": {
      "text/html": [
       "<div>\n",
       "<style scoped>\n",
       "    .dataframe tbody tr th:only-of-type {\n",
       "        vertical-align: middle;\n",
       "    }\n",
       "\n",
       "    .dataframe tbody tr th {\n",
       "        vertical-align: top;\n",
       "    }\n",
       "\n",
       "    .dataframe thead th {\n",
       "        text-align: right;\n",
       "    }\n",
       "</style>\n",
       "<table border=\"1\" class=\"dataframe\">\n",
       "  <thead>\n",
       "    <tr style=\"text-align: right;\">\n",
       "      <th></th>\n",
       "      <th>booster</th>\n",
       "      <th>learning_rate</th>\n",
       "      <th>max_delta_step</th>\n",
       "      <th>max_depth</th>\n",
       "      <th>reg_lambda</th>\n",
       "      <th>sampling_method</th>\n",
       "      <th>scale_pos_weight</th>\n",
       "      <th>subsample</th>\n",
       "      <th>tree_method</th>\n",
       "      <th>score</th>\n",
       "    </tr>\n",
       "  </thead>\n",
       "  <tbody>\n",
       "    <tr>\n",
       "      <th>0</th>\n",
       "      <td>1</td>\n",
       "      <td>0.507276</td>\n",
       "      <td>5.0</td>\n",
       "      <td>10.0</td>\n",
       "      <td>0.711351</td>\n",
       "      <td>0</td>\n",
       "      <td>51.096741</td>\n",
       "      <td>0.736332</td>\n",
       "      <td>0</td>\n",
       "      <td>-0.938894</td>\n",
       "    </tr>\n",
       "    <tr>\n",
       "      <th>1</th>\n",
       "      <td>0</td>\n",
       "      <td>0.446530</td>\n",
       "      <td>10.0</td>\n",
       "      <td>6.0</td>\n",
       "      <td>0.182397</td>\n",
       "      <td>1</td>\n",
       "      <td>116.089382</td>\n",
       "      <td>0.602446</td>\n",
       "      <td>0</td>\n",
       "      <td>-0.921964</td>\n",
       "    </tr>\n",
       "    <tr>\n",
       "      <th>2</th>\n",
       "      <td>0</td>\n",
       "      <td>0.030935</td>\n",
       "      <td>6.0</td>\n",
       "      <td>14.0</td>\n",
       "      <td>0.907052</td>\n",
       "      <td>0</td>\n",
       "      <td>39.487262</td>\n",
       "      <td>0.933300</td>\n",
       "      <td>1</td>\n",
       "      <td>-0.939074</td>\n",
       "    </tr>\n",
       "    <tr>\n",
       "      <th>3</th>\n",
       "      <td>0</td>\n",
       "      <td>0.310292</td>\n",
       "      <td>9.0</td>\n",
       "      <td>13.0</td>\n",
       "      <td>0.492652</td>\n",
       "      <td>0</td>\n",
       "      <td>53.610471</td>\n",
       "      <td>0.949072</td>\n",
       "      <td>0</td>\n",
       "      <td>-0.944289</td>\n",
       "    </tr>\n",
       "    <tr>\n",
       "      <th>4</th>\n",
       "      <td>1</td>\n",
       "      <td>0.054451</td>\n",
       "      <td>8.0</td>\n",
       "      <td>8.0</td>\n",
       "      <td>0.058344</td>\n",
       "      <td>1</td>\n",
       "      <td>20.104711</td>\n",
       "      <td>0.459066</td>\n",
       "      <td>0</td>\n",
       "      <td>-0.903602</td>\n",
       "    </tr>\n",
       "  </tbody>\n",
       "</table>\n",
       "</div>"
      ],
      "text/plain": [
       "   booster  learning_rate  max_delta_step  max_depth  reg_lambda  \\\n",
       "0        1       0.507276             5.0       10.0    0.711351   \n",
       "1        0       0.446530            10.0        6.0    0.182397   \n",
       "2        0       0.030935             6.0       14.0    0.907052   \n",
       "3        0       0.310292             9.0       13.0    0.492652   \n",
       "4        1       0.054451             8.0        8.0    0.058344   \n",
       "\n",
       "   sampling_method  scale_pos_weight  subsample  tree_method     score  \n",
       "0                0         51.096741   0.736332            0 -0.938894  \n",
       "1                1        116.089382   0.602446            0 -0.921964  \n",
       "2                0         39.487262   0.933300            1 -0.939074  \n",
       "3                0         53.610471   0.949072            0 -0.944289  \n",
       "4                1         20.104711   0.459066            0 -0.903602  "
      ]
     },
     "execution_count": 16,
     "metadata": {},
     "output_type": "execute_result"
    }
   ],
   "source": [
    "hyperopt_df = hyperopt_make_df(results_hyperopt_5)\n",
    "hyperopt_df"
   ]
  },
  {
   "cell_type": "raw",
   "metadata": {},
   "source": [
    "### Randomized Search for XGBC"
   ]
  },
  {
   "cell_type": "code",
   "execution_count": 6,
   "metadata": {},
   "outputs": [],
   "source": [
    "from sklearn import pipeline\n",
    "from sklearn.model_selection import RandomizedSearchCV, GridSearchCV\n",
    "import matplotlib.pyplot as plt\n",
    "import seaborn as sns\n",
    "from sklearn.metrics import f1_score"
   ]
  },
  {
   "cell_type": "code",
   "execution_count": 35,
   "metadata": {},
   "outputs": [],
   "source": [
    "#Set up pipeline\n",
    "#pipe = pipeline.Pipeline([\n",
    "#    ('clf', OneVsRestClassifier(XGBClassifier()))\n",
    "#   ])\n",
    "#Setting parameter space for random search\n",
    "xgbc_param_random = {\n",
    "    'estimator__learning_rate': list(np.logspace(np.log(0.01), np.log(1), num = 500, base=3)),          #1\n",
    "    'estimator__max_depth': list(range(5, 15)),                        #3\n",
    "    'estimator__max_delta_step': list(range(0, 13)),              #2\n",
    "    'estimator__booster': ['gbtree', 'dart'],                               #0\n",
    "    'estimator__subsample': list(np.linspace(0, 1, 500)),                                    #7\n",
    "    'estimator__scale_pos_weight': list(range(1, 151)),                        #6\n",
    "    'estimator__tree_method': ['auto', 'hist'],                         #8\n",
    "    'estimator__sampling_method': ['uniform', 'gradient_based'],    #5\n",
    "    'estimator__reg_lambda': list(np.linspace(0, 1, 500))                                   #4\n",
    "}\n",
    "\n",
    "model_to_set = OneVsRestClassifier(XGBClassifier())"
   ]
  },
  {
   "cell_type": "code",
   "execution_count": 31,
   "metadata": {},
   "outputs": [],
   "source": [
    "def search(pipeline, parameters, X_train, y_train, X_test, y_test, optimizer='random_search', n_iter=None):\n",
    "    \n",
    "\n",
    "    \n",
    "    if optimizer == 'random_search':\n",
    "        grid_obj = RandomizedSearchCV(estimator=pipeline,\n",
    "                            param_distributions=parameters,\n",
    "                            cv=5,\n",
    "                            n_iter=n_iter,\n",
    "                            refit=True,\n",
    "                            return_train_score=False,\n",
    "                            scoring = 'roc_auc_ovr_weighted',  #Gonna have to fix this if we want it stratified\n",
    "                            random_state=1)\n",
    "        grid_obj.fit(X_train, y_train,)\n",
    "    \n",
    "    else:\n",
    "        print('enter search method')\n",
    "        return\n",
    "\n",
    "    estimator = grid_obj.best_estimator_\n",
    "    cvs = cross_val_score(estimator, X_train, y_train, cv=5)\n",
    "    results = pd.DataFrame(grid_obj.cv_results_)\n",
    "    \n",
    "    print(\"##### Results\")\n",
    "    print(\"Score best parameters: \", grid_obj.best_score_)\n",
    "    print(\"Best parameters: \", grid_obj.best_params_)\n",
    "    print(\"Cross-validation Score: \", cvs.mean())\n",
    "    print(\"Test Score: \", estimator.score(X_test, y_test))\n",
    "    print(\"Time elapsed: \", time.time() - start)\n",
    "    print(\"Parameter combinations evaluated: \",results.shape[0])\n",
    "    \n",
    "    return results, estimator\n"
   ]
  },
  {
   "cell_type": "code",
   "execution_count": 40,
   "metadata": {},
   "outputs": [],
   "source": [
    "model_tuning = RandomizedSearchCV(model_to_set,\n",
    "                            param_distributions=xgbc_param_random,\n",
    "                            cv=5,\n",
    "                            n_iter=75,\n",
    "                            refit=True,\n",
    "                            return_train_score=False,\n",
    "                            scoring = 'roc_auc_ovr_weighted',  #Gonna have to fix this if we want it stratified\n",
    "                            random_state=1)"
   ]
  },
  {
   "cell_type": "code",
   "execution_count": 41,
   "metadata": {},
   "outputs": [
    {
     "name": "stdout",
     "output_type": "stream",
     "text": [
      "0.9697147164917299\n",
      "{'estimator__tree_method': 'auto', 'estimator__subsample': 0.9478957915831663, 'estimator__scale_pos_weight': 61, 'estimator__sampling_method': 'gradient_based', 'estimator__reg_lambda': 0.43286573146292584, 'estimator__max_depth': 7, 'estimator__max_delta_step': 9, 'estimator__learning_rate': 0.17133003914674097, 'estimator__booster': 'gbtree'}\n"
     ]
    }
   ],
   "source": [
    "model_tuning.fit(X_train, y_train)\n",
    "print(model_tuning.best_score_)\n",
    "print(model_tuning.best_params_)"
   ]
  },
  {
   "cell_type": "code",
   "execution_count": null,
   "metadata": {},
   "outputs": [],
   "source": [
    "results_random, estimator_random = search(pipe, xgbc_param_random, X_train, y_train, X_test, y_test, n_iter=75)"
   ]
  },
  {
   "cell_type": "markdown",
   "metadata": {},
   "source": [
    "Ok so what it looks like is that alot of the stuff online provides a guide on how to pair the OneVsRestClassifier with the GridSearchCV rather than RandomizedSearch so we'll try to do that first"
   ]
  },
  {
   "cell_type": "markdown",
   "metadata": {},
   "source": [
    "### Comparing the two hyperparameter searches for xgbc"
   ]
  },
  {
   "cell_type": "code",
   "execution_count": 48,
   "metadata": {},
   "outputs": [],
   "source": [
    "#Retrieve Random Scores\n",
    "results_random = pd.DataFrame(model_tuning.cv_results_)\n",
    "random_scores = np.maximum.accumulate(results_random['mean_test_score']) #What is this?\n",
    "\n",
    "#Retrieve Hyperopt scores\n",
    "hyperopt_scores = [trial['result']['loss']*-1 for trial in results_hyperopt.trials]\n",
    "hyperopt_scores = np.maximum.accumulate(hyperopt_scores)"
   ]
  },
  {
   "cell_type": "code",
   "execution_count": null,
   "metadata": {},
   "outputs": [],
   "source": [
    "# Here is a full mimicry of what Mike does on github repo, so should work\n",
    "\n",
    "f, ax = plt.subplots(figsize=(7,6))\n",
    "sns.set_palette(\"husl\")\n",
    "sns.despine()\n",
    "ax = sns.lineplot(x=[x for x in range(75)], y=random_scores, linewidth = 2)\n",
    "ax = sns.lineplot(x=[x for x in range(75)], y=hyperopt_scores, linewidth = 2)\n",
    "plt.title(\"Finding the optimum\", fontsize=18)\n",
    "plt.xlabel('Iteration', fontsize=12)\n",
    "plt.ylabel('Cross-Validation Score (roc_auc_weighted, %)', fontsize=12)\n",
    "plt.legend(loc='lower right', labels=['Random Search', 'Hyperopt'])\n",
    "plt.setp(ax.get_legend().get_texts(), fontsize='12')\n"
   ]
  },
  {
   "cell_type": "code",
   "execution_count": 51,
   "metadata": {},
   "outputs": [
    {
     "data": {
      "image/png": "[encoded data removed]",
      "text/plain": [
       "<Figure size 432x288 with 1 Axes>"
      ]
     },
     "metadata": {
      "needs_background": "light"
     },
     "output_type": "display_data"
    }
   ],
   "source": [
    "#Here is me trying to do it on my own\n",
    "#%matplotlib inline\n",
    "\n",
    "plt.plot(range(75), hyperopt_scores, linewidth = 2)\n",
    "plt.plot(range(75), random_scores, linewidth = 2)\n",
    "plt.title(\"Finding the optimum\", fontsize=18)\n",
    "plt.xlabel('Iteration', fontsize=12)\n",
    "plt.ylabel('Cross-Validation Score (roc_auc_weighted, %)', fontsize=12)\n",
    "plt.legend(loc='lower right', labels=['Hyperopt', 'Random Search'])\n",
    "plt.show()"
   ]
  },
  {
   "cell_type": "code",
   "execution_count": null,
   "metadata": {},
   "outputs": [],
   "source": [
    "#Plotting some other attribute Mike does learning rate and number of leaves"
   ]
  },
  {
   "cell_type": "code",
   "execution_count": null,
   "metadata": {},
   "outputs": [],
   "source": [
    "#Plotting some other attribute"
   ]
  },
  {
   "cell_type": "code",
   "execution_count": null,
   "metadata": {},
   "outputs": [],
   "source": []
  },
  {
   "cell_type": "markdown",
   "metadata": {},
   "source": [
    "## Random Forest Classifier"
   ]
  },
  {
   "cell_type": "markdown",
   "metadata": {},
   "source": [
    "### HyperOpt Parameter Search RFC"
   ]
  },
  {
   "cell_type": "code",
   "execution_count": 53,
   "metadata": {},
   "outputs": [],
   "source": [
    "#Define parameter space for hyperopt\n",
    "rfc_param_hyperopt= {\n",
    "    'n_estimators': scope.int(hp.quniform('n_estimators', 100, 500, 50)),               #5\n",
    "    'max_depth': scope.int(hp.quniform('max_depth', 5, 30, 1)),                         #1\n",
    "    'min_samples_split': scope.int(hp.quniform('min_samples_split', 2, 10, 1)),         #4\n",
    "        #Reallly want this above one to be on a doubling scale\n",
    "    'min_samples_leaf': scope.int(hp.quniform('min_samples_leaf', 2, 20, 2)),           #3                    \n",
    "    'max_features': hp.uniform('max_features', 0.0, 1.0),                               #2    \n",
    "    'class_weight': hp.choice('class_weight', ['balanced', 'balanced_subsample']),      #0                   \n",
    "    }"
   ]
  },
  {
   "cell_type": "code",
   "execution_count": 59,
   "metadata": {},
   "outputs": [],
   "source": [
    "#Defining the hyperopt function\n",
    "def hyperopt_rfc(param_space, X_train, y_train, X_test, y_test, num_eval):\n",
    "    \n",
    "    start = time.time()\n",
    "    \n",
    "    def objective_function(params):\n",
    "        clf = OneVsRestClassifier(RandomForestClassifier(**params), n_jobs=2)\n",
    "        #rocauc = []\n",
    "        #k_fold = IterativeStratification(n_splits=5, order=2)\n",
    "        #for train, test in k_fold.split(X_train, y_train):\n",
    "        #    clf.fit(X_train[train], y_train[train])\n",
    "        #    pred_probs = clf.predict_proba(X_train[test])\n",
    "        #    rocauc.append(roc_auc_score(y_train[test], pred_probs, average='weighted'))\n",
    "        #score = np.mean(rocauc)\n",
    "        score = cross_val_score(clf, X_train, y_train, cv=5, scoring='roc_auc_ovr_weighted').mean()\n",
    "        return {'loss': -score, 'status': STATUS_OK}\n",
    "\n",
    "    trials = Trials()\n",
    "    best_param = fmin(objective_function, \n",
    "                      param_space, \n",
    "                      algo=tpe.suggest, \n",
    "                      max_evals=num_eval, \n",
    "                      trials=trials,\n",
    "                      rstate= np.random.RandomState(23))\n",
    "    loss = [x['result']['loss'] for x in trials.trials]\n",
    "    \n",
    "    best_param_values = [x for x in best_param.values()]\n",
    "    \n",
    "    if best_param_values[0] == 0:\n",
    "        class_weight = 'balanced'\n",
    "    else:\n",
    "        class_weight = 'balanced_subsample'\n",
    "        \n",
    "    \n",
    "    clf_best = OneVsRestClassifier(RandomForestClassifier(n_estimators=int(best_param_values[5]),\n",
    "                                  max_depth=int(best_param_values[1]),\n",
    "                                  min_samples_split=int(best_param_values[4]),\n",
    "                                  class_weight=class_weight,\n",
    "                                  min_samples_leaf=int(best_param_values[3]),\n",
    "                                  max_features = best_param_values[2]\n",
    "                                ), n_jobs=2)\n",
    "                                  \n",
    "    clf_best.fit(X_train, y_train)\n",
    "    \n",
    "    print(\"\")\n",
    "    print(\"##### Results\")\n",
    "    print(\"Score best parameters: \", min(loss)*-1)\n",
    "    print(\"Best parameters: \", best_param)\n",
    "    print(\"Test Score: \", clf_best.score(X_test, y_test))\n",
    "    print(\"Time elapsed: \", time.time() - start)\n",
    "    print(\"Parameter combinations evaluated: \", num_eval)\n",
    "    \n",
    "    return trials\n"
   ]
  },
  {
   "cell_type": "code",
   "execution_count": 61,
   "metadata": {},
   "outputs": [
    {
     "name": "stdout",
     "output_type": "stream",
     "text": [
      "100%|██████████| 75/75 [22:12<00:00, 17.77s/trial, best loss: -0.9706550731451695]\n",
      "\n",
      "##### Results\n",
      "Score best parameters:  0.9706550731451695\n",
      "Best parameters:  {'class_weight': 1, 'max_depth': 11.0, 'max_features': 0.5589705885398194, 'min_samples_leaf': 18.0, 'min_samples_split': 4.0, 'n_estimators': 400.0}\n",
      "Test Score:  0.875\n",
      "Time elapsed:  1338.9520571231842\n",
      "Parameter combinations evaluated:  75\n"
     ]
    }
   ],
   "source": [
    "rfc_results_hyperopt = hyperopt_rfc(rfc_param_hyperopt, X_train, y_train, X_test, y_test, num_eval=75)"
   ]
  },
  {
   "cell_type": "markdown",
   "metadata": {},
   "source": [
    "### Randomized Parameter Search for RFC"
   ]
  },
  {
   "cell_type": "code",
   "execution_count": 4,
   "metadata": {},
   "outputs": [],
   "source": [
    "rfc_param_random = {\n",
    "    'estimator__n_estimators': list(range(100, 500, 50)),          #1\n",
    "    'estimator__max_depth': list(range(5, 30)),                        #3\n",
    "    'estimator__min_samples_split': list(range(2, 11)),              #2                              #0\n",
    "    'estimator__min_samples_leaf': list(range(2, 20, 2)),                                    #7\n",
    "    'estimator__max_features': list(np.linspace(0, 1, 20)),                        #6\n",
    "    'estimator__class_weight': ['balanced', 'balanced_subsample']                                  #4\n",
    "}\n",
    "\n",
    "rfc_to_set = OneVsRestClassifier(RandomForestClassifier())"
   ]
  },
  {
   "cell_type": "code",
   "execution_count": 10,
   "metadata": {},
   "outputs": [],
   "source": [
    "rfc_tuning = RandomizedSearchCV(rfc_to_set,\n",
    "                            param_distributions=rfc_param_random,\n",
    "                            cv=5,\n",
    "                            n_iter=20,\n",
    "                            refit=True,\n",
    "                            return_train_score=False,\n",
    "                            scoring = 'roc_auc_ovr_weighted',  #Gonna have to fix this if we want it stratified\n",
    "                            random_state=23)"
   ]
  },
  {
   "cell_type": "code",
   "execution_count": 11,
   "metadata": {},
   "outputs": [
    {
     "name": "stdout",
     "output_type": "stream",
     "text": [
      "0.9819521797618505\n",
      "{'estimator__n_estimators': 250, 'estimator__min_samples_split': 6, 'estimator__min_samples_leaf': 8, 'estimator__max_features': 0.42105263157894735, 'estimator__max_depth': 24, 'estimator__class_weight': 'balanced_subsample'}\n"
     ]
    }
   ],
   "source": [
    "rfc_tuning.fit(X_train, y_train)\n",
    "print(rfc_tuning.best_score_)\n",
    "print(rfc_tuning.best_params_)"
   ]
  },
  {
   "cell_type": "markdown",
   "metadata": {},
   "source": [
    "### Randomized Parameter Search for RFC using Generator"
   ]
  },
  {
   "cell_type": "code",
   "execution_count": 12,
   "metadata": {},
   "outputs": [],
   "source": [
    "\n",
    "k_fold = IterativeStratification(n_splits=5, order=1)\n",
    "rfc_tuning_stratified = RandomizedSearchCV(rfc_to_set,\n",
    "                            param_distributions=rfc_param_random,\n",
    "                            cv=k_fold.split(X_train, y_train),\n",
    "                            n_iter=5,\n",
    "                            refit=True,\n",
    "                            return_train_score=False,\n",
    "                            scoring = 'roc_auc_ovr_weighted',  #Gonna have to fix this if we want it stratified\n",
    "                            random_state=23)"
   ]
  },
  {
   "cell_type": "code",
   "execution_count": 13,
   "metadata": {},
   "outputs": [
    {
     "name": "stdout",
     "output_type": "stream",
     "text": [
      "0.9819800677258235\n",
      "{'estimator__n_estimators': 150, 'estimator__min_samples_split': 3, 'estimator__min_samples_leaf': 10, 'estimator__max_features': 0.7368421052631579, 'estimator__max_depth': 28, 'estimator__class_weight': 'balanced_subsample'}\n"
     ]
    }
   ],
   "source": [
    "rfc_tuning_stratified.fit(X_train, y_train)\n",
    "print(rfc_tuning_stratified.best_score_)\n",
    "print(rfc_tuning_stratified.best_params_)"
   ]
  },
  {
   "cell_type": "markdown",
   "metadata": {},
   "source": [
    "### Comparing the two hyperparameter searches for RFC"
   ]
  },
  {
   "cell_type": "code",
   "execution_count": 69,
   "metadata": {},
   "outputs": [],
   "source": [
    "#Retrieve Random Scores\n",
    "rfc_results_random = pd.DataFrame(rfc_tuning.cv_results_)\n",
    "rfc_random_scores = np.maximum.accumulate(rfc_results_random['mean_test_score']) #What is this?\n",
    "\n",
    "#Retrieve Hyperopt scores\n",
    "rfc_hyperopt_scores = [trial['result']['loss']*-1 for trial in rfc_results_hyperopt.trials]\n",
    "rfc_hyperopt_scores = np.maximum.accumulate(rfc_hyperopt_scores)"
   ]
  },
  {
   "cell_type": "code",
   "execution_count": 70,
   "metadata": {},
   "outputs": [
    {
     "data": {
      "image/png": "[encoded data removed]",
      "text/plain": [
       "<Figure size 432x288 with 1 Axes>"
      ]
     },
     "metadata": {
      "needs_background": "light"
     },
     "output_type": "display_data"
    }
   ],
   "source": [
    "#Here is me trying to do it on my own\n",
    "#%matplotlib inline\n",
    "\n",
    "plt.plot(range(75), rfc_hyperopt_scores, linewidth = 2)\n",
    "plt.plot(range(75), rfc_random_scores, linewidth = 2)\n",
    "plt.title(\"Finding the optimum for RFC\", fontsize=18)\n",
    "plt.xlabel('Iteration', fontsize=12)\n",
    "plt.ylabel('Cross-Validation Score (roc_auc_weighted, %)', fontsize=12)\n",
    "plt.legend(loc='lower right', labels=['Hyperopt', 'Random Search'])\n",
    "plt.show()"
   ]
  },
  {
   "cell_type": "code",
   "execution_count": null,
   "metadata": {},
   "outputs": [],
   "source": []
  }
 ],
 "metadata": {
  "kernelspec": {
   "display_name": "Python 3",
   "language": "python",
   "name": "python3"
  },
  "language_info": {
   "codemirror_mode": {
    "name": "ipython",
    "version": 3
   },
   "file_extension": ".py",
   "mimetype": "text/x-python",
   "name": "python",
   "nbconvert_exporter": "python",
   "pygments_lexer": "ipython3",
   "version": "3.7.6"
  }
 },
 "nbformat": 4,
 "nbformat_minor": 4
}
