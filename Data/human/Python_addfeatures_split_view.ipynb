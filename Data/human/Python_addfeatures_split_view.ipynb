{
 "cells": [
  {
   "cell_type": "markdown",
   "metadata": {},
   "source": [
    "# Python Processing Step for Multilabel FAIMS Data"
   ]
  },
  {
   "cell_type": "markdown",
   "metadata": {},
   "source": [
    "### Packages"
   ]
  },
  {
   "cell_type": "code",
   "execution_count": 1,
   "metadata": {},
   "outputs": [],
   "source": [
    "#Load all my packages\n",
    "import pandas as pd\n",
    "import numpy as np\n",
    "import numpy as np\n",
    "from numpy import array\n",
    "from numpy import argmax         #finds the index of the maximum value in a vector\n",
    "\n",
    "import sklearn\n",
    "import sklearn.ensemble\n",
    "import skmultilearn\n",
    "from scipy import sparse\n",
    "import matplotlib.pyplot as plt\n",
    "import tensorflow as tf\n",
    "from skmultilearn.model_selection import  iterative_train_test_split"
   ]
  },
  {
   "cell_type": "code",
   "execution_count": 2,
   "metadata": {},
   "outputs": [],
   "source": [
    "from tensorflow.keras.utils import to_categorical\n",
    "from tensorflow.keras.preprocessing.sequence import pad_sequences"
   ]
  },
  {
   "cell_type": "code",
   "execution_count": 3,
   "metadata": {},
   "outputs": [],
   "source": [
    "# stuff for exploring the classes\n",
    "from skmultilearn.model_selection.measures import get_combination_wise_output_matrix\n",
    "from skmultilearn.dataset import load_dataset\n",
    "from collections import Counter\n",
    "from skmultilearn.model_selection import iterative_train_test_split, iterative_stratification\n",
    "from sklearn.preprocessing import MultiLabelBinarizer\n",
    "from skmultilearn.cluster import LabelCooccurrenceGraphBuilder\n",
    "from skmultilearn.cluster.networkx import NetworkXLabelGraphClusterer\n",
    "from skmultilearn.cluster.igraph import IGraphLabelGraphClusterer\n",
    "import igraph as ig"
   ]
  },
  {
   "cell_type": "code",
   "execution_count": null,
   "metadata": {},
   "outputs": [],
   "source": []
  },
  {
   "cell_type": "markdown",
   "metadata": {},
   "source": [
    "### Functions"
   ]
  },
  {
   "cell_type": "code",
   "execution_count": 4,
   "metadata": {},
   "outputs": [],
   "source": [
    "#Defining the function for adding the pyteomic pieces\n",
    "from pyteomics import mass\n",
    "from pyteomics import parser\n",
    "from pyteomics import electrochem\n",
    "\n",
    "\n",
    "def addfeatures(featurestable, seqlabel = 'Sequence'):\n",
    "    Mass = list()\n",
    "    pI = list()\n",
    "    Charge = list()\n",
    "    \n",
    "    for i in range(0, featurestable.shape[0]):\n",
    "        ps = parser.parse(featurestable[seqlabel][i], show_unmodified_termini=True)\n",
    "        \n",
    "        Mass.append(mass.calculate_mass(parsed_sequence=ps))\n",
    "        Charge.append(electrochem.charge(ps, 2.5))\n",
    "        pI.append(electrochem.pI(featurestable[seqlabel][i]))\n",
    "        \n",
    "    \n",
    "    featurestable['pyMass'] = Mass\n",
    "    featurestable['pI'] = pI\n",
    "    featurestable['pyCharge'] = Charge\n",
    "    \n",
    "    return(featurestable)\n",
    "\n",
    "\n",
    "\n",
    "#WANT TO TRY ONE-HOT WITH LIST THAT I THEN CONVERT INTO FRAME AFTERWARD\n",
    "#WOULD ALSO ALLOW FOR THE USE OF THE KARAS PADDING FUNCTION SO THAT I CAN HIT THEM ALL WITH ZEROS AT THE SAME TIME\n",
    "\n",
    "\n",
    "\n",
    "def simpleOneHot(data_frame, sequenceTag = 'ModSequence', alphabet = 'ACDEFGHIKLMNPQRSTVWY'):\n",
    "    #Start by finding the max and calculating needed vector length\n",
    "    VEC_LENGTH = max(data_frame['Length']) * len(alphabet)\n",
    "    \n",
    "    #Define what residues are possible\n",
    "    AMINO_ACIDS = alphabet \n",
    "    \n",
    "    #TURNING CHARACTERS INTO INTEGERS\n",
    "    # Map character keys to integer values in a dictionary, then map integer keys to character values to revers transform\n",
    "    char_to_int = dict((c, i) for i, c in enumerate(AMINO_ACIDS))   #character keys to integer values\n",
    "    int_to_char = dict((i, c) for i, c in enumerate(AMINO_ACIDS))   #integer keys to character values\n",
    "    \n",
    "    \n",
    "    hotlist = list()\n",
    "    #Build out the rest of the sequences' one-hot arrays\n",
    "    \n",
    "    for i in range(0, data_frame.shape[0]):\n",
    "        \n",
    "        pep = data_frame[sequenceTag][i]\n",
    "        #print(pep)\n",
    "        integer_encode = [char_to_int[char] for char in pep]\n",
    "        encoded = to_categorical(integer_encode, num_classes=22)\n",
    "        flatencode = encoded.flatten()\n",
    "        \n",
    "        #numzeros = VEC_LENGTH - len(flatencode)\n",
    "        #flatencode = np.append(flatencode, [[0] * numzeros])\n",
    "        \n",
    "        hotlist.append(flatencode)\n",
    "    \n",
    "    padded = pad_sequences(hotlist, padding= 'post', maxlen=VEC_LENGTH)\n",
    "    \n",
    "    hotarray = np.array(padded)\n",
    "    \n",
    "    hotarray.shape\n",
    "    return(hotarray)"
   ]
  },
  {
   "cell_type": "markdown",
   "metadata": {},
   "source": [
    "### Processing"
   ]
  },
  {
   "cell_type": "code",
   "execution_count": 5,
   "metadata": {},
   "outputs": [],
   "source": [
    "#Bringing in the the final labelling scheme data and adding the other features\n",
    "data_df = pd.read_csv(\"P:/JGM_FAIMS_CVprediction/JMM_PreProcessed_Data/50percentMaxPlusThreshold.csv\", low_memory=False) #read in data generated from R preprocessing\n",
    "data_df = addfeatures(data_df)\n",
    "data_hotarray = simpleOneHot(data_frame=data_df, alphabet='ACDEFGHIKLMNPQRSTVWYam')\n",
    "feature_subset = ['Charge', 'Length', 'pyMass', 'pI']\n",
    "#Generating X and y, features and labels respectively \n",
    "X = np.concatenate((data_df[feature_subset], data_hotarray), axis = 1)\n",
    "y = data_df.loc[ : ,  'X20':'X95'].values"
   ]
  },
  {
   "cell_type": "code",
   "execution_count": 6,
   "metadata": {},
   "outputs": [
    {
     "data": {
      "text/plain": [
       "(122847, 16)"
      ]
     },
     "execution_count": 6,
     "metadata": {},
     "output_type": "execute_result"
    }
   ],
   "source": [
    "y.shape"
   ]
  },
  {
   "cell_type": "code",
   "execution_count": 7,
   "metadata": {},
   "outputs": [
    {
     "data": {
      "text/plain": [
       "(122847, 1104)"
      ]
     },
     "execution_count": 7,
     "metadata": {},
     "output_type": "execute_result"
    }
   ],
   "source": [
    "X.shape"
   ]
  },
  {
   "cell_type": "code",
   "execution_count": 8,
   "metadata": {},
   "outputs": [],
   "source": [
    "#Making unique keys for Xs so can be reattached to after iterative train test split\n",
    "keys = np.transpose(np.array([range(0, data_df.shape[0])]))\n",
    "X_keys = np.concatenate((keys, X), axis=1)"
   ]
  },
  {
   "cell_type": "code",
   "execution_count": 9,
   "metadata": {},
   "outputs": [
    {
     "data": {
      "text/plain": [
       "array([ 1.,  2., 14., ...,  0.,  0.,  0.])"
      ]
     },
     "execution_count": 9,
     "metadata": {},
     "output_type": "execute_result"
    }
   ],
   "source": [
    "X_keys[1]"
   ]
  },
  {
   "cell_type": "code",
   "execution_count": 10,
   "metadata": {},
   "outputs": [
    {
     "data": {
      "text/plain": [
       "(85992, 1105)"
      ]
     },
     "execution_count": 10,
     "metadata": {},
     "output_type": "execute_result"
    }
   ],
   "source": [
    "#Split the 50%+ threshold data into train and test keeping label distribution proportional\n",
    "X_train, y_train, X_test, y_test = iterative_train_test_split(X_keys, y, test_size=0.30)\n",
    "X_train.shape"
   ]
  },
  {
   "cell_type": "code",
   "execution_count": 11,
   "metadata": {},
   "outputs": [
    {
     "data": {
      "text/plain": [
       "array([0, 0, 0, 0, 0, 0, 0, 0, 1, 1, 1, 0, 0, 0, 0, 0], dtype=int64)"
      ]
     },
     "execution_count": 11,
     "metadata": {},
     "output_type": "execute_result"
    }
   ],
   "source": [
    "y_train[1]\n"
   ]
  },
  {
   "cell_type": "markdown",
   "metadata": {},
   "source": [
    "# Explore the classes"
   ]
  },
  {
   "cell_type": "code",
   "execution_count": 12,
   "metadata": {},
   "outputs": [
    {
     "data": {
      "text/plain": [
       "16"
      ]
     },
     "execution_count": 12,
     "metadata": {},
     "output_type": "execute_result"
    }
   ],
   "source": [
    "len(y[1])"
   ]
  },
  {
   "cell_type": "code",
   "execution_count": 13,
   "metadata": {},
   "outputs": [
    {
     "name": "stdout",
     "output_type": "stream",
     "text": [
      "16 labels, 66 edges\n",
      "{(6, 7): 16741.0, (6, 8): 5937.0, (7, 8): 14873.0, (3, 4): 12975.0, (7, 9): 4052.0, (8, 9): 9697.0, (7, 10): 1460.0, (8, 10): 5288.0, (9, 10): 8372.0, (1, 2): 3055.0, (10, 11): 7697.0, (2, 3): 7371.0, (10, 12): 3232.0, (11, 12): 5122.0, (4, 5): 17640.0, (4, 6): 4292.0, (5, 6): 17998.0, (3, 5): 1498.0, (11, 13): 2064.0, (12, 13): 2976.0, (11, 14): 649.0, (12, 14): 1190.0, (13, 14): 1618.0, (5, 7): 5137.0, (10, 13): 1010.0, (0, 1): 533.0, (12, 15): 328.0, (13, 15): 573.0, (14, 15): 803.0, (7, 11): 140.0, (8, 11): 1317.0, (9, 11): 2889.0, (5, 8): 536.0, (8, 12): 194.0, (9, 12): 587.0, (9, 13): 81.0, (6, 9): 509.0, (11, 15): 140.0, (3, 6): 60.0, (3, 7): 11.0, (4, 7): 206.0, (6, 10): 110.0, (2, 4): 461.0, (0, 2): 42.0, (0, 3): 1.0, (1, 3): 57.0, (8, 13): 26.0, (3, 8): 1.0, (4, 8): 23.0, (10, 14): 227.0, (10, 15): 37.0, (4, 9): 2.0, (5, 9): 15.0, (4, 10): 1.0, (5, 10): 6.0, (9, 14): 6.0, (2, 5): 24.0, (1, 4): 5.0, (7, 12): 19.0, (5, 11): 2.0, (6, 11): 6.0, (5, 12): 1.0, (6, 12): 1.0, (2, 6): 3.0, (7, 13): 1.0, (8, 14): 1.0}\n"
     ]
    }
   ],
   "source": [
    "graph_builder = LabelCooccurrenceGraphBuilder(weighted=True, include_self_edges=False)\n",
    "edge_map = graph_builder.transform(y)\n",
    "print(\"{} labels, {} edges\".format(len(y[1]), len(edge_map)))\n",
    "print(edge_map)"
   ]
  },
  {
   "cell_type": "code",
   "execution_count": 14,
   "metadata": {},
   "outputs": [],
   "source": [
    "# we define a helper function for visualization purposes\n",
    "def to_membership_vector(partition):\n",
    "    return {\n",
    "        member :  partition_id\n",
    "        for partition_id, members in enumerate(partition)\n",
    "        for member in members\n",
    "    }"
   ]
  },
  {
   "cell_type": "code",
   "execution_count": 15,
   "metadata": {},
   "outputs": [
    {
     "data": {
      "text/plain": [
       "array([list([0, 1, 2, 3, 4, 5, 6]),\n",
       "       list([7, 8, 9, 10, 11, 12, 13, 14, 15])], dtype=object)"
      ]
     },
     "execution_count": 15,
     "metadata": {},
     "output_type": "execute_result"
    }
   ],
   "source": [
    "clusterer = NetworkXLabelGraphClusterer(graph_builder, method='louvain')\n",
    "clusterer_igraph = IGraphLabelGraphClusterer(graph_builder=graph_builder, method='walktrap')\n",
    "partition = clusterer_igraph.fit_predict(X_keys, y)\n",
    "partition"
   ]
  },
  {
   "cell_type": "code",
   "execution_count": 36,
   "metadata": {},
   "outputs": [
    {
     "data": {
      "text/plain": [
       "['20',\n",
       " '25',\n",
       " '30',\n",
       " '35',\n",
       " '40',\n",
       " '45',\n",
       " '50',\n",
       " '55',\n",
       " '60',\n",
       " '65',\n",
       " '70',\n",
       " '75',\n",
       " '80',\n",
       " '85',\n",
       " '90',\n",
       " '95']"
      ]
     },
     "execution_count": 36,
     "metadata": {},
     "output_type": "execute_result"
    }
   ],
   "source": [
    "[ x[1:] for x in data_df.loc[ : ,  'X20':'X95'].columns.values]"
   ]
  },
  {
   "cell_type": "code",
   "execution_count": null,
   "metadata": {},
   "outputs": [],
   "source": []
  },
  {
   "cell_type": "code",
   "execution_count": 38,
   "metadata": {},
   "outputs": [
    {
     "data": {
      "image/svg+xml": [
       "<?xml version=\"1.0\" encoding=\"UTF-8\"?>\n",
       "<svg xmlns=\"http://www.w3.org/2000/svg\" xmlns:xlink=\"http://www.w3.org/1999/xlink\" width=\"500pt\" height=\"500pt\" viewBox=\"0 0 500 500\" version=\"1.1\">\n",
       "<defs>\n",
       "<g>\n",
       "<symbol overflow=\"visible\" id=\"glyph0-0\">\n",
       "<path style=\"stroke:none;\" d=\"M 1.75 0 L 1.75 -8.75 L 8.75 -8.75 L 8.75 0 Z M 1.96875 -0.21875 L 8.53125 -0.21875 L 8.53125 -8.53125 L 1.96875 -8.53125 Z M 1.96875 -0.21875 \"/>\n",
       "</symbol>\n",
       "<symbol overflow=\"visible\" id=\"glyph0-1\">\n",
       "<path style=\"stroke:none;\" d=\"M 7.046875 -1.183594 L 7.046875 0 L 0.421875 0 C 0.414063 -0.296875 0.460938 -0.582031 0.566406 -0.855469 C 0.734375 -1.304688 1.003906 -1.746094 1.375 -2.1875 C 1.746094 -2.621094 2.285156 -3.128906 2.988281 -3.703125 C 4.074219 -4.597656 4.808594 -5.304688 5.195313 -5.828125 C 5.574219 -6.347656 5.765625 -6.839844 5.769531 -7.308594 C 5.765625 -7.792969 5.589844 -8.203125 5.246094 -8.539063 C 4.894531 -8.871094 4.441406 -9.039063 3.882813 -9.042969 C 3.285156 -9.039063 2.8125 -8.863281 2.460938 -8.507813 C 2.105469 -8.152344 1.925781 -7.660156 1.921875 -7.035156 L 0.65625 -7.164063 C 0.742188 -8.105469 1.066406 -8.824219 1.632813 -9.320313 C 2.195313 -9.8125 2.953125 -10.058594 3.910156 -10.0625 C 4.867188 -10.058594 5.628906 -9.792969 6.191406 -9.261719 C 6.75 -8.726563 7.03125 -8.066406 7.035156 -7.28125 C 7.03125 -6.878906 6.949219 -6.484375 6.789063 -6.097656 C 6.621094 -5.707031 6.347656 -5.296875 5.96875 -4.871094 C 5.585938 -4.441406 4.953125 -3.855469 4.074219 -3.109375 C 3.332031 -2.488281 2.859375 -2.066406 2.652344 -1.847656 C 2.4375 -1.621094 2.265625 -1.402344 2.132813 -1.183594 Z M 7.046875 -1.183594 \"/>\n",
       "</symbol>\n",
       "<symbol overflow=\"visible\" id=\"glyph0-2\">\n",
       "<path style=\"stroke:none;\" d=\"M 0.582031 -4.941406 C 0.578125 -6.121094 0.699219 -7.074219 0.945313 -7.800781 C 1.1875 -8.519531 1.550781 -9.078125 2.03125 -9.472656 C 2.511719 -9.863281 3.117188 -10.058594 3.847656 -10.0625 C 4.382813 -10.058594 4.855469 -9.953125 5.261719 -9.738281 C 5.667969 -9.519531 6 -9.207031 6.265625 -8.800781 C 6.527344 -8.390625 6.738281 -7.890625 6.890625 -7.308594 C 7.039063 -6.722656 7.113281 -5.933594 7.117188 -4.941406 C 7.113281 -3.761719 6.992188 -2.8125 6.753906 -2.09375 C 6.507813 -1.367188 6.144531 -0.808594 5.667969 -0.417969 C 5.183594 -0.0234375 4.578125 0.167969 3.847656 0.171875 C 2.878906 0.167969 2.121094 -0.175781 1.570313 -0.867188 C 0.910156 -1.699219 0.578125 -3.054688 0.582031 -4.941406 Z M 1.84375 -4.941406 C 1.839844 -3.292969 2.03125 -2.199219 2.421875 -1.65625 C 2.804688 -1.109375 3.28125 -0.835938 3.847656 -0.839844 C 4.410156 -0.835938 4.886719 -1.109375 5.273438 -1.660156 C 5.65625 -2.203125 5.847656 -3.296875 5.851563 -4.941406 C 5.847656 -6.589844 5.65625 -7.6875 5.273438 -8.230469 C 4.886719 -8.769531 4.40625 -9.039063 3.835938 -9.042969 C 3.269531 -9.039063 2.816406 -8.800781 2.480469 -8.328125 C 2.050781 -7.710938 1.839844 -6.582031 1.84375 -4.941406 Z M 1.84375 -4.941406 \"/>\n",
       "</symbol>\n",
       "<symbol overflow=\"visible\" id=\"glyph0-3\">\n",
       "<path style=\"stroke:none;\" d=\"M 0.582031 -2.625 L 1.875 -2.734375 C 1.96875 -2.101563 2.1875 -1.628906 2.539063 -1.3125 C 2.882813 -0.996094 3.304688 -0.835938 3.800781 -0.839844 C 4.390625 -0.835938 4.890625 -1.058594 5.304688 -1.507813 C 5.710938 -1.953125 5.917969 -2.546875 5.921875 -3.289063 C 5.917969 -3.984375 5.71875 -4.539063 5.328125 -4.949219 C 4.929688 -5.351563 4.414063 -5.554688 3.78125 -5.558594 C 3.382813 -5.554688 3.027344 -5.464844 2.707031 -5.285156 C 2.386719 -5.105469 2.132813 -4.871094 1.953125 -4.585938 L 0.800781 -4.738281 L 1.769531 -9.882813 L 6.753906 -9.882813 L 6.753906 -8.710938 L 2.753906 -8.710938 L 2.214844 -6.015625 C 2.816406 -6.433594 3.445313 -6.644531 4.109375 -6.644531 C 4.980469 -6.644531 5.71875 -6.339844 6.324219 -5.734375 C 6.921875 -5.128906 7.222656 -4.351563 7.226563 -3.398438 C 7.222656 -2.492188 6.960938 -1.707031 6.433594 -1.046875 C 5.789063 -0.234375 4.910156 0.167969 3.800781 0.171875 C 2.886719 0.167969 2.140625 -0.0820313 1.566406 -0.59375 C 0.988281 -1.101563 0.660156 -1.78125 0.582031 -2.625 Z M 0.582031 -2.625 \"/>\n",
       "</symbol>\n",
       "<symbol overflow=\"visible\" id=\"glyph0-4\">\n",
       "<path style=\"stroke:none;\" d=\"M 0.585938 -2.644531 L 1.820313 -2.808594 C 1.957031 -2.109375 2.195313 -1.609375 2.539063 -1.300781 C 2.875 -0.992188 3.289063 -0.835938 3.78125 -0.839844 C 4.355469 -0.835938 4.84375 -1.039063 5.246094 -1.441406 C 5.640625 -1.839844 5.839844 -2.335938 5.84375 -2.933594 C 5.839844 -3.496094 5.65625 -3.960938 5.289063 -4.332031 C 4.917969 -4.695313 4.449219 -4.878906 3.882813 -4.882813 C 3.648438 -4.878906 3.359375 -4.832031 3.015625 -4.742188 L 3.152344 -5.824219 C 3.230469 -5.816406 3.296875 -5.8125 3.351563 -5.8125 C 3.875 -5.8125 4.34375 -5.949219 4.765625 -6.222656 C 5.179688 -6.496094 5.390625 -6.914063 5.394531 -7.484375 C 5.390625 -7.933594 5.238281 -8.308594 4.933594 -8.605469 C 4.628906 -8.898438 4.234375 -9.046875 3.753906 -9.050781 C 3.273438 -9.046875 2.875 -8.894531 2.554688 -8.597656 C 2.234375 -8.292969 2.027344 -7.84375 1.941406 -7.246094 L 0.710938 -7.464844 C 0.859375 -8.289063 1.203125 -8.925781 1.734375 -9.382813 C 2.265625 -9.832031 2.929688 -10.058594 3.726563 -10.0625 C 4.273438 -10.058594 4.773438 -9.941406 5.234375 -9.710938 C 5.691406 -9.472656 6.042969 -9.152344 6.289063 -8.75 C 6.53125 -8.339844 6.65625 -7.910156 6.65625 -7.457031 C 6.65625 -7.023438 6.539063 -6.628906 6.308594 -6.273438 C 6.074219 -5.917969 5.730469 -5.636719 5.277344 -5.429688 C 5.867188 -5.289063 6.328125 -5.003906 6.65625 -4.574219 C 6.984375 -4.140625 7.148438 -3.601563 7.148438 -2.960938 C 7.148438 -2.082031 6.828125 -1.339844 6.191406 -0.734375 C 5.550781 -0.125 4.746094 0.175781 3.773438 0.179688 C 2.890625 0.175781 2.160156 -0.0820313 1.582031 -0.605469 C 1 -1.128906 0.667969 -1.808594 0.585938 -2.644531 Z M 0.585938 -2.644531 \"/>\n",
       "</symbol>\n",
       "<symbol overflow=\"visible\" id=\"glyph0-5\">\n",
       "<path style=\"stroke:none;\" d=\"M 4.523438 0 L 4.523438 -2.398438 L 0.179688 -2.398438 L 0.179688 -3.527344 L 4.75 -10.023438 L 5.757813 -10.023438 L 5.757813 -3.527344 L 7.109375 -3.527344 L 7.109375 -2.398438 L 5.757813 -2.398438 L 5.757813 0 Z M 4.523438 -3.527344 L 4.523438 -8.046875 L 1.386719 -3.527344 Z M 4.523438 -3.527344 \"/>\n",
       "</symbol>\n",
       "<symbol overflow=\"visible\" id=\"glyph0-6\">\n",
       "<path style=\"stroke:none;\" d=\"M 6.964844 -7.566406 L 5.742188 -7.472656 C 5.632813 -7.949219 5.476563 -8.300781 5.277344 -8.523438 C 4.941406 -8.871094 4.53125 -9.046875 4.046875 -9.050781 C 3.652344 -9.046875 3.308594 -8.9375 3.015625 -8.722656 C 2.625 -8.4375 2.320313 -8.023438 2.097656 -7.484375 C 1.875 -6.9375 1.757813 -6.167969 1.75 -5.167969 C 2.042969 -5.617188 2.40625 -5.949219 2.835938 -6.171875 C 3.265625 -6.386719 3.714844 -6.496094 4.183594 -6.5 C 5.003906 -6.496094 5.699219 -6.195313 6.277344 -5.59375 C 6.851563 -4.988281 7.140625 -4.207031 7.144531 -3.253906 C 7.140625 -2.621094 7.003906 -2.039063 6.734375 -1.5 C 6.460938 -0.960938 6.089844 -0.546875 5.617188 -0.257813 C 5.140625 0.0273438 4.605469 0.167969 4.007813 0.171875 C 2.980469 0.167969 2.140625 -0.207031 1.496094 -0.960938 C 0.847656 -1.714844 0.527344 -2.957031 0.527344 -4.6875 C 0.527344 -6.625 0.882813 -8.03125 1.601563 -8.914063 C 2.21875 -9.675781 3.058594 -10.058594 4.121094 -10.0625 C 4.90625 -10.058594 5.554688 -9.839844 6.058594 -9.398438 C 6.5625 -8.953125 6.863281 -8.339844 6.964844 -7.566406 Z M 1.941406 -3.246094 C 1.9375 -2.820313 2.027344 -2.414063 2.210938 -2.027344 C 2.386719 -1.640625 2.640625 -1.34375 2.964844 -1.144531 C 3.289063 -0.9375 3.628906 -0.835938 3.984375 -0.839844 C 4.503906 -0.835938 4.949219 -1.046875 5.324219 -1.46875 C 5.695313 -1.886719 5.882813 -2.457031 5.886719 -3.179688 C 5.882813 -3.871094 5.699219 -4.417969 5.332031 -4.816406 C 4.960938 -5.214844 4.496094 -5.414063 3.9375 -5.414063 C 3.378906 -5.414063 2.90625 -5.214844 2.519531 -4.816406 C 2.132813 -4.417969 1.9375 -3.894531 1.941406 -3.246094 Z M 1.941406 -3.246094 \"/>\n",
       "</symbol>\n",
       "<symbol overflow=\"visible\" id=\"glyph0-7\">\n",
       "<path style=\"stroke:none;\" d=\"M 0.664063 -8.710938 L 0.664063 -9.890625 L 7.148438 -9.890625 L 7.148438 -8.933594 C 6.511719 -8.25 5.878906 -7.347656 5.253906 -6.226563 C 4.625 -5.097656 4.140625 -3.941406 3.800781 -2.753906 C 3.550781 -1.914063 3.394531 -0.996094 3.328125 0 L 2.0625 0 C 2.078125 -0.789063 2.230469 -1.738281 2.527344 -2.855469 C 2.820313 -3.96875 3.246094 -5.046875 3.800781 -6.085938 C 4.351563 -7.121094 4.941406 -7.996094 5.570313 -8.710938 Z M 0.664063 -8.710938 \"/>\n",
       "</symbol>\n",
       "<symbol overflow=\"visible\" id=\"glyph0-8\">\n",
       "<path style=\"stroke:none;\" d=\"M 2.476563 -5.433594 C 1.964844 -5.617188 1.585938 -5.886719 1.339844 -6.234375 C 1.089844 -6.578125 0.964844 -6.992188 0.96875 -7.476563 C 0.964844 -8.203125 1.226563 -8.816406 1.753906 -9.316406 C 2.277344 -9.8125 2.976563 -10.058594 3.847656 -10.0625 C 4.71875 -10.058594 5.421875 -9.804688 5.960938 -9.300781 C 6.492188 -8.789063 6.761719 -8.171875 6.761719 -7.445313 C 6.761719 -6.976563 6.636719 -6.570313 6.394531 -6.230469 C 6.148438 -5.882813 5.78125 -5.617188 5.285156 -5.433594 C 5.898438 -5.230469 6.363281 -4.90625 6.6875 -4.460938 C 7.007813 -4.011719 7.171875 -3.480469 7.171875 -2.863281 C 7.171875 -2.003906 6.867188 -1.285156 6.261719 -0.703125 C 5.652344 -0.121094 4.855469 0.167969 3.867188 0.171875 C 2.878906 0.167969 2.082031 -0.121094 1.476563 -0.707031 C 0.867188 -1.289063 0.5625 -2.019531 0.566406 -2.898438 C 0.5625 -3.546875 0.726563 -4.09375 1.0625 -4.535156 C 1.390625 -4.972656 1.863281 -5.269531 2.476563 -5.433594 Z M 2.226563 -7.519531 C 2.226563 -7.042969 2.378906 -6.65625 2.683594 -6.355469 C 2.988281 -6.054688 3.382813 -5.90625 3.875 -5.90625 C 4.34375 -5.90625 4.734375 -6.054688 5.039063 -6.351563 C 5.34375 -6.648438 5.496094 -7.015625 5.496094 -7.453125 C 5.496094 -7.902344 5.339844 -8.28125 5.027344 -8.589844 C 4.714844 -8.894531 4.324219 -9.046875 3.863281 -9.050781 C 3.386719 -9.046875 2.996094 -8.894531 2.691406 -8.597656 C 2.378906 -8.292969 2.226563 -7.933594 2.226563 -7.519531 Z M 1.832031 -2.890625 C 1.828125 -2.539063 1.910156 -2.203125 2.082031 -1.875 C 2.246094 -1.546875 2.496094 -1.289063 2.824219 -1.109375 C 3.152344 -0.925781 3.503906 -0.835938 3.882813 -0.839844 C 4.46875 -0.835938 4.953125 -1.027344 5.339844 -1.40625 C 5.71875 -1.785156 5.910156 -2.265625 5.914063 -2.851563 C 5.910156 -3.441406 5.714844 -3.929688 5.320313 -4.320313 C 4.925781 -4.703125 4.433594 -4.898438 3.84375 -4.902344 C 3.261719 -4.898438 2.78125 -4.707031 2.402344 -4.328125 C 2.019531 -3.941406 1.828125 -3.460938 1.832031 -2.890625 Z M 1.832031 -2.890625 \"/>\n",
       "</symbol>\n",
       "<symbol overflow=\"visible\" id=\"glyph0-9\">\n",
       "<path style=\"stroke:none;\" d=\"M 0.765625 -2.316406 L 1.949219 -2.425781 C 2.046875 -1.871094 2.238281 -1.464844 2.519531 -1.214844 C 2.800781 -0.960938 3.164063 -0.835938 3.609375 -0.839844 C 3.984375 -0.835938 4.3125 -0.921875 4.601563 -1.097656 C 4.882813 -1.269531 5.117188 -1.503906 5.304688 -1.792969 C 5.484375 -2.082031 5.636719 -2.472656 5.761719 -2.964844 C 5.878906 -3.457031 5.941406 -3.957031 5.945313 -4.46875 C 5.941406 -4.523438 5.941406 -4.605469 5.941406 -4.71875 C 5.691406 -4.320313 5.351563 -4.003906 4.929688 -3.761719 C 4.5 -3.519531 4.039063 -3.398438 3.546875 -3.398438 C 2.714844 -3.398438 2.015625 -3.699219 1.441406 -4.300781 C 0.867188 -4.902344 0.578125 -5.695313 0.582031 -6.679688 C 0.578125 -7.695313 0.878906 -8.511719 1.480469 -9.132813 C 2.078125 -9.75 2.828125 -10.058594 3.734375 -10.0625 C 4.382813 -10.058594 4.980469 -9.882813 5.519531 -9.535156 C 6.058594 -9.179688 6.46875 -8.679688 6.75 -8.035156 C 7.03125 -7.382813 7.171875 -6.445313 7.171875 -5.214844 C 7.171875 -3.933594 7.03125 -2.914063 6.753906 -2.15625 C 6.472656 -1.398438 6.058594 -0.820313 5.511719 -0.421875 C 4.960938 -0.0273438 4.316406 0.167969 3.582031 0.171875 C 2.792969 0.167969 2.152344 -0.046875 1.660156 -0.480469 C 1.160156 -0.914063 0.863281 -1.523438 0.765625 -2.316406 Z M 5.804688 -6.742188 C 5.800781 -7.445313 5.613281 -8.003906 5.238281 -8.421875 C 4.863281 -8.832031 4.410156 -9.039063 3.882813 -9.042969 C 3.332031 -9.039063 2.855469 -8.816406 2.453125 -8.371094 C 2.042969 -7.921875 1.839844 -7.34375 1.84375 -6.636719 C 1.839844 -5.996094 2.03125 -5.476563 2.421875 -5.082031 C 2.804688 -4.679688 3.28125 -4.480469 3.847656 -4.484375 C 4.414063 -4.480469 4.882813 -4.679688 5.253906 -5.082031 C 5.617188 -5.476563 5.800781 -6.03125 5.804688 -6.742188 Z M 5.804688 -6.742188 \"/>\n",
       "</symbol>\n",
       "</g>\n",
       "</defs>\n",
       "<g id=\"surface169\">\n",
       "<rect x=\"0\" y=\"0\" width=\"500\" height=\"500\" style=\"fill:rgb(100%,100%,100%);fill-opacity:1;stroke:none;\"/>\n",
       "<path style=\"fill:none;stroke-width:7.387242;stroke-linecap:butt;stroke-linejoin:miter;stroke:rgb(26.666667%,26.666667%,26.666667%);stroke-opacity:1;stroke-miterlimit:10;\" d=\"M 158.074219 341.925781 C 159.226563 320.820313 149.832031 306.761719 129.894531 299.75 \"/>\n",
       "<path style=\"fill:none;stroke-width:5.891662;stroke-linecap:butt;stroke-linejoin:miter;stroke:rgb(26.666667%,26.666667%,26.666667%);stroke-opacity:1;stroke-miterlimit:10;\" d=\"M 158.074219 341.925781 C 168.363281 301.761719 155.671875 271.121094 120 250 \"/>\n",
       "<path style=\"fill:none;stroke-width:7.216552;stroke-linecap:butt;stroke-linejoin:miter;stroke:rgb(26.666667%,26.666667%,26.666667%);stroke-opacity:1;stroke-miterlimit:10;\" d=\"M 129.894531 299.75 C 139.035156 280.691406 135.734375 264.109375 120 250 \"/>\n",
       "<path style=\"fill:none;stroke-width:7.019591;stroke-linecap:butt;stroke-linejoin:miter;stroke:rgb(26.666667%,26.666667%,26.666667%);stroke-opacity:1;stroke-miterlimit:10;\" d=\"M 299.75 370.105469 C 280.691406 360.964844 264.109375 364.265625 250 380 \"/>\n",
       "<path style=\"fill:none;stroke-width:5.340562;stroke-linecap:butt;stroke-linejoin:miter;stroke:rgb(26.666667%,26.666667%,26.666667%);stroke-opacity:1;stroke-miterlimit:10;\" d=\"M 129.894531 299.75 C 154.769531 266.582031 154.769531 233.417969 129.894531 200.25 \"/>\n",
       "<path style=\"fill:none;stroke-width:6.599467;stroke-linecap:butt;stroke-linejoin:miter;stroke:rgb(26.666667%,26.666667%,26.666667%);stroke-opacity:1;stroke-miterlimit:10;\" d=\"M 120 250 C 135.734375 235.890625 139.035156 219.308594 129.894531 200.25 \"/>\n",
       "<path style=\"fill:none;stroke-width:3.867896;stroke-linecap:butt;stroke-linejoin:miter;stroke:rgb(26.666667%,26.666667%,26.666667%);stroke-opacity:1;stroke-miterlimit:10;\" d=\"M 129.894531 299.75 C 174.707031 259.570313 184.101563 212.34375 158.074219 158.074219 \"/>\n",
       "<path style=\"fill:none;stroke-width:5.72465;stroke-linecap:butt;stroke-linejoin:miter;stroke:rgb(26.666667%,26.666667%,26.666667%);stroke-opacity:1;stroke-miterlimit:10;\" d=\"M 120 250 C 155.671875 228.878906 168.363281 198.238281 158.074219 158.074219 \"/>\n",
       "<path style=\"fill:none;stroke-width:6.3875;stroke-linecap:butt;stroke-linejoin:miter;stroke:rgb(26.666667%,26.666667%,26.666667%);stroke-opacity:1;stroke-miterlimit:10;\" d=\"M 129.894531 200.25 C 149.832031 193.238281 159.226563 179.179688 158.074219 158.074219 \"/>\n",
       "<path style=\"fill:none;stroke-width:4.9331;stroke-linecap:butt;stroke-linejoin:miter;stroke:rgb(26.666667%,26.666667%,26.666667%);stroke-opacity:1;stroke-miterlimit:10;\" d=\"M 370.105469 299.75 C 350.167969 306.761719 340.773438 320.820313 341.925781 341.925781 \"/>\n",
       "<path style=\"fill:none;stroke-width:6.266224;stroke-linecap:butt;stroke-linejoin:miter;stroke:rgb(26.666667%,26.666667%,26.666667%);stroke-opacity:1;stroke-miterlimit:10;\" d=\"M 158.074219 158.074219 C 179.179688 159.226563 193.238281 149.832031 200.25 129.894531 \"/>\n",
       "<path style=\"fill:none;stroke-width:6.203788;stroke-linecap:butt;stroke-linejoin:miter;stroke:rgb(26.666667%,26.666667%,26.666667%);stroke-opacity:1;stroke-miterlimit:10;\" d=\"M 341.925781 341.925781 C 320.820313 340.773438 306.761719 350.167969 299.75 370.105469 \"/>\n",
       "<path style=\"fill:none;stroke-width:5.014355;stroke-linecap:butt;stroke-linejoin:miter;stroke:rgb(26.666667%,26.666667%,26.666667%);stroke-opacity:1;stroke-miterlimit:10;\" d=\"M 158.074219 158.074219 C 198.238281 168.363281 228.878906 155.671875 250 120 \"/>\n",
       "<path style=\"fill:none;stroke-width:5.678635;stroke-linecap:butt;stroke-linejoin:miter;stroke:rgb(26.666667%,26.666667%,26.666667%);stroke-opacity:1;stroke-miterlimit:10;\" d=\"M 200.25 129.894531 C 219.308594 139.035156 235.890625 135.734375 250 120 \"/>\n",
       "<path style=\"fill:none;stroke-width:7.462707;stroke-linecap:butt;stroke-linejoin:miter;stroke:rgb(26.666667%,26.666667%,26.666667%);stroke-opacity:1;stroke-miterlimit:10;\" d=\"M 250 380 C 235.890625 364.265625 219.308594 360.964844 200.25 370.105469 \"/>\n",
       "<path style=\"fill:none;stroke-width:5.423578;stroke-linecap:butt;stroke-linejoin:miter;stroke:rgb(26.666667%,26.666667%,26.666667%);stroke-opacity:1;stroke-miterlimit:10;\" d=\"M 250 380 C 228.878906 344.328125 198.238281 331.636719 158.074219 341.925781 \"/>\n",
       "<path style=\"fill:none;stroke-width:7.491693;stroke-linecap:butt;stroke-linejoin:miter;stroke:rgb(26.666667%,26.666667%,26.666667%);stroke-opacity:1;stroke-miterlimit:10;\" d=\"M 200.25 370.105469 C 193.238281 350.167969 179.179688 340.773438 158.074219 341.925781 \"/>\n",
       "<path style=\"fill:none;stroke-width:3.904966;stroke-linecap:butt;stroke-linejoin:miter;stroke:rgb(26.666667%,26.666667%,26.666667%);stroke-opacity:1;stroke-miterlimit:10;\" d=\"M 299.75 370.105469 C 266.582031 345.230469 233.417969 345.230469 200.25 370.105469 \"/>\n",
       "<path style=\"fill:none;stroke-width:4.367371;stroke-linecap:butt;stroke-linejoin:miter;stroke:rgb(26.666667%,26.666667%,26.666667%);stroke-opacity:1;stroke-miterlimit:10;\" d=\"M 200.25 129.894531 C 233.417969 154.769531 266.582031 154.769531 299.75 129.894531 \"/>\n",
       "<path style=\"fill:none;stroke-width:4.895303;stroke-linecap:butt;stroke-linejoin:miter;stroke:rgb(26.666667%,26.666667%,26.666667%);stroke-opacity:1;stroke-miterlimit:10;\" d=\"M 250 120 C 264.109375 135.734375 280.691406 139.035156 299.75 129.894531 \"/>\n",
       "<path style=\"fill:none;stroke-width:2.698218;stroke-linecap:butt;stroke-linejoin:miter;stroke:rgb(26.666667%,26.666667%,26.666667%);stroke-opacity:1;stroke-miterlimit:10;\" d=\"M 200.25 129.894531 C 240.429688 174.707031 287.65625 184.101563 341.925781 158.074219 \"/>\n",
       "<path style=\"fill:none;stroke-width:3.57289;stroke-linecap:butt;stroke-linejoin:miter;stroke:rgb(26.666667%,26.666667%,26.666667%);stroke-opacity:1;stroke-miterlimit:10;\" d=\"M 250 120 C 271.121094 155.671875 301.761719 168.363281 341.925781 158.074219 \"/>\n",
       "<path style=\"fill:none;stroke-width:4.01614;stroke-linecap:butt;stroke-linejoin:miter;stroke:rgb(26.666667%,26.666667%,26.666667%);stroke-opacity:1;stroke-miterlimit:10;\" d=\"M 299.75 129.894531 C 306.761719 149.832031 320.820313 159.226563 341.925781 158.074219 \"/>\n",
       "<path style=\"fill:none;stroke-width:5.682854;stroke-linecap:butt;stroke-linejoin:miter;stroke:rgb(26.666667%,26.666667%,26.666667%);stroke-opacity:1;stroke-miterlimit:10;\" d=\"M 200.25 370.105469 C 194.386719 329.0625 170.9375 305.613281 129.894531 299.75 \"/>\n",
       "<path style=\"fill:none;stroke-width:3.336283;stroke-linecap:butt;stroke-linejoin:miter;stroke:rgb(26.666667%,26.666667%,26.666667%);stroke-opacity:1;stroke-miterlimit:10;\" d=\"M 158.074219 158.074219 C 212.34375 184.101563 259.570313 174.707031 299.75 129.894531 \"/>\n",
       "<path style=\"fill:none;stroke-width:2.414136;stroke-linecap:butt;stroke-linejoin:miter;stroke:rgb(26.666667%,26.666667%,26.666667%);stroke-opacity:1;stroke-miterlimit:10;\" d=\"M 380 250 C 364.265625 264.109375 360.964844 280.691406 370.105469 299.75 \"/>\n",
       "<path style=\"fill:none;stroke-width:1.713696;stroke-linecap:butt;stroke-linejoin:miter;stroke:rgb(26.666667%,26.666667%,26.666667%);stroke-opacity:1;stroke-miterlimit:10;\" d=\"M 250 120 C 269.972656 176.777344 310.007813 203.527344 370.105469 200.25 \"/>\n",
       "<path style=\"fill:none;stroke-width:2.518535;stroke-linecap:butt;stroke-linejoin:miter;stroke:rgb(26.666667%,26.666667%,26.666667%);stroke-opacity:1;stroke-miterlimit:10;\" d=\"M 299.75 129.894531 C 305.613281 170.9375 329.0625 194.386719 370.105469 200.25 \"/>\n",
       "<path style=\"fill:none;stroke-width:3.0054;stroke-linecap:butt;stroke-linejoin:miter;stroke:rgb(26.666667%,26.666667%,26.666667%);stroke-opacity:1;stroke-miterlimit:10;\" d=\"M 341.925781 158.074219 C 340.773438 179.179688 350.167969 193.238281 370.105469 200.25 \"/>\n",
       "<path style=\"fill:none;stroke-width:0.485427;stroke-linecap:butt;stroke-linejoin:miter;stroke:rgb(26.666667%,26.666667%,26.666667%);stroke-opacity:1;stroke-miterlimit:10;\" d=\"M 129.894531 299.75 C 195.8125 260.71875 219.261719 204.101563 200.25 129.894531 \"/>\n",
       "<path style=\"fill:none;stroke-width:3.719183;stroke-linecap:butt;stroke-linejoin:miter;stroke:rgb(26.666667%,26.666667%,26.666667%);stroke-opacity:1;stroke-miterlimit:10;\" d=\"M 120 250 C 176.777344 230.027344 203.527344 189.992188 200.25 129.894531 \"/>\n",
       "<path style=\"fill:none;stroke-width:4.852498;stroke-linecap:butt;stroke-linejoin:miter;stroke:rgb(26.666667%,26.666667%,26.666667%);stroke-opacity:1;stroke-miterlimit:10;\" d=\"M 129.894531 200.25 C 170.9375 194.386719 194.386719 170.9375 200.25 129.894531 \"/>\n",
       "<path style=\"fill:none;stroke-width:2.422233;stroke-linecap:butt;stroke-linejoin:miter;stroke:rgb(26.666667%,26.666667%,26.666667%);stroke-opacity:1;stroke-miterlimit:10;\" d=\"M 200.25 370.105469 C 203.527344 310.007813 176.777344 269.972656 120 250 \"/>\n",
       "<path style=\"fill:none;stroke-width:0.956057;stroke-linecap:butt;stroke-linejoin:miter;stroke:rgb(26.666667%,26.666667%,26.666667%);stroke-opacity:1;stroke-miterlimit:10;\" d=\"M 120 250 C 195.832031 239.167969 239.167969 195.832031 250 120 \"/>\n",
       "<path style=\"fill:none;stroke-width:2.553361;stroke-linecap:butt;stroke-linejoin:miter;stroke:rgb(26.666667%,26.666667%,26.666667%);stroke-opacity:1;stroke-miterlimit:10;\" d=\"M 129.894531 200.25 C 189.992188 203.527344 230.027344 176.777344 250 120 \"/>\n",
       "<path style=\"fill:none;stroke-width:2.347666;stroke-linecap:butt;stroke-linejoin:miter;stroke:rgb(26.666667%,26.666667%,26.666667%);stroke-opacity:1;stroke-miterlimit:10;\" d=\"M 158.074219 341.925781 C 184.101563 287.65625 174.707031 240.429688 129.894531 200.25 \"/>\n",
       "<path style=\"fill:none;stroke-width:0.485427;stroke-linecap:butt;stroke-linejoin:miter;stroke:rgb(26.666667%,26.666667%,26.666667%);stroke-opacity:1;stroke-miterlimit:10;\" d=\"M 200.25 129.894531 C 239.28125 195.8125 295.898438 219.261719 370.105469 200.25 \"/>\n",
       "<path style=\"fill:none;stroke-width:1.042644;stroke-linecap:butt;stroke-linejoin:miter;stroke:rgb(26.666667%,26.666667%,26.666667%);stroke-opacity:1;stroke-miterlimit:10;\" d=\"M 250 380 C 230.027344 323.222656 189.992188 296.472656 129.894531 299.75 \"/>\n",
       "<path style=\"fill:none;stroke-width:0.137504;stroke-linecap:butt;stroke-linejoin:miter;stroke:rgb(26.666667%,26.666667%,26.666667%);stroke-opacity:1;stroke-miterlimit:10;\" d=\"M 158.074219 341.925781 C 204.039063 280.640625 204.039063 219.359375 158.074219 158.074219 \"/>\n",
       "<path style=\"fill:none;stroke-width:2.204767;stroke-linecap:butt;stroke-linejoin:miter;stroke:rgb(26.666667%,26.666667%,26.666667%);stroke-opacity:1;stroke-miterlimit:10;\" d=\"M 341.925781 341.925781 C 301.761719 331.636719 271.121094 344.328125 250 380 \"/>\n",
       "<path style=\"fill:none;stroke-width:1.182692;stroke-linecap:butt;stroke-linejoin:miter;stroke:rgb(26.666667%,26.666667%,26.666667%);stroke-opacity:1;stroke-miterlimit:10;\" d=\"M 158.074219 158.074219 C 219.359375 204.039063 280.640625 204.039063 341.925781 158.074219 \"/>\n",
       "<path style=\"fill-rule:nonzero;fill:rgb(100%,0%,0%);fill-opacity:1;stroke-width:1;stroke-linecap:butt;stroke-linejoin:miter;stroke:rgb(0%,0%,0%);stroke-opacity:1;stroke-miterlimit:10;\" d=\"M 395 250 C 395 258.285156 388.285156 265 380 265 C 371.714844 265 365 258.285156 365 250 C 365 241.714844 371.714844 235 380 235 C 388.285156 235 395 241.714844 395 250 \"/>\n",
       "<path style=\"fill-rule:nonzero;fill:rgb(100%,0%,0%);fill-opacity:1;stroke-width:1;stroke-linecap:butt;stroke-linejoin:miter;stroke:rgb(0%,0%,0%);stroke-opacity:1;stroke-miterlimit:10;\" d=\"M 385.105469 299.75 C 385.105469 308.03125 378.386719 314.75 370.105469 314.75 C 361.820313 314.75 355.105469 308.03125 355.105469 299.75 C 355.105469 291.464844 361.820313 284.75 370.105469 284.75 C 378.386719 284.75 385.105469 291.464844 385.105469 299.75 \"/>\n",
       "<path style=\"fill-rule:nonzero;fill:rgb(100%,0%,0%);fill-opacity:1;stroke-width:1;stroke-linecap:butt;stroke-linejoin:miter;stroke:rgb(0%,0%,0%);stroke-opacity:1;stroke-miterlimit:10;\" d=\"M 356.925781 341.925781 C 356.925781 350.207031 350.207031 356.925781 341.925781 356.925781 C 333.640625 356.925781 326.925781 350.207031 326.925781 341.925781 C 326.925781 333.640625 333.640625 326.925781 341.925781 326.925781 C 350.207031 326.925781 356.925781 333.640625 356.925781 341.925781 \"/>\n",
       "<path style=\"fill-rule:nonzero;fill:rgb(100%,0%,0%);fill-opacity:1;stroke-width:1;stroke-linecap:butt;stroke-linejoin:miter;stroke:rgb(0%,0%,0%);stroke-opacity:1;stroke-miterlimit:10;\" d=\"M 314.75 370.105469 C 314.75 378.386719 308.03125 385.105469 299.75 385.105469 C 291.464844 385.105469 284.75 378.386719 284.75 370.105469 C 284.75 361.820313 291.464844 355.105469 299.75 355.105469 C 308.03125 355.105469 314.75 361.820313 314.75 370.105469 \"/>\n",
       "<path style=\"fill-rule:nonzero;fill:rgb(100%,0%,0%);fill-opacity:1;stroke-width:1;stroke-linecap:butt;stroke-linejoin:miter;stroke:rgb(0%,0%,0%);stroke-opacity:1;stroke-miterlimit:10;\" d=\"M 265 380 C 265 388.285156 258.285156 395 250 395 C 241.714844 395 235 388.285156 235 380 C 235 371.714844 241.714844 365 250 365 C 258.285156 365 265 371.714844 265 380 \"/>\n",
       "<path style=\"fill-rule:nonzero;fill:rgb(100%,0%,0%);fill-opacity:1;stroke-width:1;stroke-linecap:butt;stroke-linejoin:miter;stroke:rgb(0%,0%,0%);stroke-opacity:1;stroke-miterlimit:10;\" d=\"M 215.25 370.105469 C 215.25 378.386719 208.535156 385.105469 200.25 385.105469 C 191.96875 385.105469 185.25 378.386719 185.25 370.105469 C 185.25 361.820313 191.96875 355.105469 200.25 355.105469 C 208.535156 355.105469 215.25 361.820313 215.25 370.105469 \"/>\n",
       "<path style=\"fill-rule:nonzero;fill:rgb(100%,0%,0%);fill-opacity:1;stroke-width:1;stroke-linecap:butt;stroke-linejoin:miter;stroke:rgb(0%,0%,0%);stroke-opacity:1;stroke-miterlimit:10;\" d=\"M 173.074219 341.925781 C 173.074219 350.207031 166.359375 356.925781 158.074219 356.925781 C 149.792969 356.925781 143.074219 350.207031 143.074219 341.925781 C 143.074219 333.640625 149.792969 326.925781 158.074219 326.925781 C 166.359375 326.925781 173.074219 333.640625 173.074219 341.925781 \"/>\n",
       "<path style=\"fill-rule:nonzero;fill:rgb(100%,100%,100%);fill-opacity:1;stroke-width:1;stroke-linecap:butt;stroke-linejoin:miter;stroke:rgb(0%,0%,0%);stroke-opacity:1;stroke-miterlimit:10;\" d=\"M 144.894531 299.75 C 144.894531 308.03125 138.179688 314.75 129.894531 314.75 C 121.613281 314.75 114.894531 308.03125 114.894531 299.75 C 114.894531 291.464844 121.613281 284.75 129.894531 284.75 C 138.179688 284.75 144.894531 291.464844 144.894531 299.75 \"/>\n",
       "<path style=\"fill-rule:nonzero;fill:rgb(100%,100%,100%);fill-opacity:1;stroke-width:1;stroke-linecap:butt;stroke-linejoin:miter;stroke:rgb(0%,0%,0%);stroke-opacity:1;stroke-miterlimit:10;\" d=\"M 135 250 C 135 258.285156 128.285156 265 120 265 C 111.714844 265 105 258.285156 105 250 C 105 241.714844 111.714844 235 120 235 C 128.285156 235 135 241.714844 135 250 \"/>\n",
       "<path style=\"fill-rule:nonzero;fill:rgb(100%,100%,100%);fill-opacity:1;stroke-width:1;stroke-linecap:butt;stroke-linejoin:miter;stroke:rgb(0%,0%,0%);stroke-opacity:1;stroke-miterlimit:10;\" d=\"M 144.894531 200.25 C 144.894531 208.535156 138.179688 215.25 129.894531 215.25 C 121.613281 215.25 114.894531 208.535156 114.894531 200.25 C 114.894531 191.96875 121.613281 185.25 129.894531 185.25 C 138.179688 185.25 144.894531 191.96875 144.894531 200.25 \"/>\n",
       "<path style=\"fill-rule:nonzero;fill:rgb(100%,100%,100%);fill-opacity:1;stroke-width:1;stroke-linecap:butt;stroke-linejoin:miter;stroke:rgb(0%,0%,0%);stroke-opacity:1;stroke-miterlimit:10;\" d=\"M 173.074219 158.074219 C 173.074219 166.359375 166.359375 173.074219 158.074219 173.074219 C 149.792969 173.074219 143.074219 166.359375 143.074219 158.074219 C 143.074219 149.792969 149.792969 143.074219 158.074219 143.074219 C 166.359375 143.074219 173.074219 149.792969 173.074219 158.074219 \"/>\n",
       "<path style=\"fill-rule:nonzero;fill:rgb(100%,100%,100%);fill-opacity:1;stroke-width:1;stroke-linecap:butt;stroke-linejoin:miter;stroke:rgb(0%,0%,0%);stroke-opacity:1;stroke-miterlimit:10;\" d=\"M 215.25 129.894531 C 215.25 138.179688 208.535156 144.894531 200.25 144.894531 C 191.96875 144.894531 185.25 138.179688 185.25 129.894531 C 185.25 121.613281 191.96875 114.894531 200.25 114.894531 C 208.535156 114.894531 215.25 121.613281 215.25 129.894531 \"/>\n",
       "<path style=\"fill-rule:nonzero;fill:rgb(100%,100%,100%);fill-opacity:1;stroke-width:1;stroke-linecap:butt;stroke-linejoin:miter;stroke:rgb(0%,0%,0%);stroke-opacity:1;stroke-miterlimit:10;\" d=\"M 265 120 C 265 128.285156 258.285156 135 250 135 C 241.714844 135 235 128.285156 235 120 C 235 111.714844 241.714844 105 250 105 C 258.285156 105 265 111.714844 265 120 \"/>\n",
       "<path style=\"fill-rule:nonzero;fill:rgb(100%,100%,100%);fill-opacity:1;stroke-width:1;stroke-linecap:butt;stroke-linejoin:miter;stroke:rgb(0%,0%,0%);stroke-opacity:1;stroke-miterlimit:10;\" d=\"M 314.75 129.894531 C 314.75 138.179688 308.03125 144.894531 299.75 144.894531 C 291.464844 144.894531 284.75 138.179688 284.75 129.894531 C 284.75 121.613281 291.464844 114.894531 299.75 114.894531 C 308.03125 114.894531 314.75 121.613281 314.75 129.894531 \"/>\n",
       "<path style=\"fill-rule:nonzero;fill:rgb(100%,100%,100%);fill-opacity:1;stroke-width:1;stroke-linecap:butt;stroke-linejoin:miter;stroke:rgb(0%,0%,0%);stroke-opacity:1;stroke-miterlimit:10;\" d=\"M 356.925781 158.074219 C 356.925781 166.359375 350.207031 173.074219 341.925781 173.074219 C 333.640625 173.074219 326.925781 166.359375 326.925781 158.074219 C 326.925781 149.792969 333.640625 143.074219 341.925781 143.074219 C 350.207031 143.074219 356.925781 149.792969 356.925781 158.074219 \"/>\n",
       "<path style=\"fill-rule:nonzero;fill:rgb(100%,100%,100%);fill-opacity:1;stroke-width:1;stroke-linecap:butt;stroke-linejoin:miter;stroke:rgb(0%,0%,0%);stroke-opacity:1;stroke-miterlimit:10;\" d=\"M 385.105469 200.25 C 385.105469 208.535156 378.386719 215.25 370.105469 215.25 C 361.820313 215.25 355.105469 208.535156 355.105469 200.25 C 355.105469 191.96875 361.820313 185.25 370.105469 185.25 C 378.386719 185.25 385.105469 191.96875 385.105469 200.25 \"/>\n",
       "<g style=\"fill:rgb(0%,0%,0%);fill-opacity:1;\">\n",
       "  <use xlink:href=\"#glyph0-1\" x=\"372.34375\" y=\"256.53125\"/>\n",
       "  <use xlink:href=\"#glyph0-2\" x=\"380.129883\" y=\"256.53125\"/>\n",
       "</g>\n",
       "<g style=\"fill:rgb(0%,0%,0%);fill-opacity:1;\">\n",
       "  <use xlink:href=\"#glyph0-1\" x=\"362.394531\" y=\"306.28125\"/>\n",
       "  <use xlink:href=\"#glyph0-3\" x=\"370.180664\" y=\"306.28125\"/>\n",
       "</g>\n",
       "<g style=\"fill:rgb(0%,0%,0%);fill-opacity:1;\">\n",
       "  <use xlink:href=\"#glyph0-4\" x=\"334.179688\" y=\"348.457031\"/>\n",
       "  <use xlink:href=\"#glyph0-2\" x=\"341.96582\" y=\"348.457031\"/>\n",
       "</g>\n",
       "<g style=\"fill:rgb(0%,0%,0%);fill-opacity:1;\">\n",
       "  <use xlink:href=\"#glyph0-4\" x=\"291.949219\" y=\"376.636719\"/>\n",
       "  <use xlink:href=\"#glyph0-3\" x=\"299.735352\" y=\"376.636719\"/>\n",
       "</g>\n",
       "<g style=\"fill:rgb(0%,0%,0%);fill-opacity:1;\">\n",
       "  <use xlink:href=\"#glyph0-5\" x=\"242.460938\" y=\"386.53125\"/>\n",
       "  <use xlink:href=\"#glyph0-2\" x=\"250.24707\" y=\"386.53125\"/>\n",
       "</g>\n",
       "<g style=\"fill:rgb(0%,0%,0%);fill-opacity:1;\">\n",
       "  <use xlink:href=\"#glyph0-5\" x=\"192.65625\" y=\"376.613281\"/>\n",
       "  <use xlink:href=\"#glyph0-3\" x=\"200.442383\" y=\"376.613281\"/>\n",
       "</g>\n",
       "<g style=\"fill:rgb(0%,0%,0%);fill-opacity:1;\">\n",
       "  <use xlink:href=\"#glyph0-3\" x=\"150.335938\" y=\"348.457031\"/>\n",
       "  <use xlink:href=\"#glyph0-2\" x=\"158.12207\" y=\"348.457031\"/>\n",
       "</g>\n",
       "<g style=\"fill:rgb(0%,0%,0%);fill-opacity:1;\">\n",
       "  <use xlink:href=\"#glyph0-3\" x=\"122.097656\" y=\"306.191406\"/>\n",
       "  <use xlink:href=\"#glyph0-3\" x=\"129.883789\" y=\"306.191406\"/>\n",
       "</g>\n",
       "<g style=\"fill:rgb(0%,0%,0%);fill-opacity:1;\">\n",
       "  <use xlink:href=\"#glyph0-6\" x=\"112.285156\" y=\"256.53125\"/>\n",
       "  <use xlink:href=\"#glyph0-2\" x=\"120.071289\" y=\"256.53125\"/>\n",
       "</g>\n",
       "<g style=\"fill:rgb(0%,0%,0%);fill-opacity:1;\">\n",
       "  <use xlink:href=\"#glyph0-6\" x=\"122.125\" y=\"206.78125\"/>\n",
       "  <use xlink:href=\"#glyph0-3\" x=\"129.911133\" y=\"206.78125\"/>\n",
       "</g>\n",
       "<g style=\"fill:rgb(0%,0%,0%);fill-opacity:1;\">\n",
       "  <use xlink:href=\"#glyph0-7\" x=\"150.292969\" y=\"164.605469\"/>\n",
       "  <use xlink:href=\"#glyph0-2\" x=\"158.079102\" y=\"164.605469\"/>\n",
       "</g>\n",
       "<g style=\"fill:rgb(0%,0%,0%);fill-opacity:1;\">\n",
       "  <use xlink:href=\"#glyph0-7\" x=\"192.414063\" y=\"136.339844\"/>\n",
       "  <use xlink:href=\"#glyph0-3\" x=\"200.200195\" y=\"136.339844\"/>\n",
       "</g>\n",
       "<g style=\"fill:rgb(0%,0%,0%);fill-opacity:1;\">\n",
       "  <use xlink:href=\"#glyph0-8\" x=\"242.265625\" y=\"126.53125\"/>\n",
       "  <use xlink:href=\"#glyph0-2\" x=\"250.051758\" y=\"126.53125\"/>\n",
       "</g>\n",
       "<g style=\"fill:rgb(0%,0%,0%);fill-opacity:1;\">\n",
       "  <use xlink:href=\"#glyph0-8\" x=\"291.960938\" y=\"136.425781\"/>\n",
       "  <use xlink:href=\"#glyph0-3\" x=\"299.74707\" y=\"136.425781\"/>\n",
       "</g>\n",
       "<g style=\"fill:rgb(0%,0%,0%);fill-opacity:1;\">\n",
       "  <use xlink:href=\"#glyph0-9\" x=\"334.183594\" y=\"164.605469\"/>\n",
       "  <use xlink:href=\"#glyph0-2\" x=\"341.969727\" y=\"164.605469\"/>\n",
       "</g>\n",
       "<g style=\"fill:rgb(0%,0%,0%);fill-opacity:1;\">\n",
       "  <use xlink:href=\"#glyph0-9\" x=\"362.308594\" y=\"206.78125\"/>\n",
       "  <use xlink:href=\"#glyph0-3\" x=\"370.094727\" y=\"206.78125\"/>\n",
       "</g>\n",
       "</g>\n",
       "</svg>\n"
      ],
      "text/plain": [
       "<igraph.drawing.Plot at 0x1ecd32200c8>"
      ]
     },
     "execution_count": 38,
     "metadata": {
      "image/svg+xml": {
       "isolated": true
      }
     },
     "output_type": "execute_result"
    }
   ],
   "source": [
    "\n",
    "colors = ['red', 'white', 'blue', 'green']\n",
    "membership_vector = to_membership_vector(partition)\n",
    "visual_style = {\n",
    "    \"vertex_size\" : 30,\n",
    "    \"vertex_label\": [ x[1:] for x in data_df.loc[ : ,  'X20':'X95'].columns.values],\n",
    "    \"edge_width\" : [np.log2(x/100) for x in clusterer_igraph.graph_.es['weight']],\n",
    "    \"vertex_color\": [colors[membership_vector[i]] for i in range(y.shape[1])],\n",
    "    \"bbox\": (500,500),\n",
    "    \"margin\": 120,\n",
    "    \"layout\": clusterer_igraph.graph_.layout_circle(),\n",
    "    \"autocurve\":True,\n",
    "    \"edge_curved\":0.5\n",
    "}\n",
    "\n",
    "def testplot(graph, name):\n",
    "    graph.vs['label'] = graph.vs['name']\n",
    "    out = ig.plot(clusterer_igraph.graph_, **visual_style)\n",
    "    out.save(name + '_all_peptides.png')\n",
    "    \n",
    "testplot(clusterer_igraph.graph_, 'test1')\n",
    "ig.plot(clusterer_igraph.graph_, **visual_style)\n",
    "#ig.write(clusterer_igraph.graph_, filename=\"test.svg\")"
   ]
  },
  {
   "cell_type": "code",
   "execution_count": 39,
   "metadata": {},
   "outputs": [
    {
     "name": "stdout",
     "output_type": "stream",
     "text": [
      "16 labels, 64 edges\n",
      "{(6, 7): 11719.0, (6, 8): 4142.0, (7, 8): 10411.0, (8, 9): 6788.0, (8, 10): 3705.0, (9, 10): 5860.0, (10, 11): 5388.0, (2, 3): 5160.0, (1, 2): 2138.0, (4, 5): 12348.0, (3, 4): 9082.0, (3, 5): 1036.0, (10, 12): 2274.0, (11, 12): 3585.0, (5, 6): 12599.0, (4, 6): 3030.0, (5, 7): 3612.0, (12, 13): 2083.0, (12, 14): 823.0, (13, 14): 1133.0, (7, 9): 2831.0, (7, 10): 1028.0, (9, 11): 2008.0, (5, 8): 376.0, (8, 11): 910.0, (14, 15): 562.0, (11, 13): 1477.0, (11, 14): 459.0, (11, 15): 101.0, (12, 15): 227.0, (13, 15): 406.0, (9, 12): 418.0, (6, 9): 370.0, (6, 10): 86.0, (3, 6): 42.0, (0, 1): 373.0, (10, 13): 738.0, (0, 2): 32.0, (0, 3): 1.0, (1, 3): 38.0, (8, 12): 146.0, (8, 13): 19.0, (9, 13): 62.0, (4, 7): 145.0, (2, 4): 311.0, (4, 8): 16.0, (10, 14): 166.0, (10, 15): 29.0, (7, 11): 97.0, (4, 9): 1.0, (5, 9): 11.0, (4, 10): 1.0, (5, 10): 5.0, (1, 4): 2.0, (2, 5): 19.0, (7, 12): 15.0, (5, 11): 2.0, (6, 11): 5.0, (5, 12): 1.0, (6, 12): 1.0, (3, 7): 8.0, (9, 14): 5.0, (2, 6): 2.0, (8, 14): 1.0}\n"
     ]
    },
    {
     "data": {
      "text/plain": [
       "array([list([0, 1, 2, 3, 4, 5, 6]),\n",
       "       list([7, 8, 9, 10, 11, 12, 13, 14, 15])], dtype=object)"
      ]
     },
     "execution_count": 39,
     "metadata": {},
     "output_type": "execute_result"
    }
   ],
   "source": [
    "graph_builder = LabelCooccurrenceGraphBuilder(weighted=True, include_self_edges=False)\n",
    "edge_map = graph_builder.transform(y_train)\n",
    "print(\"{} labels, {} edges\".format(len(y[1]), len(edge_map)))\n",
    "print(edge_map)\n",
    "clusterer = NetworkXLabelGraphClusterer(graph_builder, method='louvain')\n",
    "clusterer_igraph = IGraphLabelGraphClusterer(graph_builder=graph_builder, method='walktrap')\n",
    "partition = clusterer_igraph.fit_predict(X_keys, y_train)\n",
    "partition"
   ]
  },
  {
   "cell_type": "code",
   "execution_count": 40,
   "metadata": {},
   "outputs": [
    {
     "data": {
      "image/svg+xml": [
       "<?xml version=\"1.0\" encoding=\"UTF-8\"?>\n",
       "<svg xmlns=\"http://www.w3.org/2000/svg\" xmlns:xlink=\"http://www.w3.org/1999/xlink\" width=\"500pt\" height=\"500pt\" viewBox=\"0 0 500 500\" version=\"1.1\">\n",
       "<defs>\n",
       "<g>\n",
       "<symbol overflow=\"visible\" id=\"glyph0-0\">\n",
       "<path style=\"stroke:none;\" d=\"M 1.75 0 L 1.75 -8.75 L 8.75 -8.75 L 8.75 0 Z M 1.96875 -0.21875 L 8.53125 -0.21875 L 8.53125 -8.53125 L 1.96875 -8.53125 Z M 1.96875 -0.21875 \"/>\n",
       "</symbol>\n",
       "<symbol overflow=\"visible\" id=\"glyph0-1\">\n",
       "<path style=\"stroke:none;\" d=\"M 7.046875 -1.183594 L 7.046875 0 L 0.421875 0 C 0.414063 -0.296875 0.460938 -0.582031 0.566406 -0.855469 C 0.734375 -1.304688 1.003906 -1.746094 1.375 -2.1875 C 1.746094 -2.621094 2.285156 -3.128906 2.988281 -3.703125 C 4.074219 -4.597656 4.808594 -5.304688 5.195313 -5.828125 C 5.574219 -6.347656 5.765625 -6.839844 5.769531 -7.308594 C 5.765625 -7.792969 5.589844 -8.203125 5.246094 -8.539063 C 4.894531 -8.871094 4.441406 -9.039063 3.882813 -9.042969 C 3.285156 -9.039063 2.8125 -8.863281 2.460938 -8.507813 C 2.105469 -8.152344 1.925781 -7.660156 1.921875 -7.035156 L 0.65625 -7.164063 C 0.742188 -8.105469 1.066406 -8.824219 1.632813 -9.320313 C 2.195313 -9.8125 2.953125 -10.058594 3.910156 -10.0625 C 4.867188 -10.058594 5.628906 -9.792969 6.191406 -9.261719 C 6.75 -8.726563 7.03125 -8.066406 7.035156 -7.28125 C 7.03125 -6.878906 6.949219 -6.484375 6.789063 -6.097656 C 6.621094 -5.707031 6.347656 -5.296875 5.96875 -4.871094 C 5.585938 -4.441406 4.953125 -3.855469 4.074219 -3.109375 C 3.332031 -2.488281 2.859375 -2.066406 2.652344 -1.847656 C 2.4375 -1.621094 2.265625 -1.402344 2.132813 -1.183594 Z M 7.046875 -1.183594 \"/>\n",
       "</symbol>\n",
       "<symbol overflow=\"visible\" id=\"glyph0-2\">\n",
       "<path style=\"stroke:none;\" d=\"M 0.582031 -4.941406 C 0.578125 -6.121094 0.699219 -7.074219 0.945313 -7.800781 C 1.1875 -8.519531 1.550781 -9.078125 2.03125 -9.472656 C 2.511719 -9.863281 3.117188 -10.058594 3.847656 -10.0625 C 4.382813 -10.058594 4.855469 -9.953125 5.261719 -9.738281 C 5.667969 -9.519531 6 -9.207031 6.265625 -8.800781 C 6.527344 -8.390625 6.738281 -7.890625 6.890625 -7.308594 C 7.039063 -6.722656 7.113281 -5.933594 7.117188 -4.941406 C 7.113281 -3.761719 6.992188 -2.8125 6.753906 -2.09375 C 6.507813 -1.367188 6.144531 -0.808594 5.667969 -0.417969 C 5.183594 -0.0234375 4.578125 0.167969 3.847656 0.171875 C 2.878906 0.167969 2.121094 -0.175781 1.570313 -0.867188 C 0.910156 -1.699219 0.578125 -3.054688 0.582031 -4.941406 Z M 1.84375 -4.941406 C 1.839844 -3.292969 2.03125 -2.199219 2.421875 -1.65625 C 2.804688 -1.109375 3.28125 -0.835938 3.847656 -0.839844 C 4.410156 -0.835938 4.886719 -1.109375 5.273438 -1.660156 C 5.65625 -2.203125 5.847656 -3.296875 5.851563 -4.941406 C 5.847656 -6.589844 5.65625 -7.6875 5.273438 -8.230469 C 4.886719 -8.769531 4.40625 -9.039063 3.835938 -9.042969 C 3.269531 -9.039063 2.816406 -8.800781 2.480469 -8.328125 C 2.050781 -7.710938 1.839844 -6.582031 1.84375 -4.941406 Z M 1.84375 -4.941406 \"/>\n",
       "</symbol>\n",
       "<symbol overflow=\"visible\" id=\"glyph0-3\">\n",
       "<path style=\"stroke:none;\" d=\"M 0.582031 -2.625 L 1.875 -2.734375 C 1.96875 -2.101563 2.1875 -1.628906 2.539063 -1.3125 C 2.882813 -0.996094 3.304688 -0.835938 3.800781 -0.839844 C 4.390625 -0.835938 4.890625 -1.058594 5.304688 -1.507813 C 5.710938 -1.953125 5.917969 -2.546875 5.921875 -3.289063 C 5.917969 -3.984375 5.71875 -4.539063 5.328125 -4.949219 C 4.929688 -5.351563 4.414063 -5.554688 3.78125 -5.558594 C 3.382813 -5.554688 3.027344 -5.464844 2.707031 -5.285156 C 2.386719 -5.105469 2.132813 -4.871094 1.953125 -4.585938 L 0.800781 -4.738281 L 1.769531 -9.882813 L 6.753906 -9.882813 L 6.753906 -8.710938 L 2.753906 -8.710938 L 2.214844 -6.015625 C 2.816406 -6.433594 3.445313 -6.644531 4.109375 -6.644531 C 4.980469 -6.644531 5.71875 -6.339844 6.324219 -5.734375 C 6.921875 -5.128906 7.222656 -4.351563 7.226563 -3.398438 C 7.222656 -2.492188 6.960938 -1.707031 6.433594 -1.046875 C 5.789063 -0.234375 4.910156 0.167969 3.800781 0.171875 C 2.886719 0.167969 2.140625 -0.0820313 1.566406 -0.59375 C 0.988281 -1.101563 0.660156 -1.78125 0.582031 -2.625 Z M 0.582031 -2.625 \"/>\n",
       "</symbol>\n",
       "<symbol overflow=\"visible\" id=\"glyph0-4\">\n",
       "<path style=\"stroke:none;\" d=\"M 0.585938 -2.644531 L 1.820313 -2.808594 C 1.957031 -2.109375 2.195313 -1.609375 2.539063 -1.300781 C 2.875 -0.992188 3.289063 -0.835938 3.78125 -0.839844 C 4.355469 -0.835938 4.84375 -1.039063 5.246094 -1.441406 C 5.640625 -1.839844 5.839844 -2.335938 5.84375 -2.933594 C 5.839844 -3.496094 5.65625 -3.960938 5.289063 -4.332031 C 4.917969 -4.695313 4.449219 -4.878906 3.882813 -4.882813 C 3.648438 -4.878906 3.359375 -4.832031 3.015625 -4.742188 L 3.152344 -5.824219 C 3.230469 -5.816406 3.296875 -5.8125 3.351563 -5.8125 C 3.875 -5.8125 4.34375 -5.949219 4.765625 -6.222656 C 5.179688 -6.496094 5.390625 -6.914063 5.394531 -7.484375 C 5.390625 -7.933594 5.238281 -8.308594 4.933594 -8.605469 C 4.628906 -8.898438 4.234375 -9.046875 3.753906 -9.050781 C 3.273438 -9.046875 2.875 -8.894531 2.554688 -8.597656 C 2.234375 -8.292969 2.027344 -7.84375 1.941406 -7.246094 L 0.710938 -7.464844 C 0.859375 -8.289063 1.203125 -8.925781 1.734375 -9.382813 C 2.265625 -9.832031 2.929688 -10.058594 3.726563 -10.0625 C 4.273438 -10.058594 4.773438 -9.941406 5.234375 -9.710938 C 5.691406 -9.472656 6.042969 -9.152344 6.289063 -8.75 C 6.53125 -8.339844 6.65625 -7.910156 6.65625 -7.457031 C 6.65625 -7.023438 6.539063 -6.628906 6.308594 -6.273438 C 6.074219 -5.917969 5.730469 -5.636719 5.277344 -5.429688 C 5.867188 -5.289063 6.328125 -5.003906 6.65625 -4.574219 C 6.984375 -4.140625 7.148438 -3.601563 7.148438 -2.960938 C 7.148438 -2.082031 6.828125 -1.339844 6.191406 -0.734375 C 5.550781 -0.125 4.746094 0.175781 3.773438 0.179688 C 2.890625 0.175781 2.160156 -0.0820313 1.582031 -0.605469 C 1 -1.128906 0.667969 -1.808594 0.585938 -2.644531 Z M 0.585938 -2.644531 \"/>\n",
       "</symbol>\n",
       "<symbol overflow=\"visible\" id=\"glyph0-5\">\n",
       "<path style=\"stroke:none;\" d=\"M 4.523438 0 L 4.523438 -2.398438 L 0.179688 -2.398438 L 0.179688 -3.527344 L 4.75 -10.023438 L 5.757813 -10.023438 L 5.757813 -3.527344 L 7.109375 -3.527344 L 7.109375 -2.398438 L 5.757813 -2.398438 L 5.757813 0 Z M 4.523438 -3.527344 L 4.523438 -8.046875 L 1.386719 -3.527344 Z M 4.523438 -3.527344 \"/>\n",
       "</symbol>\n",
       "<symbol overflow=\"visible\" id=\"glyph0-6\">\n",
       "<path style=\"stroke:none;\" d=\"M 6.964844 -7.566406 L 5.742188 -7.472656 C 5.632813 -7.949219 5.476563 -8.300781 5.277344 -8.523438 C 4.941406 -8.871094 4.53125 -9.046875 4.046875 -9.050781 C 3.652344 -9.046875 3.308594 -8.9375 3.015625 -8.722656 C 2.625 -8.4375 2.320313 -8.023438 2.097656 -7.484375 C 1.875 -6.9375 1.757813 -6.167969 1.75 -5.167969 C 2.042969 -5.617188 2.40625 -5.949219 2.835938 -6.171875 C 3.265625 -6.386719 3.714844 -6.496094 4.183594 -6.5 C 5.003906 -6.496094 5.699219 -6.195313 6.277344 -5.59375 C 6.851563 -4.988281 7.140625 -4.207031 7.144531 -3.253906 C 7.140625 -2.621094 7.003906 -2.039063 6.734375 -1.5 C 6.460938 -0.960938 6.089844 -0.546875 5.617188 -0.257813 C 5.140625 0.0273438 4.605469 0.167969 4.007813 0.171875 C 2.980469 0.167969 2.140625 -0.207031 1.496094 -0.960938 C 0.847656 -1.714844 0.527344 -2.957031 0.527344 -4.6875 C 0.527344 -6.625 0.882813 -8.03125 1.601563 -8.914063 C 2.21875 -9.675781 3.058594 -10.058594 4.121094 -10.0625 C 4.90625 -10.058594 5.554688 -9.839844 6.058594 -9.398438 C 6.5625 -8.953125 6.863281 -8.339844 6.964844 -7.566406 Z M 1.941406 -3.246094 C 1.9375 -2.820313 2.027344 -2.414063 2.210938 -2.027344 C 2.386719 -1.640625 2.640625 -1.34375 2.964844 -1.144531 C 3.289063 -0.9375 3.628906 -0.835938 3.984375 -0.839844 C 4.503906 -0.835938 4.949219 -1.046875 5.324219 -1.46875 C 5.695313 -1.886719 5.882813 -2.457031 5.886719 -3.179688 C 5.882813 -3.871094 5.699219 -4.417969 5.332031 -4.816406 C 4.960938 -5.214844 4.496094 -5.414063 3.9375 -5.414063 C 3.378906 -5.414063 2.90625 -5.214844 2.519531 -4.816406 C 2.132813 -4.417969 1.9375 -3.894531 1.941406 -3.246094 Z M 1.941406 -3.246094 \"/>\n",
       "</symbol>\n",
       "<symbol overflow=\"visible\" id=\"glyph0-7\">\n",
       "<path style=\"stroke:none;\" d=\"M 0.664063 -8.710938 L 0.664063 -9.890625 L 7.148438 -9.890625 L 7.148438 -8.933594 C 6.511719 -8.25 5.878906 -7.347656 5.253906 -6.226563 C 4.625 -5.097656 4.140625 -3.941406 3.800781 -2.753906 C 3.550781 -1.914063 3.394531 -0.996094 3.328125 0 L 2.0625 0 C 2.078125 -0.789063 2.230469 -1.738281 2.527344 -2.855469 C 2.820313 -3.96875 3.246094 -5.046875 3.800781 -6.085938 C 4.351563 -7.121094 4.941406 -7.996094 5.570313 -8.710938 Z M 0.664063 -8.710938 \"/>\n",
       "</symbol>\n",
       "<symbol overflow=\"visible\" id=\"glyph0-8\">\n",
       "<path style=\"stroke:none;\" d=\"M 2.476563 -5.433594 C 1.964844 -5.617188 1.585938 -5.886719 1.339844 -6.234375 C 1.089844 -6.578125 0.964844 -6.992188 0.96875 -7.476563 C 0.964844 -8.203125 1.226563 -8.816406 1.753906 -9.316406 C 2.277344 -9.8125 2.976563 -10.058594 3.847656 -10.0625 C 4.71875 -10.058594 5.421875 -9.804688 5.960938 -9.300781 C 6.492188 -8.789063 6.761719 -8.171875 6.761719 -7.445313 C 6.761719 -6.976563 6.636719 -6.570313 6.394531 -6.230469 C 6.148438 -5.882813 5.78125 -5.617188 5.285156 -5.433594 C 5.898438 -5.230469 6.363281 -4.90625 6.6875 -4.460938 C 7.007813 -4.011719 7.171875 -3.480469 7.171875 -2.863281 C 7.171875 -2.003906 6.867188 -1.285156 6.261719 -0.703125 C 5.652344 -0.121094 4.855469 0.167969 3.867188 0.171875 C 2.878906 0.167969 2.082031 -0.121094 1.476563 -0.707031 C 0.867188 -1.289063 0.5625 -2.019531 0.566406 -2.898438 C 0.5625 -3.546875 0.726563 -4.09375 1.0625 -4.535156 C 1.390625 -4.972656 1.863281 -5.269531 2.476563 -5.433594 Z M 2.226563 -7.519531 C 2.226563 -7.042969 2.378906 -6.65625 2.683594 -6.355469 C 2.988281 -6.054688 3.382813 -5.90625 3.875 -5.90625 C 4.34375 -5.90625 4.734375 -6.054688 5.039063 -6.351563 C 5.34375 -6.648438 5.496094 -7.015625 5.496094 -7.453125 C 5.496094 -7.902344 5.339844 -8.28125 5.027344 -8.589844 C 4.714844 -8.894531 4.324219 -9.046875 3.863281 -9.050781 C 3.386719 -9.046875 2.996094 -8.894531 2.691406 -8.597656 C 2.378906 -8.292969 2.226563 -7.933594 2.226563 -7.519531 Z M 1.832031 -2.890625 C 1.828125 -2.539063 1.910156 -2.203125 2.082031 -1.875 C 2.246094 -1.546875 2.496094 -1.289063 2.824219 -1.109375 C 3.152344 -0.925781 3.503906 -0.835938 3.882813 -0.839844 C 4.46875 -0.835938 4.953125 -1.027344 5.339844 -1.40625 C 5.71875 -1.785156 5.910156 -2.265625 5.914063 -2.851563 C 5.910156 -3.441406 5.714844 -3.929688 5.320313 -4.320313 C 4.925781 -4.703125 4.433594 -4.898438 3.84375 -4.902344 C 3.261719 -4.898438 2.78125 -4.707031 2.402344 -4.328125 C 2.019531 -3.941406 1.828125 -3.460938 1.832031 -2.890625 Z M 1.832031 -2.890625 \"/>\n",
       "</symbol>\n",
       "<symbol overflow=\"visible\" id=\"glyph0-9\">\n",
       "<path style=\"stroke:none;\" d=\"M 0.765625 -2.316406 L 1.949219 -2.425781 C 2.046875 -1.871094 2.238281 -1.464844 2.519531 -1.214844 C 2.800781 -0.960938 3.164063 -0.835938 3.609375 -0.839844 C 3.984375 -0.835938 4.3125 -0.921875 4.601563 -1.097656 C 4.882813 -1.269531 5.117188 -1.503906 5.304688 -1.792969 C 5.484375 -2.082031 5.636719 -2.472656 5.761719 -2.964844 C 5.878906 -3.457031 5.941406 -3.957031 5.945313 -4.46875 C 5.941406 -4.523438 5.941406 -4.605469 5.941406 -4.71875 C 5.691406 -4.320313 5.351563 -4.003906 4.929688 -3.761719 C 4.5 -3.519531 4.039063 -3.398438 3.546875 -3.398438 C 2.714844 -3.398438 2.015625 -3.699219 1.441406 -4.300781 C 0.867188 -4.902344 0.578125 -5.695313 0.582031 -6.679688 C 0.578125 -7.695313 0.878906 -8.511719 1.480469 -9.132813 C 2.078125 -9.75 2.828125 -10.058594 3.734375 -10.0625 C 4.382813 -10.058594 4.980469 -9.882813 5.519531 -9.535156 C 6.058594 -9.179688 6.46875 -8.679688 6.75 -8.035156 C 7.03125 -7.382813 7.171875 -6.445313 7.171875 -5.214844 C 7.171875 -3.933594 7.03125 -2.914063 6.753906 -2.15625 C 6.472656 -1.398438 6.058594 -0.820313 5.511719 -0.421875 C 4.960938 -0.0273438 4.316406 0.167969 3.582031 0.171875 C 2.792969 0.167969 2.152344 -0.046875 1.660156 -0.480469 C 1.160156 -0.914063 0.863281 -1.523438 0.765625 -2.316406 Z M 5.804688 -6.742188 C 5.800781 -7.445313 5.613281 -8.003906 5.238281 -8.421875 C 4.863281 -8.832031 4.410156 -9.039063 3.882813 -9.042969 C 3.332031 -9.039063 2.855469 -8.816406 2.453125 -8.371094 C 2.042969 -7.921875 1.839844 -7.34375 1.84375 -6.636719 C 1.839844 -5.996094 2.03125 -5.476563 2.421875 -5.082031 C 2.804688 -4.679688 3.28125 -4.480469 3.847656 -4.484375 C 4.414063 -4.480469 4.882813 -4.679688 5.253906 -5.082031 C 5.617188 -5.476563 5.800781 -6.03125 5.804688 -6.742188 Z M 5.804688 -6.742188 \"/>\n",
       "</symbol>\n",
       "</g>\n",
       "</defs>\n",
       "<g id=\"surface192\">\n",
       "<rect x=\"0\" y=\"0\" width=\"500\" height=\"500\" style=\"fill:rgb(100%,100%,100%);fill-opacity:1;stroke:none;\"/>\n",
       "<path style=\"fill:none;stroke-width:6.872706;stroke-linecap:butt;stroke-linejoin:miter;stroke:rgb(26.666667%,26.666667%,26.666667%);stroke-opacity:1;stroke-miterlimit:10;\" d=\"M 158.074219 341.925781 C 159.226563 320.820313 149.832031 306.761719 129.894531 299.75 \"/>\n",
       "<path style=\"fill:none;stroke-width:5.372256;stroke-linecap:butt;stroke-linejoin:miter;stroke:rgb(26.666667%,26.666667%,26.666667%);stroke-opacity:1;stroke-miterlimit:10;\" d=\"M 158.074219 341.925781 C 168.363281 301.761719 155.671875 271.121094 120 250 \"/>\n",
       "<path style=\"fill:none;stroke-width:6.701965;stroke-linecap:butt;stroke-linejoin:miter;stroke:rgb(26.666667%,26.666667%,26.666667%);stroke-opacity:1;stroke-miterlimit:10;\" d=\"M 129.894531 299.75 C 139.035156 280.691406 135.734375 264.109375 120 250 \"/>\n",
       "<path style=\"fill:none;stroke-width:6.084915;stroke-linecap:butt;stroke-linejoin:miter;stroke:rgb(26.666667%,26.666667%,26.666667%);stroke-opacity:1;stroke-miterlimit:10;\" d=\"M 120 250 C 135.734375 235.890625 139.035156 219.308594 129.894531 200.25 \"/>\n",
       "<path style=\"fill:none;stroke-width:5.211402;stroke-linecap:butt;stroke-linejoin:miter;stroke:rgb(26.666667%,26.666667%,26.666667%);stroke-opacity:1;stroke-miterlimit:10;\" d=\"M 120 250 C 155.671875 228.878906 168.363281 198.238281 158.074219 158.074219 \"/>\n",
       "<path style=\"fill:none;stroke-width:5.872829;stroke-linecap:butt;stroke-linejoin:miter;stroke:rgb(26.666667%,26.666667%,26.666667%);stroke-opacity:1;stroke-miterlimit:10;\" d=\"M 129.894531 200.25 C 149.832031 193.238281 159.226563 179.179688 158.074219 158.074219 \"/>\n",
       "<path style=\"fill:none;stroke-width:5.751678;stroke-linecap:butt;stroke-linejoin:miter;stroke:rgb(26.666667%,26.666667%,26.666667%);stroke-opacity:1;stroke-miterlimit:10;\" d=\"M 158.074219 158.074219 C 179.179688 159.226563 193.238281 149.832031 200.25 129.894531 \"/>\n",
       "<path style=\"fill:none;stroke-width:5.689299;stroke-linecap:butt;stroke-linejoin:miter;stroke:rgb(26.666667%,26.666667%,26.666667%);stroke-opacity:1;stroke-miterlimit:10;\" d=\"M 341.925781 341.925781 C 320.820313 340.773438 306.761719 350.167969 299.75 370.105469 \"/>\n",
       "<path style=\"fill:none;stroke-width:4.41819;stroke-linecap:butt;stroke-linejoin:miter;stroke:rgb(26.666667%,26.666667%,26.666667%);stroke-opacity:1;stroke-miterlimit:10;\" d=\"M 370.105469 299.75 C 350.167969 306.761719 340.773438 320.820313 341.925781 341.925781 \"/>\n",
       "<path style=\"fill:none;stroke-width:6.948134;stroke-linecap:butt;stroke-linejoin:miter;stroke:rgb(26.666667%,26.666667%,26.666667%);stroke-opacity:1;stroke-miterlimit:10;\" d=\"M 250 380 C 235.890625 364.265625 219.308594 360.964844 200.25 370.105469 \"/>\n",
       "<path style=\"fill:none;stroke-width:6.504938;stroke-linecap:butt;stroke-linejoin:miter;stroke:rgb(26.666667%,26.666667%,26.666667%);stroke-opacity:1;stroke-miterlimit:10;\" d=\"M 299.75 370.105469 C 280.691406 360.964844 264.109375 364.265625 250 380 \"/>\n",
       "<path style=\"fill:none;stroke-width:3.372952;stroke-linecap:butt;stroke-linejoin:miter;stroke:rgb(26.666667%,26.666667%,26.666667%);stroke-opacity:1;stroke-miterlimit:10;\" d=\"M 299.75 370.105469 C 266.582031 345.230469 233.417969 345.230469 200.25 370.105469 \"/>\n",
       "<path style=\"fill:none;stroke-width:4.50716;stroke-linecap:butt;stroke-linejoin:miter;stroke:rgb(26.666667%,26.666667%,26.666667%);stroke-opacity:1;stroke-miterlimit:10;\" d=\"M 158.074219 158.074219 C 198.238281 168.363281 228.878906 155.671875 250 120 \"/>\n",
       "<path style=\"fill:none;stroke-width:5.163901;stroke-linecap:butt;stroke-linejoin:miter;stroke:rgb(26.666667%,26.666667%,26.666667%);stroke-opacity:1;stroke-miterlimit:10;\" d=\"M 200.25 129.894531 C 219.308594 139.035156 235.890625 135.734375 250 120 \"/>\n",
       "<path style=\"fill:none;stroke-width:6.977165;stroke-linecap:butt;stroke-linejoin:miter;stroke:rgb(26.666667%,26.666667%,26.666667%);stroke-opacity:1;stroke-miterlimit:10;\" d=\"M 200.25 370.105469 C 193.238281 350.167969 179.179688 340.773438 158.074219 341.925781 \"/>\n",
       "<path style=\"fill:none;stroke-width:4.921246;stroke-linecap:butt;stroke-linejoin:miter;stroke:rgb(26.666667%,26.666667%,26.666667%);stroke-opacity:1;stroke-miterlimit:10;\" d=\"M 250 380 C 228.878906 344.328125 198.238281 331.636719 158.074219 341.925781 \"/>\n",
       "<path style=\"fill:none;stroke-width:5.174726;stroke-linecap:butt;stroke-linejoin:miter;stroke:rgb(26.666667%,26.666667%,26.666667%);stroke-opacity:1;stroke-miterlimit:10;\" d=\"M 200.25 370.105469 C 194.386719 329.0625 170.9375 305.613281 129.894531 299.75 \"/>\n",
       "<path style=\"fill:none;stroke-width:4.380591;stroke-linecap:butt;stroke-linejoin:miter;stroke:rgb(26.666667%,26.666667%,26.666667%);stroke-opacity:1;stroke-miterlimit:10;\" d=\"M 250 120 C 264.109375 135.734375 280.691406 139.035156 299.75 129.894531 \"/>\n",
       "<path style=\"fill:none;stroke-width:3.040892;stroke-linecap:butt;stroke-linejoin:miter;stroke:rgb(26.666667%,26.666667%,26.666667%);stroke-opacity:1;stroke-miterlimit:10;\" d=\"M 250 120 C 271.121094 155.671875 301.761719 168.363281 341.925781 158.074219 \"/>\n",
       "<path style=\"fill:none;stroke-width:3.502076;stroke-linecap:butt;stroke-linejoin:miter;stroke:rgb(26.666667%,26.666667%,26.666667%);stroke-opacity:1;stroke-miterlimit:10;\" d=\"M 299.75 129.894531 C 306.761719 149.832031 320.820313 159.226563 341.925781 158.074219 \"/>\n",
       "<path style=\"fill:none;stroke-width:4.82324;stroke-linecap:butt;stroke-linejoin:miter;stroke:rgb(26.666667%,26.666667%,26.666667%);stroke-opacity:1;stroke-miterlimit:10;\" d=\"M 129.894531 299.75 C 154.769531 266.582031 154.769531 233.417969 129.894531 200.25 \"/>\n",
       "<path style=\"fill:none;stroke-width:3.361768;stroke-linecap:butt;stroke-linejoin:miter;stroke:rgb(26.666667%,26.666667%,26.666667%);stroke-opacity:1;stroke-miterlimit:10;\" d=\"M 129.894531 299.75 C 174.707031 259.570313 184.101563 212.34375 158.074219 158.074219 \"/>\n",
       "<path style=\"fill:none;stroke-width:4.327687;stroke-linecap:butt;stroke-linejoin:miter;stroke:rgb(26.666667%,26.666667%,26.666667%);stroke-opacity:1;stroke-miterlimit:10;\" d=\"M 129.894531 200.25 C 170.9375 194.386719 194.386719 170.9375 200.25 129.894531 \"/>\n",
       "<path style=\"fill:none;stroke-width:1.910733;stroke-linecap:butt;stroke-linejoin:miter;stroke:rgb(26.666667%,26.666667%,26.666667%);stroke-opacity:1;stroke-miterlimit:10;\" d=\"M 200.25 370.105469 C 203.527344 310.007813 176.777344 269.972656 120 250 \"/>\n",
       "<path style=\"fill:none;stroke-width:3.185867;stroke-linecap:butt;stroke-linejoin:miter;stroke:rgb(26.666667%,26.666667%,26.666667%);stroke-opacity:1;stroke-miterlimit:10;\" d=\"M 120 250 C 176.777344 230.027344 203.527344 189.992188 200.25 129.894531 \"/>\n",
       "<path style=\"fill:none;stroke-width:2.49057;stroke-linecap:butt;stroke-linejoin:miter;stroke:rgb(26.666667%,26.666667%,26.666667%);stroke-opacity:1;stroke-miterlimit:10;\" d=\"M 341.925781 158.074219 C 340.773438 179.179688 350.167969 193.238281 370.105469 200.25 \"/>\n",
       "<path style=\"fill:none;stroke-width:3.884598;stroke-linecap:butt;stroke-linejoin:miter;stroke:rgb(26.666667%,26.666667%,26.666667%);stroke-opacity:1;stroke-miterlimit:10;\" d=\"M 200.25 129.894531 C 233.417969 154.769531 266.582031 154.769531 299.75 129.894531 \"/>\n",
       "<path style=\"fill:none;stroke-width:2.198494;stroke-linecap:butt;stroke-linejoin:miter;stroke:rgb(26.666667%,26.666667%,26.666667%);stroke-opacity:1;stroke-miterlimit:10;\" d=\"M 200.25 129.894531 C 240.429688 174.707031 287.65625 184.101563 341.925781 158.074219 \"/>\n",
       "<path style=\"fill:none;stroke-width:0.0143553;stroke-linecap:butt;stroke-linejoin:miter;stroke:rgb(26.666667%,26.666667%,26.666667%);stroke-opacity:1;stroke-miterlimit:10;\" d=\"M 200.25 129.894531 C 239.28125 195.8125 295.898438 219.261719 370.105469 200.25 \"/>\n",
       "<path style=\"fill:none;stroke-width:1.182692;stroke-linecap:butt;stroke-linejoin:miter;stroke:rgb(26.666667%,26.666667%,26.666667%);stroke-opacity:1;stroke-miterlimit:10;\" d=\"M 250 120 C 269.972656 176.777344 310.007813 203.527344 370.105469 200.25 \"/>\n",
       "<path style=\"fill:none;stroke-width:2.02148;stroke-linecap:butt;stroke-linejoin:miter;stroke:rgb(26.666667%,26.666667%,26.666667%);stroke-opacity:1;stroke-miterlimit:10;\" d=\"M 299.75 129.894531 C 305.613281 170.9375 329.0625 194.386719 370.105469 200.25 \"/>\n",
       "<path style=\"fill:none;stroke-width:2.063503;stroke-linecap:butt;stroke-linejoin:miter;stroke:rgb(26.666667%,26.666667%,26.666667%);stroke-opacity:1;stroke-miterlimit:10;\" d=\"M 129.894531 200.25 C 189.992188 203.527344 230.027344 176.777344 250 120 \"/>\n",
       "<path style=\"fill:none;stroke-width:1.887525;stroke-linecap:butt;stroke-linejoin:miter;stroke:rgb(26.666667%,26.666667%,26.666667%);stroke-opacity:1;stroke-miterlimit:10;\" d=\"M 158.074219 341.925781 C 184.101563 287.65625 174.707031 240.429688 129.894531 200.25 \"/>\n",
       "<path style=\"fill:none;stroke-width:1.899176;stroke-linecap:butt;stroke-linejoin:miter;stroke:rgb(26.666667%,26.666667%,26.666667%);stroke-opacity:1;stroke-miterlimit:10;\" d=\"M 380 250 C 364.265625 264.109375 360.964844 280.691406 370.105469 299.75 \"/>\n",
       "<path style=\"fill:none;stroke-width:2.883621;stroke-linecap:butt;stroke-linejoin:miter;stroke:rgb(26.666667%,26.666667%,26.666667%);stroke-opacity:1;stroke-miterlimit:10;\" d=\"M 158.074219 158.074219 C 212.34375 184.101563 259.570313 174.707031 299.75 129.894531 \"/>\n",
       "<path style=\"fill:none;stroke-width:0.545968;stroke-linecap:butt;stroke-linejoin:miter;stroke:rgb(26.666667%,26.666667%,26.666667%);stroke-opacity:1;stroke-miterlimit:10;\" d=\"M 120 250 C 195.832031 239.167969 239.167969 195.832031 250 120 \"/>\n",
       "<path style=\"fill:none;stroke-width:0.536053;stroke-linecap:butt;stroke-linejoin:miter;stroke:rgb(26.666667%,26.666667%,26.666667%);stroke-opacity:1;stroke-miterlimit:10;\" d=\"M 250 380 C 230.027344 323.222656 189.992188 296.472656 129.894531 299.75 \"/>\n",
       "<path style=\"fill:none;stroke-width:1.636915;stroke-linecap:butt;stroke-linejoin:miter;stroke:rgb(26.666667%,26.666667%,26.666667%);stroke-opacity:1;stroke-miterlimit:10;\" d=\"M 341.925781 341.925781 C 301.761719 331.636719 271.121094 344.328125 250 380 \"/>\n",
       "<path style=\"fill:none;stroke-width:0.731183;stroke-linecap:butt;stroke-linejoin:miter;stroke:rgb(26.666667%,26.666667%,26.666667%);stroke-opacity:1;stroke-miterlimit:10;\" d=\"M 158.074219 158.074219 C 219.359375 204.039063 280.640625 204.039063 341.925781 158.074219 \"/>\n",
       "<path style=\"fill-rule:nonzero;fill:rgb(100%,0%,0%);fill-opacity:1;stroke-width:1;stroke-linecap:butt;stroke-linejoin:miter;stroke:rgb(0%,0%,0%);stroke-opacity:1;stroke-miterlimit:10;\" d=\"M 395 250 C 395 258.285156 388.285156 265 380 265 C 371.714844 265 365 258.285156 365 250 C 365 241.714844 371.714844 235 380 235 C 388.285156 235 395 241.714844 395 250 \"/>\n",
       "<path style=\"fill-rule:nonzero;fill:rgb(100%,0%,0%);fill-opacity:1;stroke-width:1;stroke-linecap:butt;stroke-linejoin:miter;stroke:rgb(0%,0%,0%);stroke-opacity:1;stroke-miterlimit:10;\" d=\"M 385.105469 299.75 C 385.105469 308.03125 378.386719 314.75 370.105469 314.75 C 361.820313 314.75 355.105469 308.03125 355.105469 299.75 C 355.105469 291.464844 361.820313 284.75 370.105469 284.75 C 378.386719 284.75 385.105469 291.464844 385.105469 299.75 \"/>\n",
       "<path style=\"fill-rule:nonzero;fill:rgb(100%,0%,0%);fill-opacity:1;stroke-width:1;stroke-linecap:butt;stroke-linejoin:miter;stroke:rgb(0%,0%,0%);stroke-opacity:1;stroke-miterlimit:10;\" d=\"M 356.925781 341.925781 C 356.925781 350.207031 350.207031 356.925781 341.925781 356.925781 C 333.640625 356.925781 326.925781 350.207031 326.925781 341.925781 C 326.925781 333.640625 333.640625 326.925781 341.925781 326.925781 C 350.207031 326.925781 356.925781 333.640625 356.925781 341.925781 \"/>\n",
       "<path style=\"fill-rule:nonzero;fill:rgb(100%,0%,0%);fill-opacity:1;stroke-width:1;stroke-linecap:butt;stroke-linejoin:miter;stroke:rgb(0%,0%,0%);stroke-opacity:1;stroke-miterlimit:10;\" d=\"M 314.75 370.105469 C 314.75 378.386719 308.03125 385.105469 299.75 385.105469 C 291.464844 385.105469 284.75 378.386719 284.75 370.105469 C 284.75 361.820313 291.464844 355.105469 299.75 355.105469 C 308.03125 355.105469 314.75 361.820313 314.75 370.105469 \"/>\n",
       "<path style=\"fill-rule:nonzero;fill:rgb(100%,0%,0%);fill-opacity:1;stroke-width:1;stroke-linecap:butt;stroke-linejoin:miter;stroke:rgb(0%,0%,0%);stroke-opacity:1;stroke-miterlimit:10;\" d=\"M 265 380 C 265 388.285156 258.285156 395 250 395 C 241.714844 395 235 388.285156 235 380 C 235 371.714844 241.714844 365 250 365 C 258.285156 365 265 371.714844 265 380 \"/>\n",
       "<path style=\"fill-rule:nonzero;fill:rgb(100%,0%,0%);fill-opacity:1;stroke-width:1;stroke-linecap:butt;stroke-linejoin:miter;stroke:rgb(0%,0%,0%);stroke-opacity:1;stroke-miterlimit:10;\" d=\"M 215.25 370.105469 C 215.25 378.386719 208.535156 385.105469 200.25 385.105469 C 191.96875 385.105469 185.25 378.386719 185.25 370.105469 C 185.25 361.820313 191.96875 355.105469 200.25 355.105469 C 208.535156 355.105469 215.25 361.820313 215.25 370.105469 \"/>\n",
       "<path style=\"fill-rule:nonzero;fill:rgb(100%,0%,0%);fill-opacity:1;stroke-width:1;stroke-linecap:butt;stroke-linejoin:miter;stroke:rgb(0%,0%,0%);stroke-opacity:1;stroke-miterlimit:10;\" d=\"M 173.074219 341.925781 C 173.074219 350.207031 166.359375 356.925781 158.074219 356.925781 C 149.792969 356.925781 143.074219 350.207031 143.074219 341.925781 C 143.074219 333.640625 149.792969 326.925781 158.074219 326.925781 C 166.359375 326.925781 173.074219 333.640625 173.074219 341.925781 \"/>\n",
       "<path style=\"fill-rule:nonzero;fill:rgb(100%,100%,100%);fill-opacity:1;stroke-width:1;stroke-linecap:butt;stroke-linejoin:miter;stroke:rgb(0%,0%,0%);stroke-opacity:1;stroke-miterlimit:10;\" d=\"M 144.894531 299.75 C 144.894531 308.03125 138.179688 314.75 129.894531 314.75 C 121.613281 314.75 114.894531 308.03125 114.894531 299.75 C 114.894531 291.464844 121.613281 284.75 129.894531 284.75 C 138.179688 284.75 144.894531 291.464844 144.894531 299.75 \"/>\n",
       "<path style=\"fill-rule:nonzero;fill:rgb(100%,100%,100%);fill-opacity:1;stroke-width:1;stroke-linecap:butt;stroke-linejoin:miter;stroke:rgb(0%,0%,0%);stroke-opacity:1;stroke-miterlimit:10;\" d=\"M 135 250 C 135 258.285156 128.285156 265 120 265 C 111.714844 265 105 258.285156 105 250 C 105 241.714844 111.714844 235 120 235 C 128.285156 235 135 241.714844 135 250 \"/>\n",
       "<path style=\"fill-rule:nonzero;fill:rgb(100%,100%,100%);fill-opacity:1;stroke-width:1;stroke-linecap:butt;stroke-linejoin:miter;stroke:rgb(0%,0%,0%);stroke-opacity:1;stroke-miterlimit:10;\" d=\"M 144.894531 200.25 C 144.894531 208.535156 138.179688 215.25 129.894531 215.25 C 121.613281 215.25 114.894531 208.535156 114.894531 200.25 C 114.894531 191.96875 121.613281 185.25 129.894531 185.25 C 138.179688 185.25 144.894531 191.96875 144.894531 200.25 \"/>\n",
       "<path style=\"fill-rule:nonzero;fill:rgb(100%,100%,100%);fill-opacity:1;stroke-width:1;stroke-linecap:butt;stroke-linejoin:miter;stroke:rgb(0%,0%,0%);stroke-opacity:1;stroke-miterlimit:10;\" d=\"M 173.074219 158.074219 C 173.074219 166.359375 166.359375 173.074219 158.074219 173.074219 C 149.792969 173.074219 143.074219 166.359375 143.074219 158.074219 C 143.074219 149.792969 149.792969 143.074219 158.074219 143.074219 C 166.359375 143.074219 173.074219 149.792969 173.074219 158.074219 \"/>\n",
       "<path style=\"fill-rule:nonzero;fill:rgb(100%,100%,100%);fill-opacity:1;stroke-width:1;stroke-linecap:butt;stroke-linejoin:miter;stroke:rgb(0%,0%,0%);stroke-opacity:1;stroke-miterlimit:10;\" d=\"M 215.25 129.894531 C 215.25 138.179688 208.535156 144.894531 200.25 144.894531 C 191.96875 144.894531 185.25 138.179688 185.25 129.894531 C 185.25 121.613281 191.96875 114.894531 200.25 114.894531 C 208.535156 114.894531 215.25 121.613281 215.25 129.894531 \"/>\n",
       "<path style=\"fill-rule:nonzero;fill:rgb(100%,100%,100%);fill-opacity:1;stroke-width:1;stroke-linecap:butt;stroke-linejoin:miter;stroke:rgb(0%,0%,0%);stroke-opacity:1;stroke-miterlimit:10;\" d=\"M 265 120 C 265 128.285156 258.285156 135 250 135 C 241.714844 135 235 128.285156 235 120 C 235 111.714844 241.714844 105 250 105 C 258.285156 105 265 111.714844 265 120 \"/>\n",
       "<path style=\"fill-rule:nonzero;fill:rgb(100%,100%,100%);fill-opacity:1;stroke-width:1;stroke-linecap:butt;stroke-linejoin:miter;stroke:rgb(0%,0%,0%);stroke-opacity:1;stroke-miterlimit:10;\" d=\"M 314.75 129.894531 C 314.75 138.179688 308.03125 144.894531 299.75 144.894531 C 291.464844 144.894531 284.75 138.179688 284.75 129.894531 C 284.75 121.613281 291.464844 114.894531 299.75 114.894531 C 308.03125 114.894531 314.75 121.613281 314.75 129.894531 \"/>\n",
       "<path style=\"fill-rule:nonzero;fill:rgb(100%,100%,100%);fill-opacity:1;stroke-width:1;stroke-linecap:butt;stroke-linejoin:miter;stroke:rgb(0%,0%,0%);stroke-opacity:1;stroke-miterlimit:10;\" d=\"M 356.925781 158.074219 C 356.925781 166.359375 350.207031 173.074219 341.925781 173.074219 C 333.640625 173.074219 326.925781 166.359375 326.925781 158.074219 C 326.925781 149.792969 333.640625 143.074219 341.925781 143.074219 C 350.207031 143.074219 356.925781 149.792969 356.925781 158.074219 \"/>\n",
       "<path style=\"fill-rule:nonzero;fill:rgb(100%,100%,100%);fill-opacity:1;stroke-width:1;stroke-linecap:butt;stroke-linejoin:miter;stroke:rgb(0%,0%,0%);stroke-opacity:1;stroke-miterlimit:10;\" d=\"M 385.105469 200.25 C 385.105469 208.535156 378.386719 215.25 370.105469 215.25 C 361.820313 215.25 355.105469 208.535156 355.105469 200.25 C 355.105469 191.96875 361.820313 185.25 370.105469 185.25 C 378.386719 185.25 385.105469 191.96875 385.105469 200.25 \"/>\n",
       "<g style=\"fill:rgb(0%,0%,0%);fill-opacity:1;\">\n",
       "  <use xlink:href=\"#glyph0-1\" x=\"372.34375\" y=\"256.53125\"/>\n",
       "  <use xlink:href=\"#glyph0-2\" x=\"380.129883\" y=\"256.53125\"/>\n",
       "</g>\n",
       "<g style=\"fill:rgb(0%,0%,0%);fill-opacity:1;\">\n",
       "  <use xlink:href=\"#glyph0-1\" x=\"362.394531\" y=\"306.28125\"/>\n",
       "  <use xlink:href=\"#glyph0-3\" x=\"370.180664\" y=\"306.28125\"/>\n",
       "</g>\n",
       "<g style=\"fill:rgb(0%,0%,0%);fill-opacity:1;\">\n",
       "  <use xlink:href=\"#glyph0-4\" x=\"334.179688\" y=\"348.457031\"/>\n",
       "  <use xlink:href=\"#glyph0-2\" x=\"341.96582\" y=\"348.457031\"/>\n",
       "</g>\n",
       "<g style=\"fill:rgb(0%,0%,0%);fill-opacity:1;\">\n",
       "  <use xlink:href=\"#glyph0-4\" x=\"291.949219\" y=\"376.636719\"/>\n",
       "  <use xlink:href=\"#glyph0-3\" x=\"299.735352\" y=\"376.636719\"/>\n",
       "</g>\n",
       "<g style=\"fill:rgb(0%,0%,0%);fill-opacity:1;\">\n",
       "  <use xlink:href=\"#glyph0-5\" x=\"242.460938\" y=\"386.53125\"/>\n",
       "  <use xlink:href=\"#glyph0-2\" x=\"250.24707\" y=\"386.53125\"/>\n",
       "</g>\n",
       "<g style=\"fill:rgb(0%,0%,0%);fill-opacity:1;\">\n",
       "  <use xlink:href=\"#glyph0-5\" x=\"192.65625\" y=\"376.613281\"/>\n",
       "  <use xlink:href=\"#glyph0-3\" x=\"200.442383\" y=\"376.613281\"/>\n",
       "</g>\n",
       "<g style=\"fill:rgb(0%,0%,0%);fill-opacity:1;\">\n",
       "  <use xlink:href=\"#glyph0-3\" x=\"150.335938\" y=\"348.457031\"/>\n",
       "  <use xlink:href=\"#glyph0-2\" x=\"158.12207\" y=\"348.457031\"/>\n",
       "</g>\n",
       "<g style=\"fill:rgb(0%,0%,0%);fill-opacity:1;\">\n",
       "  <use xlink:href=\"#glyph0-3\" x=\"122.097656\" y=\"306.191406\"/>\n",
       "  <use xlink:href=\"#glyph0-3\" x=\"129.883789\" y=\"306.191406\"/>\n",
       "</g>\n",
       "<g style=\"fill:rgb(0%,0%,0%);fill-opacity:1;\">\n",
       "  <use xlink:href=\"#glyph0-6\" x=\"112.285156\" y=\"256.53125\"/>\n",
       "  <use xlink:href=\"#glyph0-2\" x=\"120.071289\" y=\"256.53125\"/>\n",
       "</g>\n",
       "<g style=\"fill:rgb(0%,0%,0%);fill-opacity:1;\">\n",
       "  <use xlink:href=\"#glyph0-6\" x=\"122.125\" y=\"206.78125\"/>\n",
       "  <use xlink:href=\"#glyph0-3\" x=\"129.911133\" y=\"206.78125\"/>\n",
       "</g>\n",
       "<g style=\"fill:rgb(0%,0%,0%);fill-opacity:1;\">\n",
       "  <use xlink:href=\"#glyph0-7\" x=\"150.292969\" y=\"164.605469\"/>\n",
       "  <use xlink:href=\"#glyph0-2\" x=\"158.079102\" y=\"164.605469\"/>\n",
       "</g>\n",
       "<g style=\"fill:rgb(0%,0%,0%);fill-opacity:1;\">\n",
       "  <use xlink:href=\"#glyph0-7\" x=\"192.414063\" y=\"136.339844\"/>\n",
       "  <use xlink:href=\"#glyph0-3\" x=\"200.200195\" y=\"136.339844\"/>\n",
       "</g>\n",
       "<g style=\"fill:rgb(0%,0%,0%);fill-opacity:1;\">\n",
       "  <use xlink:href=\"#glyph0-8\" x=\"242.265625\" y=\"126.53125\"/>\n",
       "  <use xlink:href=\"#glyph0-2\" x=\"250.051758\" y=\"126.53125\"/>\n",
       "</g>\n",
       "<g style=\"fill:rgb(0%,0%,0%);fill-opacity:1;\">\n",
       "  <use xlink:href=\"#glyph0-8\" x=\"291.960938\" y=\"136.425781\"/>\n",
       "  <use xlink:href=\"#glyph0-3\" x=\"299.74707\" y=\"136.425781\"/>\n",
       "</g>\n",
       "<g style=\"fill:rgb(0%,0%,0%);fill-opacity:1;\">\n",
       "  <use xlink:href=\"#glyph0-9\" x=\"334.183594\" y=\"164.605469\"/>\n",
       "  <use xlink:href=\"#glyph0-2\" x=\"341.969727\" y=\"164.605469\"/>\n",
       "</g>\n",
       "<g style=\"fill:rgb(0%,0%,0%);fill-opacity:1;\">\n",
       "  <use xlink:href=\"#glyph0-9\" x=\"362.308594\" y=\"206.78125\"/>\n",
       "  <use xlink:href=\"#glyph0-3\" x=\"370.094727\" y=\"206.78125\"/>\n",
       "</g>\n",
       "</g>\n",
       "</svg>\n"
      ],
      "text/plain": [
       "<igraph.drawing.Plot at 0x1ec835abc08>"
      ]
     },
     "execution_count": 40,
     "metadata": {
      "image/svg+xml": {
       "isolated": true
      }
     },
     "output_type": "execute_result"
    }
   ],
   "source": [
    "### plottrain set\n",
    "colors = ['red', 'white', 'blue', 'green']\n",
    "membership_vector = to_membership_vector(partition)\n",
    "visual_style = {\n",
    "    \"vertex_size\" : 30,\n",
    "    \"vertex_label\": [ x[1:] for x in data_df.loc[ : ,  'X20':'X95'].columns.values],\n",
    "    \"edge_width\" : [np.log2(x/100) for x in clusterer_igraph.graph_.es['weight']],\n",
    "    \"vertex_color\": [colors[membership_vector[i]] for i in range(y.shape[1])],\n",
    "    \"bbox\": (500,500),\n",
    "    \"margin\": 120,\n",
    "    \"layout\": clusterer_igraph.graph_.layout_circle(),\n",
    "    \"autocurve\":True,\n",
    "    \"edge_curved\":0.5\n",
    "}\n",
    "\n",
    "def testplot(graph, name):\n",
    "    graph.vs['label'] = graph.vs['name']\n",
    "    out = ig.plot(clusterer_igraph.graph_, **visual_style)\n",
    "    out.save(name + '_train_peptides.png')\n",
    "    \n",
    "testplot(clusterer_igraph.graph_, 'test1')\n",
    "ig.plot(clusterer_igraph.graph_, **visual_style)\n",
    "#ig.write(clusterer_igraph.graph_, filename=\"test.svg\")"
   ]
  },
  {
   "cell_type": "code",
   "execution_count": 41,
   "metadata": {},
   "outputs": [
    {
     "name": "stdout",
     "output_type": "stream",
     "text": [
      "16 labels, 60 edges\n",
      "{(3, 4): 3893.0, (7, 8): 4462.0, (7, 9): 1221.0, (8, 9): 2909.0, (7, 10): 432.0, (8, 10): 1583.0, (9, 10): 2512.0, (1, 2): 917.0, (6, 7): 5022.0, (10, 11): 2309.0, (10, 12): 958.0, (11, 12): 1537.0, (2, 3): 2211.0, (4, 5): 5292.0, (4, 6): 1262.0, (5, 6): 5399.0, (11, 13): 587.0, (12, 13): 893.0, (11, 14): 190.0, (12, 14): 367.0, (13, 14): 485.0, (5, 7): 1525.0, (10, 13): 272.0, (0, 1): 160.0, (12, 15): 101.0, (13, 15): 167.0, (14, 15): 241.0, (7, 11): 43.0, (8, 11): 407.0, (9, 11): 881.0, (6, 8): 1795.0, (5, 8): 160.0, (3, 5): 462.0, (8, 12): 48.0, (9, 12): 169.0, (9, 13): 19.0, (6, 9): 139.0, (3, 6): 18.0, (3, 7): 3.0, (4, 7): 61.0, (6, 10): 24.0, (2, 4): 150.0, (3, 8): 1.0, (4, 8): 7.0, (10, 14): 61.0, (0, 2): 10.0, (8, 13): 7.0, (11, 15): 39.0, (9, 14): 1.0, (2, 5): 5.0, (5, 9): 4.0, (5, 10): 1.0, (1, 3): 19.0, (7, 12): 4.0, (10, 15): 8.0, (1, 4): 3.0, (2, 6): 1.0, (6, 11): 1.0, (4, 9): 1.0, (7, 13): 1.0}\n"
     ]
    },
    {
     "data": {
      "text/plain": [
       "array([list([0, 1, 2, 3, 4, 5, 6]),\n",
       "       list([7, 8, 9, 10, 11, 12, 13, 14, 15])], dtype=object)"
      ]
     },
     "execution_count": 41,
     "metadata": {},
     "output_type": "execute_result"
    }
   ],
   "source": [
    "graph_builder = LabelCooccurrenceGraphBuilder(weighted=True, include_self_edges=False)\n",
    "edge_map = graph_builder.transform(y_test)\n",
    "print(\"{} labels, {} edges\".format(len(y[1]), len(edge_map)))\n",
    "print(edge_map)\n",
    "clusterer = NetworkXLabelGraphClusterer(graph_builder, method='louvain')\n",
    "clusterer_igraph = IGraphLabelGraphClusterer(graph_builder=graph_builder, method='walktrap')\n",
    "partition = clusterer_igraph.fit_predict(X_keys, y_test)\n",
    "partition"
   ]
  },
  {
   "cell_type": "code",
   "execution_count": 42,
   "metadata": {},
   "outputs": [
    {
     "data": {
      "image/svg+xml": [
       "<?xml version=\"1.0\" encoding=\"UTF-8\"?>\n",
       "<svg xmlns=\"http://www.w3.org/2000/svg\" xmlns:xlink=\"http://www.w3.org/1999/xlink\" width=\"500pt\" height=\"500pt\" viewBox=\"0 0 500 500\" version=\"1.1\">\n",
       "<defs>\n",
       "<g>\n",
       "<symbol overflow=\"visible\" id=\"glyph0-0\">\n",
       "<path style=\"stroke:none;\" d=\"M 1.75 0 L 1.75 -8.75 L 8.75 -8.75 L 8.75 0 Z M 1.96875 -0.21875 L 8.53125 -0.21875 L 8.53125 -8.53125 L 1.96875 -8.53125 Z M 1.96875 -0.21875 \"/>\n",
       "</symbol>\n",
       "<symbol overflow=\"visible\" id=\"glyph0-1\">\n",
       "<path style=\"stroke:none;\" d=\"M 7.046875 -1.183594 L 7.046875 0 L 0.421875 0 C 0.414063 -0.296875 0.460938 -0.582031 0.566406 -0.855469 C 0.734375 -1.304688 1.003906 -1.746094 1.375 -2.1875 C 1.746094 -2.621094 2.285156 -3.128906 2.988281 -3.703125 C 4.074219 -4.597656 4.808594 -5.304688 5.195313 -5.828125 C 5.574219 -6.347656 5.765625 -6.839844 5.769531 -7.308594 C 5.765625 -7.792969 5.589844 -8.203125 5.246094 -8.539063 C 4.894531 -8.871094 4.441406 -9.039063 3.882813 -9.042969 C 3.285156 -9.039063 2.8125 -8.863281 2.460938 -8.507813 C 2.105469 -8.152344 1.925781 -7.660156 1.921875 -7.035156 L 0.65625 -7.164063 C 0.742188 -8.105469 1.066406 -8.824219 1.632813 -9.320313 C 2.195313 -9.8125 2.953125 -10.058594 3.910156 -10.0625 C 4.867188 -10.058594 5.628906 -9.792969 6.191406 -9.261719 C 6.75 -8.726563 7.03125 -8.066406 7.035156 -7.28125 C 7.03125 -6.878906 6.949219 -6.484375 6.789063 -6.097656 C 6.621094 -5.707031 6.347656 -5.296875 5.96875 -4.871094 C 5.585938 -4.441406 4.953125 -3.855469 4.074219 -3.109375 C 3.332031 -2.488281 2.859375 -2.066406 2.652344 -1.847656 C 2.4375 -1.621094 2.265625 -1.402344 2.132813 -1.183594 Z M 7.046875 -1.183594 \"/>\n",
       "</symbol>\n",
       "<symbol overflow=\"visible\" id=\"glyph0-2\">\n",
       "<path style=\"stroke:none;\" d=\"M 0.582031 -4.941406 C 0.578125 -6.121094 0.699219 -7.074219 0.945313 -7.800781 C 1.1875 -8.519531 1.550781 -9.078125 2.03125 -9.472656 C 2.511719 -9.863281 3.117188 -10.058594 3.847656 -10.0625 C 4.382813 -10.058594 4.855469 -9.953125 5.261719 -9.738281 C 5.667969 -9.519531 6 -9.207031 6.265625 -8.800781 C 6.527344 -8.390625 6.738281 -7.890625 6.890625 -7.308594 C 7.039063 -6.722656 7.113281 -5.933594 7.117188 -4.941406 C 7.113281 -3.761719 6.992188 -2.8125 6.753906 -2.09375 C 6.507813 -1.367188 6.144531 -0.808594 5.667969 -0.417969 C 5.183594 -0.0234375 4.578125 0.167969 3.847656 0.171875 C 2.878906 0.167969 2.121094 -0.175781 1.570313 -0.867188 C 0.910156 -1.699219 0.578125 -3.054688 0.582031 -4.941406 Z M 1.84375 -4.941406 C 1.839844 -3.292969 2.03125 -2.199219 2.421875 -1.65625 C 2.804688 -1.109375 3.28125 -0.835938 3.847656 -0.839844 C 4.410156 -0.835938 4.886719 -1.109375 5.273438 -1.660156 C 5.65625 -2.203125 5.847656 -3.296875 5.851563 -4.941406 C 5.847656 -6.589844 5.65625 -7.6875 5.273438 -8.230469 C 4.886719 -8.769531 4.40625 -9.039063 3.835938 -9.042969 C 3.269531 -9.039063 2.816406 -8.800781 2.480469 -8.328125 C 2.050781 -7.710938 1.839844 -6.582031 1.84375 -4.941406 Z M 1.84375 -4.941406 \"/>\n",
       "</symbol>\n",
       "<symbol overflow=\"visible\" id=\"glyph0-3\">\n",
       "<path style=\"stroke:none;\" d=\"M 0.582031 -2.625 L 1.875 -2.734375 C 1.96875 -2.101563 2.1875 -1.628906 2.539063 -1.3125 C 2.882813 -0.996094 3.304688 -0.835938 3.800781 -0.839844 C 4.390625 -0.835938 4.890625 -1.058594 5.304688 -1.507813 C 5.710938 -1.953125 5.917969 -2.546875 5.921875 -3.289063 C 5.917969 -3.984375 5.71875 -4.539063 5.328125 -4.949219 C 4.929688 -5.351563 4.414063 -5.554688 3.78125 -5.558594 C 3.382813 -5.554688 3.027344 -5.464844 2.707031 -5.285156 C 2.386719 -5.105469 2.132813 -4.871094 1.953125 -4.585938 L 0.800781 -4.738281 L 1.769531 -9.882813 L 6.753906 -9.882813 L 6.753906 -8.710938 L 2.753906 -8.710938 L 2.214844 -6.015625 C 2.816406 -6.433594 3.445313 -6.644531 4.109375 -6.644531 C 4.980469 -6.644531 5.71875 -6.339844 6.324219 -5.734375 C 6.921875 -5.128906 7.222656 -4.351563 7.226563 -3.398438 C 7.222656 -2.492188 6.960938 -1.707031 6.433594 -1.046875 C 5.789063 -0.234375 4.910156 0.167969 3.800781 0.171875 C 2.886719 0.167969 2.140625 -0.0820313 1.566406 -0.59375 C 0.988281 -1.101563 0.660156 -1.78125 0.582031 -2.625 Z M 0.582031 -2.625 \"/>\n",
       "</symbol>\n",
       "<symbol overflow=\"visible\" id=\"glyph0-4\">\n",
       "<path style=\"stroke:none;\" d=\"M 0.585938 -2.644531 L 1.820313 -2.808594 C 1.957031 -2.109375 2.195313 -1.609375 2.539063 -1.300781 C 2.875 -0.992188 3.289063 -0.835938 3.78125 -0.839844 C 4.355469 -0.835938 4.84375 -1.039063 5.246094 -1.441406 C 5.640625 -1.839844 5.839844 -2.335938 5.84375 -2.933594 C 5.839844 -3.496094 5.65625 -3.960938 5.289063 -4.332031 C 4.917969 -4.695313 4.449219 -4.878906 3.882813 -4.882813 C 3.648438 -4.878906 3.359375 -4.832031 3.015625 -4.742188 L 3.152344 -5.824219 C 3.230469 -5.816406 3.296875 -5.8125 3.351563 -5.8125 C 3.875 -5.8125 4.34375 -5.949219 4.765625 -6.222656 C 5.179688 -6.496094 5.390625 -6.914063 5.394531 -7.484375 C 5.390625 -7.933594 5.238281 -8.308594 4.933594 -8.605469 C 4.628906 -8.898438 4.234375 -9.046875 3.753906 -9.050781 C 3.273438 -9.046875 2.875 -8.894531 2.554688 -8.597656 C 2.234375 -8.292969 2.027344 -7.84375 1.941406 -7.246094 L 0.710938 -7.464844 C 0.859375 -8.289063 1.203125 -8.925781 1.734375 -9.382813 C 2.265625 -9.832031 2.929688 -10.058594 3.726563 -10.0625 C 4.273438 -10.058594 4.773438 -9.941406 5.234375 -9.710938 C 5.691406 -9.472656 6.042969 -9.152344 6.289063 -8.75 C 6.53125 -8.339844 6.65625 -7.910156 6.65625 -7.457031 C 6.65625 -7.023438 6.539063 -6.628906 6.308594 -6.273438 C 6.074219 -5.917969 5.730469 -5.636719 5.277344 -5.429688 C 5.867188 -5.289063 6.328125 -5.003906 6.65625 -4.574219 C 6.984375 -4.140625 7.148438 -3.601563 7.148438 -2.960938 C 7.148438 -2.082031 6.828125 -1.339844 6.191406 -0.734375 C 5.550781 -0.125 4.746094 0.175781 3.773438 0.179688 C 2.890625 0.175781 2.160156 -0.0820313 1.582031 -0.605469 C 1 -1.128906 0.667969 -1.808594 0.585938 -2.644531 Z M 0.585938 -2.644531 \"/>\n",
       "</symbol>\n",
       "<symbol overflow=\"visible\" id=\"glyph0-5\">\n",
       "<path style=\"stroke:none;\" d=\"M 4.523438 0 L 4.523438 -2.398438 L 0.179688 -2.398438 L 0.179688 -3.527344 L 4.75 -10.023438 L 5.757813 -10.023438 L 5.757813 -3.527344 L 7.109375 -3.527344 L 7.109375 -2.398438 L 5.757813 -2.398438 L 5.757813 0 Z M 4.523438 -3.527344 L 4.523438 -8.046875 L 1.386719 -3.527344 Z M 4.523438 -3.527344 \"/>\n",
       "</symbol>\n",
       "<symbol overflow=\"visible\" id=\"glyph0-6\">\n",
       "<path style=\"stroke:none;\" d=\"M 6.964844 -7.566406 L 5.742188 -7.472656 C 5.632813 -7.949219 5.476563 -8.300781 5.277344 -8.523438 C 4.941406 -8.871094 4.53125 -9.046875 4.046875 -9.050781 C 3.652344 -9.046875 3.308594 -8.9375 3.015625 -8.722656 C 2.625 -8.4375 2.320313 -8.023438 2.097656 -7.484375 C 1.875 -6.9375 1.757813 -6.167969 1.75 -5.167969 C 2.042969 -5.617188 2.40625 -5.949219 2.835938 -6.171875 C 3.265625 -6.386719 3.714844 -6.496094 4.183594 -6.5 C 5.003906 -6.496094 5.699219 -6.195313 6.277344 -5.59375 C 6.851563 -4.988281 7.140625 -4.207031 7.144531 -3.253906 C 7.140625 -2.621094 7.003906 -2.039063 6.734375 -1.5 C 6.460938 -0.960938 6.089844 -0.546875 5.617188 -0.257813 C 5.140625 0.0273438 4.605469 0.167969 4.007813 0.171875 C 2.980469 0.167969 2.140625 -0.207031 1.496094 -0.960938 C 0.847656 -1.714844 0.527344 -2.957031 0.527344 -4.6875 C 0.527344 -6.625 0.882813 -8.03125 1.601563 -8.914063 C 2.21875 -9.675781 3.058594 -10.058594 4.121094 -10.0625 C 4.90625 -10.058594 5.554688 -9.839844 6.058594 -9.398438 C 6.5625 -8.953125 6.863281 -8.339844 6.964844 -7.566406 Z M 1.941406 -3.246094 C 1.9375 -2.820313 2.027344 -2.414063 2.210938 -2.027344 C 2.386719 -1.640625 2.640625 -1.34375 2.964844 -1.144531 C 3.289063 -0.9375 3.628906 -0.835938 3.984375 -0.839844 C 4.503906 -0.835938 4.949219 -1.046875 5.324219 -1.46875 C 5.695313 -1.886719 5.882813 -2.457031 5.886719 -3.179688 C 5.882813 -3.871094 5.699219 -4.417969 5.332031 -4.816406 C 4.960938 -5.214844 4.496094 -5.414063 3.9375 -5.414063 C 3.378906 -5.414063 2.90625 -5.214844 2.519531 -4.816406 C 2.132813 -4.417969 1.9375 -3.894531 1.941406 -3.246094 Z M 1.941406 -3.246094 \"/>\n",
       "</symbol>\n",
       "<symbol overflow=\"visible\" id=\"glyph0-7\">\n",
       "<path style=\"stroke:none;\" d=\"M 0.664063 -8.710938 L 0.664063 -9.890625 L 7.148438 -9.890625 L 7.148438 -8.933594 C 6.511719 -8.25 5.878906 -7.347656 5.253906 -6.226563 C 4.625 -5.097656 4.140625 -3.941406 3.800781 -2.753906 C 3.550781 -1.914063 3.394531 -0.996094 3.328125 0 L 2.0625 0 C 2.078125 -0.789063 2.230469 -1.738281 2.527344 -2.855469 C 2.820313 -3.96875 3.246094 -5.046875 3.800781 -6.085938 C 4.351563 -7.121094 4.941406 -7.996094 5.570313 -8.710938 Z M 0.664063 -8.710938 \"/>\n",
       "</symbol>\n",
       "<symbol overflow=\"visible\" id=\"glyph0-8\">\n",
       "<path style=\"stroke:none;\" d=\"M 2.476563 -5.433594 C 1.964844 -5.617188 1.585938 -5.886719 1.339844 -6.234375 C 1.089844 -6.578125 0.964844 -6.992188 0.96875 -7.476563 C 0.964844 -8.203125 1.226563 -8.816406 1.753906 -9.316406 C 2.277344 -9.8125 2.976563 -10.058594 3.847656 -10.0625 C 4.71875 -10.058594 5.421875 -9.804688 5.960938 -9.300781 C 6.492188 -8.789063 6.761719 -8.171875 6.761719 -7.445313 C 6.761719 -6.976563 6.636719 -6.570313 6.394531 -6.230469 C 6.148438 -5.882813 5.78125 -5.617188 5.285156 -5.433594 C 5.898438 -5.230469 6.363281 -4.90625 6.6875 -4.460938 C 7.007813 -4.011719 7.171875 -3.480469 7.171875 -2.863281 C 7.171875 -2.003906 6.867188 -1.285156 6.261719 -0.703125 C 5.652344 -0.121094 4.855469 0.167969 3.867188 0.171875 C 2.878906 0.167969 2.082031 -0.121094 1.476563 -0.707031 C 0.867188 -1.289063 0.5625 -2.019531 0.566406 -2.898438 C 0.5625 -3.546875 0.726563 -4.09375 1.0625 -4.535156 C 1.390625 -4.972656 1.863281 -5.269531 2.476563 -5.433594 Z M 2.226563 -7.519531 C 2.226563 -7.042969 2.378906 -6.65625 2.683594 -6.355469 C 2.988281 -6.054688 3.382813 -5.90625 3.875 -5.90625 C 4.34375 -5.90625 4.734375 -6.054688 5.039063 -6.351563 C 5.34375 -6.648438 5.496094 -7.015625 5.496094 -7.453125 C 5.496094 -7.902344 5.339844 -8.28125 5.027344 -8.589844 C 4.714844 -8.894531 4.324219 -9.046875 3.863281 -9.050781 C 3.386719 -9.046875 2.996094 -8.894531 2.691406 -8.597656 C 2.378906 -8.292969 2.226563 -7.933594 2.226563 -7.519531 Z M 1.832031 -2.890625 C 1.828125 -2.539063 1.910156 -2.203125 2.082031 -1.875 C 2.246094 -1.546875 2.496094 -1.289063 2.824219 -1.109375 C 3.152344 -0.925781 3.503906 -0.835938 3.882813 -0.839844 C 4.46875 -0.835938 4.953125 -1.027344 5.339844 -1.40625 C 5.71875 -1.785156 5.910156 -2.265625 5.914063 -2.851563 C 5.910156 -3.441406 5.714844 -3.929688 5.320313 -4.320313 C 4.925781 -4.703125 4.433594 -4.898438 3.84375 -4.902344 C 3.261719 -4.898438 2.78125 -4.707031 2.402344 -4.328125 C 2.019531 -3.941406 1.828125 -3.460938 1.832031 -2.890625 Z M 1.832031 -2.890625 \"/>\n",
       "</symbol>\n",
       "<symbol overflow=\"visible\" id=\"glyph0-9\">\n",
       "<path style=\"stroke:none;\" d=\"M 0.765625 -2.316406 L 1.949219 -2.425781 C 2.046875 -1.871094 2.238281 -1.464844 2.519531 -1.214844 C 2.800781 -0.960938 3.164063 -0.835938 3.609375 -0.839844 C 3.984375 -0.835938 4.3125 -0.921875 4.601563 -1.097656 C 4.882813 -1.269531 5.117188 -1.503906 5.304688 -1.792969 C 5.484375 -2.082031 5.636719 -2.472656 5.761719 -2.964844 C 5.878906 -3.457031 5.941406 -3.957031 5.945313 -4.46875 C 5.941406 -4.523438 5.941406 -4.605469 5.941406 -4.71875 C 5.691406 -4.320313 5.351563 -4.003906 4.929688 -3.761719 C 4.5 -3.519531 4.039063 -3.398438 3.546875 -3.398438 C 2.714844 -3.398438 2.015625 -3.699219 1.441406 -4.300781 C 0.867188 -4.902344 0.578125 -5.695313 0.582031 -6.679688 C 0.578125 -7.695313 0.878906 -8.511719 1.480469 -9.132813 C 2.078125 -9.75 2.828125 -10.058594 3.734375 -10.0625 C 4.382813 -10.058594 4.980469 -9.882813 5.519531 -9.535156 C 6.058594 -9.179688 6.46875 -8.679688 6.75 -8.035156 C 7.03125 -7.382813 7.171875 -6.445313 7.171875 -5.214844 C 7.171875 -3.933594 7.03125 -2.914063 6.753906 -2.15625 C 6.472656 -1.398438 6.058594 -0.820313 5.511719 -0.421875 C 4.960938 -0.0273438 4.316406 0.167969 3.582031 0.171875 C 2.792969 0.167969 2.152344 -0.046875 1.660156 -0.480469 C 1.160156 -0.914063 0.863281 -1.523438 0.765625 -2.316406 Z M 5.804688 -6.742188 C 5.800781 -7.445313 5.613281 -8.003906 5.238281 -8.421875 C 4.863281 -8.832031 4.410156 -9.039063 3.882813 -9.042969 C 3.332031 -9.039063 2.855469 -8.816406 2.453125 -8.371094 C 2.042969 -7.921875 1.839844 -7.34375 1.84375 -6.636719 C 1.839844 -5.996094 2.03125 -5.476563 2.421875 -5.082031 C 2.804688 -4.679688 3.28125 -4.480469 3.847656 -4.484375 C 4.414063 -4.480469 4.882813 -4.679688 5.253906 -5.082031 C 5.617188 -5.476563 5.800781 -6.03125 5.804688 -6.742188 Z M 5.804688 -6.742188 \"/>\n",
       "</symbol>\n",
       "</g>\n",
       "</defs>\n",
       "<g id=\"surface215\">\n",
       "<rect x=\"0\" y=\"0\" width=\"500\" height=\"500\" style=\"fill:rgb(100%,100%,100%);fill-opacity:1;stroke:none;\"/>\n",
       "<path style=\"fill:none;stroke-width:5.28281;stroke-linecap:butt;stroke-linejoin:miter;stroke:rgb(26.666667%,26.666667%,26.666667%);stroke-opacity:1;stroke-miterlimit:10;\" d=\"M 299.75 370.105469 C 280.691406 360.964844 264.109375 364.265625 250 380 \"/>\n",
       "<path style=\"fill:none;stroke-width:5.479619;stroke-linecap:butt;stroke-linejoin:miter;stroke:rgb(26.666667%,26.666667%,26.666667%);stroke-opacity:1;stroke-miterlimit:10;\" d=\"M 129.894531 299.75 C 139.035156 280.691406 135.734375 264.109375 120 250 \"/>\n",
       "<path style=\"fill:none;stroke-width:3.609991;stroke-linecap:butt;stroke-linejoin:miter;stroke:rgb(26.666667%,26.666667%,26.666667%);stroke-opacity:1;stroke-miterlimit:10;\" d=\"M 129.894531 299.75 C 154.769531 266.582031 154.769531 233.417969 129.894531 200.25 \"/>\n",
       "<path style=\"fill:none;stroke-width:4.862451;stroke-linecap:butt;stroke-linejoin:miter;stroke:rgb(26.666667%,26.666667%,26.666667%);stroke-opacity:1;stroke-miterlimit:10;\" d=\"M 120 250 C 135.734375 235.890625 139.035156 219.308594 129.894531 200.25 \"/>\n",
       "<path style=\"fill:none;stroke-width:2.111031;stroke-linecap:butt;stroke-linejoin:miter;stroke:rgb(26.666667%,26.666667%,26.666667%);stroke-opacity:1;stroke-miterlimit:10;\" d=\"M 129.894531 299.75 C 174.707031 259.570313 184.101563 212.34375 158.074219 158.074219 \"/>\n",
       "<path style=\"fill:none;stroke-width:3.984589;stroke-linecap:butt;stroke-linejoin:miter;stroke:rgb(26.666667%,26.666667%,26.666667%);stroke-opacity:1;stroke-miterlimit:10;\" d=\"M 120 250 C 155.671875 228.878906 168.363281 198.238281 158.074219 158.074219 \"/>\n",
       "<path style=\"fill:none;stroke-width:4.650765;stroke-linecap:butt;stroke-linejoin:miter;stroke:rgb(26.666667%,26.666667%,26.666667%);stroke-opacity:1;stroke-miterlimit:10;\" d=\"M 129.894531 200.25 C 149.832031 193.238281 159.226563 179.179688 158.074219 158.074219 \"/>\n",
       "<path style=\"fill:none;stroke-width:3.196922;stroke-linecap:butt;stroke-linejoin:miter;stroke:rgb(26.666667%,26.666667%,26.666667%);stroke-opacity:1;stroke-miterlimit:10;\" d=\"M 370.105469 299.75 C 350.167969 306.761719 340.773438 320.820313 341.925781 341.925781 \"/>\n",
       "<path style=\"fill:none;stroke-width:5.65019;stroke-linecap:butt;stroke-linejoin:miter;stroke:rgb(26.666667%,26.666667%,26.666667%);stroke-opacity:1;stroke-miterlimit:10;\" d=\"M 158.074219 341.925781 C 159.226563 320.820313 149.832031 306.761719 129.894531 299.75 \"/>\n",
       "<path style=\"fill:none;stroke-width:4.529196;stroke-linecap:butt;stroke-linejoin:miter;stroke:rgb(26.666667%,26.666667%,26.666667%);stroke-opacity:1;stroke-miterlimit:10;\" d=\"M 158.074219 158.074219 C 179.179688 159.226563 193.238281 149.832031 200.25 129.894531 \"/>\n",
       "<path style=\"fill:none;stroke-width:3.260026;stroke-linecap:butt;stroke-linejoin:miter;stroke:rgb(26.666667%,26.666667%,26.666667%);stroke-opacity:1;stroke-miterlimit:10;\" d=\"M 158.074219 158.074219 C 198.238281 168.363281 228.878906 155.671875 250 120 \"/>\n",
       "<path style=\"fill:none;stroke-width:3.942045;stroke-linecap:butt;stroke-linejoin:miter;stroke:rgb(26.666667%,26.666667%,26.666667%);stroke-opacity:1;stroke-miterlimit:10;\" d=\"M 200.25 129.894531 C 219.308594 139.035156 235.890625 135.734375 250 120 \"/>\n",
       "<path style=\"fill:none;stroke-width:4.466627;stroke-linecap:butt;stroke-linejoin:miter;stroke:rgb(26.666667%,26.666667%,26.666667%);stroke-opacity:1;stroke-miterlimit:10;\" d=\"M 341.925781 341.925781 C 320.820313 340.773438 306.761719 350.167969 299.75 370.105469 \"/>\n",
       "<path style=\"fill:none;stroke-width:5.725741;stroke-linecap:butt;stroke-linejoin:miter;stroke:rgb(26.666667%,26.666667%,26.666667%);stroke-opacity:1;stroke-miterlimit:10;\" d=\"M 250 380 C 235.890625 364.265625 219.308594 360.964844 200.25 370.105469 \"/>\n",
       "<path style=\"fill:none;stroke-width:3.65764;stroke-linecap:butt;stroke-linejoin:miter;stroke:rgb(26.666667%,26.666667%,26.666667%);stroke-opacity:1;stroke-miterlimit:10;\" d=\"M 250 380 C 228.878906 344.328125 198.238281 331.636719 158.074219 341.925781 \"/>\n",
       "<path style=\"fill:none;stroke-width:5.75462;stroke-linecap:butt;stroke-linejoin:miter;stroke:rgb(26.666667%,26.666667%,26.666667%);stroke-opacity:1;stroke-miterlimit:10;\" d=\"M 200.25 370.105469 C 193.238281 350.167969 179.179688 340.773438 158.074219 341.925781 \"/>\n",
       "<path style=\"fill:none;stroke-width:2.553361;stroke-linecap:butt;stroke-linejoin:miter;stroke:rgb(26.666667%,26.666667%,26.666667%);stroke-opacity:1;stroke-miterlimit:10;\" d=\"M 200.25 129.894531 C 233.417969 154.769531 266.582031 154.769531 299.75 129.894531 \"/>\n",
       "<path style=\"fill:none;stroke-width:3.15866;stroke-linecap:butt;stroke-linejoin:miter;stroke:rgb(26.666667%,26.666667%,26.666667%);stroke-opacity:1;stroke-miterlimit:10;\" d=\"M 250 120 C 264.109375 135.734375 280.691406 139.035156 299.75 129.894531 \"/>\n",
       "<path style=\"fill:none;stroke-width:0.925999;stroke-linecap:butt;stroke-linejoin:miter;stroke:rgb(26.666667%,26.666667%,26.666667%);stroke-opacity:1;stroke-miterlimit:10;\" d=\"M 200.25 129.894531 C 240.429688 174.707031 287.65625 184.101563 341.925781 158.074219 \"/>\n",
       "<path style=\"fill:none;stroke-width:1.87578;stroke-linecap:butt;stroke-linejoin:miter;stroke:rgb(26.666667%,26.666667%,26.666667%);stroke-opacity:1;stroke-miterlimit:10;\" d=\"M 250 120 C 271.121094 155.671875 301.761719 168.363281 341.925781 158.074219 \"/>\n",
       "<path style=\"fill:none;stroke-width:2.277985;stroke-linecap:butt;stroke-linejoin:miter;stroke:rgb(26.666667%,26.666667%,26.666667%);stroke-opacity:1;stroke-miterlimit:10;\" d=\"M 299.75 129.894531 C 306.761719 149.832031 320.820313 159.226563 341.925781 158.074219 \"/>\n",
       "<path style=\"fill:none;stroke-width:3.930737;stroke-linecap:butt;stroke-linejoin:miter;stroke:rgb(26.666667%,26.666667%,26.666667%);stroke-opacity:1;stroke-miterlimit:10;\" d=\"M 200.25 370.105469 C 194.386719 329.0625 170.9375 305.613281 129.894531 299.75 \"/>\n",
       "<path style=\"fill:none;stroke-width:1.443607;stroke-linecap:butt;stroke-linejoin:miter;stroke:rgb(26.666667%,26.666667%,26.666667%);stroke-opacity:1;stroke-miterlimit:10;\" d=\"M 158.074219 158.074219 C 212.34375 184.101563 259.570313 174.707031 299.75 129.894531 \"/>\n",
       "<path style=\"fill:none;stroke-width:0.678072;stroke-linecap:butt;stroke-linejoin:miter;stroke:rgb(26.666667%,26.666667%,26.666667%);stroke-opacity:1;stroke-miterlimit:10;\" d=\"M 380 250 C 364.265625 264.109375 360.964844 280.691406 370.105469 299.75 \"/>\n",
       "<path style=\"fill:none;stroke-width:0.0143553;stroke-linecap:butt;stroke-linejoin:miter;stroke:rgb(26.666667%,26.666667%,26.666667%);stroke-opacity:1;stroke-miterlimit:10;\" d=\"M 250 120 C 269.972656 176.777344 310.007813 203.527344 370.105469 200.25 \"/>\n",
       "<path style=\"fill:none;stroke-width:0.739848;stroke-linecap:butt;stroke-linejoin:miter;stroke:rgb(26.666667%,26.666667%,26.666667%);stroke-opacity:1;stroke-miterlimit:10;\" d=\"M 299.75 129.894531 C 305.613281 170.9375 329.0625 194.386719 370.105469 200.25 \"/>\n",
       "<path style=\"fill:none;stroke-width:1.269033;stroke-linecap:butt;stroke-linejoin:miter;stroke:rgb(26.666667%,26.666667%,26.666667%);stroke-opacity:1;stroke-miterlimit:10;\" d=\"M 341.925781 158.074219 C 340.773438 179.179688 350.167969 193.238281 370.105469 200.25 \"/>\n",
       "<path style=\"fill:none;stroke-width:2.025029;stroke-linecap:butt;stroke-linejoin:miter;stroke:rgb(26.666667%,26.666667%,26.666667%);stroke-opacity:1;stroke-miterlimit:10;\" d=\"M 120 250 C 176.777344 230.027344 203.527344 189.992188 200.25 129.894531 \"/>\n",
       "<path style=\"fill:none;stroke-width:3.139142;stroke-linecap:butt;stroke-linejoin:miter;stroke:rgb(26.666667%,26.666667%,26.666667%);stroke-opacity:1;stroke-miterlimit:10;\" d=\"M 129.894531 200.25 C 170.9375 194.386719 194.386719 170.9375 200.25 129.894531 \"/>\n",
       "<path style=\"fill:none;stroke-width:4.165912;stroke-linecap:butt;stroke-linejoin:miter;stroke:rgb(26.666667%,26.666667%,26.666667%);stroke-opacity:1;stroke-miterlimit:10;\" d=\"M 158.074219 341.925781 C 168.363281 301.761719 155.671875 271.121094 120 250 \"/>\n",
       "<path style=\"fill:none;stroke-width:0.678072;stroke-linecap:butt;stroke-linejoin:miter;stroke:rgb(26.666667%,26.666667%,26.666667%);stroke-opacity:1;stroke-miterlimit:10;\" d=\"M 200.25 370.105469 C 203.527344 310.007813 176.777344 269.972656 120 250 \"/>\n",
       "<path style=\"fill:none;stroke-width:2.207893;stroke-linecap:butt;stroke-linejoin:miter;stroke:rgb(26.666667%,26.666667%,26.666667%);stroke-opacity:1;stroke-miterlimit:10;\" d=\"M 299.75 370.105469 C 266.582031 345.230469 233.417969 345.230469 200.25 370.105469 \"/>\n",
       "<path style=\"fill:none;stroke-width:0.757023;stroke-linecap:butt;stroke-linejoin:miter;stroke:rgb(26.666667%,26.666667%,26.666667%);stroke-opacity:1;stroke-miterlimit:10;\" d=\"M 129.894531 200.25 C 189.992188 203.527344 230.027344 176.777344 250 120 \"/>\n",
       "<path style=\"fill:none;stroke-width:0.475085;stroke-linecap:butt;stroke-linejoin:miter;stroke:rgb(26.666667%,26.666667%,26.666667%);stroke-opacity:1;stroke-miterlimit:10;\" d=\"M 158.074219 341.925781 C 184.101563 287.65625 174.707031 240.429688 129.894531 200.25 \"/>\n",
       "<path style=\"fill:none;stroke-width:0.584963;stroke-linecap:butt;stroke-linejoin:miter;stroke:rgb(26.666667%,26.666667%,26.666667%);stroke-opacity:1;stroke-miterlimit:10;\" d=\"M 341.925781 341.925781 C 301.761719 331.636719 271.121094 344.328125 250 380 \"/>\n",
       "<path style=\"fill-rule:nonzero;fill:rgb(100%,0%,0%);fill-opacity:1;stroke-width:1;stroke-linecap:butt;stroke-linejoin:miter;stroke:rgb(0%,0%,0%);stroke-opacity:1;stroke-miterlimit:10;\" d=\"M 395 250 C 395 258.285156 388.285156 265 380 265 C 371.714844 265 365 258.285156 365 250 C 365 241.714844 371.714844 235 380 235 C 388.285156 235 395 241.714844 395 250 \"/>\n",
       "<path style=\"fill-rule:nonzero;fill:rgb(100%,0%,0%);fill-opacity:1;stroke-width:1;stroke-linecap:butt;stroke-linejoin:miter;stroke:rgb(0%,0%,0%);stroke-opacity:1;stroke-miterlimit:10;\" d=\"M 385.105469 299.75 C 385.105469 308.03125 378.386719 314.75 370.105469 314.75 C 361.820313 314.75 355.105469 308.03125 355.105469 299.75 C 355.105469 291.464844 361.820313 284.75 370.105469 284.75 C 378.386719 284.75 385.105469 291.464844 385.105469 299.75 \"/>\n",
       "<path style=\"fill-rule:nonzero;fill:rgb(100%,0%,0%);fill-opacity:1;stroke-width:1;stroke-linecap:butt;stroke-linejoin:miter;stroke:rgb(0%,0%,0%);stroke-opacity:1;stroke-miterlimit:10;\" d=\"M 356.925781 341.925781 C 356.925781 350.207031 350.207031 356.925781 341.925781 356.925781 C 333.640625 356.925781 326.925781 350.207031 326.925781 341.925781 C 326.925781 333.640625 333.640625 326.925781 341.925781 326.925781 C 350.207031 326.925781 356.925781 333.640625 356.925781 341.925781 \"/>\n",
       "<path style=\"fill-rule:nonzero;fill:rgb(100%,0%,0%);fill-opacity:1;stroke-width:1;stroke-linecap:butt;stroke-linejoin:miter;stroke:rgb(0%,0%,0%);stroke-opacity:1;stroke-miterlimit:10;\" d=\"M 314.75 370.105469 C 314.75 378.386719 308.03125 385.105469 299.75 385.105469 C 291.464844 385.105469 284.75 378.386719 284.75 370.105469 C 284.75 361.820313 291.464844 355.105469 299.75 355.105469 C 308.03125 355.105469 314.75 361.820313 314.75 370.105469 \"/>\n",
       "<path style=\"fill-rule:nonzero;fill:rgb(100%,0%,0%);fill-opacity:1;stroke-width:1;stroke-linecap:butt;stroke-linejoin:miter;stroke:rgb(0%,0%,0%);stroke-opacity:1;stroke-miterlimit:10;\" d=\"M 265 380 C 265 388.285156 258.285156 395 250 395 C 241.714844 395 235 388.285156 235 380 C 235 371.714844 241.714844 365 250 365 C 258.285156 365 265 371.714844 265 380 \"/>\n",
       "<path style=\"fill-rule:nonzero;fill:rgb(100%,0%,0%);fill-opacity:1;stroke-width:1;stroke-linecap:butt;stroke-linejoin:miter;stroke:rgb(0%,0%,0%);stroke-opacity:1;stroke-miterlimit:10;\" d=\"M 215.25 370.105469 C 215.25 378.386719 208.535156 385.105469 200.25 385.105469 C 191.96875 385.105469 185.25 378.386719 185.25 370.105469 C 185.25 361.820313 191.96875 355.105469 200.25 355.105469 C 208.535156 355.105469 215.25 361.820313 215.25 370.105469 \"/>\n",
       "<path style=\"fill-rule:nonzero;fill:rgb(100%,0%,0%);fill-opacity:1;stroke-width:1;stroke-linecap:butt;stroke-linejoin:miter;stroke:rgb(0%,0%,0%);stroke-opacity:1;stroke-miterlimit:10;\" d=\"M 173.074219 341.925781 C 173.074219 350.207031 166.359375 356.925781 158.074219 356.925781 C 149.792969 356.925781 143.074219 350.207031 143.074219 341.925781 C 143.074219 333.640625 149.792969 326.925781 158.074219 326.925781 C 166.359375 326.925781 173.074219 333.640625 173.074219 341.925781 \"/>\n",
       "<path style=\"fill-rule:nonzero;fill:rgb(100%,100%,100%);fill-opacity:1;stroke-width:1;stroke-linecap:butt;stroke-linejoin:miter;stroke:rgb(0%,0%,0%);stroke-opacity:1;stroke-miterlimit:10;\" d=\"M 144.894531 299.75 C 144.894531 308.03125 138.179688 314.75 129.894531 314.75 C 121.613281 314.75 114.894531 308.03125 114.894531 299.75 C 114.894531 291.464844 121.613281 284.75 129.894531 284.75 C 138.179688 284.75 144.894531 291.464844 144.894531 299.75 \"/>\n",
       "<path style=\"fill-rule:nonzero;fill:rgb(100%,100%,100%);fill-opacity:1;stroke-width:1;stroke-linecap:butt;stroke-linejoin:miter;stroke:rgb(0%,0%,0%);stroke-opacity:1;stroke-miterlimit:10;\" d=\"M 135 250 C 135 258.285156 128.285156 265 120 265 C 111.714844 265 105 258.285156 105 250 C 105 241.714844 111.714844 235 120 235 C 128.285156 235 135 241.714844 135 250 \"/>\n",
       "<path style=\"fill-rule:nonzero;fill:rgb(100%,100%,100%);fill-opacity:1;stroke-width:1;stroke-linecap:butt;stroke-linejoin:miter;stroke:rgb(0%,0%,0%);stroke-opacity:1;stroke-miterlimit:10;\" d=\"M 144.894531 200.25 C 144.894531 208.535156 138.179688 215.25 129.894531 215.25 C 121.613281 215.25 114.894531 208.535156 114.894531 200.25 C 114.894531 191.96875 121.613281 185.25 129.894531 185.25 C 138.179688 185.25 144.894531 191.96875 144.894531 200.25 \"/>\n",
       "<path style=\"fill-rule:nonzero;fill:rgb(100%,100%,100%);fill-opacity:1;stroke-width:1;stroke-linecap:butt;stroke-linejoin:miter;stroke:rgb(0%,0%,0%);stroke-opacity:1;stroke-miterlimit:10;\" d=\"M 173.074219 158.074219 C 173.074219 166.359375 166.359375 173.074219 158.074219 173.074219 C 149.792969 173.074219 143.074219 166.359375 143.074219 158.074219 C 143.074219 149.792969 149.792969 143.074219 158.074219 143.074219 C 166.359375 143.074219 173.074219 149.792969 173.074219 158.074219 \"/>\n",
       "<path style=\"fill-rule:nonzero;fill:rgb(100%,100%,100%);fill-opacity:1;stroke-width:1;stroke-linecap:butt;stroke-linejoin:miter;stroke:rgb(0%,0%,0%);stroke-opacity:1;stroke-miterlimit:10;\" d=\"M 215.25 129.894531 C 215.25 138.179688 208.535156 144.894531 200.25 144.894531 C 191.96875 144.894531 185.25 138.179688 185.25 129.894531 C 185.25 121.613281 191.96875 114.894531 200.25 114.894531 C 208.535156 114.894531 215.25 121.613281 215.25 129.894531 \"/>\n",
       "<path style=\"fill-rule:nonzero;fill:rgb(100%,100%,100%);fill-opacity:1;stroke-width:1;stroke-linecap:butt;stroke-linejoin:miter;stroke:rgb(0%,0%,0%);stroke-opacity:1;stroke-miterlimit:10;\" d=\"M 265 120 C 265 128.285156 258.285156 135 250 135 C 241.714844 135 235 128.285156 235 120 C 235 111.714844 241.714844 105 250 105 C 258.285156 105 265 111.714844 265 120 \"/>\n",
       "<path style=\"fill-rule:nonzero;fill:rgb(100%,100%,100%);fill-opacity:1;stroke-width:1;stroke-linecap:butt;stroke-linejoin:miter;stroke:rgb(0%,0%,0%);stroke-opacity:1;stroke-miterlimit:10;\" d=\"M 314.75 129.894531 C 314.75 138.179688 308.03125 144.894531 299.75 144.894531 C 291.464844 144.894531 284.75 138.179688 284.75 129.894531 C 284.75 121.613281 291.464844 114.894531 299.75 114.894531 C 308.03125 114.894531 314.75 121.613281 314.75 129.894531 \"/>\n",
       "<path style=\"fill-rule:nonzero;fill:rgb(100%,100%,100%);fill-opacity:1;stroke-width:1;stroke-linecap:butt;stroke-linejoin:miter;stroke:rgb(0%,0%,0%);stroke-opacity:1;stroke-miterlimit:10;\" d=\"M 356.925781 158.074219 C 356.925781 166.359375 350.207031 173.074219 341.925781 173.074219 C 333.640625 173.074219 326.925781 166.359375 326.925781 158.074219 C 326.925781 149.792969 333.640625 143.074219 341.925781 143.074219 C 350.207031 143.074219 356.925781 149.792969 356.925781 158.074219 \"/>\n",
       "<path style=\"fill-rule:nonzero;fill:rgb(100%,100%,100%);fill-opacity:1;stroke-width:1;stroke-linecap:butt;stroke-linejoin:miter;stroke:rgb(0%,0%,0%);stroke-opacity:1;stroke-miterlimit:10;\" d=\"M 385.105469 200.25 C 385.105469 208.535156 378.386719 215.25 370.105469 215.25 C 361.820313 215.25 355.105469 208.535156 355.105469 200.25 C 355.105469 191.96875 361.820313 185.25 370.105469 185.25 C 378.386719 185.25 385.105469 191.96875 385.105469 200.25 \"/>\n",
       "<g style=\"fill:rgb(0%,0%,0%);fill-opacity:1;\">\n",
       "  <use xlink:href=\"#glyph0-1\" x=\"372.34375\" y=\"256.53125\"/>\n",
       "  <use xlink:href=\"#glyph0-2\" x=\"380.129883\" y=\"256.53125\"/>\n",
       "</g>\n",
       "<g style=\"fill:rgb(0%,0%,0%);fill-opacity:1;\">\n",
       "  <use xlink:href=\"#glyph0-1\" x=\"362.394531\" y=\"306.28125\"/>\n",
       "  <use xlink:href=\"#glyph0-3\" x=\"370.180664\" y=\"306.28125\"/>\n",
       "</g>\n",
       "<g style=\"fill:rgb(0%,0%,0%);fill-opacity:1;\">\n",
       "  <use xlink:href=\"#glyph0-4\" x=\"334.179688\" y=\"348.457031\"/>\n",
       "  <use xlink:href=\"#glyph0-2\" x=\"341.96582\" y=\"348.457031\"/>\n",
       "</g>\n",
       "<g style=\"fill:rgb(0%,0%,0%);fill-opacity:1;\">\n",
       "  <use xlink:href=\"#glyph0-4\" x=\"291.949219\" y=\"376.636719\"/>\n",
       "  <use xlink:href=\"#glyph0-3\" x=\"299.735352\" y=\"376.636719\"/>\n",
       "</g>\n",
       "<g style=\"fill:rgb(0%,0%,0%);fill-opacity:1;\">\n",
       "  <use xlink:href=\"#glyph0-5\" x=\"242.460938\" y=\"386.53125\"/>\n",
       "  <use xlink:href=\"#glyph0-2\" x=\"250.24707\" y=\"386.53125\"/>\n",
       "</g>\n",
       "<g style=\"fill:rgb(0%,0%,0%);fill-opacity:1;\">\n",
       "  <use xlink:href=\"#glyph0-5\" x=\"192.65625\" y=\"376.613281\"/>\n",
       "  <use xlink:href=\"#glyph0-3\" x=\"200.442383\" y=\"376.613281\"/>\n",
       "</g>\n",
       "<g style=\"fill:rgb(0%,0%,0%);fill-opacity:1;\">\n",
       "  <use xlink:href=\"#glyph0-3\" x=\"150.335938\" y=\"348.457031\"/>\n",
       "  <use xlink:href=\"#glyph0-2\" x=\"158.12207\" y=\"348.457031\"/>\n",
       "</g>\n",
       "<g style=\"fill:rgb(0%,0%,0%);fill-opacity:1;\">\n",
       "  <use xlink:href=\"#glyph0-3\" x=\"122.097656\" y=\"306.191406\"/>\n",
       "  <use xlink:href=\"#glyph0-3\" x=\"129.883789\" y=\"306.191406\"/>\n",
       "</g>\n",
       "<g style=\"fill:rgb(0%,0%,0%);fill-opacity:1;\">\n",
       "  <use xlink:href=\"#glyph0-6\" x=\"112.285156\" y=\"256.53125\"/>\n",
       "  <use xlink:href=\"#glyph0-2\" x=\"120.071289\" y=\"256.53125\"/>\n",
       "</g>\n",
       "<g style=\"fill:rgb(0%,0%,0%);fill-opacity:1;\">\n",
       "  <use xlink:href=\"#glyph0-6\" x=\"122.125\" y=\"206.78125\"/>\n",
       "  <use xlink:href=\"#glyph0-3\" x=\"129.911133\" y=\"206.78125\"/>\n",
       "</g>\n",
       "<g style=\"fill:rgb(0%,0%,0%);fill-opacity:1;\">\n",
       "  <use xlink:href=\"#glyph0-7\" x=\"150.292969\" y=\"164.605469\"/>\n",
       "  <use xlink:href=\"#glyph0-2\" x=\"158.079102\" y=\"164.605469\"/>\n",
       "</g>\n",
       "<g style=\"fill:rgb(0%,0%,0%);fill-opacity:1;\">\n",
       "  <use xlink:href=\"#glyph0-7\" x=\"192.414063\" y=\"136.339844\"/>\n",
       "  <use xlink:href=\"#glyph0-3\" x=\"200.200195\" y=\"136.339844\"/>\n",
       "</g>\n",
       "<g style=\"fill:rgb(0%,0%,0%);fill-opacity:1;\">\n",
       "  <use xlink:href=\"#glyph0-8\" x=\"242.265625\" y=\"126.53125\"/>\n",
       "  <use xlink:href=\"#glyph0-2\" x=\"250.051758\" y=\"126.53125\"/>\n",
       "</g>\n",
       "<g style=\"fill:rgb(0%,0%,0%);fill-opacity:1;\">\n",
       "  <use xlink:href=\"#glyph0-8\" x=\"291.960938\" y=\"136.425781\"/>\n",
       "  <use xlink:href=\"#glyph0-3\" x=\"299.74707\" y=\"136.425781\"/>\n",
       "</g>\n",
       "<g style=\"fill:rgb(0%,0%,0%);fill-opacity:1;\">\n",
       "  <use xlink:href=\"#glyph0-9\" x=\"334.183594\" y=\"164.605469\"/>\n",
       "  <use xlink:href=\"#glyph0-2\" x=\"341.969727\" y=\"164.605469\"/>\n",
       "</g>\n",
       "<g style=\"fill:rgb(0%,0%,0%);fill-opacity:1;\">\n",
       "  <use xlink:href=\"#glyph0-9\" x=\"362.308594\" y=\"206.78125\"/>\n",
       "  <use xlink:href=\"#glyph0-3\" x=\"370.094727\" y=\"206.78125\"/>\n",
       "</g>\n",
       "</g>\n",
       "</svg>\n"
      ],
      "text/plain": [
       "<igraph.drawing.Plot at 0x1ecd0ab9f08>"
      ]
     },
     "execution_count": 42,
     "metadata": {
      "image/svg+xml": {
       "isolated": true
      }
     },
     "output_type": "execute_result"
    }
   ],
   "source": [
    "### plottrain set\n",
    "colors = ['red', 'white', 'blue', 'green']\n",
    "membership_vector = to_membership_vector(partition)\n",
    "visual_style = {\n",
    "    \"vertex_size\" : 30,\n",
    "    \"vertex_label\": [ x[1:] for x in data_df.loc[ : ,  'X20':'X95'].columns.values],\n",
    "    \"edge_width\" : [np.log2(x/100) for x in clusterer_igraph.graph_.es['weight']],\n",
    "    \"vertex_color\": [colors[membership_vector[i]] for i in range(y.shape[1])],\n",
    "    \"bbox\": (500,500),\n",
    "    \"margin\": 120,\n",
    "    \"layout\": clusterer_igraph.graph_.layout_circle(),\n",
    "    \"autocurve\":True,\n",
    "    \"edge_curved\":0.5\n",
    "}\n",
    "\n",
    "def testplot(graph, name):\n",
    "    graph.vs['label'] = graph.vs['name']\n",
    "    out = ig.plot(clusterer_igraph.graph_, **visual_style)\n",
    "    out.save(name + '_test_peptides.png')\n",
    "    \n",
    "testplot(clusterer_igraph.graph_, 'test1')\n",
    "ig.plot(clusterer_igraph.graph_, **visual_style)\n",
    "#ig.write(clusterer_igraph.graph_, filename=\"test.svg\")"
   ]
  },
  {
   "cell_type": "code",
   "execution_count": null,
   "metadata": {},
   "outputs": [],
   "source": []
  },
  {
   "cell_type": "code",
   "execution_count": null,
   "metadata": {},
   "outputs": [],
   "source": []
  },
  {
   "cell_type": "code",
   "execution_count": null,
   "metadata": {},
   "outputs": [],
   "source": []
  },
  {
   "cell_type": "code",
   "execution_count": null,
   "metadata": {},
   "outputs": [],
   "source": []
  },
  {
   "cell_type": "code",
   "execution_count": null,
   "metadata": {},
   "outputs": [],
   "source": []
  },
  {
   "cell_type": "code",
   "execution_count": null,
   "metadata": {},
   "outputs": [],
   "source": []
  },
  {
   "cell_type": "code",
   "execution_count": 23,
   "metadata": {},
   "outputs": [],
   "source": [
    "#Pulling out training data to allow for other thresholds to be applied\n",
    "fulltraining = pd.concat((pd.DataFrame(y_train), data_df.loc[X_train[:, 0],['Sequence','Charge', 'SeqCharge']].reset_index(drop=True), pd.DataFrame(X_train)), axis=1)\n",
    "fulltraining.to_csv(\"50percentplusTraining.csv\")"
   ]
  },
  {
   "cell_type": "code",
   "execution_count": 24,
   "metadata": {},
   "outputs": [],
   "source": [
    "#Pulling out test data to test those other thresholds\n",
    "fulltesting = pd.concat((pd.DataFrame(y_test), data_df.loc[X_test[:, 0],['Sequence','Charge', 'SeqCharge']].reset_index(drop=True), pd.DataFrame(X_test)), axis=1)\n",
    "fulltesting.to_csv(\"50percentplusTesting.csv\")"
   ]
  },
  {
   "cell_type": "code",
   "execution_count": 25,
   "metadata": {},
   "outputs": [
    {
     "data": {
      "text/plain": [
       "array([[0.00000e+00, 2.00000e+00, 7.00000e+00, ..., 0.00000e+00,\n",
       "        0.00000e+00, 0.00000e+00],\n",
       "       [1.00000e+00, 2.00000e+00, 1.40000e+01, ..., 0.00000e+00,\n",
       "        0.00000e+00, 0.00000e+00],\n",
       "       [4.00000e+00, 3.00000e+00, 2.40000e+01, ..., 0.00000e+00,\n",
       "        0.00000e+00, 0.00000e+00],\n",
       "       ...,\n",
       "       [1.22844e+05, 2.00000e+00, 9.00000e+00, ..., 0.00000e+00,\n",
       "        0.00000e+00, 0.00000e+00],\n",
       "       [1.22845e+05, 2.00000e+00, 1.10000e+01, ..., 0.00000e+00,\n",
       "        0.00000e+00, 0.00000e+00],\n",
       "       [1.22846e+05, 2.00000e+00, 1.10000e+01, ..., 0.00000e+00,\n",
       "        0.00000e+00, 0.00000e+00]])"
      ]
     },
     "execution_count": 25,
     "metadata": {},
     "output_type": "execute_result"
    }
   ],
   "source": [
    "X_train"
   ]
  }
 ],
 "metadata": {
  "kernelspec": {
   "display_name": "tf2",
   "language": "python",
   "name": "tf2"
  },
  "language_info": {
   "codemirror_mode": {
    "name": "ipython",
    "version": 3
   },
   "file_extension": ".py",
   "mimetype": "text/x-python",
   "name": "python",
   "nbconvert_exporter": "python",
   "pygments_lexer": "ipython3",
   "version": "3.7.7"
  }
 },
 "nbformat": 4,
 "nbformat_minor": 2
}
