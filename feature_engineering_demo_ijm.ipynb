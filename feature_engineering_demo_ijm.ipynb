{
 "cells": [
  {
   "cell_type": "markdown",
   "metadata": {},
   "source": [
    "# Set up and validate example model"
   ]
  },
  {
   "cell_type": "code",
   "execution_count": null,
   "metadata": {},
   "outputs": [],
   "source": [
    "import pandas as pd\n",
    "import sklearn"
   ]
  },
  {
   "cell_type": "code",
   "execution_count": null,
   "metadata": {},
   "outputs": [],
   "source": [
    "# Path to Alex's data\n",
    "# Path in network drive: /Volumes/Projects/FAIMS/txt_CV_data/evidence.txt\n",
    "\n",
    "import_columns = [\n",
    "       'Sequence','Length', \n",
    "       'Charge', 'm/z', 'Resolution',\n",
    "       'Retention time','Retention length', \n",
    "       'Number of data points', 'Number of scans', \n",
    "       'MS/MS count', 'MS/MS scan number', 'Score',\n",
    "       'Intensity']\n",
    "\n",
    "evidence_df = pd.read_csv(\"data/evidence.txt\", sep=\"\\t\", low_memory=False, na_values='NaN', usecols=import_columns)"
   ]
  },
  {
   "cell_type": "code",
   "execution_count": null,
   "metadata": {},
   "outputs": [],
   "source": [
    "evidence_df.head()"
   ]
  },
  {
   "cell_type": "code",
   "execution_count": null,
   "metadata": {},
   "outputs": [],
   "source": [
    "evidence_df.dropna(how='any', axis=0, inplace=True)\n",
    "evidence_df.head()"
   ]
  },
  {
   "cell_type": "code",
   "execution_count": null,
   "metadata": {},
   "outputs": [],
   "source": [
    "evidence_df.columns"
   ]
  },
  {
   "cell_type": "code",
   "execution_count": null,
   "metadata": {},
   "outputs": [],
   "source": [
    "feature_subset1 = ['Length', \n",
    "       'Charge', 'm/z', 'Resolution',\n",
    "       'Retention time','Retention length', \n",
    "       'Number of data points', 'Number of scans', \n",
    "       'MS/MS count', 'MS/MS scan number', 'Score']\n",
    "target_value = ['Intensity']"
   ]
  },
  {
   "cell_type": "code",
   "execution_count": 87,
   "metadata": {},
   "outputs": [],
   "source": [
    "from sklearn.cross_validation import train_test_split\n",
    "\n",
    "X = evidence_df[feature_subset1]\n",
    "y = evidence_df[target_value]\n",
    "\n",
    "# split the data with 50% in each set\n",
    "X1, X2, y1, y2 = train_test_split(X, y, random_state=0,\n",
    "                                  train_size=0.5)\n",
    "\n",
    "y1 = y1.values.ravel() #Flatten the vector for formatting reasons\n",
    "y2 = y2.values.ravel()"
   ]
  },
  {
   "cell_type": "code",
   "execution_count": null,
   "metadata": {},
   "outputs": [],
   "source": [
    "X1.head()\n",
    "y1.head()"
   ]
  },
  {
   "cell_type": "code",
   "execution_count": null,
   "metadata": {},
   "outputs": [],
   "source": [
    "from sklearn.ensemble import RandomForestRegressor\n",
    "import numpy as np\n",
    "forest = RandomForestRegressor(200)\n",
    "\n",
    "# fit the model on one set of data\n",
    "forest.fit(X1,y1)\n",
    "\n",
    "# evaluate the model on the second set of data\n",
    "y2_model = forest.predict(X2)"
   ]
  },
  {
   "cell_type": "code",
   "execution_count": null,
   "metadata": {},
   "outputs": [],
   "source": [
    "y1.head()"
   ]
  },
  {
   "cell_type": "code",
   "execution_count": null,
   "metadata": {},
   "outputs": [],
   "source": [
    "y1.head().values.ravel()"
   ]
  },
  {
   "cell_type": "code",
   "execution_count": null,
   "metadata": {},
   "outputs": [],
   "source": [
    "len(y2_model)"
   ]
  },
  {
   "cell_type": "code",
   "execution_count": null,
   "metadata": {},
   "outputs": [],
   "source": [
    "len(y2.values.ravel())"
   ]
  },
  {
   "cell_type": "code",
   "execution_count": 88,
   "metadata": {},
   "outputs": [
    {
     "data": {
      "text/plain": [
       "86443145.88969207"
      ]
     },
     "execution_count": 88,
     "metadata": {},
     "output_type": "execute_result"
    }
   ],
   "source": [
    "from sklearn.metrics import mean_squared_error\n",
    "np.sqrt(mean_squared_error(y2, y2_model))"
   ]
  },
  {
   "cell_type": "code",
   "execution_count": null,
   "metadata": {},
   "outputs": [],
   "source": [
    "from sklearn.cross_validation import cross_val_predict\n",
    "import matplotlib.pyplot as plt\n",
    "\n",
    "forest1 = RandomForestRegressor(200)\n",
    "predicted = cross_val_predict(forest1, X2, y2, cv=10)\n",
    "\n",
    "#lr = linear_model.LinearRegression()\n",
    "#boston = datasets.load_boston()\n",
    "#y = boston.target\n",
    "\n",
    "# cross_val_predict returns an array of the same size as `y` where each entry\n",
    "# is a prediction obtained by cross validated:\n",
    "#predicted = cross_val_predict(lr, boston.data, y, cv=10)\n",
    "\n",
    "fig,ax = plt.subplots()\n",
    "ax.scatter(y, predicted)\n",
    "ax.plot([y2.min(), y2.max()], [y2.min(), y2.max()], 'k--', lw=4)\n",
    "ax.set_xlabel('Measured')\n",
    "ax.set_ylabel('Predicted')\n",
    "fig.show()"
   ]
  },
  {
   "cell_type": "code",
   "execution_count": null,
   "metadata": {},
   "outputs": [],
   "source": [
    "forest.predict(X2)"
   ]
  },
  {
   "cell_type": "code",
   "execution_count": 91,
   "metadata": {},
   "outputs": [
    {
     "data": {
      "text/html": [
       "<div>\n",
       "<style scoped>\n",
       "    .dataframe tbody tr th:only-of-type {\n",
       "        vertical-align: middle;\n",
       "    }\n",
       "\n",
       "    .dataframe tbody tr th {\n",
       "        vertical-align: top;\n",
       "    }\n",
       "\n",
       "    .dataframe thead th {\n",
       "        text-align: right;\n",
       "    }\n",
       "</style>\n",
       "<table border=\"1\" class=\"dataframe\">\n",
       "  <thead>\n",
       "    <tr style=\"text-align: right;\">\n",
       "      <th></th>\n",
       "      <th>Length</th>\n",
       "      <th>Charge</th>\n",
       "      <th>m/z</th>\n",
       "      <th>Resolution</th>\n",
       "      <th>Retention time</th>\n",
       "      <th>Retention length</th>\n",
       "      <th>Number of data points</th>\n",
       "      <th>Number of scans</th>\n",
       "      <th>MS/MS count</th>\n",
       "      <th>MS/MS scan number</th>\n",
       "      <th>Score</th>\n",
       "    </tr>\n",
       "  </thead>\n",
       "  <tbody>\n",
       "    <tr>\n",
       "      <th>371312</th>\n",
       "      <td>14.0</td>\n",
       "      <td>3.0</td>\n",
       "      <td>609.617443</td>\n",
       "      <td>147275.0</td>\n",
       "      <td>42.445</td>\n",
       "      <td>0.134780</td>\n",
       "      <td>20.0</td>\n",
       "      <td>7.0</td>\n",
       "      <td>1.0</td>\n",
       "      <td>83754.0</td>\n",
       "      <td>59.864</td>\n",
       "    </tr>\n",
       "    <tr>\n",
       "      <th>131319</th>\n",
       "      <td>25.0</td>\n",
       "      <td>4.0</td>\n",
       "      <td>713.612534</td>\n",
       "      <td>136794.6</td>\n",
       "      <td>36.522</td>\n",
       "      <td>0.185180</td>\n",
       "      <td>32.0</td>\n",
       "      <td>10.0</td>\n",
       "      <td>1.0</td>\n",
       "      <td>78485.0</td>\n",
       "      <td>58.457</td>\n",
       "    </tr>\n",
       "    <tr>\n",
       "      <th>213274</th>\n",
       "      <td>13.0</td>\n",
       "      <td>2.0</td>\n",
       "      <td>762.946464</td>\n",
       "      <td>131336.8</td>\n",
       "      <td>27.053</td>\n",
       "      <td>0.083527</td>\n",
       "      <td>12.0</td>\n",
       "      <td>4.0</td>\n",
       "      <td>1.0</td>\n",
       "      <td>48031.0</td>\n",
       "      <td>79.070</td>\n",
       "    </tr>\n",
       "    <tr>\n",
       "      <th>115250</th>\n",
       "      <td>17.0</td>\n",
       "      <td>2.0</td>\n",
       "      <td>956.463404</td>\n",
       "      <td>135959.9</td>\n",
       "      <td>25.032</td>\n",
       "      <td>0.134350</td>\n",
       "      <td>21.0</td>\n",
       "      <td>7.0</td>\n",
       "      <td>1.0</td>\n",
       "      <td>49376.0</td>\n",
       "      <td>36.944</td>\n",
       "    </tr>\n",
       "    <tr>\n",
       "      <th>148382</th>\n",
       "      <td>8.0</td>\n",
       "      <td>2.0</td>\n",
       "      <td>513.214280</td>\n",
       "      <td>166812.0</td>\n",
       "      <td>14.345</td>\n",
       "      <td>0.134560</td>\n",
       "      <td>20.0</td>\n",
       "      <td>7.0</td>\n",
       "      <td>1.0</td>\n",
       "      <td>16554.0</td>\n",
       "      <td>124.980</td>\n",
       "    </tr>\n",
       "  </tbody>\n",
       "</table>\n",
       "</div>"
      ],
      "text/plain": [
       "        Length  Charge         m/z  Resolution  Retention time  \\\n",
       "371312    14.0     3.0  609.617443    147275.0          42.445   \n",
       "131319    25.0     4.0  713.612534    136794.6          36.522   \n",
       "213274    13.0     2.0  762.946464    131336.8          27.053   \n",
       "115250    17.0     2.0  956.463404    135959.9          25.032   \n",
       "148382     8.0     2.0  513.214280    166812.0          14.345   \n",
       "\n",
       "        Retention length  Number of data points  Number of scans  MS/MS count  \\\n",
       "371312          0.134780                   20.0              7.0          1.0   \n",
       "131319          0.185180                   32.0             10.0          1.0   \n",
       "213274          0.083527                   12.0              4.0          1.0   \n",
       "115250          0.134350                   21.0              7.0          1.0   \n",
       "148382          0.134560                   20.0              7.0          1.0   \n",
       "\n",
       "        MS/MS scan number    Score  \n",
       "371312            83754.0   59.864  \n",
       "131319            78485.0   58.457  \n",
       "213274            48031.0   79.070  \n",
       "115250            49376.0   36.944  \n",
       "148382            16554.0  124.980  "
      ]
     },
     "execution_count": 91,
     "metadata": {},
     "output_type": "execute_result"
    }
   ],
   "source": [
    "X2.head()"
   ]
  },
  {
   "cell_type": "code",
   "execution_count": 92,
   "metadata": {},
   "outputs": [
    {
     "data": {
      "text/plain": [
       "Length                       25.000000\n",
       "Charge                        4.000000\n",
       "m/z                         713.612534\n",
       "Resolution               136794.600000\n",
       "Retention time               36.522000\n",
       "Retention length              0.185180\n",
       "Number of data points        32.000000\n",
       "Number of scans              10.000000\n",
       "MS/MS count                   1.000000\n",
       "MS/MS scan number         78485.000000\n",
       "Score                        58.457000\n",
       "Name: 131319, dtype: float64"
      ]
     },
     "execution_count": 92,
     "metadata": {},
     "output_type": "execute_result"
    }
   ],
   "source": [
    "X2.iloc[1]"
   ]
  },
  {
   "cell_type": "code",
   "execution_count": 97,
   "metadata": {},
   "outputs": [],
   "source": [
    "example_peptide_feature_matrix = (np.array(X2.iloc[1]).reshape(1, -1))"
   ]
  },
  {
   "cell_type": "code",
   "execution_count": 98,
   "metadata": {},
   "outputs": [
    {
     "data": {
      "text/plain": [
       "array([[2.50000000e+01, 4.00000000e+00, 7.13612534e+02, 1.36794600e+05,\n",
       "        3.65220000e+01, 1.85180000e-01, 3.20000000e+01, 1.00000000e+01,\n",
       "        1.00000000e+00, 7.84850000e+04, 5.84570000e+01]])"
      ]
     },
     "execution_count": 98,
     "metadata": {},
     "output_type": "execute_result"
    }
   ],
   "source": [
    "example_peptide_feature_matrix"
   ]
  },
  {
   "cell_type": "code",
   "execution_count": 96,
   "metadata": {},
   "outputs": [
    {
     "data": {
      "text/plain": [
       "array([15849678.])"
      ]
     },
     "execution_count": 96,
     "metadata": {},
     "output_type": "execute_result"
    }
   ],
   "source": [
    "forest.predict"
   ]
  },
  {
   "cell_type": "markdown",
   "metadata": {},
   "source": [
    "### What Justin's data actually looks like:"
   ]
  },
  {
   "cell_type": "code",
   "execution_count": 99,
   "metadata": {},
   "outputs": [
    {
     "data": {
      "text/html": [
       "<div>\n",
       "<style scoped>\n",
       "    .dataframe tbody tr th:only-of-type {\n",
       "        vertical-align: middle;\n",
       "    }\n",
       "\n",
       "    .dataframe tbody tr th {\n",
       "        vertical-align: top;\n",
       "    }\n",
       "\n",
       "    .dataframe thead th {\n",
       "        text-align: right;\n",
       "    }\n",
       "</style>\n",
       "<table border=\"1\" class=\"dataframe\">\n",
       "  <thead>\n",
       "    <tr style=\"text-align: right;\">\n",
       "      <th></th>\n",
       "      <th>Sequence</th>\n",
       "      <th>Charge</th>\n",
       "      <th>Intensity</th>\n",
       "      <th>Length.x</th>\n",
       "      <th>Max Intensity CV</th>\n",
       "      <th>A.Count</th>\n",
       "      <th>R.Count</th>\n",
       "      <th>N.Count</th>\n",
       "      <th>D.Count</th>\n",
       "      <th>C.Count</th>\n",
       "      <th>...</th>\n",
       "      <th>M.Count</th>\n",
       "      <th>F.Count</th>\n",
       "      <th>P.Count</th>\n",
       "      <th>S.Count</th>\n",
       "      <th>T.Count</th>\n",
       "      <th>W.Count</th>\n",
       "      <th>Y.Count</th>\n",
       "      <th>V.Count</th>\n",
       "      <th>U.Count</th>\n",
       "      <th>O.Count</th>\n",
       "    </tr>\n",
       "  </thead>\n",
       "  <tbody>\n",
       "    <tr>\n",
       "      <th>0</th>\n",
       "      <td>AAAAAAAAAAAAAAAGAGAGAK</td>\n",
       "      <td>2</td>\n",
       "      <td>548850.0</td>\n",
       "      <td>22</td>\n",
       "      <td>25</td>\n",
       "      <td>18</td>\n",
       "      <td>0</td>\n",
       "      <td>0</td>\n",
       "      <td>0</td>\n",
       "      <td>0</td>\n",
       "      <td>...</td>\n",
       "      <td>0</td>\n",
       "      <td>0</td>\n",
       "      <td>0</td>\n",
       "      <td>0</td>\n",
       "      <td>0</td>\n",
       "      <td>0</td>\n",
       "      <td>0</td>\n",
       "      <td>0</td>\n",
       "      <td>0</td>\n",
       "      <td>0</td>\n",
       "    </tr>\n",
       "    <tr>\n",
       "      <th>1</th>\n",
       "      <td>AAAAAAAAAAAAAAAGAGAGAK</td>\n",
       "      <td>3</td>\n",
       "      <td>7280200.0</td>\n",
       "      <td>22</td>\n",
       "      <td>45</td>\n",
       "      <td>18</td>\n",
       "      <td>0</td>\n",
       "      <td>0</td>\n",
       "      <td>0</td>\n",
       "      <td>0</td>\n",
       "      <td>...</td>\n",
       "      <td>0</td>\n",
       "      <td>0</td>\n",
       "      <td>0</td>\n",
       "      <td>0</td>\n",
       "      <td>0</td>\n",
       "      <td>0</td>\n",
       "      <td>0</td>\n",
       "      <td>0</td>\n",
       "      <td>0</td>\n",
       "      <td>0</td>\n",
       "    </tr>\n",
       "    <tr>\n",
       "      <th>2</th>\n",
       "      <td>AAAAAAAAAAAATGTEAGPGTAGGSENGSEVAAQPAGLSGPAEVGP...</td>\n",
       "      <td>4</td>\n",
       "      <td>11694000.0</td>\n",
       "      <td>52</td>\n",
       "      <td>35</td>\n",
       "      <td>19</td>\n",
       "      <td>1</td>\n",
       "      <td>1</td>\n",
       "      <td>0</td>\n",
       "      <td>0</td>\n",
       "      <td>...</td>\n",
       "      <td>0</td>\n",
       "      <td>0</td>\n",
       "      <td>4</td>\n",
       "      <td>3</td>\n",
       "      <td>3</td>\n",
       "      <td>0</td>\n",
       "      <td>0</td>\n",
       "      <td>3</td>\n",
       "      <td>0</td>\n",
       "      <td>0</td>\n",
       "    </tr>\n",
       "    <tr>\n",
       "      <th>3</th>\n",
       "      <td>AAAAAAAAAAAATGTEAGPGTAGGSENGSEVAAQPAGLSGPAEVGP...</td>\n",
       "      <td>5</td>\n",
       "      <td>14383000.0</td>\n",
       "      <td>52</td>\n",
       "      <td>40</td>\n",
       "      <td>19</td>\n",
       "      <td>1</td>\n",
       "      <td>1</td>\n",
       "      <td>0</td>\n",
       "      <td>0</td>\n",
       "      <td>...</td>\n",
       "      <td>0</td>\n",
       "      <td>0</td>\n",
       "      <td>4</td>\n",
       "      <td>3</td>\n",
       "      <td>3</td>\n",
       "      <td>0</td>\n",
       "      <td>0</td>\n",
       "      <td>3</td>\n",
       "      <td>0</td>\n",
       "      <td>0</td>\n",
       "    </tr>\n",
       "    <tr>\n",
       "      <th>4</th>\n",
       "      <td>AAAAAAAAAVSR</td>\n",
       "      <td>2</td>\n",
       "      <td>14281000.0</td>\n",
       "      <td>12</td>\n",
       "      <td>60</td>\n",
       "      <td>9</td>\n",
       "      <td>1</td>\n",
       "      <td>0</td>\n",
       "      <td>0</td>\n",
       "      <td>0</td>\n",
       "      <td>...</td>\n",
       "      <td>0</td>\n",
       "      <td>0</td>\n",
       "      <td>0</td>\n",
       "      <td>1</td>\n",
       "      <td>0</td>\n",
       "      <td>0</td>\n",
       "      <td>0</td>\n",
       "      <td>1</td>\n",
       "      <td>0</td>\n",
       "      <td>0</td>\n",
       "    </tr>\n",
       "  </tbody>\n",
       "</table>\n",
       "<p>5 rows × 27 columns</p>\n",
       "</div>"
      ],
      "text/plain": [
       "                                            Sequence  Charge   Intensity  \\\n",
       "0                             AAAAAAAAAAAAAAAGAGAGAK       2    548850.0   \n",
       "1                             AAAAAAAAAAAAAAAGAGAGAK       3   7280200.0   \n",
       "2  AAAAAAAAAAAATGTEAGPGTAGGSENGSEVAAQPAGLSGPAEVGP...       4  11694000.0   \n",
       "3  AAAAAAAAAAAATGTEAGPGTAGGSENGSEVAAQPAGLSGPAEVGP...       5  14383000.0   \n",
       "4                                       AAAAAAAAAVSR       2  14281000.0   \n",
       "\n",
       "   Length.x  Max Intensity CV  A.Count  R.Count  N.Count  D.Count  C.Count  \\\n",
       "0        22                25       18        0        0        0        0   \n",
       "1        22                45       18        0        0        0        0   \n",
       "2        52                35       19        1        1        0        0   \n",
       "3        52                40       19        1        1        0        0   \n",
       "4        12                60        9        1        0        0        0   \n",
       "\n",
       "    ...     M.Count  F.Count  P.Count  S.Count  T.Count  W.Count  Y.Count  \\\n",
       "0   ...           0        0        0        0        0        0        0   \n",
       "1   ...           0        0        0        0        0        0        0   \n",
       "2   ...           0        0        4        3        3        0        0   \n",
       "3   ...           0        0        4        3        3        0        0   \n",
       "4   ...           0        0        0        1        0        0        0   \n",
       "\n",
       "   V.Count  U.Count  O.Count  \n",
       "0        0        0        0  \n",
       "1        0        0        0  \n",
       "2        3        0        0  \n",
       "3        3        0        0  \n",
       "4        1        0        0  \n",
       "\n",
       "[5 rows x 27 columns]"
      ]
     },
     "execution_count": 99,
     "metadata": {},
     "output_type": "execute_result"
    }
   ],
   "source": [
    "parsed_df = pd.read_csv(\"Features_MaxCVs.csv\")\n",
    "parsed_df.head()"
   ]
  },
  {
   "cell_type": "code",
   "execution_count": 100,
   "metadata": {},
   "outputs": [
    {
     "data": {
      "text/plain": [
       "Index(['Sequence', 'Charge', 'Intensity', 'Length.x', 'Max Intensity CV',\n",
       "       'A.Count', 'R.Count', 'N.Count', 'D.Count', 'C.Count', 'Q.Count',\n",
       "       'E.Count', 'G.Count', 'H.Count', 'I.Count', 'L.Count', 'K.Count',\n",
       "       'M.Count', 'F.Count', 'P.Count', 'S.Count', 'T.Count', 'W.Count',\n",
       "       'Y.Count', 'V.Count', 'U.Count', 'O.Count'],\n",
       "      dtype='object')"
      ]
     },
     "execution_count": 100,
     "metadata": {},
     "output_type": "execute_result"
    }
   ],
   "source": [
    "parsed_df.columns"
   ]
  },
  {
   "cell_type": "code",
   "execution_count": null,
   "metadata": {},
   "outputs": [],
   "source": []
  }
 ],
 "metadata": {
  "kernelspec": {
   "display_name": "Python 3",
   "language": "python",
   "name": "python3"
  },
  "language_info": {
   "codemirror_mode": {
    "name": "ipython",
    "version": 3
   },
   "file_extension": ".py",
   "mimetype": "text/x-python",
   "name": "python",
   "nbconvert_exporter": "python",
   "pygments_lexer": "ipython3",
   "version": "3.6.5"
  }
 },
 "nbformat": 4,
 "nbformat_minor": 2
}
