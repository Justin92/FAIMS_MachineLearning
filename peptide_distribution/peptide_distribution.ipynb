{
 "cells": [
  {
   "cell_type": "code",
   "execution_count": 1,
   "id": "93b1ac5a-54d1-4c94-80eb-3e63bcde24ae",
   "metadata": {},
   "outputs": [],
   "source": [
    "peptide_filepath = \"data/LSTM_ecoli_true.csv\""
   ]
  },
  {
   "cell_type": "code",
   "execution_count": 2,
   "id": "89dc1c77-f84e-4b21-8f28-ddec3286a04a",
   "metadata": {},
   "outputs": [],
   "source": [
    "import scipy\n",
    "import numpy as np\n",
    "import pandas as pd\n",
    "from collections import defaultdict as dd\n",
    "from matplotlib import pyplot as plt"
   ]
  },
  {
   "cell_type": "code",
   "execution_count": 3,
   "id": "682284c2-62cf-4cf4-8da0-2691c9d27cb3",
   "metadata": {},
   "outputs": [],
   "source": [
    "# Load data\n",
    "dat = pd.read_csv(peptide_filepath, index_col=0)"
   ]
  },
  {
   "cell_type": "code",
   "execution_count": 4,
   "id": "8bdf5a57-0c2c-47fe-892e-198b2235ead1",
   "metadata": {},
   "outputs": [],
   "source": [
    "# CV columns start with \"X\" due to some limitation in R; remove that and convert to ints\n",
    "x = [int(i[1:]) for i in dat.columns if i.startswith(\"X\")]"
   ]
  },
  {
   "cell_type": "code",
   "execution_count": 5,
   "id": "c99e0002-42db-4ea7-90ae-997655711a25",
   "metadata": {},
   "outputs": [],
   "source": [
    "# Split peptides according to their CVmax; put full signal in dict\n",
    "cvmax = dd(list)\n",
    "for i in range(dat.shape[0]):\n",
    "     pmax = x[np.argmax(dat.iloc[i,:])]\n",
    "     cvmax[pmax].append(dat.iloc[i,:].values)"
   ]
  },
  {
   "cell_type": "code",
   "execution_count": 6,
   "id": "10fd6c68-0069-4d54-998d-7a92b2a21418",
   "metadata": {},
   "outputs": [],
   "source": [
    "def compute_meanvar_from_dist(value, freq) -> (float, float):\n",
    "    \"\"\"\n",
    "    Computes the mean and variance of a population distribution (histogram).\n",
    "    \"\"\"\n",
    "    m = np.sum(value*freq) / np.sum(freq)\n",
    "    var = np.sum(freq * (value-m)**2) / np.sum(freq)\n",
    "    return m, var"
   ]
  },
  {
   "cell_type": "code",
   "execution_count": 7,
   "id": "57b074b5-334b-4593-9368-ab1c15b84b5c",
   "metadata": {},
   "outputs": [
    {
     "name": "stdout",
     "output_type": "stream",
     "text": [
      "cv: 20\n",
      "cv: 25\n",
      "cv: 30\n",
      "cv: 35\n",
      "cv: 40\n",
      "cv: 45\n",
      "cv: 50\n",
      "cv: 55\n",
      "cv: 60\n",
      "cv: 65\n",
      "cv: 70\n",
      "cv: 75\n",
      "cv: 80\n",
      "cv: 85\n",
      "cv: 90\n",
      "cv: 95\n"
     ]
    }
   ],
   "source": [
    "dist_list2 = dd(list)\n",
    "pvals2 = dd(list)\n",
    "num_repetitions = 100\n",
    "num_samples = 1000\n",
    "for i in x:\n",
    "     print(f\"cv: {i}\")\n",
    "     for sig in cvmax[i]:\n",
    "         m, v = compute_meanvar_from_dist(x, sig)\n",
    "#        g = scipy.stats.norm.pdf(x, i, np.sqrt(np.mean(all_vars)))  # more generous assumption: all distributions are the same and sufficiently summarized by CVmax\n",
    "         g = scipy.stats.norm.pdf(x, m, np.sqrt(v))  # less generous assumption: distribution can be summarized by its mean and variance\n",
    "         dist = scipy.stats.wasserstein_distance(sig/np.sum(sig), g/np.sum(g))\n",
    "         p_count = 0\n",
    "         if np.sum(g) == 0:\n",
    "             continue\n",
    "         for j in range(num_repetitions):\n",
    "             ref = np.random.choice(x, size=num_samples, p=g/np.sum(g))\n",
    "             ref_distr = np.histogram(ref, bins=x + [x[-1]*2-x[-2]])[0]\n",
    "             ref_distance = scipy.stats.wasserstein_distance(ref_distr/np.sum(ref_distr), g/np.sum(g))\n",
    "             if dist > ref_distance:\n",
    "                 p_count += 1\n",
    "         pvals2[i].append(p_count/(j+1))\n",
    "         dist_list2[i].append(dist)"
   ]
  },
  {
   "cell_type": "code",
   "execution_count": 8,
   "id": "c433bf99-8ddd-4d2a-9f94-bbba675eede6",
   "metadata": {},
   "outputs": [
    {
     "name": "stderr",
     "output_type": "stream",
     "text": [
      "/tmp/ipykernel_30701/428038384.py:2: RuntimeWarning: invalid value encountered in scalar divide\n",
      "  plt.bar(i, np.sum(np.array(pvals2[i])>0.95) / len(pvals2[i]), color=\"#3b528b\", width=5, edgecolor=\"black\")\n"
     ]
    },
    {
     "data": {
      "image/png": "[encoded data removed]",
      "text/plain": [
       "<Figure size 640x480 with 1 Axes>"
      ]
     },
     "metadata": {},
     "output_type": "display_data"
    }
   ],
   "source": [
    "for i in x:\n",
    "    plt.bar(i, np.sum(np.array(pvals2[i])>0.95) / len(pvals2[i]), color=\"#3b528b\", width=5, edgecolor=\"black\")\n",
    "plt.xlabel(\"CV\", fontsize=20)\n",
    "plt.ylabel(\"Fraction\", fontsize=20)\n",
    "plt.title(\"Fraction of Non-Normal Peptides\", fontsize=26)\n",
    "plt.savefig(\"fraction_nonnormal2.png\")\n",
    "plt.savefig(\"fraction_nonnormal2.svg\")"
   ]
  },
  {
   "cell_type": "code",
   "execution_count": 9,
   "id": "db6384a7-2fbc-4ef6-8c4c-346ecb2a8f3c",
   "metadata": {},
   "outputs": [
    {
     "data": {
      "text/plain": [
       "[20, 25, 30, 35, 40, 45, 50, 55, 60, 65, 70, 75, 80, 85, 90, 95]"
      ]
     },
     "execution_count": 9,
     "metadata": {},
     "output_type": "execute_result"
    }
   ],
   "source": [
    "x"
   ]
  },
  {
   "cell_type": "code",
   "execution_count": 11,
   "id": "1c49dd84-e2cc-42ce-a997-771d2b060569",
   "metadata": {},
   "outputs": [
    {
     "ename": "NameError",
     "evalue": "name 'pvals' is not defined",
     "output_type": "error",
     "traceback": [
      "\u001b[0;31m---------------------------------------------------------------------------\u001b[0m",
      "\u001b[0;31mNameError\u001b[0m                                 Traceback (most recent call last)",
      "Cell \u001b[0;32mIn[11], line 1\u001b[0m\n\u001b[0;32m----> 1\u001b[0m \u001b[43mpvals\u001b[49m\u001b[38;5;241m.\u001b[39mkeys()\n",
      "\u001b[0;31mNameError\u001b[0m: name 'pvals' is not defined"
     ]
    }
   ],
   "source": [
    "pvals.keys()"
   ]
  },
  {
   "cell_type": "code",
   "execution_count": 10,
   "id": "6b25fbb0-c834-4a6b-a81b-a5fdf8514c64",
   "metadata": {},
   "outputs": [
    {
     "name": "stdout",
     "output_type": "stream",
     "text": [
      "20\n",
      "25\n",
      "30\n",
      "35\n",
      "40\n",
      "45\n",
      "50\n",
      "55\n",
      "60\n",
      "65\n",
      "70\n",
      "75\n",
      "80\n",
      "85\n",
      "90\n",
      "95\n"
     ]
    },
    {
     "name": "stderr",
     "output_type": "stream",
     "text": [
      "/tmp/ipykernel_30701/3363618916.py:4: RuntimeWarning: invalid value encountered in scalar divide\n",
      "  plt.bar(i, np.sum(np.array(pvals2[i])>0.95) / len(pvals2[i]), color=\"#3b528b\", width=5, edgecolor=\"black\")\n"
     ]
    },
    {
     "data": {
      "image/png": "[encoded data removed]",
      "text/plain": [
       "<Figure size 640x480 with 1 Axes>"
      ]
     },
     "metadata": {},
     "output_type": "display_data"
    }
   ],
   "source": [
    "plt.figure()\n",
    "for i in x:\n",
    "    print(i)\n",
    "    plt.bar(i, np.sum(np.array(pvals2[i])>0.95) / len(pvals2[i]), color=\"#3b528b\", width=5, edgecolor=\"black\")"
   ]
  },
  {
   "cell_type": "code",
   "execution_count": null,
   "id": "2338c0d0-24b5-43d3-987c-6ed387a0af51",
   "metadata": {},
   "outputs": [],
   "source": []
  }
 ],
 "metadata": {
  "kernelspec": {
   "display_name": "Python311-faimsrevision",
   "language": "python",
   "name": "python311-faimsrevision"
  },
  "language_info": {
   "codemirror_mode": {
    "name": "ipython",
    "version": 3
   },
   "file_extension": ".py",
   "mimetype": "text/x-python",
   "name": "python",
   "nbconvert_exporter": "python",
   "pygments_lexer": "ipython3",
   "version": "3.11.11"
  }
 },
 "nbformat": 4,
 "nbformat_minor": 5
}
