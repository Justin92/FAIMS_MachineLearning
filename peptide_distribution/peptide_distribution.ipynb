{
 "cells": [
  {
   "cell_type": "code",
   "execution_count": null,
   "id": "93b1ac5a-54d1-4c94-80eb-3e63bcde24ae",
   "metadata": {},
   "outputs": [],
   "source": [
    "peptide_filepath = \"../Data/human/NEW_JMMdata_maxCVvalues.txt\""
   ]
  },
  {
   "cell_type": "code",
   "execution_count": null,
   "id": "89dc1c77-f84e-4b21-8f28-ddec3286a04a",
   "metadata": {},
   "outputs": [],
   "source": [
    "import scipy\n",
    "import numpy as np\n",
    "import pandas as pd\n",
    "from collections import defaultdict as dd\n",
    "from matplotlib import pyplot as plt"
   ]
  },
  {
   "cell_type": "code",
   "execution_count": null,
   "id": "682284c2-62cf-4cf4-8da0-2691c9d27cb3",
   "metadata": {},
   "outputs": [],
   "source": [
    "# Load data\n",
    "# dat = pd.read_csv(peptide_filepath, index_col=0)\n",
    "dat = pd.read_csv(peptide_filepath, low_memory=False, sep=\"\\t\") #read in data generated from R preprocessing\n",
    "cols = dat.columns\n",
    "new_cols = []\n",
    "for c in cols:\n",
    "    if c.isnumeric():\n",
    "        new_cols.append(\"X\" + str(c))\n",
    "    elif c == \"z_modseq\":\n",
    "        new_cols.append(\"SeqCharge\")\n",
    "    else:\n",
    "        new_cols.append(c)\n",
    "dat.columns = new_cols\n",
    "\n",
    "xcols = [i for i in dat.columns if i.startswith(\"X\")]\n",
    "xcols_idx = [i for i, c in enumerate(dat.columns) if c.startswith(\"X\")]"
   ]
  },
  {
   "cell_type": "code",
   "execution_count": null,
   "id": "8bdf5a57-0c2c-47fe-892e-198b2235ead1",
   "metadata": {},
   "outputs": [],
   "source": [
    "# CV columns start with \"X\" due to some limitation in R; remove that and convert to ints\n",
    "x = [int(i[1:]) for i in dat.columns if i.startswith(\"X\")]"
   ]
  },
  {
   "cell_type": "code",
   "execution_count": null,
   "id": "741783df-02fa-4b30-9511-0a0de5a99d26",
   "metadata": {},
   "outputs": [],
   "source": [
    "x"
   ]
  },
  {
   "cell_type": "code",
   "execution_count": null,
   "id": "c99e0002-42db-4ea7-90ae-997655711a25",
   "metadata": {},
   "outputs": [],
   "source": [
    "# Split peptides according to their CVmax; put full signal in dict\n",
    "cvmax = dd(list)\n",
    "for i in range(dat.shape[0]):\n",
    "     pmax = x[np.argmax(dat.iloc[i,xcols_idx])]\n",
    "     cvmax[pmax].append(dat.iloc[i,xcols_idx].values)"
   ]
  },
  {
   "cell_type": "code",
   "execution_count": null,
   "id": "10fd6c68-0069-4d54-998d-7a92b2a21418",
   "metadata": {},
   "outputs": [],
   "source": [
    "def compute_meanvar_from_dist(value, freq) -> (float, float):\n",
    "    \"\"\"\n",
    "    Computes the mean and variance of a population distribution (histogram).\n",
    "    \"\"\"\n",
    "    m = np.sum(value*freq) / np.sum(freq)\n",
    "    var = np.sum(freq * (value-m)**2) / np.sum(freq)\n",
    "    return m, var"
   ]
  },
  {
   "cell_type": "code",
   "execution_count": null,
   "id": "3ccbaa6e-24a5-46fe-9ee6-04d42c4644ea",
   "metadata": {},
   "outputs": [],
   "source": [
    "def keep_connected_nonzero(arr):\n",
    "    # Find the index of 1 in the array\n",
    "    one_index = np.where(arr == 1)[0]\n",
    "    if len(one_index) == 0:\n",
    "        return np.zeros_like(arr)  # Return an array of zeros if 1 is not found\n",
    "    one_index = one_index[0]\n",
    "    \n",
    "    # Traverse left and right to find continuous nonzero values\n",
    "    left = one_index\n",
    "    while left > 0 and arr[left - 1] != 0:\n",
    "        left -= 1\n",
    "    \n",
    "    right = one_index\n",
    "    while right < len(arr) - 1 and arr[right + 1] != 0:\n",
    "        right += 1\n",
    "    \n",
    "    # Create a new array with zeros everywhere except the connected segment\n",
    "    result = np.zeros_like(arr)\n",
    "    result[left:right + 1] = arr[left:right + 1]\n",
    "    return result\n",
    "\n",
    "# Example array\n",
    "example_array = np.array([0, 2, 3, 1, 4, 5, 0, 6])\n",
    "result = keep_connected_nonzero(example_array)\n",
    "print(result)  # Output: [0, 2, 3, 1, 4, 5, 0, 0]\n"
   ]
  },
  {
   "cell_type": "code",
   "execution_count": null,
   "id": "2338c0d0-24b5-43d3-987c-6ed387a0af51",
   "metadata": {},
   "outputs": [],
   "source": [
    "#counting on the times when ref is greater than dist\n",
    "dist_list2 = dd(list)\n",
    "pvals2 = dd(list)\n",
    "refdist  = []\n",
    "num_repetitions = 100\n",
    "num_samples = 1000\n",
    "randomly_keep_this_sig = []\n",
    "randomly_keep_this_dist = []\n",
    "randomly_keep_this_pval = []\n",
    "random_k_value =82424\n",
    "tracking_v = []\n",
    "\n",
    "k = 0\n",
    "for i in x:\n",
    "     print(f\"cv: {i}\")\n",
    "     for sig in cvmax[i]:\n",
    "         sig = keep_connected_nonzero(sig) # keeps only the non-zero values that are continous with the value of 1 (CVmax)\n",
    "         m, v = compute_meanvar_from_dist(x, sig)\n",
    "         if np.isclose(v, 0, atol=1e-8): # setting this \n",
    "             continue\n",
    "         tracking_v.append(v)\n",
    "         #        g = scipy.stats.norm.pdf(x, i, np.sqrt(np.mean(all_vars)))  # more generous assumption: all distributions are the same and sufficiently summarized by CVmax\n",
    "         g = scipy.stats.norm.pdf(x, m, np.sqrt(v))  # less generous assumption: distribution can be summarized by its mean and variance\n",
    "         dist = scipy.stats.wasserstein_distance(sig/np.sum(sig), g/np.sum(g))\n",
    "         p_count = 0\n",
    "         if np.sum(g) == 0:\n",
    "             continue\n",
    "         for j in range(num_repetitions):\n",
    "             ref = np.random.choice(x, size=num_samples, p=g/np.sum(g))\n",
    "             ref_distr = np.histogram(ref, bins=x + [x[-1]*2-x[-2]])[0]\n",
    "             ref_distance = scipy.stats.wasserstein_distance(ref_distr/np.sum(ref_distr), g/np.sum(g))\n",
    "             if ref_distance > dist:\n",
    "                 p_count += 1\n",
    "             if k==random_k_value:\n",
    "                 refdist.append(ref_distance)\n",
    "                 randomly_keep_this_sig = sig\n",
    "                 randomly_keep_this_dist = dist\n",
    "         pvals2[i].append(p_count/(j+1))\n",
    "         if k==random_k_value:\n",
    "             randomly_keep_this_pval = p_count/(j+1)\n",
    "         dist_list2[i].append(dist)\n",
    "         k+=1 # counter to keep a random distribution from the middle"
   ]
  },
  {
   "cell_type": "code",
   "execution_count": null,
   "id": "ca6e05ad-baa0-411f-9998-bb20e8720063",
   "metadata": {},
   "outputs": [],
   "source": [
    "tmp = plt.hist(tracking_v, bins=10000)\n",
    "plt.xlim(-2,40)"
   ]
  },
  {
   "cell_type": "code",
   "execution_count": null,
   "id": "7ad178e6-e7ad-43c3-bb34-3fe0ac9ce9d1",
   "metadata": {},
   "outputs": [],
   "source": [
    "plt.plot(randomly_keep_this_sig)"
   ]
  },
  {
   "cell_type": "code",
   "execution_count": null,
   "id": "6755427c-6a29-41ae-80e6-3e63ad4d4b50",
   "metadata": {},
   "outputs": [],
   "source": [
    "plt.hist(refdist)\n",
    "plt.axvline(x=randomly_keep_this_dist, color='r')\n",
    "plt.title('random subsampled distances versus the observed distance')"
   ]
  },
  {
   "cell_type": "code",
   "execution_count": null,
   "id": "1ea246ea-6068-445f-881a-7aca0f16c038",
   "metadata": {},
   "outputs": [],
   "source": [
    "from statsmodels.stats.multitest import multipletests\n",
    "\n",
    "def apply_bh_correction(pvalue_dict):\n",
    "    \"\"\"Applies Benjamini-Hochberg correction to all p-values in the dictionary.\n",
    "\n",
    "    Args:\n",
    "        pvalue_dict: A dictionary where keys map to lists of p-values.\n",
    "\n",
    "    Returns:\n",
    "        A new dictionary with the same structure, but with BH-corrected p-values.\n",
    "    \"\"\"\n",
    "\n",
    "    # Flatten all p-values into a single list\n",
    "    all_pvalues = []\n",
    "    for pvalue_list in pvalue_dict.values():\n",
    "        all_pvalues.extend(pvalue_list)\n",
    "\n",
    "    # Apply BH correction\n",
    "    _, bh_corrected_pvalues, _ , _ = multipletests(all_pvalues, alpha=0.05, method='fdr_bh')\n",
    "\n",
    "    # Reassign corrected p-values to the original dictionary structure\n",
    "    corrected_pvalue_dict = {}\n",
    "    i = 0\n",
    "    for key, pvalue_list in pvalue_dict.items():\n",
    "        corrected_pvalue_dict[key] = bh_corrected_pvalues[i:i+len(pvalue_list)]\n",
    "        i += len(pvalue_list)\n",
    "\n",
    "    return corrected_pvalue_dict\n",
    "\n",
    "# Example usage:\n",
    "pvalue_dict = {\n",
    "    'key1': [0.01, 0.02, 0.03],\n",
    "    'key2': [0.04, 0.05, 0.06],\n",
    "    # ... other keys and p-value lists\n",
    "}\n",
    "\n",
    "corrected_pvalue_dict = apply_bh_correction(pvalue_dict)\n",
    "print(corrected_pvalue_dict)"
   ]
  },
  {
   "cell_type": "code",
   "execution_count": null,
   "id": "7bfb347f-2afc-483f-8d5e-3f8d4101f67e",
   "metadata": {},
   "outputs": [],
   "source": [
    "corrected_pvals = apply_bh_correction(pvals2)"
   ]
  },
  {
   "cell_type": "code",
   "execution_count": null,
   "id": "2d2d1603-41c1-4174-be0b-dc3a6378bbc4",
   "metadata": {},
   "outputs": [],
   "source": [
    "for i in x:\n",
    "    plt.bar(-i, np.sum(np.array(pvals2[i])<=0.01) / len(pvals2[i]), color=\"#3b528b\", width=5, edgecolor=\"black\")\n",
    "plt.xlabel(\"CV\", fontsize=20)\n",
    "plt.ylabel(\"Fraction\", fontsize=20)\n",
    "plt.ylim(0,1)\n",
    "plt.title(\"Fraction of Non-Normal Peptides, Uncorrected\", fontsize=22)\n",
    "plt.savefig(\"../plots/fraction_nonnormal_human_pt01.png\", bbox_inches=\"tight\")\n",
    "plt.savefig(\"../plots/fraction_nonnormal_human_pt01.svg\", bbox_inches=\"tight\")"
   ]
  },
  {
   "cell_type": "code",
   "execution_count": null,
   "id": "c17c193f-cfdd-48bf-8fd0-a4adef40681a",
   "metadata": {},
   "outputs": [],
   "source": [
    "for i in x:\n",
    "    plt.bar(-i, np.sum(np.array(corrected_pvals[i])<=0.01) / len(corrected_pvals[i]), color=\"#3b528b\", width=5, edgecolor=\"black\")\n",
    "plt.xlabel(\"CV\", fontsize=20)\n",
    "plt.ylabel(\"Fraction\", fontsize=20)\n",
    "plt.ylim(0,1)\n",
    "plt.title(\"Fraction of Non-Normal Peptides, Corrected\", fontsize=20)\n",
    "plt.savefig(\"../plots/fraction_nonnormal_human_pt01_corrected.png\", bbox_inches=\"tight\")\n",
    "plt.savefig(\"../plots/fraction_nonnormal_human_pt01_corrected.svg\", bbox_inches=\"tight\")"
   ]
  },
  {
   "cell_type": "code",
   "execution_count": null,
   "id": "da5a1a24-b1f4-4abe-8c51-6c83d6cc8e9d",
   "metadata": {},
   "outputs": [],
   "source": []
  }
 ],
 "metadata": {
  "kernelspec": {
   "display_name": "Python 3 (ipykernel)",
   "language": "python",
   "name": "python3"
  },
  "language_info": {
   "codemirror_mode": {
    "name": "ipython",
    "version": 3
   },
   "file_extension": ".py",
   "mimetype": "text/x-python",
   "name": "python",
   "nbconvert_exporter": "python",
   "pygments_lexer": "ipython3",
   "version": "3.11.11"
  }
 },
 "nbformat": 4,
 "nbformat_minor": 5
}
