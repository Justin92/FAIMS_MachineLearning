{
 "cells": [
  {
   "cell_type": "markdown",
   "metadata": {},
   "source": [
    "# Python Processing Step for Multilabel FAIMS Data"
   ]
  },
  {
   "cell_type": "markdown",
   "metadata": {},
   "source": [
    "### Packages"
   ]
  },
  {
   "cell_type": "code",
   "execution_count": 1,
   "metadata": {},
   "outputs": [
    {
     "name": "stderr",
     "output_type": "stream",
     "text": [
      "2024-12-11 14:45:26.802850: I tensorflow/core/util/port.cc:153] oneDNN custom operations are on. You may see slightly different numerical results due to floating-point round-off errors from different computation orders. To turn them off, set the environment variable `TF_ENABLE_ONEDNN_OPTS=0`.\n",
      "2024-12-11 14:45:26.942938: E external/local_xla/xla/stream_executor/cuda/cuda_fft.cc:477] Unable to register cuFFT factory: Attempting to register factory for plugin cuFFT when one has already been registered\n",
      "WARNING: All log messages before absl::InitializeLog() is called are written to STDERR\n",
      "E0000 00:00:1733957127.007671    7483 cuda_dnn.cc:8310] Unable to register cuDNN factory: Attempting to register factory for plugin cuDNN when one has already been registered\n",
      "E0000 00:00:1733957127.029209    7483 cuda_blas.cc:1418] Unable to register cuBLAS factory: Attempting to register factory for plugin cuBLAS when one has already been registered\n",
      "2024-12-11 14:45:27.166273: I tensorflow/core/platform/cpu_feature_guard.cc:210] This TensorFlow binary is optimized to use available CPU instructions in performance-critical operations.\n",
      "To enable the following instructions: AVX2 AVX_VNNI FMA, in other operations, rebuild TensorFlow with the appropriate compiler flags.\n"
     ]
    }
   ],
   "source": [
    "#Load all my packages\n",
    "import pandas as pd\n",
    "import numpy as np\n",
    "import numpy as np\n",
    "from numpy import array\n",
    "from numpy import argmax         #finds the index of the maximum value in a vector\n",
    "import os\n",
    "import sklearn\n",
    "import sklearn.ensemble\n",
    "import skmultilearn\n",
    "from scipy import sparse\n",
    "import matplotlib.pyplot as plt\n",
    "import tensorflow as tf\n",
    "from tensorflow.keras import layers\n",
    "from skmultilearn.model_selection import  iterative_train_test_split"
   ]
  },
  {
   "cell_type": "code",
   "execution_count": 2,
   "metadata": {},
   "outputs": [],
   "source": [
    "from tensorflow.keras.utils import to_categorical\n",
    "from tensorflow.keras.preprocessing.sequence import pad_sequences"
   ]
  },
  {
   "cell_type": "code",
   "execution_count": 3,
   "metadata": {},
   "outputs": [],
   "source": [
    "# stuff for exploring the classes\n",
    "from skmultilearn.model_selection.measures import get_combination_wise_output_matrix\n",
    "from skmultilearn.dataset import load_dataset\n",
    "from collections import Counter\n",
    "from skmultilearn.model_selection import iterative_train_test_split, iterative_stratification\n",
    "from sklearn.preprocessing import MultiLabelBinarizer\n",
    "from skmultilearn.cluster import LabelCooccurrenceGraphBuilder\n",
    "from skmultilearn.cluster.networkx import NetworkXLabelGraphClusterer\n",
    "from skmultilearn.cluster.igraph import IGraphLabelGraphClusterer\n",
    "import igraph as ig"
   ]
  },
  {
   "cell_type": "code",
   "execution_count": 4,
   "metadata": {},
   "outputs": [
    {
     "name": "stdout",
     "output_type": "stream",
     "text": [
      "[PhysicalDevice(name='/physical_device:GPU:0', device_type='GPU')]\n"
     ]
    }
   ],
   "source": [
    "os.environ[\"CUDA_DEVICE_ORDER\"]=\"PCI_BUS_ID\" \n",
    "os.environ[\"CUDA_VISIBLE_DEVICES\"]=\"0\"\n",
    "print(tf.config.list_physical_devices('GPU'))\n",
    "\n",
    "# device = \"CPU\"  # if no GPU\n",
    "device = \"GPU:0\"\n",
    "data_path = \"data/cvmax_singlelabel.csv\"  # data with only one label"
   ]
  },
  {
   "cell_type": "markdown",
   "metadata": {},
   "source": [
    "### Processing"
   ]
  },
  {
   "cell_type": "code",
   "execution_count": 6,
   "metadata": {},
   "outputs": [],
   "source": [
    "#Bringing in the the final labelling scheme data and adding the other features\n",
    "\n",
    "df = pd.read_csv(\"data/cvmax_singlelabel.csv\", low_memory=False) #read in data generated from R preprocessing\n",
    "y = df.loc[ : ,  'X20':'X95'].values"
   ]
  },
  {
   "cell_type": "code",
   "execution_count": 7,
   "metadata": {},
   "outputs": [
    {
     "data": {
      "text/html": [
       "<div>\n",
       "<style scoped>\n",
       "    .dataframe tbody tr th:only-of-type {\n",
       "        vertical-align: middle;\n",
       "    }\n",
       "\n",
       "    .dataframe tbody tr th {\n",
       "        vertical-align: top;\n",
       "    }\n",
       "\n",
       "    .dataframe thead th {\n",
       "        text-align: right;\n",
       "    }\n",
       "</style>\n",
       "<table border=\"1\" class=\"dataframe\">\n",
       "  <thead>\n",
       "    <tr style=\"text-align: right;\">\n",
       "      <th></th>\n",
       "      <th>SeqCharge</th>\n",
       "      <th>X20</th>\n",
       "      <th>X25</th>\n",
       "      <th>X30</th>\n",
       "      <th>X35</th>\n",
       "      <th>X40</th>\n",
       "      <th>X45</th>\n",
       "      <th>X50</th>\n",
       "      <th>X55</th>\n",
       "      <th>X60</th>\n",
       "      <th>...</th>\n",
       "      <th>X80</th>\n",
       "      <th>X85</th>\n",
       "      <th>X90</th>\n",
       "      <th>X95</th>\n",
       "      <th>maxcv_naomit</th>\n",
       "      <th>Charge</th>\n",
       "      <th>ModSequence</th>\n",
       "      <th>Length</th>\n",
       "      <th>Sequence</th>\n",
       "      <th>LabelSequence</th>\n",
       "    </tr>\n",
       "  </thead>\n",
       "  <tbody>\n",
       "    <tr>\n",
       "      <th>0</th>\n",
       "      <td>2AACLCFR</td>\n",
       "      <td>0</td>\n",
       "      <td>0</td>\n",
       "      <td>0</td>\n",
       "      <td>0</td>\n",
       "      <td>0</td>\n",
       "      <td>0</td>\n",
       "      <td>1</td>\n",
       "      <td>0</td>\n",
       "      <td>0</td>\n",
       "      <td>...</td>\n",
       "      <td>0</td>\n",
       "      <td>0</td>\n",
       "      <td>0</td>\n",
       "      <td>0</td>\n",
       "      <td>50</td>\n",
       "      <td>2</td>\n",
       "      <td>AACLCFR</td>\n",
       "      <td>7</td>\n",
       "      <td>AACLCFR</td>\n",
       "      <td>1110000000</td>\n",
       "    </tr>\n",
       "    <tr>\n",
       "      <th>1</th>\n",
       "      <td>2SEQEDEVLLVSSSR</td>\n",
       "      <td>0</td>\n",
       "      <td>0</td>\n",
       "      <td>0</td>\n",
       "      <td>0</td>\n",
       "      <td>1</td>\n",
       "      <td>0</td>\n",
       "      <td>0</td>\n",
       "      <td>0</td>\n",
       "      <td>0</td>\n",
       "      <td>...</td>\n",
       "      <td>0</td>\n",
       "      <td>0</td>\n",
       "      <td>0</td>\n",
       "      <td>0</td>\n",
       "      <td>40</td>\n",
       "      <td>2</td>\n",
       "      <td>SEQEDEVLLVSSSR</td>\n",
       "      <td>14</td>\n",
       "      <td>SEQEDEVLLVSSSR</td>\n",
       "      <td>1100000000000</td>\n",
       "    </tr>\n",
       "    <tr>\n",
       "      <th>2</th>\n",
       "      <td>3SEQEDEVLLVSSSR</td>\n",
       "      <td>0</td>\n",
       "      <td>0</td>\n",
       "      <td>0</td>\n",
       "      <td>0</td>\n",
       "      <td>0</td>\n",
       "      <td>0</td>\n",
       "      <td>0</td>\n",
       "      <td>0</td>\n",
       "      <td>1</td>\n",
       "      <td>...</td>\n",
       "      <td>0</td>\n",
       "      <td>0</td>\n",
       "      <td>0</td>\n",
       "      <td>0</td>\n",
       "      <td>60</td>\n",
       "      <td>3</td>\n",
       "      <td>SEQEDEVLLVSSSR</td>\n",
       "      <td>14</td>\n",
       "      <td>SEQEDEVLLVSSSR</td>\n",
       "      <td>111100000</td>\n",
       "    </tr>\n",
       "    <tr>\n",
       "      <th>3</th>\n",
       "      <td>2YPDQWIVPGGGMEPEEEPGGAAVR</td>\n",
       "      <td>0</td>\n",
       "      <td>0</td>\n",
       "      <td>1</td>\n",
       "      <td>0</td>\n",
       "      <td>0</td>\n",
       "      <td>0</td>\n",
       "      <td>0</td>\n",
       "      <td>0</td>\n",
       "      <td>0</td>\n",
       "      <td>...</td>\n",
       "      <td>0</td>\n",
       "      <td>0</td>\n",
       "      <td>0</td>\n",
       "      <td>0</td>\n",
       "      <td>30</td>\n",
       "      <td>2</td>\n",
       "      <td>YPDQWIVPGGGMEPEEEPGGAAVR</td>\n",
       "      <td>24</td>\n",
       "      <td>YPDQWIVPGGGMEPEEEPGGAAVR</td>\n",
       "      <td>110000000000000</td>\n",
       "    </tr>\n",
       "    <tr>\n",
       "      <th>4</th>\n",
       "      <td>3YPDQWIVPGGGMEPEEEPGGAAVR</td>\n",
       "      <td>0</td>\n",
       "      <td>0</td>\n",
       "      <td>0</td>\n",
       "      <td>0</td>\n",
       "      <td>0</td>\n",
       "      <td>0</td>\n",
       "      <td>0</td>\n",
       "      <td>0</td>\n",
       "      <td>0</td>\n",
       "      <td>...</td>\n",
       "      <td>0</td>\n",
       "      <td>0</td>\n",
       "      <td>0</td>\n",
       "      <td>0</td>\n",
       "      <td>70</td>\n",
       "      <td>3</td>\n",
       "      <td>YPDQWIVPGGGMEPEEEPGGAAVR</td>\n",
       "      <td>24</td>\n",
       "      <td>YPDQWIVPGGGMEPEEEPGGAAVR</td>\n",
       "      <td>11100000</td>\n",
       "    </tr>\n",
       "  </tbody>\n",
       "</table>\n",
       "<p>5 rows × 23 columns</p>\n",
       "</div>"
      ],
      "text/plain": [
       "                   SeqCharge  X20  X25  X30  X35  X40  X45  X50  X55  X60  \\\n",
       "0                   2AACLCFR    0    0    0    0    0    0    1    0    0   \n",
       "1            2SEQEDEVLLVSSSR    0    0    0    0    1    0    0    0    0   \n",
       "2            3SEQEDEVLLVSSSR    0    0    0    0    0    0    0    0    1   \n",
       "3  2YPDQWIVPGGGMEPEEEPGGAAVR    0    0    1    0    0    0    0    0    0   \n",
       "4  3YPDQWIVPGGGMEPEEEPGGAAVR    0    0    0    0    0    0    0    0    0   \n",
       "\n",
       "   ...  X80  X85  X90  X95  maxcv_naomit  Charge               ModSequence  \\\n",
       "0  ...    0    0    0    0            50       2                   AACLCFR   \n",
       "1  ...    0    0    0    0            40       2            SEQEDEVLLVSSSR   \n",
       "2  ...    0    0    0    0            60       3            SEQEDEVLLVSSSR   \n",
       "3  ...    0    0    0    0            30       2  YPDQWIVPGGGMEPEEEPGGAAVR   \n",
       "4  ...    0    0    0    0            70       3  YPDQWIVPGGGMEPEEEPGGAAVR   \n",
       "\n",
       "   Length                  Sequence    LabelSequence  \n",
       "0       7                   AACLCFR       1110000000  \n",
       "1      14            SEQEDEVLLVSSSR    1100000000000  \n",
       "2      14            SEQEDEVLLVSSSR        111100000  \n",
       "3      24  YPDQWIVPGGGMEPEEEPGGAAVR  110000000000000  \n",
       "4      24  YPDQWIVPGGGMEPEEEPGGAAVR         11100000  \n",
       "\n",
       "[5 rows x 23 columns]"
      ]
     },
     "execution_count": 7,
     "metadata": {},
     "output_type": "execute_result"
    }
   ],
   "source": [
    "df.head()"
   ]
  },
  {
   "cell_type": "code",
   "execution_count": 8,
   "metadata": {},
   "outputs": [
    {
     "name": "stdout",
     "output_type": "stream",
     "text": [
      "27\n"
     ]
    }
   ],
   "source": [
    "### combine all the letters into a long string, take the set to find the unique values, add 'END' (for use with one-hot), then get length\n",
    "seq = df['SeqCharge']\n",
    "vocab = set(''.join([str(i) for i in seq]))\n",
    "vocab.add('END')\n",
    "len_vocab = len(vocab)\n",
    "print(len_vocab)"
   ]
  },
  {
   "cell_type": "code",
   "execution_count": 10,
   "metadata": {},
   "outputs": [
    {
     "data": {
      "text/plain": [
       "{20, 25, 30, 35, 40, 45, 50, 55, 60, 65, 70, 75, 80, 85, 90, 95}"
      ]
     },
     "execution_count": 10,
     "metadata": {},
     "output_type": "execute_result"
    }
   ],
   "source": [
    "cv = df['maxcv_naomit']\n",
    "set(cv)"
   ]
  },
  {
   "cell_type": "code",
   "execution_count": 15,
   "metadata": {},
   "outputs": [
    {
     "name": "stdout",
     "output_type": "stream",
     "text": [
      "{'5': 0, 'H': 1, 'S': 2, '2': 3, 'V': 4, 'T': 5, 'a': 6, 'K': 7, 'END': 8, 'F': 9, 'Y': 10, 'G': 11, 'L': 12, 'P': 13, 'E': 14, 'R': 15, 'I': 16, '3': 17, 'D': 18, 'm': 19, '4': 20, 'M': 21, 'Q': 22, 'A': 23, 'W': 24, 'N': 25, 'C': 26}\n",
      "51\n"
     ]
    }
   ],
   "source": [
    "## make index of the characters in vocab\n",
    "char_index = dict((c, i) for i, c in enumerate(vocab))\n",
    "maxlen = max([len(x) for x in df.SeqCharge])\n",
    "print(char_index)\n",
    "print(maxlen)"
   ]
  },
  {
   "cell_type": "code",
   "execution_count": 16,
   "metadata": {},
   "outputs": [],
   "source": [
    "#take input upto max and truncate rest\n",
    "# get index in char_index\n",
    "#padd 'END' to shorter sequences\n",
    "\n",
    "x = []\n",
    "x_name = [str(i)[0:maxlen] for i in seq]\n",
    "for i in x_name:\n",
    "    tmp = [char_index[j] for j in str(i)]\n",
    "    for k in range(0,maxlen - len(str(i))):\n",
    "        tmp.append(char_index[\"END\"])\n",
    "    x.append(tmp)"
   ]
  },
  {
   "cell_type": "code",
   "execution_count": 22,
   "metadata": {},
   "outputs": [
    {
     "data": {
      "text/plain": [
       "(85993, 51)"
      ]
     },
     "execution_count": 22,
     "metadata": {},
     "output_type": "execute_result"
    }
   ],
   "source": [
    "#Split the 50%+ threshold data into train and test keeping label distribution proportional\n",
    "X_train, y_train, X_test, y_test = iterative_train_test_split(np.asarray(x), y, test_size=0.30)\n",
    "X_train.shape"
   ]
  },
  {
   "cell_type": "markdown",
   "metadata": {},
   "source": [
    "# Model"
   ]
  },
  {
   "cell_type": "code",
   "execution_count": 25,
   "metadata": {},
   "outputs": [
    {
     "data": {
      "text/plain": [
       "16"
      ]
     },
     "execution_count": 25,
     "metadata": {},
     "output_type": "execute_result"
    }
   ],
   "source": [
    "len(set(cv))"
   ]
  },
  {
   "cell_type": "code",
   "execution_count": 26,
   "metadata": {},
   "outputs": [],
   "source": [
    "def macro_f1(y, y_hat, thresh=0.5):\n",
    "    \"\"\"Compute the macro F1-score on a batch of observations (average F1 across labels)\n",
    "    \n",
    "    Args:\n",
    "        y (int32 Tensor): labels array of shape (BATCH_SIZE, N_LABELS)\n",
    "        y_hat (float32 Tensor): probability matrix from forward propagation of shape (BATCH_SIZE, N_LABELS)\n",
    "        thresh: probability value above which we predict positive\n",
    "        \n",
    "    Returns:\n",
    "        macro_f1 (scalar Tensor): value of macro F1 for the batch\n",
    "    \"\"\"\n",
    "    y_pred = tf.cast(tf.greater(y_hat, thresh), tf.float32)\n",
    "    tp = tf.cast(tf.math.count_nonzero(y_pred * y, axis=0), tf.float32)\n",
    "    fp = tf.cast(tf.math.count_nonzero(y_pred * (1 - y), axis=0), tf.float32)\n",
    "    fn = tf.cast(tf.math.count_nonzero((1 - y_pred) * y, axis=0), tf.float32)\n",
    "    f1 = 2*tp / (2*tp + fn + fp + 1e-16)\n",
    "    macro_f1 = tf.reduce_mean(f1)\n",
    "    return macro_f1"
   ]
  },
  {
   "cell_type": "code",
   "execution_count": 27,
   "metadata": {},
   "outputs": [
    {
     "name": "stdout",
     "output_type": "stream",
     "text": [
      "Num GPUs Available:  1\n"
     ]
    }
   ],
   "source": [
    "print(\"Num GPUs Available: \", len(tf.config.list_physical_devices('GPU')))"
   ]
  },
  {
   "cell_type": "code",
   "execution_count": 28,
   "metadata": {},
   "outputs": [
    {
     "name": "stderr",
     "output_type": "stream",
     "text": [
      "I0000 00:00:1733957165.436388    7483 gpu_device.cc:2022] Created device /job:localhost/replica:0/task:0/device:GPU:0 with 14268 MB memory:  -> device: 0, name: NVIDIA GeForce RTX 3080 Ti Laptop GPU, pci bus id: 0000:01:00.0, compute capability: 8.6\n",
      "/home/lex/projects/faims_revision/venv/lib/python3.11/site-packages/keras/src/layers/rnn/rnn.py:200: UserWarning: Do not pass an `input_shape`/`input_dim` argument to a layer. When using Sequential models, prefer using an `Input(shape)` object as the first layer in the model instead.\n",
      "  super().__init__(**kwargs)\n"
     ]
    }
   ],
   "source": [
    "with tf.device(\"GPU:0\"):\n",
    "    model = tf.keras.Sequential()\n",
    "    model.add(layers.Embedding(input_dim=51, output_dim=40))\n",
    "    model.add(layers.LSTM(128, return_sequences=True, input_shape=(maxlen,len_vocab)))\n",
    "    model.add(layers.Dropout(0.2))\n",
    "    model.add(layers.LSTM(128, return_sequences=False))\n",
    "    model.add(layers.Dropout(0.2))\n",
    "    model.add(layers.Dense(64, activation='relu'))\n",
    "    model.add(layers.Dense(len(set(cv)), activation='sigmoid'))\n",
    "    adam = tf.keras.optimizers.Adam(\n",
    "        learning_rate=0.001, beta_1=0.9, beta_2=0.999, epsilon=1e-07, amsgrad=False,\n",
    "        name='Adam')\n",
    "    model.compile(loss=tf.keras.losses.BinaryCrossentropy(), optimizer=adam,  metrics=[tf.keras.metrics.BinaryAccuracy()])"
   ]
  },
  {
   "cell_type": "code",
   "execution_count": 29,
   "metadata": {},
   "outputs": [
    {
     "data": {
      "text/html": [
       "<pre style=\"white-space:pre;overflow-x:auto;line-height:normal;font-family:Menlo,'DejaVu Sans Mono',consolas,'Courier New',monospace\"><span style=\"font-weight: bold\">Model: \"sequential\"</span>\n",
       "</pre>\n"
      ],
      "text/plain": [
       "\u001b[1mModel: \"sequential\"\u001b[0m\n"
      ]
     },
     "metadata": {},
     "output_type": "display_data"
    },
    {
     "data": {
      "text/html": [
       "<pre style=\"white-space:pre;overflow-x:auto;line-height:normal;font-family:Menlo,'DejaVu Sans Mono',consolas,'Courier New',monospace\">┏━━━━━━━━━━━━━━━━━━━━━━━━━━━━━━━━━┳━━━━━━━━━━━━━━━━━━━━━━━━┳━━━━━━━━━━━━━━━┓\n",
       "┃<span style=\"font-weight: bold\"> Layer (type)                    </span>┃<span style=\"font-weight: bold\"> Output Shape           </span>┃<span style=\"font-weight: bold\">       Param # </span>┃\n",
       "┡━━━━━━━━━━━━━━━━━━━━━━━━━━━━━━━━━╇━━━━━━━━━━━━━━━━━━━━━━━━╇━━━━━━━━━━━━━━━┩\n",
       "│ embedding (<span style=\"color: #0087ff; text-decoration-color: #0087ff\">Embedding</span>)           │ ?                      │   <span style=\"color: #00af00; text-decoration-color: #00af00\">0</span> (unbuilt) │\n",
       "├─────────────────────────────────┼────────────────────────┼───────────────┤\n",
       "│ lstm (<span style=\"color: #0087ff; text-decoration-color: #0087ff\">LSTM</span>)                     │ ?                      │   <span style=\"color: #00af00; text-decoration-color: #00af00\">0</span> (unbuilt) │\n",
       "├─────────────────────────────────┼────────────────────────┼───────────────┤\n",
       "│ dropout (<span style=\"color: #0087ff; text-decoration-color: #0087ff\">Dropout</span>)               │ ?                      │             <span style=\"color: #00af00; text-decoration-color: #00af00\">0</span> │\n",
       "├─────────────────────────────────┼────────────────────────┼───────────────┤\n",
       "│ lstm_1 (<span style=\"color: #0087ff; text-decoration-color: #0087ff\">LSTM</span>)                   │ ?                      │   <span style=\"color: #00af00; text-decoration-color: #00af00\">0</span> (unbuilt) │\n",
       "├─────────────────────────────────┼────────────────────────┼───────────────┤\n",
       "│ dropout_1 (<span style=\"color: #0087ff; text-decoration-color: #0087ff\">Dropout</span>)             │ ?                      │             <span style=\"color: #00af00; text-decoration-color: #00af00\">0</span> │\n",
       "├─────────────────────────────────┼────────────────────────┼───────────────┤\n",
       "│ dense (<span style=\"color: #0087ff; text-decoration-color: #0087ff\">Dense</span>)                   │ ?                      │   <span style=\"color: #00af00; text-decoration-color: #00af00\">0</span> (unbuilt) │\n",
       "├─────────────────────────────────┼────────────────────────┼───────────────┤\n",
       "│ dense_1 (<span style=\"color: #0087ff; text-decoration-color: #0087ff\">Dense</span>)                 │ ?                      │   <span style=\"color: #00af00; text-decoration-color: #00af00\">0</span> (unbuilt) │\n",
       "└─────────────────────────────────┴────────────────────────┴───────────────┘\n",
       "</pre>\n"
      ],
      "text/plain": [
       "┏━━━━━━━━━━━━━━━━━━━━━━━━━━━━━━━━━┳━━━━━━━━━━━━━━━━━━━━━━━━┳━━━━━━━━━━━━━━━┓\n",
       "┃\u001b[1m \u001b[0m\u001b[1mLayer (type)                   \u001b[0m\u001b[1m \u001b[0m┃\u001b[1m \u001b[0m\u001b[1mOutput Shape          \u001b[0m\u001b[1m \u001b[0m┃\u001b[1m \u001b[0m\u001b[1m      Param #\u001b[0m\u001b[1m \u001b[0m┃\n",
       "┡━━━━━━━━━━━━━━━━━━━━━━━━━━━━━━━━━╇━━━━━━━━━━━━━━━━━━━━━━━━╇━━━━━━━━━━━━━━━┩\n",
       "│ embedding (\u001b[38;5;33mEmbedding\u001b[0m)           │ ?                      │   \u001b[38;5;34m0\u001b[0m (unbuilt) │\n",
       "├─────────────────────────────────┼────────────────────────┼───────────────┤\n",
       "│ lstm (\u001b[38;5;33mLSTM\u001b[0m)                     │ ?                      │   \u001b[38;5;34m0\u001b[0m (unbuilt) │\n",
       "├─────────────────────────────────┼────────────────────────┼───────────────┤\n",
       "│ dropout (\u001b[38;5;33mDropout\u001b[0m)               │ ?                      │             \u001b[38;5;34m0\u001b[0m │\n",
       "├─────────────────────────────────┼────────────────────────┼───────────────┤\n",
       "│ lstm_1 (\u001b[38;5;33mLSTM\u001b[0m)                   │ ?                      │   \u001b[38;5;34m0\u001b[0m (unbuilt) │\n",
       "├─────────────────────────────────┼────────────────────────┼───────────────┤\n",
       "│ dropout_1 (\u001b[38;5;33mDropout\u001b[0m)             │ ?                      │             \u001b[38;5;34m0\u001b[0m │\n",
       "├─────────────────────────────────┼────────────────────────┼───────────────┤\n",
       "│ dense (\u001b[38;5;33mDense\u001b[0m)                   │ ?                      │   \u001b[38;5;34m0\u001b[0m (unbuilt) │\n",
       "├─────────────────────────────────┼────────────────────────┼───────────────┤\n",
       "│ dense_1 (\u001b[38;5;33mDense\u001b[0m)                 │ ?                      │   \u001b[38;5;34m0\u001b[0m (unbuilt) │\n",
       "└─────────────────────────────────┴────────────────────────┴───────────────┘\n"
      ]
     },
     "metadata": {},
     "output_type": "display_data"
    },
    {
     "data": {
      "text/html": [
       "<pre style=\"white-space:pre;overflow-x:auto;line-height:normal;font-family:Menlo,'DejaVu Sans Mono',consolas,'Courier New',monospace\"><span style=\"font-weight: bold\"> Total params: </span><span style=\"color: #00af00; text-decoration-color: #00af00\">0</span> (0.00 B)\n",
       "</pre>\n"
      ],
      "text/plain": [
       "\u001b[1m Total params: \u001b[0m\u001b[38;5;34m0\u001b[0m (0.00 B)\n"
      ]
     },
     "metadata": {},
     "output_type": "display_data"
    },
    {
     "data": {
      "text/html": [
       "<pre style=\"white-space:pre;overflow-x:auto;line-height:normal;font-family:Menlo,'DejaVu Sans Mono',consolas,'Courier New',monospace\"><span style=\"font-weight: bold\"> Trainable params: </span><span style=\"color: #00af00; text-decoration-color: #00af00\">0</span> (0.00 B)\n",
       "</pre>\n"
      ],
      "text/plain": [
       "\u001b[1m Trainable params: \u001b[0m\u001b[38;5;34m0\u001b[0m (0.00 B)\n"
      ]
     },
     "metadata": {},
     "output_type": "display_data"
    },
    {
     "data": {
      "text/html": [
       "<pre style=\"white-space:pre;overflow-x:auto;line-height:normal;font-family:Menlo,'DejaVu Sans Mono',consolas,'Courier New',monospace\"><span style=\"font-weight: bold\"> Non-trainable params: </span><span style=\"color: #00af00; text-decoration-color: #00af00\">0</span> (0.00 B)\n",
       "</pre>\n"
      ],
      "text/plain": [
       "\u001b[1m Non-trainable params: \u001b[0m\u001b[38;5;34m0\u001b[0m (0.00 B)\n"
      ]
     },
     "metadata": {},
     "output_type": "display_data"
    }
   ],
   "source": [
    "model.summary()"
   ]
  },
  {
   "cell_type": "code",
   "execution_count": 30,
   "metadata": {},
   "outputs": [],
   "source": [
    "with tf.device(\"GPU:0\"):\n",
    "    Xtf_train = tf.convert_to_tensor(X_train, dtype=tf.float32)\n",
    "    ytf_train = tf.convert_to_tensor(y_train, dtype=tf.float32)\n",
    "    \n",
    "    Xtf_test = tf.convert_to_tensor(X_test, dtype=tf.float32)\n",
    "    ytf_test = tf.convert_to_tensor(y_test, dtype=tf.float32)"
   ]
  },
  {
   "cell_type": "code",
   "execution_count": 31,
   "metadata": {
    "scrolled": true
   },
   "outputs": [
    {
     "name": "stdout",
     "output_type": "stream",
     "text": [
      "Epoch 1/250\n"
     ]
    },
    {
     "name": "stderr",
     "output_type": "stream",
     "text": [
      "I0000 00:00:1733957169.697063    7699 cuda_dnn.cc:529] Loaded cuDNN version 90300\n"
     ]
    },
    {
     "name": "stdout",
     "output_type": "stream",
     "text": [
      "\u001b[1m42/42\u001b[0m \u001b[32m━━━━━━━━━━━━━━━━━━━━\u001b[0m\u001b[37m\u001b[0m \u001b[1m9s\u001b[0m 62ms/step - binary_accuracy: 0.8375 - loss: 0.4238 - val_binary_accuracy: 0.9375 - val_loss: 0.2082\n",
      "Epoch 2/250\n",
      "\u001b[1m42/42\u001b[0m \u001b[32m━━━━━━━━━━━━━━━━━━━━\u001b[0m\u001b[37m\u001b[0m \u001b[1m2s\u001b[0m 52ms/step - binary_accuracy: 0.9375 - loss: 0.2104 - val_binary_accuracy: 0.9375 - val_loss: 0.2064\n",
      "Epoch 3/250\n",
      "\u001b[1m42/42\u001b[0m \u001b[32m━━━━━━━━━━━━━━━━━━━━\u001b[0m\u001b[37m\u001b[0m \u001b[1m2s\u001b[0m 51ms/step - binary_accuracy: 0.9375 - loss: 0.2091 - val_binary_accuracy: 0.9375 - val_loss: 0.2063\n",
      "Epoch 4/250\n",
      "\u001b[1m42/42\u001b[0m \u001b[32m━━━━━━━━━━━━━━━━━━━━\u001b[0m\u001b[37m\u001b[0m \u001b[1m2s\u001b[0m 51ms/step - binary_accuracy: 0.9375 - loss: 0.2088 - val_binary_accuracy: 0.9375 - val_loss: 0.2065\n",
      "Epoch 5/250\n",
      "\u001b[1m42/42\u001b[0m \u001b[32m━━━━━━━━━━━━━━━━━━━━\u001b[0m\u001b[37m\u001b[0m \u001b[1m2s\u001b[0m 51ms/step - binary_accuracy: 0.9375 - loss: 0.2084 - val_binary_accuracy: 0.9375 - val_loss: 0.2064\n",
      "Epoch 6/250\n",
      "\u001b[1m42/42\u001b[0m \u001b[32m━━━━━━━━━━━━━━━━━━━━\u001b[0m\u001b[37m\u001b[0m \u001b[1m2s\u001b[0m 51ms/step - binary_accuracy: 0.9375 - loss: 0.2077 - val_binary_accuracy: 0.9375 - val_loss: 0.2063\n",
      "Epoch 7/250\n",
      "\u001b[1m42/42\u001b[0m \u001b[32m━━━━━━━━━━━━━━━━━━━━\u001b[0m\u001b[37m\u001b[0m \u001b[1m2s\u001b[0m 51ms/step - binary_accuracy: 0.9375 - loss: 0.2078 - val_binary_accuracy: 0.9375 - val_loss: 0.2063\n",
      "Epoch 8/250\n",
      "\u001b[1m42/42\u001b[0m \u001b[32m━━━━━━━━━━━━━━━━━━━━\u001b[0m\u001b[37m\u001b[0m \u001b[1m2s\u001b[0m 54ms/step - binary_accuracy: 0.9375 - loss: 0.2076 - val_binary_accuracy: 0.9375 - val_loss: 0.2063\n",
      "Epoch 9/250\n",
      "\u001b[1m42/42\u001b[0m \u001b[32m━━━━━━━━━━━━━━━━━━━━\u001b[0m\u001b[37m\u001b[0m \u001b[1m2s\u001b[0m 54ms/step - binary_accuracy: 0.9375 - loss: 0.2075 - val_binary_accuracy: 0.9375 - val_loss: 0.2064\n",
      "Epoch 10/250\n",
      "\u001b[1m42/42\u001b[0m \u001b[32m━━━━━━━━━━━━━━━━━━━━\u001b[0m\u001b[37m\u001b[0m \u001b[1m2s\u001b[0m 52ms/step - binary_accuracy: 0.9375 - loss: 0.2074 - val_binary_accuracy: 0.9375 - val_loss: 0.2063\n",
      "Epoch 11/250\n",
      "\u001b[1m42/42\u001b[0m \u001b[32m━━━━━━━━━━━━━━━━━━━━\u001b[0m\u001b[37m\u001b[0m \u001b[1m2s\u001b[0m 51ms/step - binary_accuracy: 0.9375 - loss: 0.2072 - val_binary_accuracy: 0.9375 - val_loss: 0.2064\n",
      "Epoch 12/250\n",
      "\u001b[1m42/42\u001b[0m \u001b[32m━━━━━━━━━━━━━━━━━━━━\u001b[0m\u001b[37m\u001b[0m \u001b[1m2s\u001b[0m 51ms/step - binary_accuracy: 0.9375 - loss: 0.2071 - val_binary_accuracy: 0.9375 - val_loss: 0.2064\n",
      "Epoch 13/250\n",
      "\u001b[1m42/42\u001b[0m \u001b[32m━━━━━━━━━━━━━━━━━━━━\u001b[0m\u001b[37m\u001b[0m \u001b[1m2s\u001b[0m 53ms/step - binary_accuracy: 0.9375 - loss: 0.2071 - val_binary_accuracy: 0.9375 - val_loss: 0.2063\n",
      "Epoch 14/250\n",
      "\u001b[1m42/42\u001b[0m \u001b[32m━━━━━━━━━━━━━━━━━━━━\u001b[0m\u001b[37m\u001b[0m \u001b[1m2s\u001b[0m 52ms/step - binary_accuracy: 0.9375 - loss: 0.2071 - val_binary_accuracy: 0.9375 - val_loss: 0.2063\n",
      "Epoch 15/250\n",
      "\u001b[1m42/42\u001b[0m \u001b[32m━━━━━━━━━━━━━━━━━━━━\u001b[0m\u001b[37m\u001b[0m \u001b[1m2s\u001b[0m 52ms/step - binary_accuracy: 0.9375 - loss: 0.2069 - val_binary_accuracy: 0.9375 - val_loss: 0.2064\n",
      "Epoch 16/250\n",
      "\u001b[1m42/42\u001b[0m \u001b[32m━━━━━━━━━━━━━━━━━━━━\u001b[0m\u001b[37m\u001b[0m \u001b[1m2s\u001b[0m 52ms/step - binary_accuracy: 0.9375 - loss: 0.2070 - val_binary_accuracy: 0.9375 - val_loss: 0.2064\n",
      "Epoch 17/250\n",
      "\u001b[1m42/42\u001b[0m \u001b[32m━━━━━━━━━━━━━━━━━━━━\u001b[0m\u001b[37m\u001b[0m \u001b[1m2s\u001b[0m 52ms/step - binary_accuracy: 0.9375 - loss: 0.2069 - val_binary_accuracy: 0.9375 - val_loss: 0.2063\n",
      "Epoch 18/250\n",
      "\u001b[1m42/42\u001b[0m \u001b[32m━━━━━━━━━━━━━━━━━━━━\u001b[0m\u001b[37m\u001b[0m \u001b[1m2s\u001b[0m 51ms/step - binary_accuracy: 0.9375 - loss: 0.2071 - val_binary_accuracy: 0.9375 - val_loss: 0.2063\n",
      "Epoch 19/250\n",
      "\u001b[1m42/42\u001b[0m \u001b[32m━━━━━━━━━━━━━━━━━━━━\u001b[0m\u001b[37m\u001b[0m \u001b[1m2s\u001b[0m 53ms/step - binary_accuracy: 0.9375 - loss: 0.2069 - val_binary_accuracy: 0.9375 - val_loss: 0.2063\n",
      "Epoch 20/250\n",
      "\u001b[1m42/42\u001b[0m \u001b[32m━━━━━━━━━━━━━━━━━━━━\u001b[0m\u001b[37m\u001b[0m \u001b[1m2s\u001b[0m 52ms/step - binary_accuracy: 0.9375 - loss: 0.2067 - val_binary_accuracy: 0.9375 - val_loss: 0.2063\n",
      "Epoch 21/250\n",
      "\u001b[1m42/42\u001b[0m \u001b[32m━━━━━━━━━━━━━━━━━━━━\u001b[0m\u001b[37m\u001b[0m \u001b[1m2s\u001b[0m 54ms/step - binary_accuracy: 0.9375 - loss: 0.2070 - val_binary_accuracy: 0.9375 - val_loss: 0.2064\n",
      "Epoch 22/250\n",
      "\u001b[1m42/42\u001b[0m \u001b[32m━━━━━━━━━━━━━━━━━━━━\u001b[0m\u001b[37m\u001b[0m \u001b[1m2s\u001b[0m 52ms/step - binary_accuracy: 0.9375 - loss: 0.2069 - val_binary_accuracy: 0.9375 - val_loss: 0.2063\n",
      "Epoch 23/250\n",
      "\u001b[1m42/42\u001b[0m \u001b[32m━━━━━━━━━━━━━━━━━━━━\u001b[0m\u001b[37m\u001b[0m \u001b[1m2s\u001b[0m 52ms/step - binary_accuracy: 0.9375 - loss: 0.2069 - val_binary_accuracy: 0.9375 - val_loss: 0.2064\n",
      "Epoch 24/250\n",
      "\u001b[1m42/42\u001b[0m \u001b[32m━━━━━━━━━━━━━━━━━━━━\u001b[0m\u001b[37m\u001b[0m \u001b[1m2s\u001b[0m 53ms/step - binary_accuracy: 0.9375 - loss: 0.2067 - val_binary_accuracy: 0.9375 - val_loss: 0.2064\n",
      "Epoch 25/250\n",
      "\u001b[1m42/42\u001b[0m \u001b[32m━━━━━━━━━━━━━━━━━━━━\u001b[0m\u001b[37m\u001b[0m \u001b[1m2s\u001b[0m 54ms/step - binary_accuracy: 0.9375 - loss: 0.2069 - val_binary_accuracy: 0.9375 - val_loss: 0.2063\n",
      "Epoch 26/250\n",
      "\u001b[1m42/42\u001b[0m \u001b[32m━━━━━━━━━━━━━━━━━━━━\u001b[0m\u001b[37m\u001b[0m \u001b[1m2s\u001b[0m 53ms/step - binary_accuracy: 0.9375 - loss: 0.2068 - val_binary_accuracy: 0.9375 - val_loss: 0.2064\n",
      "Epoch 27/250\n",
      "\u001b[1m42/42\u001b[0m \u001b[32m━━━━━━━━━━━━━━━━━━━━\u001b[0m\u001b[37m\u001b[0m \u001b[1m2s\u001b[0m 53ms/step - binary_accuracy: 0.9375 - loss: 0.2067 - val_binary_accuracy: 0.9375 - val_loss: 0.2064\n",
      "Epoch 28/250\n",
      "\u001b[1m42/42\u001b[0m \u001b[32m━━━━━━━━━━━━━━━━━━━━\u001b[0m\u001b[37m\u001b[0m \u001b[1m2s\u001b[0m 54ms/step - binary_accuracy: 0.9375 - loss: 0.2067 - val_binary_accuracy: 0.9375 - val_loss: 0.2063\n",
      "Epoch 29/250\n",
      "\u001b[1m42/42\u001b[0m \u001b[32m━━━━━━━━━━━━━━━━━━━━\u001b[0m\u001b[37m\u001b[0m \u001b[1m2s\u001b[0m 54ms/step - binary_accuracy: 0.9375 - loss: 0.2067 - val_binary_accuracy: 0.9375 - val_loss: 0.2064\n",
      "Epoch 30/250\n",
      "\u001b[1m42/42\u001b[0m \u001b[32m━━━━━━━━━━━━━━━━━━━━\u001b[0m\u001b[37m\u001b[0m \u001b[1m2s\u001b[0m 53ms/step - binary_accuracy: 0.9375 - loss: 0.2067 - val_binary_accuracy: 0.9375 - val_loss: 0.2064\n",
      "Epoch 31/250\n",
      "\u001b[1m42/42\u001b[0m \u001b[32m━━━━━━━━━━━━━━━━━━━━\u001b[0m\u001b[37m\u001b[0m \u001b[1m2s\u001b[0m 54ms/step - binary_accuracy: 0.9375 - loss: 0.2069 - val_binary_accuracy: 0.9375 - val_loss: 0.2064\n",
      "Epoch 32/250\n",
      "\u001b[1m42/42\u001b[0m \u001b[32m━━━━━━━━━━━━━━━━━━━━\u001b[0m\u001b[37m\u001b[0m \u001b[1m2s\u001b[0m 54ms/step - binary_accuracy: 0.9375 - loss: 0.2066 - val_binary_accuracy: 0.9375 - val_loss: 0.2064\n",
      "Epoch 33/250\n",
      "\u001b[1m42/42\u001b[0m \u001b[32m━━━━━━━━━━━━━━━━━━━━\u001b[0m\u001b[37m\u001b[0m \u001b[1m2s\u001b[0m 52ms/step - binary_accuracy: 0.9375 - loss: 0.2068 - val_binary_accuracy: 0.9375 - val_loss: 0.2063\n",
      "Epoch 34/250\n",
      "\u001b[1m42/42\u001b[0m \u001b[32m━━━━━━━━━━━━━━━━━━━━\u001b[0m\u001b[37m\u001b[0m \u001b[1m2s\u001b[0m 53ms/step - binary_accuracy: 0.9375 - loss: 0.2069 - val_binary_accuracy: 0.9375 - val_loss: 0.2064\n",
      "Epoch 35/250\n",
      "\u001b[1m42/42\u001b[0m \u001b[32m━━━━━━━━━━━━━━━━━━━━\u001b[0m\u001b[37m\u001b[0m \u001b[1m2s\u001b[0m 52ms/step - binary_accuracy: 0.9375 - loss: 0.2067 - val_binary_accuracy: 0.9375 - val_loss: 0.2064\n",
      "Epoch 36/250\n",
      "\u001b[1m42/42\u001b[0m \u001b[32m━━━━━━━━━━━━━━━━━━━━\u001b[0m\u001b[37m\u001b[0m \u001b[1m2s\u001b[0m 52ms/step - binary_accuracy: 0.9375 - loss: 0.2065 - val_binary_accuracy: 0.9375 - val_loss: 0.2063\n",
      "Epoch 37/250\n",
      "\u001b[1m42/42\u001b[0m \u001b[32m━━━━━━━━━━━━━━━━━━━━\u001b[0m\u001b[37m\u001b[0m \u001b[1m2s\u001b[0m 52ms/step - binary_accuracy: 0.9375 - loss: 0.2066 - val_binary_accuracy: 0.9375 - val_loss: 0.2064\n",
      "Epoch 38/250\n",
      "\u001b[1m42/42\u001b[0m \u001b[32m━━━━━━━━━━━━━━━━━━━━\u001b[0m\u001b[37m\u001b[0m \u001b[1m2s\u001b[0m 54ms/step - binary_accuracy: 0.9375 - loss: 0.2066 - val_binary_accuracy: 0.9375 - val_loss: 0.2063\n",
      "Epoch 39/250\n",
      "\u001b[1m42/42\u001b[0m \u001b[32m━━━━━━━━━━━━━━━━━━━━\u001b[0m\u001b[37m\u001b[0m \u001b[1m2s\u001b[0m 52ms/step - binary_accuracy: 0.9375 - loss: 0.2065 - val_binary_accuracy: 0.9375 - val_loss: 0.2060\n",
      "Epoch 40/250\n",
      "\u001b[1m42/42\u001b[0m \u001b[32m━━━━━━━━━━━━━━━━━━━━\u001b[0m\u001b[37m\u001b[0m \u001b[1m2s\u001b[0m 53ms/step - binary_accuracy: 0.9375 - loss: 0.2036 - val_binary_accuracy: 0.9375 - val_loss: 0.1806\n",
      "Epoch 41/250\n",
      "\u001b[1m42/42\u001b[0m \u001b[32m━━━━━━━━━━━━━━━━━━━━\u001b[0m\u001b[37m\u001b[0m \u001b[1m2s\u001b[0m 53ms/step - binary_accuracy: 0.9374 - loss: 0.1799 - val_binary_accuracy: 0.9379 - val_loss: 0.1698\n",
      "Epoch 42/250\n",
      "\u001b[1m42/42\u001b[0m \u001b[32m━━━━━━━━━━━━━━━━━━━━\u001b[0m\u001b[37m\u001b[0m \u001b[1m2s\u001b[0m 54ms/step - binary_accuracy: 0.9380 - loss: 0.1694 - val_binary_accuracy: 0.9380 - val_loss: 0.1627\n",
      "Epoch 43/250\n",
      "\u001b[1m42/42\u001b[0m \u001b[32m━━━━━━━━━━━━━━━━━━━━\u001b[0m\u001b[37m\u001b[0m \u001b[1m2s\u001b[0m 54ms/step - binary_accuracy: 0.9377 - loss: 0.1635 - val_binary_accuracy: 0.9387 - val_loss: 0.1584\n",
      "Epoch 44/250\n",
      "\u001b[1m42/42\u001b[0m \u001b[32m━━━━━━━━━━━━━━━━━━━━\u001b[0m\u001b[37m\u001b[0m \u001b[1m2s\u001b[0m 52ms/step - binary_accuracy: 0.9384 - loss: 0.1599 - val_binary_accuracy: 0.9398 - val_loss: 0.1568\n",
      "Epoch 45/250\n",
      "\u001b[1m42/42\u001b[0m \u001b[32m━━━━━━━━━━━━━━━━━━━━\u001b[0m\u001b[37m\u001b[0m \u001b[1m2s\u001b[0m 52ms/step - binary_accuracy: 0.9388 - loss: 0.1576 - val_binary_accuracy: 0.9404 - val_loss: 0.1548\n",
      "Epoch 46/250\n",
      "\u001b[1m42/42\u001b[0m \u001b[32m━━━━━━━━━━━━━━━━━━━━\u001b[0m\u001b[37m\u001b[0m \u001b[1m2s\u001b[0m 53ms/step - binary_accuracy: 0.9396 - loss: 0.1557 - val_binary_accuracy: 0.9406 - val_loss: 0.1532\n",
      "Epoch 47/250\n",
      "\u001b[1m42/42\u001b[0m \u001b[32m━━━━━━━━━━━━━━━━━━━━\u001b[0m\u001b[37m\u001b[0m \u001b[1m2s\u001b[0m 53ms/step - binary_accuracy: 0.9398 - loss: 0.1547 - val_binary_accuracy: 0.9405 - val_loss: 0.1526\n",
      "Epoch 48/250\n",
      "\u001b[1m42/42\u001b[0m \u001b[32m━━━━━━━━━━━━━━━━━━━━\u001b[0m\u001b[37m\u001b[0m \u001b[1m2s\u001b[0m 52ms/step - binary_accuracy: 0.9401 - loss: 0.1527 - val_binary_accuracy: 0.9411 - val_loss: 0.1499\n",
      "Epoch 49/250\n",
      "\u001b[1m42/42\u001b[0m \u001b[32m━━━━━━━━━━━━━━━━━━━━\u001b[0m\u001b[37m\u001b[0m \u001b[1m2s\u001b[0m 54ms/step - binary_accuracy: 0.9404 - loss: 0.1515 - val_binary_accuracy: 0.9411 - val_loss: 0.1488\n",
      "Epoch 50/250\n",
      "\u001b[1m42/42\u001b[0m \u001b[32m━━━━━━━━━━━━━━━━━━━━\u001b[0m\u001b[37m\u001b[0m \u001b[1m2s\u001b[0m 53ms/step - binary_accuracy: 0.9407 - loss: 0.1503 - val_binary_accuracy: 0.9411 - val_loss: 0.1488\n",
      "Epoch 51/250\n",
      "\u001b[1m42/42\u001b[0m \u001b[32m━━━━━━━━━━━━━━━━━━━━\u001b[0m\u001b[37m\u001b[0m \u001b[1m2s\u001b[0m 54ms/step - binary_accuracy: 0.9408 - loss: 0.1489 - val_binary_accuracy: 0.9415 - val_loss: 0.1473\n",
      "Epoch 52/250\n",
      "\u001b[1m42/42\u001b[0m \u001b[32m━━━━━━━━━━━━━━━━━━━━\u001b[0m\u001b[37m\u001b[0m \u001b[1m2s\u001b[0m 52ms/step - binary_accuracy: 0.9411 - loss: 0.1489 - val_binary_accuracy: 0.9417 - val_loss: 0.1478\n",
      "Epoch 53/250\n",
      "\u001b[1m42/42\u001b[0m \u001b[32m━━━━━━━━━━━━━━━━━━━━\u001b[0m\u001b[37m\u001b[0m \u001b[1m2s\u001b[0m 51ms/step - binary_accuracy: 0.9412 - loss: 0.1480 - val_binary_accuracy: 0.9415 - val_loss: 0.1465\n",
      "Epoch 54/250\n",
      "\u001b[1m42/42\u001b[0m \u001b[32m━━━━━━━━━━━━━━━━━━━━\u001b[0m\u001b[37m\u001b[0m \u001b[1m2s\u001b[0m 52ms/step - binary_accuracy: 0.9413 - loss: 0.1473 - val_binary_accuracy: 0.9417 - val_loss: 0.1456\n",
      "Epoch 55/250\n",
      "\u001b[1m42/42\u001b[0m \u001b[32m━━━━━━━━━━━━━━━━━━━━\u001b[0m\u001b[37m\u001b[0m \u001b[1m2s\u001b[0m 52ms/step - binary_accuracy: 0.9411 - loss: 0.1470 - val_binary_accuracy: 0.9417 - val_loss: 0.1448\n",
      "Epoch 56/250\n",
      "\u001b[1m42/42\u001b[0m \u001b[32m━━━━━━━━━━━━━━━━━━━━\u001b[0m\u001b[37m\u001b[0m \u001b[1m2s\u001b[0m 52ms/step - binary_accuracy: 0.9416 - loss: 0.1454 - val_binary_accuracy: 0.9418 - val_loss: 0.1445\n",
      "Epoch 57/250\n",
      "\u001b[1m42/42\u001b[0m \u001b[32m━━━━━━━━━━━━━━━━━━━━\u001b[0m\u001b[37m\u001b[0m \u001b[1m2s\u001b[0m 51ms/step - binary_accuracy: 0.9416 - loss: 0.1457 - val_binary_accuracy: 0.9419 - val_loss: 0.1445\n",
      "Epoch 58/250\n",
      "\u001b[1m42/42\u001b[0m \u001b[32m━━━━━━━━━━━━━━━━━━━━\u001b[0m\u001b[37m\u001b[0m \u001b[1m2s\u001b[0m 53ms/step - binary_accuracy: 0.9417 - loss: 0.1453 - val_binary_accuracy: 0.9419 - val_loss: 0.1439\n",
      "Epoch 59/250\n",
      "\u001b[1m42/42\u001b[0m \u001b[32m━━━━━━━━━━━━━━━━━━━━\u001b[0m\u001b[37m\u001b[0m \u001b[1m2s\u001b[0m 54ms/step - binary_accuracy: 0.9417 - loss: 0.1446 - val_binary_accuracy: 0.9421 - val_loss: 0.1434\n",
      "Epoch 60/250\n",
      "\u001b[1m42/42\u001b[0m \u001b[32m━━━━━━━━━━━━━━━━━━━━\u001b[0m\u001b[37m\u001b[0m \u001b[1m2s\u001b[0m 54ms/step - binary_accuracy: 0.9417 - loss: 0.1442 - val_binary_accuracy: 0.9419 - val_loss: 0.1436\n",
      "Epoch 61/250\n",
      "\u001b[1m42/42\u001b[0m \u001b[32m━━━━━━━━━━━━━━━━━━━━\u001b[0m\u001b[37m\u001b[0m \u001b[1m2s\u001b[0m 52ms/step - binary_accuracy: 0.9420 - loss: 0.1438 - val_binary_accuracy: 0.9420 - val_loss: 0.1429\n",
      "Epoch 62/250\n",
      "\u001b[1m42/42\u001b[0m \u001b[32m━━━━━━━━━━━━━━━━━━━━\u001b[0m\u001b[37m\u001b[0m \u001b[1m2s\u001b[0m 54ms/step - binary_accuracy: 0.9423 - loss: 0.1432 - val_binary_accuracy: 0.9421 - val_loss: 0.1431\n",
      "Epoch 63/250\n",
      "\u001b[1m42/42\u001b[0m \u001b[32m━━━━━━━━━━━━━━━━━━━━\u001b[0m\u001b[37m\u001b[0m \u001b[1m2s\u001b[0m 54ms/step - binary_accuracy: 0.9419 - loss: 0.1429 - val_binary_accuracy: 0.9421 - val_loss: 0.1424\n",
      "Epoch 64/250\n",
      "\u001b[1m42/42\u001b[0m \u001b[32m━━━━━━━━━━━━━━━━━━━━\u001b[0m\u001b[37m\u001b[0m \u001b[1m2s\u001b[0m 54ms/step - binary_accuracy: 0.9422 - loss: 0.1428 - val_binary_accuracy: 0.9421 - val_loss: 0.1422\n",
      "Epoch 65/250\n",
      "\u001b[1m42/42\u001b[0m \u001b[32m━━━━━━━━━━━━━━━━━━━━\u001b[0m\u001b[37m\u001b[0m \u001b[1m2s\u001b[0m 54ms/step - binary_accuracy: 0.9423 - loss: 0.1422 - val_binary_accuracy: 0.9424 - val_loss: 0.1419\n",
      "Epoch 66/250\n",
      "\u001b[1m42/42\u001b[0m \u001b[32m━━━━━━━━━━━━━━━━━━━━\u001b[0m\u001b[37m\u001b[0m \u001b[1m2s\u001b[0m 53ms/step - binary_accuracy: 0.9423 - loss: 0.1420 - val_binary_accuracy: 0.9421 - val_loss: 0.1420\n",
      "Epoch 67/250\n",
      "\u001b[1m42/42\u001b[0m \u001b[32m━━━━━━━━━━━━━━━━━━━━\u001b[0m\u001b[37m\u001b[0m \u001b[1m2s\u001b[0m 52ms/step - binary_accuracy: 0.9422 - loss: 0.1417 - val_binary_accuracy: 0.9422 - val_loss: 0.1415\n",
      "Epoch 68/250\n",
      "\u001b[1m42/42\u001b[0m \u001b[32m━━━━━━━━━━━━━━━━━━━━\u001b[0m\u001b[37m\u001b[0m \u001b[1m2s\u001b[0m 54ms/step - binary_accuracy: 0.9424 - loss: 0.1411 - val_binary_accuracy: 0.9421 - val_loss: 0.1416\n",
      "Epoch 69/250\n",
      "\u001b[1m42/42\u001b[0m \u001b[32m━━━━━━━━━━━━━━━━━━━━\u001b[0m\u001b[37m\u001b[0m \u001b[1m2s\u001b[0m 52ms/step - binary_accuracy: 0.9423 - loss: 0.1409 - val_binary_accuracy: 0.9423 - val_loss: 0.1411\n",
      "Epoch 70/250\n",
      "\u001b[1m42/42\u001b[0m \u001b[32m━━━━━━━━━━━━━━━━━━━━\u001b[0m\u001b[37m\u001b[0m \u001b[1m2s\u001b[0m 54ms/step - binary_accuracy: 0.9424 - loss: 0.1409 - val_binary_accuracy: 0.9425 - val_loss: 0.1408\n",
      "Epoch 71/250\n",
      "\u001b[1m42/42\u001b[0m \u001b[32m━━━━━━━━━━━━━━━━━━━━\u001b[0m\u001b[37m\u001b[0m \u001b[1m2s\u001b[0m 54ms/step - binary_accuracy: 0.9424 - loss: 0.1405 - val_binary_accuracy: 0.9424 - val_loss: 0.1404\n",
      "Epoch 72/250\n",
      "\u001b[1m42/42\u001b[0m \u001b[32m━━━━━━━━━━━━━━━━━━━━\u001b[0m\u001b[37m\u001b[0m \u001b[1m2s\u001b[0m 54ms/step - binary_accuracy: 0.9428 - loss: 0.1399 - val_binary_accuracy: 0.9425 - val_loss: 0.1403\n",
      "Epoch 73/250\n",
      "\u001b[1m42/42\u001b[0m \u001b[32m━━━━━━━━━━━━━━━━━━━━\u001b[0m\u001b[37m\u001b[0m \u001b[1m2s\u001b[0m 52ms/step - binary_accuracy: 0.9427 - loss: 0.1398 - val_binary_accuracy: 0.9425 - val_loss: 0.1412\n",
      "Epoch 74/250\n",
      "\u001b[1m42/42\u001b[0m \u001b[32m━━━━━━━━━━━━━━━━━━━━\u001b[0m\u001b[37m\u001b[0m \u001b[1m2s\u001b[0m 52ms/step - binary_accuracy: 0.9427 - loss: 0.1397 - val_binary_accuracy: 0.9425 - val_loss: 0.1404\n",
      "Epoch 75/250\n",
      "\u001b[1m42/42\u001b[0m \u001b[32m━━━━━━━━━━━━━━━━━━━━\u001b[0m\u001b[37m\u001b[0m \u001b[1m2s\u001b[0m 51ms/step - binary_accuracy: 0.9427 - loss: 0.1393 - val_binary_accuracy: 0.9421 - val_loss: 0.1415\n",
      "Epoch 76/250\n",
      "\u001b[1m42/42\u001b[0m \u001b[32m━━━━━━━━━━━━━━━━━━━━\u001b[0m\u001b[37m\u001b[0m \u001b[1m2s\u001b[0m 52ms/step - binary_accuracy: 0.9428 - loss: 0.1394 - val_binary_accuracy: 0.9426 - val_loss: 0.1399\n",
      "Epoch 77/250\n",
      "\u001b[1m42/42\u001b[0m \u001b[32m━━━━━━━━━━━━━━━━━━━━\u001b[0m\u001b[37m\u001b[0m \u001b[1m2s\u001b[0m 52ms/step - binary_accuracy: 0.9429 - loss: 0.1388 - val_binary_accuracy: 0.9426 - val_loss: 0.1399\n",
      "Epoch 78/250\n",
      "\u001b[1m42/42\u001b[0m \u001b[32m━━━━━━━━━━━━━━━━━━━━\u001b[0m\u001b[37m\u001b[0m \u001b[1m2s\u001b[0m 52ms/step - binary_accuracy: 0.9429 - loss: 0.1386 - val_binary_accuracy: 0.9425 - val_loss: 0.1398\n",
      "Epoch 79/250\n",
      "\u001b[1m42/42\u001b[0m \u001b[32m━━━━━━━━━━━━━━━━━━━━\u001b[0m\u001b[37m\u001b[0m \u001b[1m2s\u001b[0m 52ms/step - binary_accuracy: 0.9430 - loss: 0.1386 - val_binary_accuracy: 0.9426 - val_loss: 0.1394\n",
      "Epoch 80/250\n",
      "\u001b[1m42/42\u001b[0m \u001b[32m━━━━━━━━━━━━━━━━━━━━\u001b[0m\u001b[37m\u001b[0m \u001b[1m2s\u001b[0m 52ms/step - binary_accuracy: 0.9433 - loss: 0.1378 - val_binary_accuracy: 0.9424 - val_loss: 0.1402\n",
      "Epoch 81/250\n",
      "\u001b[1m42/42\u001b[0m \u001b[32m━━━━━━━━━━━━━━━━━━━━\u001b[0m\u001b[37m\u001b[0m \u001b[1m2s\u001b[0m 52ms/step - binary_accuracy: 0.9431 - loss: 0.1378 - val_binary_accuracy: 0.9427 - val_loss: 0.1397\n",
      "Epoch 82/250\n",
      "\u001b[1m42/42\u001b[0m \u001b[32m━━━━━━━━━━━━━━━━━━━━\u001b[0m\u001b[37m\u001b[0m \u001b[1m2s\u001b[0m 52ms/step - binary_accuracy: 0.9432 - loss: 0.1375 - val_binary_accuracy: 0.9425 - val_loss: 0.1398\n",
      "Epoch 83/250\n",
      "\u001b[1m42/42\u001b[0m \u001b[32m━━━━━━━━━━━━━━━━━━━━\u001b[0m\u001b[37m\u001b[0m \u001b[1m2s\u001b[0m 52ms/step - binary_accuracy: 0.9435 - loss: 0.1373 - val_binary_accuracy: 0.9427 - val_loss: 0.1394\n",
      "Epoch 84/250\n",
      "\u001b[1m42/42\u001b[0m \u001b[32m━━━━━━━━━━━━━━━━━━━━\u001b[0m\u001b[37m\u001b[0m \u001b[1m2s\u001b[0m 53ms/step - binary_accuracy: 0.9433 - loss: 0.1371 - val_binary_accuracy: 0.9421 - val_loss: 0.1403\n",
      "Epoch 85/250\n",
      "\u001b[1m42/42\u001b[0m \u001b[32m━━━━━━━━━━━━━━━━━━━━\u001b[0m\u001b[37m\u001b[0m \u001b[1m2s\u001b[0m 54ms/step - binary_accuracy: 0.9431 - loss: 0.1370 - val_binary_accuracy: 0.9424 - val_loss: 0.1395\n",
      "Epoch 86/250\n",
      "\u001b[1m42/42\u001b[0m \u001b[32m━━━━━━━━━━━━━━━━━━━━\u001b[0m\u001b[37m\u001b[0m \u001b[1m2s\u001b[0m 53ms/step - binary_accuracy: 0.9435 - loss: 0.1366 - val_binary_accuracy: 0.9424 - val_loss: 0.1397\n",
      "Epoch 87/250\n",
      "\u001b[1m42/42\u001b[0m \u001b[32m━━━━━━━━━━━━━━━━━━━━\u001b[0m\u001b[37m\u001b[0m \u001b[1m2s\u001b[0m 51ms/step - binary_accuracy: 0.9435 - loss: 0.1365 - val_binary_accuracy: 0.9426 - val_loss: 0.1389\n",
      "Epoch 88/250\n",
      "\u001b[1m42/42\u001b[0m \u001b[32m━━━━━━━━━━━━━━━━━━━━\u001b[0m\u001b[37m\u001b[0m \u001b[1m2s\u001b[0m 52ms/step - binary_accuracy: 0.9436 - loss: 0.1360 - val_binary_accuracy: 0.9425 - val_loss: 0.1396\n",
      "Epoch 89/250\n",
      "\u001b[1m42/42\u001b[0m \u001b[32m━━━━━━━━━━━━━━━━━━━━\u001b[0m\u001b[37m\u001b[0m \u001b[1m2s\u001b[0m 52ms/step - binary_accuracy: 0.9437 - loss: 0.1356 - val_binary_accuracy: 0.9428 - val_loss: 0.1391\n",
      "Epoch 90/250\n",
      "\u001b[1m42/42\u001b[0m \u001b[32m━━━━━━━━━━━━━━━━━━━━\u001b[0m\u001b[37m\u001b[0m \u001b[1m2s\u001b[0m 52ms/step - binary_accuracy: 0.9438 - loss: 0.1358 - val_binary_accuracy: 0.9427 - val_loss: 0.1391\n",
      "Epoch 91/250\n",
      "\u001b[1m42/42\u001b[0m \u001b[32m━━━━━━━━━━━━━━━━━━━━\u001b[0m\u001b[37m\u001b[0m \u001b[1m2s\u001b[0m 54ms/step - binary_accuracy: 0.9440 - loss: 0.1349 - val_binary_accuracy: 0.9426 - val_loss: 0.1390\n",
      "Epoch 92/250\n",
      "\u001b[1m42/42\u001b[0m \u001b[32m━━━━━━━━━━━━━━━━━━━━\u001b[0m\u001b[37m\u001b[0m \u001b[1m2s\u001b[0m 54ms/step - binary_accuracy: 0.9436 - loss: 0.1359 - val_binary_accuracy: 0.9425 - val_loss: 0.1399\n",
      "Epoch 93/250\n",
      "\u001b[1m42/42\u001b[0m \u001b[32m━━━━━━━━━━━━━━━━━━━━\u001b[0m\u001b[37m\u001b[0m \u001b[1m2s\u001b[0m 54ms/step - binary_accuracy: 0.9440 - loss: 0.1350 - val_binary_accuracy: 0.9427 - val_loss: 0.1389\n",
      "Epoch 94/250\n",
      "\u001b[1m42/42\u001b[0m \u001b[32m━━━━━━━━━━━━━━━━━━━━\u001b[0m\u001b[37m\u001b[0m \u001b[1m2s\u001b[0m 54ms/step - binary_accuracy: 0.9439 - loss: 0.1346 - val_binary_accuracy: 0.9427 - val_loss: 0.1393\n",
      "Epoch 95/250\n",
      "\u001b[1m42/42\u001b[0m \u001b[32m━━━━━━━━━━━━━━━━━━━━\u001b[0m\u001b[37m\u001b[0m \u001b[1m2s\u001b[0m 54ms/step - binary_accuracy: 0.9443 - loss: 0.1340 - val_binary_accuracy: 0.9428 - val_loss: 0.1386\n",
      "Epoch 96/250\n",
      "\u001b[1m42/42\u001b[0m \u001b[32m━━━━━━━━━━━━━━━━━━━━\u001b[0m\u001b[37m\u001b[0m \u001b[1m2s\u001b[0m 54ms/step - binary_accuracy: 0.9438 - loss: 0.1343 - val_binary_accuracy: 0.9427 - val_loss: 0.1389\n",
      "Epoch 97/250\n",
      "\u001b[1m42/42\u001b[0m \u001b[32m━━━━━━━━━━━━━━━━━━━━\u001b[0m\u001b[37m\u001b[0m \u001b[1m2s\u001b[0m 53ms/step - binary_accuracy: 0.9444 - loss: 0.1336 - val_binary_accuracy: 0.9428 - val_loss: 0.1386\n",
      "Epoch 98/250\n",
      "\u001b[1m42/42\u001b[0m \u001b[32m━━━━━━━━━━━━━━━━━━━━\u001b[0m\u001b[37m\u001b[0m \u001b[1m2s\u001b[0m 53ms/step - binary_accuracy: 0.9446 - loss: 0.1333 - val_binary_accuracy: 0.9425 - val_loss: 0.1391\n",
      "Epoch 99/250\n",
      "\u001b[1m42/42\u001b[0m \u001b[32m━━━━━━━━━━━━━━━━━━━━\u001b[0m\u001b[37m\u001b[0m \u001b[1m2s\u001b[0m 52ms/step - binary_accuracy: 0.9443 - loss: 0.1336 - val_binary_accuracy: 0.9424 - val_loss: 0.1395\n",
      "Epoch 100/250\n",
      "\u001b[1m42/42\u001b[0m \u001b[32m━━━━━━━━━━━━━━━━━━━━\u001b[0m\u001b[37m\u001b[0m \u001b[1m2s\u001b[0m 53ms/step - binary_accuracy: 0.9444 - loss: 0.1330 - val_binary_accuracy: 0.9425 - val_loss: 0.1388\n",
      "Epoch 101/250\n",
      "\u001b[1m42/42\u001b[0m \u001b[32m━━━━━━━━━━━━━━━━━━━━\u001b[0m\u001b[37m\u001b[0m \u001b[1m2s\u001b[0m 52ms/step - binary_accuracy: 0.9448 - loss: 0.1324 - val_binary_accuracy: 0.9426 - val_loss: 0.1391\n",
      "Epoch 102/250\n",
      "\u001b[1m42/42\u001b[0m \u001b[32m━━━━━━━━━━━━━━━━━━━━\u001b[0m\u001b[37m\u001b[0m \u001b[1m2s\u001b[0m 53ms/step - binary_accuracy: 0.9451 - loss: 0.1324 - val_binary_accuracy: 0.9426 - val_loss: 0.1395\n",
      "Epoch 103/250\n",
      "\u001b[1m42/42\u001b[0m \u001b[32m━━━━━━━━━━━━━━━━━━━━\u001b[0m\u001b[37m\u001b[0m \u001b[1m2s\u001b[0m 55ms/step - binary_accuracy: 0.9448 - loss: 0.1326 - val_binary_accuracy: 0.9426 - val_loss: 0.1393\n",
      "Epoch 104/250\n",
      "\u001b[1m42/42\u001b[0m \u001b[32m━━━━━━━━━━━━━━━━━━━━\u001b[0m\u001b[37m\u001b[0m \u001b[1m2s\u001b[0m 52ms/step - binary_accuracy: 0.9451 - loss: 0.1318 - val_binary_accuracy: 0.9425 - val_loss: 0.1393\n",
      "Epoch 105/250\n",
      "\u001b[1m42/42\u001b[0m \u001b[32m━━━━━━━━━━━━━━━━━━━━\u001b[0m\u001b[37m\u001b[0m \u001b[1m2s\u001b[0m 53ms/step - binary_accuracy: 0.9453 - loss: 0.1317 - val_binary_accuracy: 0.9425 - val_loss: 0.1390\n",
      "Epoch 106/250\n",
      "\u001b[1m42/42\u001b[0m \u001b[32m━━━━━━━━━━━━━━━━━━━━\u001b[0m\u001b[37m\u001b[0m \u001b[1m2s\u001b[0m 52ms/step - binary_accuracy: 0.9453 - loss: 0.1312 - val_binary_accuracy: 0.9423 - val_loss: 0.1398\n",
      "Epoch 107/250\n",
      "\u001b[1m42/42\u001b[0m \u001b[32m━━━━━━━━━━━━━━━━━━━━\u001b[0m\u001b[37m\u001b[0m \u001b[1m2s\u001b[0m 54ms/step - binary_accuracy: 0.9453 - loss: 0.1309 - val_binary_accuracy: 0.9427 - val_loss: 0.1390\n",
      "Epoch 108/250\n",
      "\u001b[1m42/42\u001b[0m \u001b[32m━━━━━━━━━━━━━━━━━━━━\u001b[0m\u001b[37m\u001b[0m \u001b[1m2s\u001b[0m 52ms/step - binary_accuracy: 0.9455 - loss: 0.1308 - val_binary_accuracy: 0.9427 - val_loss: 0.1392\n",
      "Epoch 109/250\n",
      "\u001b[1m42/42\u001b[0m \u001b[32m━━━━━━━━━━━━━━━━━━━━\u001b[0m\u001b[37m\u001b[0m \u001b[1m2s\u001b[0m 51ms/step - binary_accuracy: 0.9451 - loss: 0.1309 - val_binary_accuracy: 0.9427 - val_loss: 0.1391\n",
      "Epoch 110/250\n",
      "\u001b[1m42/42\u001b[0m \u001b[32m━━━━━━━━━━━━━━━━━━━━\u001b[0m\u001b[37m\u001b[0m \u001b[1m2s\u001b[0m 53ms/step - binary_accuracy: 0.9458 - loss: 0.1301 - val_binary_accuracy: 0.9423 - val_loss: 0.1399\n",
      "Epoch 111/250\n",
      "\u001b[1m42/42\u001b[0m \u001b[32m━━━━━━━━━━━━━━━━━━━━\u001b[0m\u001b[37m\u001b[0m \u001b[1m2s\u001b[0m 54ms/step - binary_accuracy: 0.9458 - loss: 0.1299 - val_binary_accuracy: 0.9421 - val_loss: 0.1404\n",
      "Epoch 112/250\n",
      "\u001b[1m42/42\u001b[0m \u001b[32m━━━━━━━━━━━━━━━━━━━━\u001b[0m\u001b[37m\u001b[0m \u001b[1m2s\u001b[0m 52ms/step - binary_accuracy: 0.9460 - loss: 0.1298 - val_binary_accuracy: 0.9423 - val_loss: 0.1396\n",
      "Epoch 113/250\n",
      "\u001b[1m42/42\u001b[0m \u001b[32m━━━━━━━━━━━━━━━━━━━━\u001b[0m\u001b[37m\u001b[0m \u001b[1m2s\u001b[0m 55ms/step - binary_accuracy: 0.9460 - loss: 0.1288 - val_binary_accuracy: 0.9422 - val_loss: 0.1403\n",
      "Epoch 114/250\n",
      "\u001b[1m42/42\u001b[0m \u001b[32m━━━━━━━━━━━━━━━━━━━━\u001b[0m\u001b[37m\u001b[0m \u001b[1m2s\u001b[0m 54ms/step - binary_accuracy: 0.9463 - loss: 0.1287 - val_binary_accuracy: 0.9419 - val_loss: 0.1410\n",
      "Epoch 115/250\n",
      "\u001b[1m42/42\u001b[0m \u001b[32m━━━━━━━━━━━━━━━━━━━━\u001b[0m\u001b[37m\u001b[0m \u001b[1m2s\u001b[0m 55ms/step - binary_accuracy: 0.9460 - loss: 0.1287 - val_binary_accuracy: 0.9422 - val_loss: 0.1402\n",
      "Epoch 116/250\n",
      "\u001b[1m42/42\u001b[0m \u001b[32m━━━━━━━━━━━━━━━━━━━━\u001b[0m\u001b[37m\u001b[0m \u001b[1m2s\u001b[0m 54ms/step - binary_accuracy: 0.9465 - loss: 0.1280 - val_binary_accuracy: 0.9420 - val_loss: 0.1411\n",
      "Epoch 117/250\n",
      "\u001b[1m42/42\u001b[0m \u001b[32m━━━━━━━━━━━━━━━━━━━━\u001b[0m\u001b[37m\u001b[0m \u001b[1m2s\u001b[0m 54ms/step - binary_accuracy: 0.9467 - loss: 0.1277 - val_binary_accuracy: 0.9417 - val_loss: 0.1410\n",
      "Epoch 118/250\n",
      "\u001b[1m42/42\u001b[0m \u001b[32m━━━━━━━━━━━━━━━━━━━━\u001b[0m\u001b[37m\u001b[0m \u001b[1m2s\u001b[0m 55ms/step - binary_accuracy: 0.9467 - loss: 0.1280 - val_binary_accuracy: 0.9419 - val_loss: 0.1411\n",
      "Epoch 119/250\n",
      "\u001b[1m42/42\u001b[0m \u001b[32m━━━━━━━━━━━━━━━━━━━━\u001b[0m\u001b[37m\u001b[0m \u001b[1m2s\u001b[0m 52ms/step - binary_accuracy: 0.9469 - loss: 0.1269 - val_binary_accuracy: 0.9420 - val_loss: 0.1409\n",
      "Epoch 120/250\n",
      "\u001b[1m42/42\u001b[0m \u001b[32m━━━━━━━━━━━━━━━━━━━━\u001b[0m\u001b[37m\u001b[0m \u001b[1m2s\u001b[0m 51ms/step - binary_accuracy: 0.9473 - loss: 0.1266 - val_binary_accuracy: 0.9420 - val_loss: 0.1418\n",
      "Epoch 121/250\n",
      "\u001b[1m42/42\u001b[0m \u001b[32m━━━━━━━━━━━━━━━━━━━━\u001b[0m\u001b[37m\u001b[0m \u001b[1m2s\u001b[0m 52ms/step - binary_accuracy: 0.9470 - loss: 0.1266 - val_binary_accuracy: 0.9420 - val_loss: 0.1413\n",
      "Epoch 122/250\n",
      "\u001b[1m42/42\u001b[0m \u001b[32m━━━━━━━━━━━━━━━━━━━━\u001b[0m\u001b[37m\u001b[0m \u001b[1m2s\u001b[0m 53ms/step - binary_accuracy: 0.9474 - loss: 0.1258 - val_binary_accuracy: 0.9419 - val_loss: 0.1410\n",
      "Epoch 123/250\n",
      "\u001b[1m42/42\u001b[0m \u001b[32m━━━━━━━━━━━━━━━━━━━━\u001b[0m\u001b[37m\u001b[0m \u001b[1m2s\u001b[0m 53ms/step - binary_accuracy: 0.9476 - loss: 0.1257 - val_binary_accuracy: 0.9413 - val_loss: 0.1423\n",
      "Epoch 124/250\n",
      "\u001b[1m42/42\u001b[0m \u001b[32m━━━━━━━━━━━━━━━━━━━━\u001b[0m\u001b[37m\u001b[0m \u001b[1m2s\u001b[0m 54ms/step - binary_accuracy: 0.9475 - loss: 0.1255 - val_binary_accuracy: 0.9417 - val_loss: 0.1416\n",
      "Epoch 125/250\n",
      "\u001b[1m42/42\u001b[0m \u001b[32m━━━━━━━━━━━━━━━━━━━━\u001b[0m\u001b[37m\u001b[0m \u001b[1m2s\u001b[0m 54ms/step - binary_accuracy: 0.9482 - loss: 0.1244 - val_binary_accuracy: 0.9412 - val_loss: 0.1435\n",
      "Epoch 126/250\n",
      "\u001b[1m42/42\u001b[0m \u001b[32m━━━━━━━━━━━━━━━━━━━━\u001b[0m\u001b[37m\u001b[0m \u001b[1m2s\u001b[0m 54ms/step - binary_accuracy: 0.9484 - loss: 0.1240 - val_binary_accuracy: 0.9415 - val_loss: 0.1423\n",
      "Epoch 127/250\n",
      "\u001b[1m42/42\u001b[0m \u001b[32m━━━━━━━━━━━━━━━━━━━━\u001b[0m\u001b[37m\u001b[0m \u001b[1m2s\u001b[0m 54ms/step - binary_accuracy: 0.9483 - loss: 0.1239 - val_binary_accuracy: 0.9413 - val_loss: 0.1433\n",
      "Epoch 128/250\n",
      "\u001b[1m42/42\u001b[0m \u001b[32m━━━━━━━━━━━━━━━━━━━━\u001b[0m\u001b[37m\u001b[0m \u001b[1m2s\u001b[0m 54ms/step - binary_accuracy: 0.9482 - loss: 0.1248 - val_binary_accuracy: 0.9413 - val_loss: 0.1431\n",
      "Epoch 129/250\n",
      "\u001b[1m42/42\u001b[0m \u001b[32m━━━━━━━━━━━━━━━━━━━━\u001b[0m\u001b[37m\u001b[0m \u001b[1m2s\u001b[0m 54ms/step - binary_accuracy: 0.9485 - loss: 0.1232 - val_binary_accuracy: 0.9411 - val_loss: 0.1442\n",
      "Epoch 130/250\n",
      "\u001b[1m42/42\u001b[0m \u001b[32m━━━━━━━━━━━━━━━━━━━━\u001b[0m\u001b[37m\u001b[0m \u001b[1m2s\u001b[0m 54ms/step - binary_accuracy: 0.9486 - loss: 0.1232 - val_binary_accuracy: 0.9411 - val_loss: 0.1438\n",
      "Epoch 131/250\n",
      "\u001b[1m42/42\u001b[0m \u001b[32m━━━━━━━━━━━━━━━━━━━━\u001b[0m\u001b[37m\u001b[0m \u001b[1m2s\u001b[0m 53ms/step - binary_accuracy: 0.9488 - loss: 0.1228 - val_binary_accuracy: 0.9407 - val_loss: 0.1450\n",
      "Epoch 132/250\n",
      "\u001b[1m42/42\u001b[0m \u001b[32m━━━━━━━━━━━━━━━━━━━━\u001b[0m\u001b[37m\u001b[0m \u001b[1m2s\u001b[0m 54ms/step - binary_accuracy: 0.9492 - loss: 0.1222 - val_binary_accuracy: 0.9411 - val_loss: 0.1439\n",
      "Epoch 133/250\n",
      "\u001b[1m42/42\u001b[0m \u001b[32m━━━━━━━━━━━━━━━━━━━━\u001b[0m\u001b[37m\u001b[0m \u001b[1m2s\u001b[0m 52ms/step - binary_accuracy: 0.9493 - loss: 0.1220 - val_binary_accuracy: 0.9410 - val_loss: 0.1451\n",
      "Epoch 134/250\n",
      "\u001b[1m42/42\u001b[0m \u001b[32m━━━━━━━━━━━━━━━━━━━━\u001b[0m\u001b[37m\u001b[0m \u001b[1m2s\u001b[0m 51ms/step - binary_accuracy: 0.9493 - loss: 0.1214 - val_binary_accuracy: 0.9409 - val_loss: 0.1444\n",
      "Epoch 135/250\n",
      "\u001b[1m42/42\u001b[0m \u001b[32m━━━━━━━━━━━━━━━━━━━━\u001b[0m\u001b[37m\u001b[0m \u001b[1m2s\u001b[0m 53ms/step - binary_accuracy: 0.9496 - loss: 0.1213 - val_binary_accuracy: 0.9410 - val_loss: 0.1443\n",
      "Epoch 136/250\n",
      "\u001b[1m42/42\u001b[0m \u001b[32m━━━━━━━━━━━━━━━━━━━━\u001b[0m\u001b[37m\u001b[0m \u001b[1m2s\u001b[0m 51ms/step - binary_accuracy: 0.9499 - loss: 0.1210 - val_binary_accuracy: 0.9406 - val_loss: 0.1461\n",
      "Epoch 137/250\n",
      "\u001b[1m42/42\u001b[0m \u001b[32m━━━━━━━━━━━━━━━━━━━━\u001b[0m\u001b[37m\u001b[0m \u001b[1m2s\u001b[0m 52ms/step - binary_accuracy: 0.9502 - loss: 0.1199 - val_binary_accuracy: 0.9409 - val_loss: 0.1460\n",
      "Epoch 138/250\n",
      "\u001b[1m42/42\u001b[0m \u001b[32m━━━━━━━━━━━━━━━━━━━━\u001b[0m\u001b[37m\u001b[0m \u001b[1m2s\u001b[0m 53ms/step - binary_accuracy: 0.9504 - loss: 0.1193 - val_binary_accuracy: 0.9406 - val_loss: 0.1461\n",
      "Epoch 139/250\n",
      "\u001b[1m42/42\u001b[0m \u001b[32m━━━━━━━━━━━━━━━━━━━━\u001b[0m\u001b[37m\u001b[0m \u001b[1m2s\u001b[0m 53ms/step - binary_accuracy: 0.9505 - loss: 0.1194 - val_binary_accuracy: 0.9405 - val_loss: 0.1468\n",
      "Epoch 140/250\n",
      "\u001b[1m42/42\u001b[0m \u001b[32m━━━━━━━━━━━━━━━━━━━━\u001b[0m\u001b[37m\u001b[0m \u001b[1m2s\u001b[0m 54ms/step - binary_accuracy: 0.9507 - loss: 0.1191 - val_binary_accuracy: 0.9404 - val_loss: 0.1470\n",
      "Epoch 141/250\n",
      "\u001b[1m42/42\u001b[0m \u001b[32m━━━━━━━━━━━━━━━━━━━━\u001b[0m\u001b[37m\u001b[0m \u001b[1m2s\u001b[0m 53ms/step - binary_accuracy: 0.9507 - loss: 0.1186 - val_binary_accuracy: 0.9402 - val_loss: 0.1476\n",
      "Epoch 142/250\n",
      "\u001b[1m42/42\u001b[0m \u001b[32m━━━━━━━━━━━━━━━━━━━━\u001b[0m\u001b[37m\u001b[0m \u001b[1m2s\u001b[0m 52ms/step - binary_accuracy: 0.9509 - loss: 0.1188 - val_binary_accuracy: 0.9402 - val_loss: 0.1474\n",
      "Epoch 143/250\n",
      "\u001b[1m42/42\u001b[0m \u001b[32m━━━━━━━━━━━━━━━━━━━━\u001b[0m\u001b[37m\u001b[0m \u001b[1m2s\u001b[0m 52ms/step - binary_accuracy: 0.9512 - loss: 0.1180 - val_binary_accuracy: 0.9402 - val_loss: 0.1477\n",
      "Epoch 144/250\n",
      "\u001b[1m42/42\u001b[0m \u001b[32m━━━━━━━━━━━━━━━━━━━━\u001b[0m\u001b[37m\u001b[0m \u001b[1m2s\u001b[0m 53ms/step - binary_accuracy: 0.9512 - loss: 0.1176 - val_binary_accuracy: 0.9402 - val_loss: 0.1487\n",
      "Epoch 145/250\n",
      "\u001b[1m42/42\u001b[0m \u001b[32m━━━━━━━━━━━━━━━━━━━━\u001b[0m\u001b[37m\u001b[0m \u001b[1m2s\u001b[0m 54ms/step - binary_accuracy: 0.9515 - loss: 0.1177 - val_binary_accuracy: 0.9396 - val_loss: 0.1486\n"
     ]
    }
   ],
   "source": [
    "earlystop = tf.keras.callbacks.EarlyStopping(monitor='val_loss', patience=50)\n",
    "\n",
    "hist = model.fit(Xtf_train, ytf_train, epochs=250, batch_size=2048, validation_data=(Xtf_test, ytf_test), callbacks=[earlystop])"
   ]
  },
  {
   "cell_type": "code",
   "execution_count": 106,
   "metadata": {},
   "outputs": [
    {
     "data": {
      "image/png": "[encoded data removed]",
      "text/plain": [
       "<Figure size 640x480 with 1 Axes>"
      ]
     },
     "metadata": {},
     "output_type": "display_data"
    }
   ],
   "source": [
    "plt.plot(hist.history['loss'], label=\"Training\")\n",
    "plt.plot(hist.history['val_loss'], label=\"Validation\")  ### waaaaay overfitting\n",
    "plt.legend()\n",
    "plt.title('Model performance')\n",
    "plt.xlabel(\"Epoch\")\n",
    "plt.ylabel(\"Binary Cross-Entropy\")\n",
    "plt.savefig(\"modelperformance_binarycrossentropy_singlelabel.png\")\n",
    "plt.savefig(\"modelperformance_binarycrossentropy_singlelabel.svg\")"
   ]
  },
  {
   "cell_type": "code",
   "execution_count": 107,
   "metadata": {},
   "outputs": [
    {
     "data": {
      "image/png": "[encoded data removed]",
      "text/plain": [
       "<Figure size 640x480 with 1 Axes>"
      ]
     },
     "metadata": {},
     "output_type": "display_data"
    }
   ],
   "source": [
    "plt.plot(hist.history['binary_accuracy'], label=\"Training\")\n",
    "plt.plot(hist.history['val_binary_accuracy'], label=\"Validation\")  ### waaaaay overfitting\n",
    "plt.legend()\n",
    "plt.title('Model performance')\n",
    "plt.xlabel(\"Epoch\")\n",
    "plt.ylabel(\"Binary Accuracy\")\n",
    "plt.savefig(\"modelperformance_binaryaccuracy_singlelabel.png\")\n",
    "plt.savefig(\"modelperformance_binaryaccuracy_singlelabel.svg\")"
   ]
  },
  {
   "cell_type": "code",
   "execution_count": 48,
   "metadata": {},
   "outputs": [
    {
     "name": "stdout",
     "output_type": "stream",
     "text": [
      "\u001b[1m1152/1152\u001b[0m \u001b[32m━━━━━━━━━━━━━━━━━━━━\u001b[0m\u001b[37m\u001b[0m \u001b[1m6s\u001b[0m 5ms/step\n"
     ]
    }
   ],
   "source": [
    "preds = model.predict(X_test)"
   ]
  },
  {
   "cell_type": "code",
   "execution_count": 58,
   "metadata": {},
   "outputs": [],
   "source": [
    "preds_label = np.argmax(preds, axis=1)"
   ]
  },
  {
   "cell_type": "code",
   "execution_count": 60,
   "metadata": {},
   "outputs": [],
   "source": [
    "ytest_label = np.argmax(y_test, axis=1)"
   ]
  },
  {
   "cell_type": "code",
   "execution_count": 61,
   "metadata": {},
   "outputs": [],
   "source": [
    "from sklearn.metrics import confusion_matrix, multilabel_confusion_matrix"
   ]
  },
  {
   "cell_type": "code",
   "execution_count": 83,
   "metadata": {},
   "outputs": [],
   "source": [
    "import matplotlib.patches"
   ]
  },
  {
   "cell_type": "code",
   "execution_count": 105,
   "metadata": {},
   "outputs": [
    {
     "data": {
      "image/png": "[encoded data removed]",
      "text/plain": [
       "<Figure size 640x480 with 2 Axes>"
      ]
     },
     "metadata": {},
     "output_type": "display_data"
    }
   ],
   "source": [
    "fig, ax = plt.subplots(1,1)\n",
    "im0 = ax.imshow(confusion_matrix(ytest_label, preds_label, normalize='true'), origin=\"upper\")\n",
    "plt.xticks(np.arange(16), xcols)\n",
    "plt.yticks(np.arange(16), xcols)\n",
    "plt.xlabel(\"True label\", fontsize=20)\n",
    "plt.ylabel(\"Predicted label\", fontsize=20)\n",
    "fig.colorbar(im0, ax=ax)\n",
    "# Create a square patch\n",
    "for i in range(16):\n",
    "    rect = matplotlib.patches.Rectangle((-0.5+i, -0.5+i), 1, 1, linewidth=2, edgecolor='k', facecolor='none')\n",
    "    ax.add_patch(rect)\n",
    "# Add the patch to the plot\n",
    "plt.title(\"Single-label prediction\", fontsize=26)\n",
    "plt.savefig(\"singlelabel_confusion_inverted.svg\")\n",
    "plt.savefig(\"singlelabel_confusion_inverted.png\")"
   ]
  }
 ],
 "metadata": {
  "kernelspec": {
   "display_name": "Python311-faimsrevision",
   "language": "python",
   "name": "python311-faimsrevision"
  },
  "language_info": {
   "codemirror_mode": {
    "name": "ipython",
    "version": 3
   },
   "file_extension": ".py",
   "mimetype": "text/x-python",
   "name": "python",
   "nbconvert_exporter": "python",
   "pygments_lexer": "ipython3",
   "version": "3.11.11"
  }
 },
 "nbformat": 4,
 "nbformat_minor": 4
}
